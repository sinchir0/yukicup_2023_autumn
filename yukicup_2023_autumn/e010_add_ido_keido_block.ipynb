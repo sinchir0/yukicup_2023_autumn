{
 "cells": [
  {
   "cell_type": "code",
   "execution_count": 159,
   "metadata": {},
   "outputs": [],
   "source": [
    "NOTEBOOK_NAME = \"e010_add_ido_keido_block\""
   ]
  },
  {
   "cell_type": "code",
   "execution_count": 160,
   "metadata": {},
   "outputs": [],
   "source": [
    "import numpy as np\n",
    "import polars as pl\n",
    "import pandas as pd\n",
    "import lightgbm as lgb\n",
    "import matplotlib.pyplot as plt\n",
    "from sklearn.model_selection import StratifiedKFold\n",
    "from sklearn.metrics import roc_auc_score\n",
    "import seaborn as sns\n",
    "import japanize_matplotlib"
   ]
  },
  {
   "cell_type": "code",
   "execution_count": 161,
   "metadata": {},
   "outputs": [],
   "source": [
    "train = pl.read_csv(\"../data/train.csv\")\n",
    "test = pl.read_csv(\"../data/test.csv\")\n",
    "era = pl.read_csv(\"../data/era_improve.csv\")\n",
    "sample_submission = pl.read_csv(\"../data/sample_submission.csv\")"
   ]
  },
  {
   "cell_type": "markdown",
   "metadata": {},
   "source": [
    "# 前処理"
   ]
  },
  {
   "cell_type": "code",
   "execution_count": 162,
   "metadata": {},
   "outputs": [],
   "source": [
    "import re\n",
    "\n",
    "\n",
    "def get_prefecture(text: str) -> str | None:\n",
    "    all_prefectures = (\n",
    "        \"北海道|青森県|岩手県|宮城県|秋田県|山形県|福島県|\"\n",
    "        + \"茨城県|栃木県|群馬県|埼玉県|千葉県|東京都|神奈川県|\"\n",
    "        + \"新潟県|富山県|石川県|福井県|山梨県|長野県|岐阜県|静岡県|愛知県|\"\n",
    "        + \"三重県|滋賀県|京都府|大阪府|兵庫県|奈良県|和歌山県|\"\n",
    "        + \"鳥取県|島根県|岡山県|広島県|山口県|\"\n",
    "        + \"徳島県|香川県|愛媛県|高知県|\"\n",
    "        + \"福岡県|佐賀県|長崎県|熊本県|大分県|宮崎県|鹿児島県|沖縄県\"\n",
    "    )\n",
    "    if match := re.search(all_prefectures, text):\n",
    "        return match.group(0)\n",
    "    else:\n",
    "        return None\n",
    "\n",
    "\n",
    "# 都道府県を抽出\n",
    "train = train.with_columns(\n",
    "    pl.col(\"都道府県 ※美工品は「所有者住所（所在都道府県）」\").apply(get_prefecture).alias(\"都道府県\")\n",
    ")\n",
    "test = test.with_columns(\n",
    "    pl.col(\"都道府県 ※美工品は「所有者住所（所在都道府県）」\").apply(get_prefecture).alias(\"都道府県\")\n",
    ")\n",
    "\n",
    "train = train.with_columns(pl.col(\"所在地\").apply(get_prefecture).alias(\"所在地_都道府県\"))\n",
    "test = test.with_columns(pl.col(\"所在地\").apply(get_prefecture).alias(\"所在地_都道府県\"))"
   ]
  },
  {
   "cell_type": "code",
   "execution_count": 163,
   "metadata": {},
   "outputs": [
    {
     "name": "stderr",
     "output_type": "stream",
     "text": [
      "/var/folders/4p/kqrm_mh10fn2pjkrxfzxh03c0000gq/T/ipykernel_19716/1010906722.py:32: PolarsInefficientApplyWarning: \n",
      "Expr.apply is significantly slower than the native expressions API.\n",
      "Only use if you absolutely CANNOT implement your logic otherwise.\n",
      "In this case, you can replace your `apply` with the following:\n",
      "  - pl.col(\"種別2\").apply(classify_kenzoubutu_bikouhin)\n",
      "  + pl.col(\"種別2\").is_in(kenzoubutu_feat) & '建造物' & '美工品'\n",
      "\n",
      "  pl.col(\"種別2\").apply(classify_kenzoubutu_bikouhin).alias(\"建造物_or_美工品\")\n",
      "/var/folders/4p/kqrm_mh10fn2pjkrxfzxh03c0000gq/T/ipykernel_19716/1010906722.py:35: PolarsInefficientApplyWarning: \n",
      "Expr.apply is significantly slower than the native expressions API.\n",
      "Only use if you absolutely CANNOT implement your logic otherwise.\n",
      "In this case, you can replace your `apply` with the following:\n",
      "  - pl.col(\"種別2\").apply(classify_kenzoubutu_bikouhin)\n",
      "  + pl.col(\"種別2\").is_in(kenzoubutu_feat) & '建造物' & '美工品'\n",
      "\n",
      "  pl.col(\"種別2\").apply(classify_kenzoubutu_bikouhin).alias(\"建造物_or_美工品\")\n"
     ]
    }
   ],
   "source": [
    "# 種別2より建造物か美工品かを分類する特徴を追加\n",
    "kenzoubutu_feat = [\n",
    "    \"近世以前／神社\",\n",
    "    \"近世以前／神社\",\n",
    "    \"近世以前／寺院\",\n",
    "    \"近世以前／城郭\",\n",
    "    \"近世以前／住宅\",\n",
    "    \"近世以前／民家\",\n",
    "    \"近世以前／その他\",\n",
    "    \"近代／宗教\",\n",
    "    \"近代／学校\",\n",
    "    \"近代／官公庁舎\",\n",
    "    \"近代／産業・交通・土木\",\n",
    "    \"近代／住居\",\n",
    "    \"近代／文化施設\",\n",
    "    \"近代／商業・業務\",\n",
    "    \"近代／その他\",\n",
    "]\n",
    "\n",
    "bikouhin_feat = [\"宝\", \"絵画\", \"彫刻\", \"工芸品\", \"書跡・典籍\", \"古文書\", \"考古資料\", \"歴史資料\"]\n",
    "\n",
    "\n",
    "def classify_kenzoubutu_bikouhin(text: str | None) -> str | None:\n",
    "    if text in kenzoubutu_feat:\n",
    "        return \"建造物\"\n",
    "    elif text in bikouhin_feat:\n",
    "        return \"美工品\"\n",
    "    return None\n",
    "\n",
    "\n",
    "train = train.with_columns(\n",
    "    pl.col(\"種別2\").apply(classify_kenzoubutu_bikouhin).alias(\"建造物_or_美工品\")\n",
    ")\n",
    "test = test.with_columns(\n",
    "    pl.col(\"種別2\").apply(classify_kenzoubutu_bikouhin).alias(\"建造物_or_美工品\")\n",
    ")"
   ]
  },
  {
   "cell_type": "code",
   "execution_count": 164,
   "metadata": {},
   "outputs": [
    {
     "name": "stderr",
     "output_type": "stream",
     "text": [
      "/var/folders/4p/kqrm_mh10fn2pjkrxfzxh03c0000gq/T/ipykernel_19716/808284332.py:34: PolarsInefficientApplyWarning: \n",
      "Expr.apply is significantly slower than the native expressions API.\n",
      "Only use if you absolutely CANNOT implement your logic otherwise.\n",
      "In this case, you can replace your `apply` with the following:\n",
      "  - pl.col(\"種別2\").apply(classify_kenzoubutu_genre)\n",
      "  + (pl.col(\"種別2\") == '近世以前／神社') & '神社' & '寺院' & '城郭' & '住宅' & '民家' & 'その他' & '宗教' & '学校' & '官公庁舎' & '産業・交通・土木' & '住居' & '文化施設' & '商業・業務' & 'その他'\n",
      "\n",
      "  pl.col(\"種別2\").apply(classify_kenzoubutu_genre).alias(\"建造物_種類\")\n",
      "/var/folders/4p/kqrm_mh10fn2pjkrxfzxh03c0000gq/T/ipykernel_19716/808284332.py:36: PolarsInefficientApplyWarning: \n",
      "Expr.apply is significantly slower than the native expressions API.\n",
      "Only use if you absolutely CANNOT implement your logic otherwise.\n",
      "In this case, you can replace your `apply` with the following:\n",
      "  - pl.col(\"種別2\").apply(classify_kenzoubutu_genre)\n",
      "  + (pl.col(\"種別2\") == '近世以前／神社') & '神社' & '寺院' & '城郭' & '住宅' & '民家' & 'その他' & '宗教' & '学校' & '官公庁舎' & '産業・交通・土木' & '住居' & '文化施設' & '商業・業務' & 'その他'\n",
      "\n",
      "  test = test.with_columns(pl.col(\"種別2\").apply(classify_kenzoubutu_genre).alias(\"建造物_種類\"))\n"
     ]
    }
   ],
   "source": [
    "def classify_kenzoubutu_genre(text: str | None) -> str | None:\n",
    "    if text == \"近世以前／神社\":\n",
    "        return \"神社\"\n",
    "    elif text == \"近世以前／寺院\":\n",
    "        return \"寺院\"\n",
    "    elif text == \"近世以前／城郭\":\n",
    "        return \"城郭\"\n",
    "    elif text == \"近世以前／住宅\":\n",
    "        return \"住宅\"\n",
    "    elif text == \"近世以前／民家\":\n",
    "        return \"民家\"\n",
    "    elif text == \"近世以前／その他\":\n",
    "        return \"その他\"\n",
    "    elif text == \"近代／宗教\":\n",
    "        return \"宗教\"\n",
    "    elif text == \"近代／学校\":\n",
    "        return \"学校\"\n",
    "    elif text == \"近代／官公庁舎\":\n",
    "        return \"官公庁舎\"\n",
    "    elif text == \"近代／産業・交通・土木\":\n",
    "        return \"産業・交通・土木\"\n",
    "    elif text == \"近代／住居\":\n",
    "        return \"住居\"\n",
    "    elif text == \"近代／文化施設\":\n",
    "        return \"文化施設\"\n",
    "    elif text == \"近代／商業・業務\":\n",
    "        return \"商業・業務\"\n",
    "    elif text == \"近代／その他\":\n",
    "        return \"その他\"  # ここはその他で被っている\n",
    "    return None\n",
    "\n",
    "\n",
    "train = train.with_columns(\n",
    "    pl.col(\"種別2\").apply(classify_kenzoubutu_genre).alias(\"建造物_種類\")\n",
    ")\n",
    "test = test.with_columns(pl.col(\"種別2\").apply(classify_kenzoubutu_genre).alias(\"建造物_種類\"))"
   ]
  },
  {
   "cell_type": "code",
   "execution_count": 165,
   "metadata": {},
   "outputs": [],
   "source": [
    "# 時代を取得する\n",
    "import re\n",
    "\n",
    "\n",
    "def get_era(text: str) -> str | None:\n",
    "    all_era = [\n",
    "        \"鎌倉\",\n",
    "        \"元\",\n",
    "        \"古墳\",\n",
    "        \"江戸\",\n",
    "        \"高麗\",\n",
    "        \"室町\",\n",
    "        \"昭和\",\n",
    "        \"大正\",\n",
    "        \"唐\",\n",
    "        \"桃山\",\n",
    "        \"奈良\",\n",
    "        \"縄文\",\n",
    "        \"縄文\",\n",
    "        \"南宋\",\n",
    "        \"南北朝\",\n",
    "        \"飛鳥\",\n",
    "        \"平安\",\n",
    "        \"北宋\",\n",
    "        \"明治\",\n",
    "        \"弥生\",\n",
    "        \"明\",\n",
    "    ]\n",
    "    for era in all_era:\n",
    "        if era in text:\n",
    "            return era\n",
    "    return None\n",
    "\n",
    "\n",
    "# 時代を抽出\n",
    "train = train.with_columns(pl.col(\"時代\").apply(get_era).alias(\"時代_抽出\"))\n",
    "test = test.with_columns(pl.col(\"時代\").apply(get_era).alias(\"時代_抽出\"))"
   ]
  },
  {
   "cell_type": "code",
   "execution_count": 166,
   "metadata": {},
   "outputs": [],
   "source": [
    "def get_shoyusya_genre(text: str) -> str | None:\n",
    "    words = [\n",
    "        \"神宮\",\n",
    "        \"八幡宮\",\n",
    "        \"神社\",\n",
    "        \"株式会社\",\n",
    "        \"有限会社\",\n",
    "        \"研究機構\",\n",
    "        \"独立行政法人\",\n",
    "        \"公益財団法人\",\n",
    "        \"財団法人\",\n",
    "        \"学校法人\",\n",
    "        \"大学\",\n",
    "        \"県\",\n",
    "        \"市\",\n",
    "        \"区\",\n",
    "        \"国\",\n",
    "        \"寺\",\n",
    "    ]\n",
    "    for word in words:\n",
    "        if word in text:\n",
    "            return word\n",
    "    return None\n",
    "\n",
    "\n",
    "train = train.with_columns(pl.col(\"所有者名\").apply(get_shoyusya_genre).alias(\"所有者名_genre\"))\n",
    "test = test.with_columns(pl.col(\"所有者名\").apply(get_shoyusya_genre).alias(\"所有者名_genre\"))"
   ]
  },
  {
   "cell_type": "code",
   "execution_count": 167,
   "metadata": {},
   "outputs": [],
   "source": [
    "# 抽出した時代と、era.csvを紐づける\n",
    "# train = train.join(era, left_on=\"時代_抽出\", right_on=\"時代\", how=\"left\")\n",
    "# test = test.join(era, left_on=\"時代_抽出\", right_on=\"時代\", how=\"left\")\n",
    "\n",
    "train = train.join(era, on=\"時代\", how=\"left\")\n",
    "test = test.join(era, on=\"時代\", how=\"left\")\n",
    "\n",
    "# 開始 -終了の期間を計算する\n",
    "train = train.with_columns((pl.col(\"終了\") - pl.col(\"開始\")).alias(\"時代_期間\"))\n",
    "test = test.with_columns((pl.col(\"終了\") - pl.col(\"開始\")).alias(\"時代_期間\"))"
   ]
  },
  {
   "cell_type": "code",
   "execution_count": 168,
   "metadata": {},
   "outputs": [],
   "source": [
    "# 緯度と経度のブロックを追加する\n",
    "def classify_coordinates_japan(lat: float, lon: float) -> str | None:\n",
    "    if lat is None or lon is None:\n",
    "        return None\n",
    "\n",
    "    lat_block = int((lat - 24) // (22 / 50))\n",
    "    lon_block = int((lon - 123) // (30 / 50))\n",
    "\n",
    "    return f\"{lat_block}_{lon_block}\"\n",
    "\n",
    "\n",
    "train_outputs = []\n",
    "for i, j in zip(train[\"緯度\"], train[\"経度\"]):\n",
    "    train_outputs.append(classify_coordinates_japan(i, j))\n",
    "\n",
    "train = train.with_columns(pl.Series(train_outputs).alias(\"緯度_経度_ブロック\"))\n",
    "\n",
    "test_outputs = []\n",
    "for i, j in zip(test[\"緯度\"], test[\"経度\"]):\n",
    "    test_outputs.append(classify_coordinates_japan(i, j))\n",
    "\n",
    "test = test.with_columns(pl.Series(test_outputs).alias(\"緯度_経度_ブロック\"))"
   ]
  },
  {
   "cell_type": "markdown",
   "metadata": {},
   "source": [
    "# データ型の変更"
   ]
  },
  {
   "cell_type": "code",
   "execution_count": 169,
   "metadata": {},
   "outputs": [],
   "source": [
    "categorical_cols = [\n",
    "    \"棟名\",\n",
    "    \"種別2\",\n",
    "    \"国\",\n",
    "    \"都道府県 ※美工品は「所有者住所（所在都道府県）」\",\n",
    "    \"時代\",\n",
    "    \"保管施設の名称\",\n",
    "    \"所有者名\",\n",
    "    \"管理団体又は責任者\",\n",
    "    \"都道府県\",\n",
    "    \"所在地\",\n",
    "    \"所在地_都道府県\",\n",
    "    \"建造物_or_美工品\",\n",
    "    \"建造物_種類\",\n",
    "    \"時代_抽出\",\n",
    "    \"所有者名_genre\",\n",
    "    \"緯度_経度_ブロック\",\n",
    "]"
   ]
  },
  {
   "cell_type": "code",
   "execution_count": 170,
   "metadata": {},
   "outputs": [],
   "source": [
    "for col in categorical_cols:\n",
    "    train = train.with_columns(pl.col(col).cast(pl.Categorical).alias(col))\n",
    "    test = test.with_columns(pl.col(col).cast(pl.Categorical).alias(col))"
   ]
  },
  {
   "cell_type": "markdown",
   "metadata": {},
   "source": [
    "# Fold"
   ]
  },
  {
   "cell_type": "code",
   "execution_count": 171,
   "metadata": {},
   "outputs": [],
   "source": [
    "FOLD_NUM = 5"
   ]
  },
  {
   "cell_type": "code",
   "execution_count": 172,
   "metadata": {},
   "outputs": [],
   "source": [
    "empty = np.zeros(train.height)\n",
    "fold = StratifiedKFold(n_splits=FOLD_NUM, shuffle=True, random_state=33)\n",
    "\n",
    "for idx, (_, val_idx) in enumerate(fold.split(train, train.get_column(\"is_kokuhou\"))):\n",
    "    empty[val_idx] = idx\n",
    "\n",
    "train = train.with_columns(pl.Series(empty).cast(pl.Int64).alias(\"fold\"))"
   ]
  },
  {
   "cell_type": "markdown",
   "metadata": {},
   "source": [
    "# LightGBM"
   ]
  },
  {
   "cell_type": "code",
   "execution_count": 173,
   "metadata": {},
   "outputs": [
    {
     "data": {
      "text/plain": [
       "21"
      ]
     },
     "execution_count": 173,
     "metadata": {},
     "output_type": "execute_result"
    }
   ],
   "source": [
    "use_col = []\n",
    "\n",
    "base_col = [\"緯度\", \"経度\", \"開始\", \"終了\", \"時代_期間\"]\n",
    "\n",
    "use_col += base_col\n",
    "use_col += categorical_cols\n",
    "\n",
    "len(use_col)"
   ]
  },
  {
   "cell_type": "code",
   "execution_count": 174,
   "metadata": {},
   "outputs": [
    {
     "data": {
      "text/plain": [
       "['緯度',\n",
       " '経度',\n",
       " '開始',\n",
       " '終了',\n",
       " '時代_期間',\n",
       " '棟名',\n",
       " '種別2',\n",
       " '国',\n",
       " '都道府県 ※美工品は「所有者住所（所在都道府県）」',\n",
       " '時代',\n",
       " '保管施設の名称',\n",
       " '所有者名',\n",
       " '管理団体又は責任者',\n",
       " '都道府県',\n",
       " '所在地',\n",
       " '所在地_都道府県',\n",
       " '建造物_or_美工品',\n",
       " '建造物_種類',\n",
       " '時代_抽出',\n",
       " '所有者名_genre',\n",
       " '緯度_経度_ブロック']"
      ]
     },
     "execution_count": 174,
     "metadata": {},
     "output_type": "execute_result"
    }
   ],
   "source": [
    "use_col"
   ]
  },
  {
   "cell_type": "code",
   "execution_count": 175,
   "metadata": {},
   "outputs": [],
   "source": [
    "# LightGBMで用いるパラメーターを指定\n",
    "# ref: https://lightgbm.readthedocs.io/en/v3.3.5/Parameters.html\n",
    "params = {\"objective\": \"binary\", \"metric\": \"auc\", \"verbose\": -1, \"seed\": 33}"
   ]
  },
  {
   "cell_type": "code",
   "execution_count": 176,
   "metadata": {},
   "outputs": [
    {
     "name": "stdout",
     "output_type": "stream",
     "text": [
      "Start fold 0\n",
      "Training until validation scores don't improve for 100 rounds\n",
      "Early stopping, best iteration is:\n",
      "[70]\ttraining's auc: 0.971435\tvalid_1's auc: 0.848611\n",
      "fold 0 Score: 0.8486111111111112\n",
      "Start fold 1\n",
      "Training until validation scores don't improve for 100 rounds\n",
      "Early stopping, best iteration is:\n",
      "[51]\ttraining's auc: 0.961664\tvalid_1's auc: 0.810427\n",
      "fold 1 Score: 0.8104267310789051\n",
      "Start fold 2\n",
      "Training until validation scores don't improve for 100 rounds\n",
      "Early stopping, best iteration is:\n",
      "[64]\ttraining's auc: 0.967111\tvalid_1's auc: 0.83622\n",
      "fold 2 Score: 0.836219806763285\n",
      "Start fold 3\n",
      "Training until validation scores don't improve for 100 rounds\n",
      "Early stopping, best iteration is:\n",
      "[432]\ttraining's auc: 0.99359\tvalid_1's auc: 0.811936\n",
      "fold 3 Score: 0.8119363929146538\n",
      "Start fold 4\n",
      "Training until validation scores don't improve for 100 rounds\n",
      "Early stopping, best iteration is:\n",
      "[233]\ttraining's auc: 0.990395\tvalid_1's auc: 0.794907\n",
      "fold 4 Score: 0.7949074923608397\n"
     ]
    }
   ],
   "source": [
    "# 学習データ全体に対する推論結果を保存するobjectを作成\n",
    "oof = np.zeros((len(train)))\n",
    "\n",
    "# テストデータに対する推論、特徴量重要度(後述)を計算するために、モデルを保存するobjectを作成\n",
    "models = []\n",
    "\n",
    "# Cross Validationによる学習の実施\n",
    "for fold in range(FOLD_NUM):\n",
    "    print(f\"Start fold {fold}\")\n",
    "\n",
    "    # polarsをpandasに変換\n",
    "    train_pd = train.to_pandas()\n",
    "\n",
    "    # foldごとにtrainとvalidに分ける\n",
    "    train_fold = train_pd[train_pd[\"fold\"] != fold]\n",
    "    valid_fold = train_pd[train_pd[\"fold\"] == fold]\n",
    "\n",
    "    # X(説明変数)とy(目的変数)に分ける\n",
    "    X_train = train_fold.drop(\"is_kokuhou\", axis=1)\n",
    "    X_valid = valid_fold.drop(\"is_kokuhou\", axis=1)\n",
    "    y_train = train_fold[[\"is_kokuhou\"]]\n",
    "    y_valid = valid_fold[[\"is_kokuhou\"]]\n",
    "\n",
    "    # 利用する説明変数に限定する\n",
    "    X_train = X_train[use_col]\n",
    "    X_valid = X_valid[use_col]\n",
    "\n",
    "    # LightGBMが認識可能な形にデータセットを変換\n",
    "    lgb_train = lgb.Dataset(X_train, y_train)\n",
    "    lgb_eval = lgb.Dataset(X_valid, y_valid, reference=lgb_train)\n",
    "\n",
    "    # モデルの学習\n",
    "    model = lgb.train(\n",
    "        params,\n",
    "        lgb_train,\n",
    "        num_boost_round=10000,  # 学習のiteration回数\n",
    "        valid_sets=[lgb_train, lgb_eval],\n",
    "        callbacks=[\n",
    "            lgb.early_stopping(stopping_rounds=100)\n",
    "        ],  # Early stopingの回数、binary_loglossが改善しないiterationが100回続いたら学習を止める\n",
    "    )\n",
    "\n",
    "    # モデルを保存\n",
    "    models.append(model)\n",
    "\n",
    "    # validデータに対する推論\n",
    "    y_valid_pred = model.predict(X_valid, num_iteration=model.best_iteration)\n",
    "\n",
    "    # validデータに対する推論の性能を計算\n",
    "    calc_f1_score = roc_auc_score(y_valid, y_valid_pred)\n",
    "    print(f\"fold {fold} Score: {calc_f1_score}\")\n",
    "\n",
    "    # oofに推論結果を保存\n",
    "    valid_idx = X_valid.index\n",
    "    oof[valid_idx] = y_valid_pred"
   ]
  },
  {
   "cell_type": "code",
   "execution_count": 177,
   "metadata": {},
   "outputs": [
    {
     "data": {
      "text/plain": [
       "0.7965766003827424"
      ]
     },
     "execution_count": 177,
     "metadata": {},
     "output_type": "execute_result"
    }
   ],
   "source": [
    "oof_score = roc_auc_score(y_true=train.get_column(\"is_kokuhou\"), y_score=oof)\n",
    "oof_score"
   ]
  },
  {
   "cell_type": "code",
   "execution_count": 178,
   "metadata": {},
   "outputs": [
    {
     "name": "stdout",
     "output_type": "stream",
     "text": [
      "thr: 0.01, f1_score: 0.23794928949568125\n",
      "thr: 0.02, f1_score: 0.2674498963372495\n",
      "thr: 0.03, f1_score: 0.2877470355731226\n",
      "thr: 0.04, f1_score: 0.30532336119665643\n",
      "thr: 0.05, f1_score: 0.31279620853080564\n",
      "thr: 0.060000000000000005, f1_score: 0.32457027300303337\n",
      "thr: 0.06999999999999999, f1_score: 0.3326157158234661\n",
      "thr: 0.08, f1_score: 0.3357829282080271\n",
      "thr: 0.09, f1_score: 0.3413173652694611\n",
      "thr: 0.09999999999999999, f1_score: 0.34256926952141065\n",
      "thr: 0.11, f1_score: 0.3431565160445318\n",
      "thr: 0.12, f1_score: 0.341105929380413\n",
      "thr: 0.13, f1_score: 0.3405443126308444\n",
      "thr: 0.14, f1_score: 0.34699853587115664\n",
      "thr: 0.15000000000000002, f1_score: 0.3462414578587699\n",
      "thr: 0.16, f1_score: 0.3483670295489891\n",
      "thr: 0.17, f1_score: 0.3477564102564103\n",
      "thr: 0.18000000000000002, f1_score: 0.34574028122415223\n",
      "thr: 0.19, f1_score: 0.35223367697594504\n",
      "thr: 0.2, f1_score: 0.351063829787234\n",
      "thr: 0.21000000000000002, f1_score: 0.3579908675799087\n",
      "thr: 0.22, f1_score: 0.35940409683426444\n",
      "thr: 0.23, f1_score: 0.3542857142857143\n",
      "thr: 0.24000000000000002, f1_score: 0.3515625\n",
      "thr: 0.25, f1_score: 0.34930139720558884\n",
      "thr: 0.26, f1_score: 0.3476482617586912\n",
      "thr: 0.27, f1_score: 0.34029227557411273\n",
      "thr: 0.28, f1_score: 0.33262260127931775\n",
      "thr: 0.29000000000000004, f1_score: 0.3246753246753247\n",
      "thr: 0.3, f1_score: 0.32635060639470775\n",
      "thr: 0.31, f1_score: 0.31425364758698093\n",
      "thr: 0.32, f1_score: 0.3054298642533937\n",
      "thr: 0.33, f1_score: 0.302405498281787\n",
      "thr: 0.34, f1_score: 0.29336437718277064\n",
      "thr: 0.35000000000000003, f1_score: 0.2904368358913813\n",
      "thr: 0.36000000000000004, f1_score: 0.28843861740166865\n",
      "thr: 0.37, f1_score: 0.2795180722891566\n",
      "thr: 0.38, f1_score: 0.27804878048780485\n",
      "thr: 0.39, f1_score: 0.276885043263288\n",
      "thr: 0.4, f1_score: 0.27169811320754716\n",
      "thr: 0.41000000000000003, f1_score: 0.266497461928934\n",
      "thr: 0.42000000000000004, f1_score: 0.2641025641025641\n",
      "thr: 0.43, f1_score: 0.2535575679172057\n",
      "thr: 0.44, f1_score: 0.24901703800786365\n",
      "thr: 0.45, f1_score: 0.24500665778961384\n",
      "thr: 0.46, f1_score: 0.23719676549865226\n",
      "thr: 0.47000000000000003, f1_score: 0.22527472527472525\n",
      "thr: 0.48000000000000004, f1_score: 0.22284122562674097\n",
      "thr: 0.49, f1_score: 0.22033898305084745\n",
      "thr: 0.5, f1_score: 0.21843971631205672\n",
      "thr: 0.51, f1_score: 0.21067821067821066\n",
      "thr: 0.52, f1_score: 0.19793205317577547\n",
      "thr: 0.53, f1_score: 0.19316493313521543\n",
      "thr: 0.54, f1_score: 0.18862275449101795\n",
      "thr: 0.55, f1_score: 0.18618618618618618\n",
      "thr: 0.56, f1_score: 0.18429003021148033\n",
      "thr: 0.5700000000000001, f1_score: 0.17905918057663125\n",
      "thr: 0.5800000000000001, f1_score: 0.17457886676875956\n",
      "thr: 0.59, f1_score: 0.16666666666666669\n",
      "thr: 0.6, f1_score: 0.16293929712460065\n",
      "thr: 0.61, f1_score: 0.16051364365971107\n",
      "thr: 0.62, f1_score: 0.15483870967741936\n",
      "thr: 0.63, f1_score: 0.15235008103727715\n",
      "thr: 0.64, f1_score: 0.13464696223316913\n",
      "thr: 0.65, f1_score: 0.13157894736842105\n",
      "thr: 0.66, f1_score: 0.1291390728476821\n",
      "thr: 0.67, f1_score: 0.13\n",
      "thr: 0.68, f1_score: 0.1277310924369748\n",
      "thr: 0.6900000000000001, f1_score: 0.12794612794612797\n",
      "thr: 0.7000000000000001, f1_score: 0.12521150592216582\n",
      "thr: 0.7100000000000001, f1_score: 0.12521150592216582\n",
      "thr: 0.72, f1_score: 0.11643835616438356\n",
      "thr: 0.73, f1_score: 0.1103448275862069\n",
      "thr: 0.74, f1_score: 0.10745233968804158\n",
      "thr: 0.75, f1_score: 0.10104529616724739\n",
      "thr: 0.76, f1_score: 0.10157618213660245\n",
      "thr: 0.77, f1_score: 0.10157618213660245\n",
      "thr: 0.78, f1_score: 0.10175438596491229\n",
      "thr: 0.79, f1_score: 0.10211267605633802\n",
      "thr: 0.8, f1_score: 0.10247349823321555\n",
      "thr: 0.81, f1_score: 0.09252669039145907\n",
      "thr: 0.8200000000000001, f1_score: 0.09285714285714286\n",
      "thr: 0.8300000000000001, f1_score: 0.08976660682226212\n",
      "thr: 0.8400000000000001, f1_score: 0.08288288288288288\n",
      "thr: 0.85, f1_score: 0.08303249097472924\n",
      "thr: 0.86, f1_score: 0.08000000000000002\n",
      "thr: 0.87, f1_score: 0.06946983546617917\n",
      "thr: 0.88, f1_score: 0.06605504587155964\n",
      "thr: 0.89, f1_score: 0.06273062730627306\n",
      "thr: 0.9, f1_score: 0.05565862708719852\n",
      "thr: 0.91, f1_score: 0.05223880597014925\n",
      "thr: 0.92, f1_score: 0.05243445692883895\n",
      "thr: 0.93, f1_score: 0.03795066413662239\n",
      "thr: 0.9400000000000001, f1_score: 0.03435114503816794\n",
      "thr: 0.9500000000000001, f1_score: 0.0345489443378119\n",
      "thr: 0.9600000000000001, f1_score: 0.030947775628626693\n",
      "thr: 0.97, f1_score: 0.01953125\n",
      "thr: 0.98, f1_score: 0.007889546351084811\n",
      "thr: 0.99, f1_score: 0.0\n",
      "Optimized thr: 0.22, f1 score: 0.35940409683426444\n"
     ]
    }
   ],
   "source": [
    "from sklearn.metrics import f1_score\n",
    "\n",
    "# 0.01 から 0.99 まで 0.01 刻みで閾値を変えて、F1 score を計算する\n",
    "max_f1_score = 0\n",
    "\n",
    "for thr in np.arange(0.01, 1, 0.01):\n",
    "    calc_f1_score = f1_score(train.get_column(\"is_kokuhou\"), (oof > thr).astype(int))\n",
    "    print(f\"thr: {thr}, f1_score: {calc_f1_score}\")\n",
    "    if max_f1_score < calc_f1_score:\n",
    "        max_f1_score = calc_f1_score\n",
    "        best_thr = thr\n",
    "\n",
    "print(f\"Optimized thr: {best_thr}, f1 score: {max_f1_score}\")"
   ]
  },
  {
   "cell_type": "code",
   "execution_count": 179,
   "metadata": {},
   "outputs": [
    {
     "data": {
      "image/png": "[encoded data removed]",
      "text/plain": [
       "<Figure size 1200x600 with 1 Axes>"
      ]
     },
     "metadata": {},
     "output_type": "display_data"
    }
   ],
   "source": [
    "def visualize_importance(models: list, use_col: list) -> None:\n",
    "    \"\"\"lightGBM の model 配列の feature importance を plot する\n",
    "    CVごとのブレを boxen plot として表現します.\n",
    "\n",
    "    args:\n",
    "        models:\n",
    "            List of lightGBM models\n",
    "        feat_train_df:\n",
    "            学習時に使った DataFrame\n",
    "    \"\"\"\n",
    "    feature_importance_df = pd.DataFrame()\n",
    "    for i, model in enumerate(models):\n",
    "        _df = pd.DataFrame()\n",
    "        _df[\"feature_importance\"] = model.feature_importance()\n",
    "        _df[\"column\"] = use_col\n",
    "        _df[\"fold\"] = i + 1\n",
    "        feature_importance_df = pd.concat(\n",
    "            [feature_importance_df, _df], axis=0, ignore_index=True\n",
    "        )\n",
    "\n",
    "    order = (\n",
    "        feature_importance_df.groupby(\"column\")\n",
    "        .sum()[[\"feature_importance\"]]\n",
    "        .sort_values(\"feature_importance\", ascending=False)\n",
    "        .index[:50]\n",
    "    )\n",
    "\n",
    "    fig, ax = plt.subplots(figsize=(12, max(6, len(order) * 0.25)))\n",
    "    sns.boxenplot(\n",
    "        data=feature_importance_df,\n",
    "        x=\"feature_importance\",\n",
    "        y=\"column\",\n",
    "        order=order,\n",
    "        ax=ax,\n",
    "        palette=\"viridis\",\n",
    "        orient=\"h\",\n",
    "    )\n",
    "    ax.tick_params(axis=\"x\", rotation=90)\n",
    "    ax.set_title(\"Importance\")\n",
    "    ax.grid()\n",
    "    fig.tight_layout()\n",
    "    return fig, ax\n",
    "\n",
    "\n",
    "fig, ax = visualize_importance(models, use_col)"
   ]
  },
  {
   "cell_type": "code",
   "execution_count": 180,
   "metadata": {},
   "outputs": [],
   "source": [
    "# k 個のモデルの予測を作成. shape = (5, N_test,).\n",
    "pred = np.array([model.predict(test.select(use_col).to_pandas()) for model in models])\n",
    "\n",
    "# k 個のモデルの予測値の平均 shape = (N_test,).\n",
    "pred = np.mean(pred, axis=0)  # axis=0 なので shape の `k` が潰れる"
   ]
  },
  {
   "cell_type": "code",
   "execution_count": 181,
   "metadata": {},
   "outputs": [
    {
     "data": {
      "image/png": "[encoded data removed]",
      "text/plain": [
       "<Figure size 800x600 with 1 Axes>"
      ]
     },
     "metadata": {},
     "output_type": "display_data"
    }
   ],
   "source": [
    "fig, ax = plt.subplots(figsize=(8, 6))\n",
    "\n",
    "vmax = 0.02\n",
    "# bins = np.linspace(0, 1, 0.1)\n",
    "ax.hist(pred, density=True, alpha=0.5, label=\"Test\")\n",
    "ax.hist(oof, density=True, alpha=0.5, label=\"OutOfFold\")\n",
    "ax.grid()\n",
    "ax.legend()\n",
    "ax.set_title(\"テストと学習時の予測傾向差分\")\n",
    "\n",
    "fig.tight_layout()"
   ]
  },
  {
   "cell_type": "code",
   "execution_count": 182,
   "metadata": {},
   "outputs": [],
   "source": [
    "train.with_columns(pl.Series(oof).cast(pl.Float64).alias(\"oof\")).write_csv(\n",
    "    f\"../oof/oof_{NOTEBOOK_NAME}_f1score_{max_f1_score:.4f}_auc_{oof_score:.4f}.csv\"\n",
    ")"
   ]
  },
  {
   "cell_type": "code",
   "execution_count": 183,
   "metadata": {},
   "outputs": [
    {
     "data": {
      "text/html": [
       "<div><style>\n",
       ".dataframe > thead > tr > th,\n",
       ".dataframe > tbody > tr > td {\n",
       "  text-align: right;\n",
       "}\n",
       "</style>\n",
       "<small>shape: (10_065, 1)</small><table border=\"1\" class=\"dataframe\"><thead><tr><th>is_kokuhou</th></tr><tr><td>i64</td></tr></thead><tbody><tr><td>0</td></tr><tr><td>0</td></tr><tr><td>1</td></tr><tr><td>0</td></tr><tr><td>0</td></tr><tr><td>0</td></tr><tr><td>0</td></tr><tr><td>0</td></tr><tr><td>0</td></tr><tr><td>0</td></tr><tr><td>0</td></tr><tr><td>0</td></tr><tr><td>&hellip;</td></tr><tr><td>0</td></tr><tr><td>0</td></tr><tr><td>0</td></tr><tr><td>0</td></tr><tr><td>0</td></tr><tr><td>0</td></tr><tr><td>0</td></tr><tr><td>0</td></tr><tr><td>0</td></tr><tr><td>0</td></tr><tr><td>0</td></tr><tr><td>0</td></tr></tbody></table></div>"
      ],
      "text/plain": [
       "shape: (10_065, 1)\n",
       "┌────────────┐\n",
       "│ is_kokuhou │\n",
       "│ ---        │\n",
       "│ i64        │\n",
       "╞════════════╡\n",
       "│ 0          │\n",
       "│ 0          │\n",
       "│ 1          │\n",
       "│ 0          │\n",
       "│ …          │\n",
       "│ 0          │\n",
       "│ 0          │\n",
       "│ 0          │\n",
       "│ 0          │\n",
       "└────────────┘"
      ]
     },
     "execution_count": 183,
     "metadata": {},
     "output_type": "execute_result"
    }
   ],
   "source": [
    "sample_submission.with_columns(pl.Series(\"is_kokuhou\", pred > best_thr).cast(int))"
   ]
  },
  {
   "cell_type": "code",
   "execution_count": 184,
   "metadata": {},
   "outputs": [
    {
     "data": {
      "text/html": [
       "<div><style>\n",
       ".dataframe > thead > tr > th,\n",
       ".dataframe > tbody > tr > td {\n",
       "  text-align: right;\n",
       "}\n",
       "</style>\n",
       "<small>shape: (10_065, 1)</small><table border=\"1\" class=\"dataframe\"><thead><tr><th>is_kokuhou</th></tr><tr><td>i64</td></tr></thead><tbody><tr><td>0</td></tr><tr><td>0</td></tr><tr><td>1</td></tr><tr><td>0</td></tr><tr><td>0</td></tr><tr><td>0</td></tr><tr><td>0</td></tr><tr><td>0</td></tr><tr><td>0</td></tr><tr><td>0</td></tr><tr><td>0</td></tr><tr><td>0</td></tr><tr><td>&hellip;</td></tr><tr><td>0</td></tr><tr><td>0</td></tr><tr><td>0</td></tr><tr><td>0</td></tr><tr><td>0</td></tr><tr><td>0</td></tr><tr><td>0</td></tr><tr><td>0</td></tr><tr><td>0</td></tr><tr><td>0</td></tr><tr><td>0</td></tr><tr><td>0</td></tr></tbody></table></div>"
      ],
      "text/plain": [
       "shape: (10_065, 1)\n",
       "┌────────────┐\n",
       "│ is_kokuhou │\n",
       "│ ---        │\n",
       "│ i64        │\n",
       "╞════════════╡\n",
       "│ 0          │\n",
       "│ 0          │\n",
       "│ 1          │\n",
       "│ 0          │\n",
       "│ …          │\n",
       "│ 0          │\n",
       "│ 0          │\n",
       "│ 0          │\n",
       "│ 0          │\n",
       "└────────────┘"
      ]
     },
     "execution_count": 184,
     "metadata": {},
     "output_type": "execute_result"
    }
   ],
   "source": [
    "sample_submission = sample_submission.with_columns(\n",
    "    pl.Series(\"is_kokuhou\", pred > best_thr).cast(int)\n",
    ")\n",
    "sample_submission"
   ]
  },
  {
   "cell_type": "code",
   "execution_count": 185,
   "metadata": {},
   "outputs": [],
   "source": [
    "sample_submission.write_csv(\n",
    "    f\"../sub/{NOTEBOOK_NAME}_f1score_{max_f1_score:.4f}_auc_{oof_score:.4f}.csv\"\n",
    ")"
   ]
  },
  {
   "cell_type": "code",
   "execution_count": null,
   "metadata": {},
   "outputs": [],
   "source": []
  }
 ],
 "metadata": {
  "kernelspec": {
   "display_name": ".venv",
   "language": "python",
   "name": "python3"
  },
  "language_info": {
   "codemirror_mode": {
    "name": "ipython",
    "version": 3
   },
   "file_extension": ".py",
   "mimetype": "text/x-python",
   "name": "python",
   "nbconvert_exporter": "python",
   "pygments_lexer": "ipython3",
   "version": "3.11.3"
  },
  "orig_nbformat": 4
 },
 "nbformat": 4,
 "nbformat_minor": 2
}
