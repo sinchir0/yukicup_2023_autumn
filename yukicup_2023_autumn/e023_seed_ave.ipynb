{
 "cells": [
  {
   "cell_type": "code",
   "execution_count": 150,
   "metadata": {},
   "outputs": [],
   "source": [
    "NOTEBOOK_NAME = \"e023_seed_ave\""
   ]
  },
  {
   "cell_type": "code",
   "execution_count": 151,
   "metadata": {},
   "outputs": [],
   "source": [
    "import numpy as np\n",
    "import polars as pl\n",
    "import pandas as pd\n",
    "import lightgbm as lgb\n",
    "import matplotlib.pyplot as plt\n",
    "from sklearn.model_selection import StratifiedKFold\n",
    "from sklearn.metrics import roc_auc_score\n",
    "import seaborn as sns\n",
    "import japanize_matplotlib"
   ]
  },
  {
   "cell_type": "code",
   "execution_count": 152,
   "metadata": {},
   "outputs": [],
   "source": [
    "train = pl.read_csv(\"../data/train.csv\")\n",
    "test = pl.read_csv(\"../data/test.csv\")\n",
    "era = pl.read_csv(\"../data/era_improve.csv\")\n",
    "sample_submission = pl.read_csv(\"../data/sample_submission.csv\")"
   ]
  },
  {
   "cell_type": "markdown",
   "metadata": {},
   "source": [
    "# 前処理"
   ]
  },
  {
   "cell_type": "code",
   "execution_count": 153,
   "metadata": {},
   "outputs": [],
   "source": [
    "train = train.join(era, on=\"時代\", how=\"left\")\n",
    "test = test.join(era, on=\"時代\", how=\"left\")"
   ]
  },
  {
   "cell_type": "markdown",
   "metadata": {},
   "source": [
    "# データ型の変更"
   ]
  },
  {
   "cell_type": "code",
   "execution_count": 154,
   "metadata": {},
   "outputs": [],
   "source": [
    "categorical_cols = [\n",
    "    \"棟名\",\n",
    "    \"種別2\",\n",
    "    \"国\",\n",
    "    \"都道府県 ※美工品は「所有者住所（所在都道府県）」\",\n",
    "    \"時代\",\n",
    "    \"保管施設の名称\",\n",
    "    \"所有者名\",\n",
    "    \"管理団体又は責任者\",\n",
    "    \"所在地\",\n",
    "]"
   ]
  },
  {
   "cell_type": "code",
   "execution_count": 155,
   "metadata": {},
   "outputs": [],
   "source": [
    "# カウントエンコーディングを行う\n",
    "merge_df = pl.concat([train[categorical_cols], test[categorical_cols]])\n",
    "\n",
    "merge_count_df = merge_df.select(\n",
    "    [pl.count().over(col).alias(f\"{col}_count\") for col in categorical_cols]\n",
    ")\n",
    "\n",
    "train_count_df = merge_count_df.slice(0, train.shape[0])\n",
    "test_count_df = merge_count_df.slice(train.shape[0])\n",
    "\n",
    "train = pl.concat([train, train_count_df], how=\"horizontal\")\n",
    "test = pl.concat([test, test_count_df], how=\"horizontal\")"
   ]
  },
  {
   "cell_type": "code",
   "execution_count": 156,
   "metadata": {},
   "outputs": [],
   "source": [
    "# Trainにしかないデータを削除する\n",
    "def only_train_is_null(train: pl.DataFrame, test: pl.DataFrame, col: str):\n",
    "    only_train = set(train.get_column(col).unique())\n",
    "    only_test = set(test.get_column(col).unique())\n",
    "\n",
    "    share_value = only_train & only_test\n",
    "\n",
    "    return train.with_columns(\n",
    "        pl.when(pl.col(col).is_in(list(share_value)))\n",
    "        .then(pl.col(col))\n",
    "        .otherwise(None)\n",
    "        .alias(col)\n",
    "    )\n",
    "\n",
    "\n",
    "for col in categorical_cols:\n",
    "    train = only_train_is_null(train, test, col)"
   ]
  },
  {
   "cell_type": "code",
   "execution_count": 157,
   "metadata": {},
   "outputs": [],
   "source": [
    "for col in categorical_cols:\n",
    "    train = train.with_columns(pl.col(col).cast(pl.Categorical).alias(col))\n",
    "    test = test.with_columns(pl.col(col).cast(pl.Categorical).alias(col))"
   ]
  },
  {
   "cell_type": "markdown",
   "metadata": {},
   "source": [
    "# Fold"
   ]
  },
  {
   "cell_type": "code",
   "execution_count": 158,
   "metadata": {},
   "outputs": [],
   "source": [
    "FOLD_NUM = 5"
   ]
  },
  {
   "cell_type": "code",
   "execution_count": 159,
   "metadata": {},
   "outputs": [],
   "source": [
    "empty = np.zeros(train.height)\n",
    "fold = StratifiedKFold(n_splits=FOLD_NUM, shuffle=True, random_state=33)\n",
    "\n",
    "for idx, (_, val_idx) in enumerate(fold.split(train, train.get_column(\"is_kokuhou\"))):\n",
    "    empty[val_idx] = idx\n",
    "\n",
    "train = train.with_columns(pl.Series(empty).cast(pl.Int64).alias(\"fold\"))"
   ]
  },
  {
   "cell_type": "markdown",
   "metadata": {},
   "source": [
    "# LightGBM"
   ]
  },
  {
   "cell_type": "code",
   "execution_count": 160,
   "metadata": {},
   "outputs": [
    {
     "data": {
      "text/plain": [
       "22"
      ]
     },
     "execution_count": 160,
     "metadata": {},
     "output_type": "execute_result"
    }
   ],
   "source": [
    "use_col = []\n",
    "\n",
    "base_col = [\"緯度\", \"経度\", \"開始\", \"終了\"]\n",
    "\n",
    "use_col += base_col\n",
    "use_col += categorical_cols\n",
    "use_col += [f\"{col}_count\" for col in categorical_cols]\n",
    "\n",
    "len(use_col)"
   ]
  },
  {
   "cell_type": "code",
   "execution_count": 161,
   "metadata": {},
   "outputs": [
    {
     "data": {
      "text/plain": [
       "['緯度',\n",
       " '経度',\n",
       " '開始',\n",
       " '終了',\n",
       " '棟名',\n",
       " '種別2',\n",
       " '国',\n",
       " '都道府県 ※美工品は「所有者住所（所在都道府県）」',\n",
       " '時代',\n",
       " '保管施設の名称',\n",
       " '所有者名',\n",
       " '管理団体又は責任者',\n",
       " '所在地',\n",
       " '棟名_count',\n",
       " '種別2_count',\n",
       " '国_count',\n",
       " '都道府県 ※美工品は「所有者住所（所在都道府県）」_count',\n",
       " '時代_count',\n",
       " '保管施設の名称_count',\n",
       " '所有者名_count',\n",
       " '管理団体又は責任者_count',\n",
       " '所在地_count']"
      ]
     },
     "execution_count": 161,
     "metadata": {},
     "output_type": "execute_result"
    }
   ],
   "source": [
    "use_col"
   ]
  },
  {
   "cell_type": "code",
   "execution_count": 162,
   "metadata": {},
   "outputs": [],
   "source": [
    "def get_lgbm_prediction(\n",
    "    train: pl.DataFrame, use_col: list, params: dict, FOLD_NUM: int = 5\n",
    ") -> tuple[np.ndarray, list]:\n",
    "    print(params)\n",
    "    # 学習データ全体に対する推論結果を保存するobjectを作成\n",
    "    oof = np.zeros((len(train)))\n",
    "\n",
    "    # テストデータに対する推論、特徴量重要度(後述)を計算するために、モデルを保存するobjectを作成\n",
    "    models = []\n",
    "\n",
    "    # Cross Validationによる学習の実施\n",
    "    for fold in range(FOLD_NUM):\n",
    "        print(f\"Start fold {fold}\")\n",
    "\n",
    "        # polarsをpandasに変換\n",
    "        train_pd = train.to_pandas()\n",
    "\n",
    "        # foldごとにtrainとvalidに分ける\n",
    "        train_fold = train_pd[train_pd[\"fold\"] != fold]\n",
    "        valid_fold = train_pd[train_pd[\"fold\"] == fold]\n",
    "\n",
    "        # X(説明変数)とy(目的変数)に分ける\n",
    "        X_train = train_fold.drop(\"is_kokuhou\", axis=1)\n",
    "        X_valid = valid_fold.drop(\"is_kokuhou\", axis=1)\n",
    "        y_train = train_fold[[\"is_kokuhou\"]]\n",
    "        y_valid = valid_fold[[\"is_kokuhou\"]]\n",
    "\n",
    "        # 利用する説明変数に限定する\n",
    "        X_train = X_train[use_col]\n",
    "        X_valid = X_valid[use_col]\n",
    "\n",
    "        # LightGBMが認識可能な形にデータセットを変換\n",
    "        lgb_train = lgb.Dataset(X_train, y_train)\n",
    "        lgb_eval = lgb.Dataset(X_valid, y_valid, reference=lgb_train)\n",
    "\n",
    "        # モデルの学習\n",
    "        model = lgb.train(\n",
    "            params,\n",
    "            lgb_train,\n",
    "            num_boost_round=10000,  # 学習のiteration回数\n",
    "            valid_sets=[lgb_train, lgb_eval],\n",
    "            callbacks=[\n",
    "                lgb.early_stopping(stopping_rounds=100)\n",
    "            ],  # Early stopingの回数、binary_loglossが改善しないiterationが100回続いたら学習を止める\n",
    "        )\n",
    "\n",
    "        # モデルを保存\n",
    "        models.append(model)\n",
    "\n",
    "        # validデータに対する推論\n",
    "        y_valid_pred = model.predict(X_valid, num_iteration=model.best_iteration)\n",
    "\n",
    "        # validデータに対する推論の性能を計算\n",
    "        calc_f1_score = roc_auc_score(y_valid, y_valid_pred)\n",
    "        print(f\"fold {fold} Score: {calc_f1_score}\")\n",
    "\n",
    "        # oofに推論結果を保存\n",
    "        valid_idx = X_valid.index\n",
    "        oof[valid_idx] = y_valid_pred\n",
    "    return oof, models"
   ]
  },
  {
   "cell_type": "code",
   "execution_count": 163,
   "metadata": {},
   "outputs": [],
   "source": [
    "# LightGBMで用いるパラメーターを指定\n",
    "# ref: https://lightgbm.readthedocs.io/en/v3.3.5/Parameters.html\n",
    "# params = {\"objective\": \"binary\", \"metric\": \"auc\", \"verbosity\": -1, \"seed\": 42}"
   ]
  },
  {
   "cell_type": "code",
   "execution_count": 164,
   "metadata": {},
   "outputs": [
    {
     "name": "stdout",
     "output_type": "stream",
     "text": [
      "{'boosting_type': 'gbdt', 'objective': 'binary', 'metric': 'auc', 'feature_fraction': 0.9, 'verbose': -1, 'seed': 42}\n",
      "Start fold 0\n",
      "Training until validation scores don't improve for 100 rounds\n",
      "Early stopping, best iteration is:\n",
      "[27]\ttraining's auc: 0.95039\tvalid_1's auc: 0.840773\n",
      "fold 0 Score: 0.8407729468599034\n",
      "Start fold 1\n",
      "Training until validation scores don't improve for 100 rounds\n",
      "Early stopping, best iteration is:\n",
      "[69]\ttraining's auc: 0.980097\tvalid_1's auc: 0.802432\n",
      "fold 1 Score: 0.8024315619967795\n",
      "Start fold 2\n",
      "Training until validation scores don't improve for 100 rounds\n",
      "Early stopping, best iteration is:\n",
      "[73]\ttraining's auc: 0.980602\tvalid_1's auc: 0.837327\n",
      "fold 2 Score: 0.8373268921095008\n",
      "Start fold 3\n",
      "Training until validation scores don't improve for 100 rounds\n",
      "Early stopping, best iteration is:\n",
      "[23]\ttraining's auc: 0.947358\tvalid_1's auc: 0.811783\n",
      "fold 3 Score: 0.8117834138486311\n",
      "Start fold 4\n",
      "Training until validation scores don't improve for 100 rounds\n",
      "Early stopping, best iteration is:\n",
      "[5]\ttraining's auc: 0.892052\tvalid_1's auc: 0.800748\n",
      "fold 4 Score: 0.8007475606545345\n",
      "thr: 0.01, f1_score: 0.16484268125854995\n",
      "thr: 0.02, f1_score: 0.20034246575342465\n",
      "thr: 0.03, f1_score: 0.2151658767772512\n",
      "thr: 0.04, f1_score: 0.2229625832906202\n",
      "thr: 0.05, f1_score: 0.2334455667789001\n",
      "thr: 0.060000000000000005, f1_score: 0.2938066465256798\n",
      "thr: 0.06999999999999999, f1_score: 0.3077575243747351\n",
      "thr: 0.08, f1_score: 0.3156899810964083\n",
      "thr: 0.09, f1_score: 0.32446264073694986\n",
      "thr: 0.09999999999999999, f1_score: 0.3279419966536531\n",
      "thr: 0.11, f1_score: 0.3357314148681055\n",
      "thr: 0.12, f1_score: 0.3290978398983482\n",
      "thr: 0.13, f1_score: 0.34426229508196715\n",
      "thr: 0.14, f1_score: 0.3360116873630387\n",
      "thr: 0.15000000000000002, f1_score: 0.3328220858895706\n",
      "thr: 0.16, f1_score: 0.33466773418734985\n",
      "thr: 0.17, f1_score: 0.33219761499148215\n",
      "thr: 0.18000000000000002, f1_score: 0.32778264680105174\n",
      "thr: 0.19, f1_score: 0.325068870523416\n",
      "thr: 0.2, f1_score: 0.3191489361702128\n",
      "thr: 0.21000000000000002, f1_score: 0.3163265306122449\n",
      "thr: 0.22, f1_score: 0.3092998955067921\n",
      "thr: 0.23, f1_score: 0.30735930735930733\n",
      "thr: 0.24000000000000002, f1_score: 0.2953020134228188\n",
      "thr: 0.25, f1_score: 0.2929061784897025\n",
      "thr: 0.26, f1_score: 0.2930832356389214\n",
      "thr: 0.27, f1_score: 0.2891278375149343\n",
      "thr: 0.28, f1_score: 0.2846715328467153\n",
      "thr: 0.29000000000000004, f1_score: 0.27901234567901234\n",
      "thr: 0.3, f1_score: 0.2752525252525253\n",
      "thr: 0.31, f1_score: 0.2709677419354839\n",
      "thr: 0.32, f1_score: 0.261558784676354\n",
      "thr: 0.33, f1_score: 0.2465753424657534\n",
      "thr: 0.34, f1_score: 0.23184357541899442\n",
      "thr: 0.35000000000000003, f1_score: 0.22347949080622348\n",
      "thr: 0.36000000000000004, f1_score: 0.21294964028776978\n",
      "thr: 0.37, f1_score: 0.20467836257309938\n",
      "thr: 0.38, f1_score: 0.19047619047619044\n",
      "thr: 0.39, f1_score: 0.1864661654135338\n",
      "thr: 0.4, f1_score: 0.16640986132511557\n",
      "thr: 0.41000000000000003, f1_score: 0.161993769470405\n",
      "thr: 0.42000000000000004, f1_score: 0.15433070866141732\n",
      "thr: 0.43, f1_score: 0.1518987341772152\n",
      "thr: 0.44, f1_score: 0.14376996805111822\n",
      "thr: 0.45, f1_score: 0.13614262560777957\n",
      "thr: 0.46, f1_score: 0.13442622950819672\n",
      "thr: 0.47000000000000003, f1_score: 0.12603648424543948\n",
      "thr: 0.48000000000000004, f1_score: 0.12645590682196342\n",
      "thr: 0.49, f1_score: 0.12395309882747067\n",
      "thr: 0.5, f1_score: 0.11844331641285956\n",
      "thr: 0.51, f1_score: 0.11282051282051282\n",
      "thr: 0.52, f1_score: 0.10434782608695653\n",
      "thr: 0.53, f1_score: 0.10175438596491229\n",
      "thr: 0.54, f1_score: 0.0921985815602837\n",
      "thr: 0.55, f1_score: 0.08960573476702509\n",
      "thr: 0.56, f1_score: 0.08992805755395683\n",
      "thr: 0.5700000000000001, f1_score: 0.08664259927797834\n",
      "thr: 0.5800000000000001, f1_score: 0.07985480943738657\n",
      "thr: 0.59, f1_score: 0.08043875685557586\n",
      "thr: 0.6, f1_score: 0.07366482504604051\n",
      "thr: 0.61, f1_score: 0.0705009276437848\n",
      "thr: 0.62, f1_score: 0.0633147113594041\n",
      "thr: 0.63, f1_score: 0.059813084112149535\n",
      "thr: 0.64, f1_score: 0.04896421845574388\n",
      "thr: 0.65, f1_score: 0.045368620037807186\n",
      "thr: 0.66, f1_score: 0.038022813688212934\n",
      "thr: 0.67, f1_score: 0.02687140115163148\n",
      "thr: 0.68, f1_score: 0.023076923076923078\n",
      "thr: 0.6900000000000001, f1_score: 0.023121387283236993\n",
      "thr: 0.7000000000000001, f1_score: 0.023121387283236993\n",
      "thr: 0.7100000000000001, f1_score: 0.023121387283236993\n",
      "thr: 0.72, f1_score: 0.02316602316602317\n",
      "thr: 0.73, f1_score: 0.023210831721470024\n",
      "thr: 0.74, f1_score: 0.023300970873786412\n",
      "thr: 0.75, f1_score: 0.019493177387914232\n",
      "thr: 0.76, f1_score: 0.01568627450980392\n",
      "thr: 0.77, f1_score: 0.01568627450980392\n",
      "thr: 0.78, f1_score: 0.011811023622047246\n",
      "thr: 0.79, f1_score: 0.011811023622047246\n",
      "thr: 0.8, f1_score: 0.011811023622047246\n",
      "thr: 0.81, f1_score: 0.011811023622047246\n",
      "thr: 0.8200000000000001, f1_score: 0.011811023622047246\n",
      "thr: 0.8300000000000001, f1_score: 0.007905138339920948\n",
      "thr: 0.8400000000000001, f1_score: 0.007905138339920948\n",
      "thr: 0.85, f1_score: 0.007920792079207921\n",
      "thr: 0.86, f1_score: 0.003968253968253968\n",
      "thr: 0.87, f1_score: 0.003968253968253968\n",
      "thr: 0.88, f1_score: 0.003976143141153081\n",
      "thr: 0.89, f1_score: 0.003984063745019919\n",
      "thr: 0.9, f1_score: 0.003984063745019919\n",
      "thr: 0.91, f1_score: 0.0\n",
      "thr: 0.92, f1_score: 0.0\n",
      "thr: 0.93, f1_score: 0.0\n",
      "thr: 0.9400000000000001, f1_score: 0.0\n",
      "thr: 0.9500000000000001, f1_score: 0.0\n",
      "thr: 0.9600000000000001, f1_score: 0.0\n",
      "thr: 0.97, f1_score: 0.0\n",
      "thr: 0.98, f1_score: 0.0\n",
      "thr: 0.99, f1_score: 0.0\n",
      "AUC:  0.8014102251287407\n",
      "Optimized thr: 0.13, f1 score: 0.34426229508196715\n"
     ]
    }
   ],
   "source": [
    "from sklearn.metrics import f1_score\n",
    "\n",
    "seed_ave_models = []\n",
    "oofs = []\n",
    "oof_scores = []\n",
    "for seed in [42]:\n",
    "    params = {\n",
    "        \"boosting_type\": \"gbdt\",\n",
    "        \"objective\": \"binary\",\n",
    "        \"metric\": \"auc\",\n",
    "        # \"num_leaves\": 31,\n",
    "        # \"learning_rate\": 0.01,\n",
    "        \"feature_fraction\": 0.9,  # ->これを加えるとseedの変更が有効になる\n",
    "        # \"bagging_fraction\": 0.8,\n",
    "        # \"bagging_freq\": 5,\n",
    "        \"verbose\": -1,\n",
    "        \"seed\": seed,\n",
    "    }\n",
    "    # params = {\"objective\": \"binary\", \"metric\": \"auc\", \"verbosity\": -1, \"seed\": seed}\n",
    "    # ↑の状態でseedだけ変えても、結果が変わらなかった\n",
    "    oof, models = get_lgbm_prediction(train, use_col, params)\n",
    "    oof_score = roc_auc_score(y_true=train.get_column(\"is_kokuhou\"), y_score=oof)\n",
    "\n",
    "    seed_ave_models.extend(models)\n",
    "    oofs.append(oof)\n",
    "    oof_scores.append(oof_score)\n",
    "\n",
    "# 0.01 から 0.99 まで 0.01 刻みで閾値を変えて、F1 score を計算する\n",
    "max_f1_score = 0\n",
    "\n",
    "oof_score_mean = np.mean(oof_scores)\n",
    "oof_mean = np.vstack(oofs).mean(axis=0)\n",
    "\n",
    "for thr in np.arange(0.01, 1, 0.01):\n",
    "    calc_f1_score = f1_score(\n",
    "        train.get_column(\"is_kokuhou\"), (oof_mean > thr).astype(int)\n",
    "    )\n",
    "    print(f\"thr: {thr}, f1_score: {calc_f1_score}\")\n",
    "    if max_f1_score < calc_f1_score:\n",
    "        max_f1_score = calc_f1_score\n",
    "        best_thr = thr\n",
    "print(\"AUC: \", oof_score_mean)\n",
    "print(f\"Optimized thr: {best_thr}, f1 score: {max_f1_score}\")"
   ]
  },
  {
   "cell_type": "code",
   "execution_count": 165,
   "metadata": {},
   "outputs": [
    {
     "data": {
      "text/plain": [
       "[array([0.0030705 , 0.21608731, 0.30389018, ..., 0.03861086, 0.21218213,\n",
       "        0.01417061])]"
      ]
     },
     "execution_count": 165,
     "metadata": {},
     "output_type": "execute_result"
    }
   ],
   "source": [
    "oofs"
   ]
  },
  {
   "cell_type": "code",
   "execution_count": 166,
   "metadata": {},
   "outputs": [],
   "source": [
    "oof_score_mean = np.mean(oof_scores)\n",
    "oof_mean = np.vstack(oofs).mean(axis=0)"
   ]
  },
  {
   "cell_type": "code",
   "execution_count": 167,
   "metadata": {},
   "outputs": [
    {
     "data": {
      "image/png": "[encoded data removed]",
      "text/plain": [
       "<Figure size 1200x600 with 1 Axes>"
      ]
     },
     "metadata": {},
     "output_type": "display_data"
    }
   ],
   "source": [
    "def visualize_importance(models: list, use_col: list) -> None:\n",
    "    \"\"\"lightGBM の model 配列の feature importance を plot する\n",
    "    CVごとのブレを boxen plot として表現します.\n",
    "\n",
    "    args:\n",
    "        models:\n",
    "            List of lightGBM models\n",
    "        feat_train_df:\n",
    "            学習時に使った DataFrame\n",
    "    \"\"\"\n",
    "    feature_importance_df = pd.DataFrame()\n",
    "    for i, model in enumerate(models):\n",
    "        _df = pd.DataFrame()\n",
    "        _df[\"feature_importance\"] = model.feature_importance()\n",
    "        _df[\"column\"] = use_col\n",
    "        _df[\"fold\"] = i + 1\n",
    "        feature_importance_df = pd.concat(\n",
    "            [feature_importance_df, _df], axis=0, ignore_index=True\n",
    "        )\n",
    "\n",
    "    order = (\n",
    "        feature_importance_df.groupby(\"column\")\n",
    "        .sum()[[\"feature_importance\"]]\n",
    "        .sort_values(\"feature_importance\", ascending=False)\n",
    "        .index[:50]\n",
    "    )\n",
    "\n",
    "    fig, ax = plt.subplots(figsize=(12, max(6, len(order) * 0.25)))\n",
    "    sns.boxenplot(\n",
    "        data=feature_importance_df,\n",
    "        x=\"feature_importance\",\n",
    "        y=\"column\",\n",
    "        order=order,\n",
    "        ax=ax,\n",
    "        palette=\"viridis\",\n",
    "        orient=\"h\",\n",
    "    )\n",
    "    ax.tick_params(axis=\"x\", rotation=90)\n",
    "    ax.set_title(\"Importance\")\n",
    "    ax.grid()\n",
    "    fig.tight_layout()\n",
    "    return fig, ax\n",
    "\n",
    "\n",
    "fig, ax = visualize_importance(seed_ave_models, use_col)"
   ]
  },
  {
   "cell_type": "code",
   "execution_count": 168,
   "metadata": {},
   "outputs": [],
   "source": [
    "# k 個のモデルの予測を作成. shape = (5, N_test,).\n",
    "pred = np.array(\n",
    "    [model.predict(test.select(use_col).to_pandas()) for model in seed_ave_models]\n",
    ")\n",
    "\n",
    "# k 個のモデルの予測値の平均 shape = (N_test,).\n",
    "pred = np.mean(pred, axis=0)  # axis=0 なので shape の `k` が潰れる"
   ]
  },
  {
   "cell_type": "code",
   "execution_count": 169,
   "metadata": {},
   "outputs": [
    {
     "data": {
      "image/png": "[encoded data removed]",
      "text/plain": [
       "<Figure size 800x600 with 1 Axes>"
      ]
     },
     "metadata": {},
     "output_type": "display_data"
    }
   ],
   "source": [
    "fig, ax = plt.subplots(figsize=(8, 6))\n",
    "\n",
    "vmax = 0.02\n",
    "# bins = np.linspace(0, 1, 0.1)\n",
    "ax.hist(pred, density=True, alpha=0.5, label=\"Test\")\n",
    "ax.hist(oof, density=True, alpha=0.5, label=\"OutOfFold\")\n",
    "ax.grid()\n",
    "ax.legend()\n",
    "ax.set_title(\"テストと学習時の予測傾向差分\")\n",
    "\n",
    "fig.tight_layout()"
   ]
  },
  {
   "cell_type": "code",
   "execution_count": 170,
   "metadata": {},
   "outputs": [],
   "source": [
    "train.with_columns(pl.Series(oof).cast(pl.Float64).alias(\"oof\")).write_csv(\n",
    "    f\"../oof/oof_{NOTEBOOK_NAME}_f1score_{max_f1_score:.4f}_auc_{oof_score:.4f}.csv\"\n",
    ")"
   ]
  },
  {
   "cell_type": "code",
   "execution_count": 171,
   "metadata": {},
   "outputs": [
    {
     "data": {
      "text/html": [
       "<div><style>\n",
       ".dataframe > thead > tr > th,\n",
       ".dataframe > tbody > tr > td {\n",
       "  text-align: right;\n",
       "}\n",
       "</style>\n",
       "<small>shape: (10_065, 1)</small><table border=\"1\" class=\"dataframe\"><thead><tr><th>is_kokuhou</th></tr><tr><td>i64</td></tr></thead><tbody><tr><td>0</td></tr><tr><td>1</td></tr><tr><td>1</td></tr><tr><td>0</td></tr><tr><td>0</td></tr><tr><td>1</td></tr><tr><td>0</td></tr><tr><td>0</td></tr><tr><td>0</td></tr><tr><td>0</td></tr><tr><td>1</td></tr><tr><td>0</td></tr><tr><td>&hellip;</td></tr><tr><td>0</td></tr><tr><td>0</td></tr><tr><td>0</td></tr><tr><td>0</td></tr><tr><td>0</td></tr><tr><td>0</td></tr><tr><td>0</td></tr><tr><td>1</td></tr><tr><td>0</td></tr><tr><td>0</td></tr><tr><td>0</td></tr><tr><td>0</td></tr></tbody></table></div>"
      ],
      "text/plain": [
       "shape: (10_065, 1)\n",
       "┌────────────┐\n",
       "│ is_kokuhou │\n",
       "│ ---        │\n",
       "│ i64        │\n",
       "╞════════════╡\n",
       "│ 0          │\n",
       "│ 1          │\n",
       "│ 1          │\n",
       "│ 0          │\n",
       "│ …          │\n",
       "│ 0          │\n",
       "│ 0          │\n",
       "│ 0          │\n",
       "│ 0          │\n",
       "└────────────┘"
      ]
     },
     "execution_count": 171,
     "metadata": {},
     "output_type": "execute_result"
    }
   ],
   "source": [
    "sample_submission.with_columns(pl.Series(\"is_kokuhou\", pred > best_thr).cast(int))"
   ]
  },
  {
   "cell_type": "code",
   "execution_count": 172,
   "metadata": {},
   "outputs": [
    {
     "data": {
      "text/html": [
       "<div><style>\n",
       ".dataframe > thead > tr > th,\n",
       ".dataframe > tbody > tr > td {\n",
       "  text-align: right;\n",
       "}\n",
       "</style>\n",
       "<small>shape: (10_065, 1)</small><table border=\"1\" class=\"dataframe\"><thead><tr><th>is_kokuhou</th></tr><tr><td>i64</td></tr></thead><tbody><tr><td>0</td></tr><tr><td>1</td></tr><tr><td>1</td></tr><tr><td>0</td></tr><tr><td>0</td></tr><tr><td>1</td></tr><tr><td>0</td></tr><tr><td>0</td></tr><tr><td>0</td></tr><tr><td>0</td></tr><tr><td>1</td></tr><tr><td>0</td></tr><tr><td>&hellip;</td></tr><tr><td>0</td></tr><tr><td>0</td></tr><tr><td>0</td></tr><tr><td>0</td></tr><tr><td>0</td></tr><tr><td>0</td></tr><tr><td>0</td></tr><tr><td>1</td></tr><tr><td>0</td></tr><tr><td>0</td></tr><tr><td>0</td></tr><tr><td>0</td></tr></tbody></table></div>"
      ],
      "text/plain": [
       "shape: (10_065, 1)\n",
       "┌────────────┐\n",
       "│ is_kokuhou │\n",
       "│ ---        │\n",
       "│ i64        │\n",
       "╞════════════╡\n",
       "│ 0          │\n",
       "│ 1          │\n",
       "│ 1          │\n",
       "│ 0          │\n",
       "│ …          │\n",
       "│ 0          │\n",
       "│ 0          │\n",
       "│ 0          │\n",
       "│ 0          │\n",
       "└────────────┘"
      ]
     },
     "execution_count": 172,
     "metadata": {},
     "output_type": "execute_result"
    }
   ],
   "source": [
    "sample_submission = sample_submission.with_columns(\n",
    "    pl.Series(\"is_kokuhou\", pred > best_thr).cast(int)\n",
    ")\n",
    "sample_submission"
   ]
  },
  {
   "cell_type": "code",
   "execution_count": 173,
   "metadata": {},
   "outputs": [
    {
     "data": {
      "text/plain": [
       "'../sub/e023_seed_ave_f1score_0.3443_auc_0.8014.csv'"
      ]
     },
     "execution_count": 173,
     "metadata": {},
     "output_type": "execute_result"
    }
   ],
   "source": [
    "sample_submission.write_csv(\n",
    "    f\"../sub/{NOTEBOOK_NAME}_f1score_{max_f1_score:.4f}_auc_{oof_score:.4f}.csv\"\n",
    ")\n",
    "f\"../sub/{NOTEBOOK_NAME}_f1score_{max_f1_score:.4f}_auc_{oof_score:.4f}.csv\""
   ]
  },
  {
   "cell_type": "code",
   "execution_count": null,
   "metadata": {},
   "outputs": [],
   "source": []
  }
 ],
 "metadata": {
  "kernelspec": {
   "display_name": ".venv",
   "language": "python",
   "name": "python3"
  },
  "language_info": {
   "codemirror_mode": {
    "name": "ipython",
    "version": 3
   },
   "file_extension": ".py",
   "mimetype": "text/x-python",
   "name": "python",
   "nbconvert_exporter": "python",
   "pygments_lexer": "ipython3",
   "version": "3.11.3"
  },
  "orig_nbformat": 4
 },
 "nbformat": 4,
 "nbformat_minor": 2
}
