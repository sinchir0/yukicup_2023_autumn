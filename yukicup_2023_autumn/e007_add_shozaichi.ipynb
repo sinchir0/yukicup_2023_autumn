{
 "cells": [
  {
   "cell_type": "code",
   "execution_count": 53,
   "metadata": {},
   "outputs": [],
   "source": [
    "NOTEBOOK_NAME = \"e007_add_shozaichi\""
   ]
  },
  {
   "cell_type": "code",
   "execution_count": 54,
   "metadata": {},
   "outputs": [],
   "source": [
    "import numpy as np\n",
    "import polars as pl\n",
    "import pandas as pd\n",
    "import lightgbm as lgb\n",
    "import matplotlib.pyplot as plt\n",
    "from sklearn.model_selection import StratifiedKFold\n",
    "from sklearn.metrics import roc_auc_score\n",
    "import seaborn as sns\n",
    "import japanize_matplotlib"
   ]
  },
  {
   "cell_type": "code",
   "execution_count": 55,
   "metadata": {},
   "outputs": [],
   "source": [
    "train = pl.read_csv(\"../data/train.csv\")\n",
    "test = pl.read_csv(\"../data/test.csv\")\n",
    "era = pl.read_csv(\"../data/era.csv\")\n",
    "sample_submission = pl.read_csv(\"../data/sample_submission.csv\")"
   ]
  },
  {
   "cell_type": "markdown",
   "metadata": {},
   "source": [
    "# 前処理"
   ]
  },
  {
   "cell_type": "code",
   "execution_count": 56,
   "metadata": {},
   "outputs": [],
   "source": [
    "import re\n",
    "\n",
    "\n",
    "def get_prefecture(text: str) -> str | None:\n",
    "    all_prefectures = (\n",
    "        \"北海道|青森県|岩手県|宮城県|秋田県|山形県|福島県|\"\n",
    "        + \"茨城県|栃木県|群馬県|埼玉県|千葉県|東京都|神奈川県|\"\n",
    "        + \"新潟県|富山県|石川県|福井県|山梨県|長野県|岐阜県|静岡県|愛知県|\"\n",
    "        + \"三重県|滋賀県|京都府|大阪府|兵庫県|奈良県|和歌山県|\"\n",
    "        + \"鳥取県|島根県|岡山県|広島県|山口県|\"\n",
    "        + \"徳島県|香川県|愛媛県|高知県|\"\n",
    "        + \"福岡県|佐賀県|長崎県|熊本県|大分県|宮崎県|鹿児島県|沖縄県\"\n",
    "    )\n",
    "    if match := re.search(all_prefectures, text):\n",
    "        return match.group(0)\n",
    "    else:\n",
    "        return None\n",
    "\n",
    "\n",
    "# 都道府県を抽出\n",
    "train = train.with_columns(\n",
    "    pl.col(\"都道府県 ※美工品は「所有者住所（所在都道府県）」\").apply(get_prefecture).alias(\"都道府県\")\n",
    ")\n",
    "test = test.with_columns(\n",
    "    pl.col(\"都道府県 ※美工品は「所有者住所（所在都道府県）」\").apply(get_prefecture).alias(\"都道府県\")\n",
    ")\n",
    "\n",
    "train = train.with_columns(pl.col(\"所在地\").apply(get_prefecture).alias(\"所在地_都道府県\"))\n",
    "test = test.with_columns(pl.col(\"所在地\").apply(get_prefecture).alias(\"所在地_都道府県\"))"
   ]
  },
  {
   "cell_type": "code",
   "execution_count": 57,
   "metadata": {},
   "outputs": [
    {
     "name": "stderr",
     "output_type": "stream",
     "text": [
      "/var/folders/4p/kqrm_mh10fn2pjkrxfzxh03c0000gq/T/ipykernel_19054/1010906722.py:32: PolarsInefficientApplyWarning: \n",
      "Expr.apply is significantly slower than the native expressions API.\n",
      "Only use if you absolutely CANNOT implement your logic otherwise.\n",
      "In this case, you can replace your `apply` with the following:\n",
      "  - pl.col(\"種別2\").apply(classify_kenzoubutu_bikouhin)\n",
      "  + pl.col(\"種別2\").is_in(kenzoubutu_feat) & '建造物' & '美工品'\n",
      "\n",
      "  pl.col(\"種別2\").apply(classify_kenzoubutu_bikouhin).alias(\"建造物_or_美工品\")\n",
      "/var/folders/4p/kqrm_mh10fn2pjkrxfzxh03c0000gq/T/ipykernel_19054/1010906722.py:35: PolarsInefficientApplyWarning: \n",
      "Expr.apply is significantly slower than the native expressions API.\n",
      "Only use if you absolutely CANNOT implement your logic otherwise.\n",
      "In this case, you can replace your `apply` with the following:\n",
      "  - pl.col(\"種別2\").apply(classify_kenzoubutu_bikouhin)\n",
      "  + pl.col(\"種別2\").is_in(kenzoubutu_feat) & '建造物' & '美工品'\n",
      "\n",
      "  pl.col(\"種別2\").apply(classify_kenzoubutu_bikouhin).alias(\"建造物_or_美工品\")\n"
     ]
    }
   ],
   "source": [
    "# 種別2より建造物か美工品かを分類する特徴を追加\n",
    "kenzoubutu_feat = [\n",
    "    \"近世以前／神社\",\n",
    "    \"近世以前／神社\",\n",
    "    \"近世以前／寺院\",\n",
    "    \"近世以前／城郭\",\n",
    "    \"近世以前／住宅\",\n",
    "    \"近世以前／民家\",\n",
    "    \"近世以前／その他\",\n",
    "    \"近代／宗教\",\n",
    "    \"近代／学校\",\n",
    "    \"近代／官公庁舎\",\n",
    "    \"近代／産業・交通・土木\",\n",
    "    \"近代／住居\",\n",
    "    \"近代／文化施設\",\n",
    "    \"近代／商業・業務\",\n",
    "    \"近代／その他\",\n",
    "]\n",
    "\n",
    "bikouhin_feat = [\"宝\", \"絵画\", \"彫刻\", \"工芸品\", \"書跡・典籍\", \"古文書\", \"考古資料\", \"歴史資料\"]\n",
    "\n",
    "\n",
    "def classify_kenzoubutu_bikouhin(text: str | None) -> str | None:\n",
    "    if text in kenzoubutu_feat:\n",
    "        return \"建造物\"\n",
    "    elif text in bikouhin_feat:\n",
    "        return \"美工品\"\n",
    "    return None\n",
    "\n",
    "\n",
    "train = train.with_columns(\n",
    "    pl.col(\"種別2\").apply(classify_kenzoubutu_bikouhin).alias(\"建造物_or_美工品\")\n",
    ")\n",
    "test = test.with_columns(\n",
    "    pl.col(\"種別2\").apply(classify_kenzoubutu_bikouhin).alias(\"建造物_or_美工品\")\n",
    ")"
   ]
  },
  {
   "cell_type": "code",
   "execution_count": 58,
   "metadata": {},
   "outputs": [
    {
     "name": "stderr",
     "output_type": "stream",
     "text": [
      "/var/folders/4p/kqrm_mh10fn2pjkrxfzxh03c0000gq/T/ipykernel_19054/808284332.py:34: PolarsInefficientApplyWarning: \n",
      "Expr.apply is significantly slower than the native expressions API.\n",
      "Only use if you absolutely CANNOT implement your logic otherwise.\n",
      "In this case, you can replace your `apply` with the following:\n",
      "  - pl.col(\"種別2\").apply(classify_kenzoubutu_genre)\n",
      "  + (pl.col(\"種別2\") == '近世以前／神社') & '神社' & '寺院' & '城郭' & '住宅' & '民家' & 'その他' & '宗教' & '学校' & '官公庁舎' & '産業・交通・土木' & '住居' & '文化施設' & '商業・業務' & 'その他'\n",
      "\n",
      "  pl.col(\"種別2\").apply(classify_kenzoubutu_genre).alias(\"建造物_種類\")\n",
      "/var/folders/4p/kqrm_mh10fn2pjkrxfzxh03c0000gq/T/ipykernel_19054/808284332.py:36: PolarsInefficientApplyWarning: \n",
      "Expr.apply is significantly slower than the native expressions API.\n",
      "Only use if you absolutely CANNOT implement your logic otherwise.\n",
      "In this case, you can replace your `apply` with the following:\n",
      "  - pl.col(\"種別2\").apply(classify_kenzoubutu_genre)\n",
      "  + (pl.col(\"種別2\") == '近世以前／神社') & '神社' & '寺院' & '城郭' & '住宅' & '民家' & 'その他' & '宗教' & '学校' & '官公庁舎' & '産業・交通・土木' & '住居' & '文化施設' & '商業・業務' & 'その他'\n",
      "\n",
      "  test = test.with_columns(pl.col(\"種別2\").apply(classify_kenzoubutu_genre).alias(\"建造物_種類\"))\n"
     ]
    }
   ],
   "source": [
    "def classify_kenzoubutu_genre(text: str | None) -> str | None:\n",
    "    if text == \"近世以前／神社\":\n",
    "        return \"神社\"\n",
    "    elif text == \"近世以前／寺院\":\n",
    "        return \"寺院\"\n",
    "    elif text == \"近世以前／城郭\":\n",
    "        return \"城郭\"\n",
    "    elif text == \"近世以前／住宅\":\n",
    "        return \"住宅\"\n",
    "    elif text == \"近世以前／民家\":\n",
    "        return \"民家\"\n",
    "    elif text == \"近世以前／その他\":\n",
    "        return \"その他\"\n",
    "    elif text == \"近代／宗教\":\n",
    "        return \"宗教\"\n",
    "    elif text == \"近代／学校\":\n",
    "        return \"学校\"\n",
    "    elif text == \"近代／官公庁舎\":\n",
    "        return \"官公庁舎\"\n",
    "    elif text == \"近代／産業・交通・土木\":\n",
    "        return \"産業・交通・土木\"\n",
    "    elif text == \"近代／住居\":\n",
    "        return \"住居\"\n",
    "    elif text == \"近代／文化施設\":\n",
    "        return \"文化施設\"\n",
    "    elif text == \"近代／商業・業務\":\n",
    "        return \"商業・業務\"\n",
    "    elif text == \"近代／その他\":\n",
    "        return \"その他\"  # ここはその他で被っている\n",
    "    return None\n",
    "\n",
    "\n",
    "train = train.with_columns(\n",
    "    pl.col(\"種別2\").apply(classify_kenzoubutu_genre).alias(\"建造物_種類\")\n",
    ")\n",
    "test = test.with_columns(pl.col(\"種別2\").apply(classify_kenzoubutu_genre).alias(\"建造物_種類\"))"
   ]
  },
  {
   "cell_type": "code",
   "execution_count": 59,
   "metadata": {},
   "outputs": [],
   "source": [
    "# 時代を取得する\n",
    "import re\n",
    "\n",
    "\n",
    "def get_era(text: str) -> str | None:\n",
    "    all_era = [\n",
    "        \"鎌倉\",\n",
    "        \"元\",\n",
    "        \"古墳\",\n",
    "        \"江戸\",\n",
    "        \"高麗\",\n",
    "        \"室町\",\n",
    "        \"昭和\",\n",
    "        \"大正\",\n",
    "        \"唐\",\n",
    "        \"桃山\",\n",
    "        \"奈良\",\n",
    "        \"縄文\",\n",
    "        \"縄文\",\n",
    "        \"南宋\",\n",
    "        \"南北朝\",\n",
    "        \"飛鳥\",\n",
    "        \"平安\",\n",
    "        \"北宋\",\n",
    "        \"明治\",\n",
    "        \"弥生\",\n",
    "        \"明\",\n",
    "    ]\n",
    "    for era in all_era:\n",
    "        if era in text:\n",
    "            return era\n",
    "    return None\n",
    "\n",
    "\n",
    "# 時代を抽出\n",
    "train = train.with_columns(pl.col(\"時代\").apply(get_era).alias(\"時代_抽出\"))\n",
    "test = test.with_columns(pl.col(\"時代\").apply(get_era).alias(\"時代_抽出\"))"
   ]
  },
  {
   "cell_type": "code",
   "execution_count": 60,
   "metadata": {},
   "outputs": [],
   "source": [
    "def get_shoyusya_genre(text: str) -> str | None:\n",
    "    words = [\n",
    "        \"神宮\",\n",
    "        \"八幡宮\",\n",
    "        \"神社\",\n",
    "        \"株式会社\",\n",
    "        \"有限会社\",\n",
    "        \"研究機構\",\n",
    "        \"独立行政法人\",\n",
    "        \"公益財団法人\",\n",
    "        \"財団法人\",\n",
    "        \"学校法人\",\n",
    "        \"大学\",\n",
    "        \"県\",\n",
    "        \"市\",\n",
    "        \"区\",\n",
    "        \"国\",\n",
    "        \"寺\",\n",
    "    ]\n",
    "    for word in words:\n",
    "        if word in text:\n",
    "            return word\n",
    "    return None\n",
    "\n",
    "\n",
    "train = train.with_columns(pl.col(\"所有者名\").apply(get_shoyusya_genre).alias(\"所有者名_genre\"))\n",
    "test = test.with_columns(pl.col(\"所有者名\").apply(get_shoyusya_genre).alias(\"所有者名_genre\"))"
   ]
  },
  {
   "cell_type": "code",
   "execution_count": 61,
   "metadata": {},
   "outputs": [],
   "source": [
    "# 抽出した時代と、era.csvを紐づける\n",
    "train = train.join(era, left_on=\"時代_抽出\", right_on=\"時代\", how=\"left\")\n",
    "test = test.join(era, left_on=\"時代_抽出\", right_on=\"時代\", how=\"left\")\n",
    "\n",
    "# 開始 -終了の期間を計算する\n",
    "train = train.with_columns((pl.col(\"終了\") - pl.col(\"開始\")).alias(\"時代_期間\"))\n",
    "\n",
    "test = test.with_columns((pl.col(\"終了\") - pl.col(\"開始\")).alias(\"時代_期間\"))"
   ]
  },
  {
   "cell_type": "markdown",
   "metadata": {},
   "source": [
    "# データ型の変更"
   ]
  },
  {
   "cell_type": "code",
   "execution_count": 62,
   "metadata": {},
   "outputs": [],
   "source": [
    "categorical_cols = [\n",
    "    \"棟名\",\n",
    "    \"種別2\",\n",
    "    \"国\",\n",
    "    \"都道府県 ※美工品は「所有者住所（所在都道府県）」\",\n",
    "    \"時代\",\n",
    "    \"保管施設の名称\",\n",
    "    \"所有者名\",\n",
    "    \"管理団体又は責任者\",\n",
    "    \"都道府県\",\n",
    "    \"所在地\",\n",
    "    \"所在地_都道府県\",\n",
    "    \"建造物_or_美工品\",\n",
    "    \"建造物_種類\",\n",
    "    \"時代_抽出\",\n",
    "    \"所有者名_genre\",\n",
    "]"
   ]
  },
  {
   "cell_type": "code",
   "execution_count": 63,
   "metadata": {},
   "outputs": [],
   "source": [
    "for col in categorical_cols:\n",
    "    train = train.with_columns(pl.col(col).cast(pl.Categorical).alias(col))\n",
    "    test = test.with_columns(pl.col(col).cast(pl.Categorical).alias(col))"
   ]
  },
  {
   "cell_type": "markdown",
   "metadata": {},
   "source": [
    "# Fold"
   ]
  },
  {
   "cell_type": "code",
   "execution_count": 64,
   "metadata": {},
   "outputs": [],
   "source": [
    "FOLD_NUM = 5"
   ]
  },
  {
   "cell_type": "code",
   "execution_count": 65,
   "metadata": {},
   "outputs": [],
   "source": [
    "empty = np.zeros(train.height)\n",
    "fold = StratifiedKFold(n_splits=FOLD_NUM, shuffle=True, random_state=33)\n",
    "\n",
    "for idx, (_, val_idx) in enumerate(fold.split(train, train.get_column(\"is_kokuhou\"))):\n",
    "    empty[val_idx] = idx\n",
    "\n",
    "train = train.with_columns(pl.Series(empty).cast(pl.Int64).alias(\"fold\"))"
   ]
  },
  {
   "cell_type": "markdown",
   "metadata": {},
   "source": [
    "# LightGBM"
   ]
  },
  {
   "cell_type": "code",
   "execution_count": 66,
   "metadata": {},
   "outputs": [
    {
     "data": {
      "text/plain": [
       "20"
      ]
     },
     "execution_count": 66,
     "metadata": {},
     "output_type": "execute_result"
    }
   ],
   "source": [
    "use_col = []\n",
    "\n",
    "base_col = [\"緯度\", \"経度\", \"開始\", \"終了\", \"時代_期間\"]\n",
    "\n",
    "use_col += base_col\n",
    "use_col += categorical_cols\n",
    "\n",
    "len(use_col)"
   ]
  },
  {
   "cell_type": "code",
   "execution_count": 67,
   "metadata": {},
   "outputs": [
    {
     "data": {
      "text/plain": [
       "['緯度',\n",
       " '経度',\n",
       " '開始',\n",
       " '終了',\n",
       " '時代_期間',\n",
       " '棟名',\n",
       " '種別2',\n",
       " '国',\n",
       " '都道府県 ※美工品は「所有者住所（所在都道府県）」',\n",
       " '時代',\n",
       " '保管施設の名称',\n",
       " '所有者名',\n",
       " '管理団体又は責任者',\n",
       " '都道府県',\n",
       " '所在地',\n",
       " '所在地_都道府県',\n",
       " '建造物_or_美工品',\n",
       " '建造物_種類',\n",
       " '時代_抽出',\n",
       " '所有者名_genre']"
      ]
     },
     "execution_count": 67,
     "metadata": {},
     "output_type": "execute_result"
    }
   ],
   "source": [
    "use_col"
   ]
  },
  {
   "cell_type": "code",
   "execution_count": 68,
   "metadata": {},
   "outputs": [],
   "source": [
    "# LightGBMで用いるパラメーターを指定\n",
    "# ref: https://lightgbm.readthedocs.io/en/v3.3.5/Parameters.html\n",
    "params = {\"objective\": \"binary\", \"metric\": \"auc\", \"verbose\": -1, \"seed\": 33}"
   ]
  },
  {
   "cell_type": "code",
   "execution_count": 69,
   "metadata": {},
   "outputs": [
    {
     "name": "stdout",
     "output_type": "stream",
     "text": [
      "Start fold 0\n",
      "Training until validation scores don't improve for 100 rounds\n",
      "Early stopping, best iteration is:\n",
      "[126]\ttraining's auc: 0.982815\tvalid_1's auc: 0.84568\n",
      "fold 0 Score: 0.8456803542673108\n",
      "Start fold 1\n",
      "Training until validation scores don't improve for 100 rounds\n",
      "Early stopping, best iteration is:\n",
      "[46]\ttraining's auc: 0.958402\tvalid_1's auc: 0.809457\n",
      "fold 1 Score: 0.8094565217391304\n",
      "Start fold 2\n",
      "Training until validation scores don't improve for 100 rounds\n",
      "Early stopping, best iteration is:\n",
      "[62]\ttraining's auc: 0.966117\tvalid_1's auc: 0.839207\n",
      "fold 2 Score: 0.8392069243156199\n",
      "Start fold 3\n",
      "Training until validation scores don't improve for 100 rounds\n",
      "Early stopping, best iteration is:\n",
      "[24]\ttraining's auc: 0.937481\tvalid_1's auc: 0.81473\n",
      "fold 3 Score: 0.814730273752013\n",
      "Start fold 4\n",
      "Training until validation scores don't improve for 100 rounds\n",
      "Early stopping, best iteration is:\n",
      "[239]\ttraining's auc: 0.990758\tvalid_1's auc: 0.797149\n",
      "fold 4 Score: 0.7971493765009054\n"
     ]
    }
   ],
   "source": [
    "# 学習データ全体に対する推論結果を保存するobjectを作成\n",
    "oof = np.zeros((len(train)))\n",
    "\n",
    "# テストデータに対する推論、特徴量重要度(後述)を計算するために、モデルを保存するobjectを作成\n",
    "models = []\n",
    "\n",
    "# Cross Validationによる学習の実施\n",
    "for fold in range(FOLD_NUM):\n",
    "    print(f\"Start fold {fold}\")\n",
    "\n",
    "    # polarsをpandasに変換\n",
    "    train_pd = train.to_pandas()\n",
    "\n",
    "    # foldごとにtrainとvalidに分ける\n",
    "    train_fold = train_pd[train_pd[\"fold\"] != fold]\n",
    "    valid_fold = train_pd[train_pd[\"fold\"] == fold]\n",
    "\n",
    "    # X(説明変数)とy(目的変数)に分ける\n",
    "    X_train = train_fold.drop(\"is_kokuhou\", axis=1)\n",
    "    X_valid = valid_fold.drop(\"is_kokuhou\", axis=1)\n",
    "    y_train = train_fold[[\"is_kokuhou\"]]\n",
    "    y_valid = valid_fold[[\"is_kokuhou\"]]\n",
    "\n",
    "    # 利用する説明変数に限定する\n",
    "    X_train = X_train[use_col]\n",
    "    X_valid = X_valid[use_col]\n",
    "\n",
    "    # LightGBMが認識可能な形にデータセットを変換\n",
    "    lgb_train = lgb.Dataset(X_train, y_train)\n",
    "    lgb_eval = lgb.Dataset(X_valid, y_valid, reference=lgb_train)\n",
    "\n",
    "    # モデルの学習\n",
    "    model = lgb.train(\n",
    "        params,\n",
    "        lgb_train,\n",
    "        num_boost_round=10000,  # 学習のiteration回数\n",
    "        valid_sets=[lgb_train, lgb_eval],\n",
    "        callbacks=[\n",
    "            lgb.early_stopping(stopping_rounds=100)\n",
    "        ],  # Early stopingの回数、binary_loglossが改善しないiterationが100回続いたら学習を止める\n",
    "    )\n",
    "\n",
    "    # モデルを保存\n",
    "    models.append(model)\n",
    "\n",
    "    # validデータに対する推論\n",
    "    y_valid_pred = model.predict(X_valid, num_iteration=model.best_iteration)\n",
    "\n",
    "    # validデータに対する推論の性能を計算\n",
    "    calc_f1_score = roc_auc_score(y_valid, y_valid_pred)\n",
    "    print(f\"fold {fold} Score: {calc_f1_score}\")\n",
    "\n",
    "    # oofに推論結果を保存\n",
    "    valid_idx = X_valid.index\n",
    "    oof[valid_idx] = y_valid_pred"
   ]
  },
  {
   "cell_type": "code",
   "execution_count": 70,
   "metadata": {},
   "outputs": [
    {
     "data": {
      "text/plain": [
       "0.8032858425522929"
      ]
     },
     "execution_count": 70,
     "metadata": {},
     "output_type": "execute_result"
    }
   ],
   "source": [
    "oof_score = roc_auc_score(y_true=train.get_column(\"is_kokuhou\"), y_score=oof)\n",
    "oof_score"
   ]
  },
  {
   "cell_type": "code",
   "execution_count": 71,
   "metadata": {},
   "outputs": [
    {
     "name": "stdout",
     "output_type": "stream",
     "text": [
      "thr: 0.01, f1_score: 0.20147750167897918\n",
      "thr: 0.02, f1_score: 0.24307159353348728\n",
      "thr: 0.03, f1_score: 0.2712090848363393\n",
      "thr: 0.04, f1_score: 0.2886209495101733\n",
      "thr: 0.05, f1_score: 0.3039337474120083\n",
      "thr: 0.060000000000000005, f1_score: 0.3158371040723982\n",
      "thr: 0.06999999999999999, f1_score: 0.33056234718826405\n",
      "thr: 0.08, f1_score: 0.34064785788923724\n",
      "thr: 0.09, f1_score: 0.3427307904919845\n",
      "thr: 0.09999999999999999, f1_score: 0.344424985405721\n",
      "thr: 0.11, f1_score: 0.33964569334147826\n",
      "thr: 0.12, f1_score: 0.3449612403100775\n",
      "thr: 0.13, f1_score: 0.3415941058271936\n",
      "thr: 0.14, f1_score: 0.3465553235908142\n",
      "thr: 0.15000000000000002, f1_score: 0.3448275862068965\n",
      "thr: 0.16, f1_score: 0.34644478063540096\n",
      "thr: 0.17, f1_score: 0.35257410296411856\n",
      "thr: 0.18000000000000002, f1_score: 0.35189669087974174\n",
      "thr: 0.19, f1_score: 0.3476764199655766\n",
      "thr: 0.2, f1_score: 0.34728406055209265\n",
      "thr: 0.21000000000000002, f1_score: 0.34495412844036694\n",
      "thr: 0.22, f1_score: 0.34600760456273766\n",
      "thr: 0.23, f1_score: 0.3501945525291829\n",
      "thr: 0.24000000000000002, f1_score: 0.3436563436563436\n",
      "thr: 0.25, f1_score: 0.3371488033298647\n",
      "thr: 0.26, f1_score: 0.3343982960596379\n",
      "thr: 0.27, f1_score: 0.33297297297297296\n",
      "thr: 0.28, f1_score: 0.32300884955752207\n",
      "thr: 0.29000000000000004, f1_score: 0.3212669683257919\n",
      "thr: 0.3, f1_score: 0.3222094361334868\n",
      "thr: 0.31, f1_score: 0.317016317016317\n",
      "thr: 0.32, f1_score: 0.30969267139479906\n",
      "thr: 0.33, f1_score: 0.30787589498806683\n",
      "thr: 0.34, f1_score: 0.2909535452322739\n",
      "thr: 0.35000000000000003, f1_score: 0.2828784119106699\n",
      "thr: 0.36000000000000004, f1_score: 0.27169811320754716\n",
      "thr: 0.37, f1_score: 0.26785714285714285\n",
      "thr: 0.38, f1_score: 0.26753246753246757\n",
      "thr: 0.39, f1_score: 0.2657894736842105\n",
      "thr: 0.4, f1_score: 0.2613333333333333\n",
      "thr: 0.41000000000000003, f1_score: 0.2469470827679783\n",
      "thr: 0.42000000000000004, f1_score: 0.23835616438356164\n",
      "thr: 0.43, f1_score: 0.23236514522821577\n",
      "thr: 0.44, f1_score: 0.2300140252454418\n",
      "thr: 0.45, f1_score: 0.21843971631205672\n",
      "thr: 0.46, f1_score: 0.2170767004341534\n",
      "thr: 0.47000000000000003, f1_score: 0.20588235294117646\n",
      "thr: 0.48000000000000004, f1_score: 0.1937406855439642\n",
      "thr: 0.49, f1_score: 0.18401206636500753\n",
      "thr: 0.5, f1_score: 0.17592592592592593\n",
      "thr: 0.51, f1_score: 0.1684867394695788\n",
      "thr: 0.52, f1_score: 0.1640378548895899\n",
      "thr: 0.53, f1_score: 0.1526232114467409\n",
      "thr: 0.54, f1_score: 0.14193548387096774\n",
      "thr: 0.55, f1_score: 0.13983739837398373\n",
      "thr: 0.56, f1_score: 0.1342062193126023\n",
      "thr: 0.5700000000000001, f1_score: 0.12353923205342235\n",
      "thr: 0.5800000000000001, f1_score: 0.12457912457912457\n",
      "thr: 0.59, f1_score: 0.12203389830508474\n",
      "thr: 0.6, f1_score: 0.11965811965811966\n",
      "thr: 0.61, f1_score: 0.11764705882352942\n",
      "thr: 0.62, f1_score: 0.11169284467713785\n",
      "thr: 0.63, f1_score: 0.11228070175438597\n",
      "thr: 0.64, f1_score: 0.10582010582010581\n",
      "thr: 0.65, f1_score: 0.09608540925266905\n",
      "thr: 0.66, f1_score: 0.08960573476702509\n",
      "thr: 0.67, f1_score: 0.08960573476702509\n",
      "thr: 0.68, f1_score: 0.08960573476702509\n",
      "thr: 0.6900000000000001, f1_score: 0.08633093525179857\n",
      "thr: 0.7000000000000001, f1_score: 0.08664259927797834\n",
      "thr: 0.7100000000000001, f1_score: 0.08318264014466546\n",
      "thr: 0.72, f1_score: 0.08348457350272231\n",
      "thr: 0.73, f1_score: 0.08000000000000002\n",
      "thr: 0.74, f1_score: 0.07720588235294118\n",
      "thr: 0.75, f1_score: 0.07393715341959335\n",
      "thr: 0.76, f1_score: 0.06679035250463822\n",
      "thr: 0.77, f1_score: 0.06691449814126395\n",
      "thr: 0.78, f1_score: 0.06367041198501873\n",
      "thr: 0.79, f1_score: 0.06390977443609022\n",
      "thr: 0.8, f1_score: 0.06390977443609022\n",
      "thr: 0.81, f1_score: 0.06049149338374291\n",
      "thr: 0.8200000000000001, f1_score: 0.05681818181818182\n",
      "thr: 0.8300000000000001, f1_score: 0.05333333333333334\n",
      "thr: 0.8400000000000001, f1_score: 0.049713193116634795\n",
      "thr: 0.85, f1_score: 0.046065259117082535\n",
      "thr: 0.86, f1_score: 0.0423076923076923\n",
      "thr: 0.87, f1_score: 0.03853564547206166\n",
      "thr: 0.88, f1_score: 0.03488372093023255\n",
      "thr: 0.89, f1_score: 0.03495145631067961\n",
      "thr: 0.9, f1_score: 0.023529411764705882\n",
      "thr: 0.91, f1_score: 0.02357563850687623\n",
      "thr: 0.92, f1_score: 0.02357563850687623\n",
      "thr: 0.93, f1_score: 0.02357563850687623\n",
      "thr: 0.9400000000000001, f1_score: 0.01968503937007874\n",
      "thr: 0.9500000000000001, f1_score: 0.01968503937007874\n",
      "thr: 0.9600000000000001, f1_score: 0.01968503937007874\n",
      "thr: 0.97, f1_score: 0.015841584158415842\n",
      "thr: 0.98, f1_score: 0.007952286282306162\n",
      "thr: 0.99, f1_score: 0.0\n",
      "Optimized thr: 0.17, f1 score: 0.35257410296411856\n"
     ]
    }
   ],
   "source": [
    "from sklearn.metrics import f1_score\n",
    "\n",
    "# 0.01 から 0.99 まで 0.01 刻みで閾値を変えて、F1 score を計算する\n",
    "max_f1_score = 0\n",
    "\n",
    "for thr in np.arange(0.01, 1, 0.01):\n",
    "    calc_f1_score = f1_score(train.get_column(\"is_kokuhou\"), (oof > thr).astype(int))\n",
    "    print(f\"thr: {thr}, f1_score: {calc_f1_score}\")\n",
    "    if max_f1_score < calc_f1_score:\n",
    "        max_f1_score = calc_f1_score\n",
    "        best_thr = thr\n",
    "\n",
    "print(f\"Optimized thr: {best_thr}, f1 score: {max_f1_score}\")"
   ]
  },
  {
   "cell_type": "code",
   "execution_count": 72,
   "metadata": {},
   "outputs": [
    {
     "data": {
      "image/png": "[encoded data removed]",
      "text/plain": [
       "<Figure size 1200x600 with 1 Axes>"
      ]
     },
     "metadata": {},
     "output_type": "display_data"
    }
   ],
   "source": [
    "def visualize_importance(models: list, use_col: list) -> None:\n",
    "    \"\"\"lightGBM の model 配列の feature importance を plot する\n",
    "    CVごとのブレを boxen plot として表現します.\n",
    "\n",
    "    args:\n",
    "        models:\n",
    "            List of lightGBM models\n",
    "        feat_train_df:\n",
    "            学習時に使った DataFrame\n",
    "    \"\"\"\n",
    "    feature_importance_df = pd.DataFrame()\n",
    "    for i, model in enumerate(models):\n",
    "        _df = pd.DataFrame()\n",
    "        _df[\"feature_importance\"] = model.feature_importance()\n",
    "        _df[\"column\"] = use_col\n",
    "        _df[\"fold\"] = i + 1\n",
    "        feature_importance_df = pd.concat(\n",
    "            [feature_importance_df, _df], axis=0, ignore_index=True\n",
    "        )\n",
    "\n",
    "    order = (\n",
    "        feature_importance_df.groupby(\"column\")\n",
    "        .sum()[[\"feature_importance\"]]\n",
    "        .sort_values(\"feature_importance\", ascending=False)\n",
    "        .index[:50]\n",
    "    )\n",
    "\n",
    "    fig, ax = plt.subplots(figsize=(12, max(6, len(order) * 0.25)))\n",
    "    sns.boxenplot(\n",
    "        data=feature_importance_df,\n",
    "        x=\"feature_importance\",\n",
    "        y=\"column\",\n",
    "        order=order,\n",
    "        ax=ax,\n",
    "        palette=\"viridis\",\n",
    "        orient=\"h\",\n",
    "    )\n",
    "    ax.tick_params(axis=\"x\", rotation=90)\n",
    "    ax.set_title(\"Importance\")\n",
    "    ax.grid()\n",
    "    fig.tight_layout()\n",
    "    return fig, ax\n",
    "\n",
    "\n",
    "fig, ax = visualize_importance(models, use_col)"
   ]
  },
  {
   "cell_type": "code",
   "execution_count": 73,
   "metadata": {},
   "outputs": [],
   "source": [
    "# k 個のモデルの予測を作成. shape = (5, N_test,).\n",
    "pred = np.array([model.predict(test.select(use_col).to_pandas()) for model in models])\n",
    "\n",
    "# k 個のモデルの予測値の平均 shape = (N_test,).\n",
    "pred = np.mean(pred, axis=0)  # axis=0 なので shape の `k` が潰れる"
   ]
  },
  {
   "cell_type": "code",
   "execution_count": 74,
   "metadata": {},
   "outputs": [
    {
     "data": {
      "image/png": "[encoded data removed]",
      "text/plain": [
       "<Figure size 800x600 with 1 Axes>"
      ]
     },
     "metadata": {},
     "output_type": "display_data"
    }
   ],
   "source": [
    "fig, ax = plt.subplots(figsize=(8, 6))\n",
    "\n",
    "vmax = 0.02\n",
    "# bins = np.linspace(0, 1, 0.1)\n",
    "ax.hist(pred, density=True, alpha=0.5, label=\"Test\")\n",
    "ax.hist(oof, density=True, alpha=0.5, label=\"OutOfFold\")\n",
    "ax.grid()\n",
    "ax.legend()\n",
    "ax.set_title(\"テストと学習時の予測傾向差分\")\n",
    "\n",
    "fig.tight_layout()"
   ]
  },
  {
   "cell_type": "code",
   "execution_count": 75,
   "metadata": {},
   "outputs": [],
   "source": [
    "train.with_columns(pl.Series(oof).cast(pl.Float64).alias(\"oof\")).write_csv(\n",
    "    f\"../oof/oof_{NOTEBOOK_NAME}_f1score_{max_f1_score:.4f}_auc_{oof_score:.4f}.csv\"\n",
    ")"
   ]
  },
  {
   "cell_type": "code",
   "execution_count": 76,
   "metadata": {},
   "outputs": [
    {
     "data": {
      "text/html": [
       "<div><style>\n",
       ".dataframe > thead > tr > th,\n",
       ".dataframe > tbody > tr > td {\n",
       "  text-align: right;\n",
       "}\n",
       "</style>\n",
       "<small>shape: (10_065, 1)</small><table border=\"1\" class=\"dataframe\"><thead><tr><th>is_kokuhou</th></tr><tr><td>i64</td></tr></thead><tbody><tr><td>0</td></tr><tr><td>1</td></tr><tr><td>1</td></tr><tr><td>0</td></tr><tr><td>0</td></tr><tr><td>1</td></tr><tr><td>1</td></tr><tr><td>0</td></tr><tr><td>0</td></tr><tr><td>0</td></tr><tr><td>0</td></tr><tr><td>0</td></tr><tr><td>&hellip;</td></tr><tr><td>0</td></tr><tr><td>0</td></tr><tr><td>0</td></tr><tr><td>0</td></tr><tr><td>0</td></tr><tr><td>0</td></tr><tr><td>0</td></tr><tr><td>0</td></tr><tr><td>0</td></tr><tr><td>0</td></tr><tr><td>0</td></tr><tr><td>0</td></tr></tbody></table></div>"
      ],
      "text/plain": [
       "shape: (10_065, 1)\n",
       "┌────────────┐\n",
       "│ is_kokuhou │\n",
       "│ ---        │\n",
       "│ i64        │\n",
       "╞════════════╡\n",
       "│ 0          │\n",
       "│ 1          │\n",
       "│ 1          │\n",
       "│ 0          │\n",
       "│ …          │\n",
       "│ 0          │\n",
       "│ 0          │\n",
       "│ 0          │\n",
       "│ 0          │\n",
       "└────────────┘"
      ]
     },
     "execution_count": 76,
     "metadata": {},
     "output_type": "execute_result"
    }
   ],
   "source": [
    "sample_submission.with_columns(pl.Series(\"is_kokuhou\", pred > best_thr).cast(int))"
   ]
  },
  {
   "cell_type": "code",
   "execution_count": 77,
   "metadata": {},
   "outputs": [
    {
     "data": {
      "text/html": [
       "<div><style>\n",
       ".dataframe > thead > tr > th,\n",
       ".dataframe > tbody > tr > td {\n",
       "  text-align: right;\n",
       "}\n",
       "</style>\n",
       "<small>shape: (10_065, 1)</small><table border=\"1\" class=\"dataframe\"><thead><tr><th>is_kokuhou</th></tr><tr><td>i64</td></tr></thead><tbody><tr><td>0</td></tr><tr><td>1</td></tr><tr><td>1</td></tr><tr><td>0</td></tr><tr><td>0</td></tr><tr><td>1</td></tr><tr><td>1</td></tr><tr><td>0</td></tr><tr><td>0</td></tr><tr><td>0</td></tr><tr><td>0</td></tr><tr><td>0</td></tr><tr><td>&hellip;</td></tr><tr><td>0</td></tr><tr><td>0</td></tr><tr><td>0</td></tr><tr><td>0</td></tr><tr><td>0</td></tr><tr><td>0</td></tr><tr><td>0</td></tr><tr><td>0</td></tr><tr><td>0</td></tr><tr><td>0</td></tr><tr><td>0</td></tr><tr><td>0</td></tr></tbody></table></div>"
      ],
      "text/plain": [
       "shape: (10_065, 1)\n",
       "┌────────────┐\n",
       "│ is_kokuhou │\n",
       "│ ---        │\n",
       "│ i64        │\n",
       "╞════════════╡\n",
       "│ 0          │\n",
       "│ 1          │\n",
       "│ 1          │\n",
       "│ 0          │\n",
       "│ …          │\n",
       "│ 0          │\n",
       "│ 0          │\n",
       "│ 0          │\n",
       "│ 0          │\n",
       "└────────────┘"
      ]
     },
     "execution_count": 77,
     "metadata": {},
     "output_type": "execute_result"
    }
   ],
   "source": [
    "sample_submission = sample_submission.with_columns(\n",
    "    pl.Series(\"is_kokuhou\", pred > best_thr).cast(int)\n",
    ")\n",
    "sample_submission"
   ]
  },
  {
   "cell_type": "code",
   "execution_count": 78,
   "metadata": {},
   "outputs": [],
   "source": [
    "sample_submission.write_csv(\n",
    "    f\"../sub/{NOTEBOOK_NAME}_f1score_{max_f1_score:.4f}_auc_{oof_score:.4f}.csv\"\n",
    ")"
   ]
  },
  {
   "cell_type": "code",
   "execution_count": null,
   "metadata": {},
   "outputs": [],
   "source": []
  }
 ],
 "metadata": {
  "kernelspec": {
   "display_name": ".venv",
   "language": "python",
   "name": "python3"
  },
  "language_info": {
   "codemirror_mode": {
    "name": "ipython",
    "version": 3
   },
   "file_extension": ".py",
   "mimetype": "text/x-python",
   "name": "python",
   "nbconvert_exporter": "python",
   "pygments_lexer": "ipython3",
   "version": "3.11.3"
  },
  "orig_nbformat": 4
 },
 "nbformat": 4,
 "nbformat_minor": 2
}
