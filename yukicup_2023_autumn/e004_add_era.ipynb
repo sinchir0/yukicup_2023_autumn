{
 "cells": [
  {
   "cell_type": "code",
   "execution_count": 59,
   "metadata": {},
   "outputs": [],
   "source": [
    "NOTEBOOK_NAME = \"e004_add_era\""
   ]
  },
  {
   "cell_type": "code",
   "execution_count": 60,
   "metadata": {},
   "outputs": [],
   "source": [
    "import numpy as np\n",
    "import polars as pl\n",
    "import pandas as pd\n",
    "import lightgbm as lgb\n",
    "import matplotlib.pyplot as plt\n",
    "from sklearn.model_selection import StratifiedKFold\n",
    "from sklearn.metrics import roc_auc_score\n",
    "import seaborn as sns\n",
    "import japanize_matplotlib"
   ]
  },
  {
   "cell_type": "code",
   "execution_count": 61,
   "metadata": {},
   "outputs": [],
   "source": [
    "train = pl.read_csv(\"../data/train.csv\")\n",
    "test = pl.read_csv(\"../data/test.csv\")\n",
    "era = pl.read_csv(\"../data/era.csv\")\n",
    "sample_submission = pl.read_csv(\"../data/sample_submission.csv\")"
   ]
  },
  {
   "cell_type": "markdown",
   "metadata": {},
   "source": [
    "# 前処理"
   ]
  },
  {
   "cell_type": "code",
   "execution_count": 62,
   "metadata": {},
   "outputs": [],
   "source": [
    "import re\n",
    "\n",
    "\n",
    "def get_prefecture(text: str) -> str | None:\n",
    "    all_prefectures = (\n",
    "        \"北海道|青森県|岩手県|宮城県|秋田県|山形県|福島県|\"\n",
    "        + \"茨城県|栃木県|群馬県|埼玉県|千葉県|東京都|神奈川県|\"\n",
    "        + \"新潟県|富山県|石川県|福井県|山梨県|長野県|岐阜県|静岡県|愛知県|\"\n",
    "        + \"三重県|滋賀県|京都府|大阪府|兵庫県|奈良県|和歌山県|\"\n",
    "        + \"鳥取県|島根県|岡山県|広島県|山口県|\"\n",
    "        + \"徳島県|香川県|愛媛県|高知県|\"\n",
    "        + \"福岡県|佐賀県|長崎県|熊本県|大分県|宮崎県|鹿児島県|沖縄県\"\n",
    "    )\n",
    "    if match := re.search(all_prefectures, text):\n",
    "        return match.group(0)\n",
    "    else:\n",
    "        return None\n",
    "\n",
    "\n",
    "# 都道府県を抽出\n",
    "train = train.with_columns(\n",
    "    pl.col(\"都道府県 ※美工品は「所有者住所（所在都道府県）」\").apply(get_prefecture).alias(\"都道府県\")\n",
    ")\n",
    "test = test.with_columns(\n",
    "    pl.col(\"都道府県 ※美工品は「所有者住所（所在都道府県）」\").apply(get_prefecture).alias(\"都道府県\")\n",
    ")"
   ]
  },
  {
   "cell_type": "code",
   "execution_count": 63,
   "metadata": {},
   "outputs": [
    {
     "name": "stderr",
     "output_type": "stream",
     "text": [
      "/var/folders/4p/kqrm_mh10fn2pjkrxfzxh03c0000gq/T/ipykernel_17227/1010906722.py:32: PolarsInefficientApplyWarning: \n",
      "Expr.apply is significantly slower than the native expressions API.\n",
      "Only use if you absolutely CANNOT implement your logic otherwise.\n",
      "In this case, you can replace your `apply` with the following:\n",
      "  - pl.col(\"種別2\").apply(classify_kenzoubutu_bikouhin)\n",
      "  + pl.col(\"種別2\").is_in(kenzoubutu_feat) & '建造物' & '美工品'\n",
      "\n",
      "  pl.col(\"種別2\").apply(classify_kenzoubutu_bikouhin).alias(\"建造物_or_美工品\")\n",
      "/var/folders/4p/kqrm_mh10fn2pjkrxfzxh03c0000gq/T/ipykernel_17227/1010906722.py:35: PolarsInefficientApplyWarning: \n",
      "Expr.apply is significantly slower than the native expressions API.\n",
      "Only use if you absolutely CANNOT implement your logic otherwise.\n",
      "In this case, you can replace your `apply` with the following:\n",
      "  - pl.col(\"種別2\").apply(classify_kenzoubutu_bikouhin)\n",
      "  + pl.col(\"種別2\").is_in(kenzoubutu_feat) & '建造物' & '美工品'\n",
      "\n",
      "  pl.col(\"種別2\").apply(classify_kenzoubutu_bikouhin).alias(\"建造物_or_美工品\")\n"
     ]
    }
   ],
   "source": [
    "# 種別2より建造物か美工品かを分類する特徴を追加\n",
    "kenzoubutu_feat = [\n",
    "    \"近世以前／神社\",\n",
    "    \"近世以前／神社\",\n",
    "    \"近世以前／寺院\",\n",
    "    \"近世以前／城郭\",\n",
    "    \"近世以前／住宅\",\n",
    "    \"近世以前／民家\",\n",
    "    \"近世以前／その他\",\n",
    "    \"近代／宗教\",\n",
    "    \"近代／学校\",\n",
    "    \"近代／官公庁舎\",\n",
    "    \"近代／産業・交通・土木\",\n",
    "    \"近代／住居\",\n",
    "    \"近代／文化施設\",\n",
    "    \"近代／商業・業務\",\n",
    "    \"近代／その他\",\n",
    "]\n",
    "\n",
    "bikouhin_feat = [\"宝\", \"絵画\", \"彫刻\", \"工芸品\", \"書跡・典籍\", \"古文書\", \"考古資料\", \"歴史資料\"]\n",
    "\n",
    "\n",
    "def classify_kenzoubutu_bikouhin(text: str | None) -> str | None:\n",
    "    if text in kenzoubutu_feat:\n",
    "        return \"建造物\"\n",
    "    elif text in bikouhin_feat:\n",
    "        return \"美工品\"\n",
    "    return None\n",
    "\n",
    "\n",
    "train = train.with_columns(\n",
    "    pl.col(\"種別2\").apply(classify_kenzoubutu_bikouhin).alias(\"建造物_or_美工品\")\n",
    ")\n",
    "test = test.with_columns(\n",
    "    pl.col(\"種別2\").apply(classify_kenzoubutu_bikouhin).alias(\"建造物_or_美工品\")\n",
    ")"
   ]
  },
  {
   "cell_type": "code",
   "execution_count": 64,
   "metadata": {},
   "outputs": [
    {
     "name": "stderr",
     "output_type": "stream",
     "text": [
      "/var/folders/4p/kqrm_mh10fn2pjkrxfzxh03c0000gq/T/ipykernel_17227/808284332.py:34: PolarsInefficientApplyWarning: \n",
      "Expr.apply is significantly slower than the native expressions API.\n",
      "Only use if you absolutely CANNOT implement your logic otherwise.\n",
      "In this case, you can replace your `apply` with the following:\n",
      "  - pl.col(\"種別2\").apply(classify_kenzoubutu_genre)\n",
      "  + (pl.col(\"種別2\") == '近世以前／神社') & '神社' & '寺院' & '城郭' & '住宅' & '民家' & 'その他' & '宗教' & '学校' & '官公庁舎' & '産業・交通・土木' & '住居' & '文化施設' & '商業・業務' & 'その他'\n",
      "\n",
      "  pl.col(\"種別2\").apply(classify_kenzoubutu_genre).alias(\"建造物_種類\")\n",
      "/var/folders/4p/kqrm_mh10fn2pjkrxfzxh03c0000gq/T/ipykernel_17227/808284332.py:36: PolarsInefficientApplyWarning: \n",
      "Expr.apply is significantly slower than the native expressions API.\n",
      "Only use if you absolutely CANNOT implement your logic otherwise.\n",
      "In this case, you can replace your `apply` with the following:\n",
      "  - pl.col(\"種別2\").apply(classify_kenzoubutu_genre)\n",
      "  + (pl.col(\"種別2\") == '近世以前／神社') & '神社' & '寺院' & '城郭' & '住宅' & '民家' & 'その他' & '宗教' & '学校' & '官公庁舎' & '産業・交通・土木' & '住居' & '文化施設' & '商業・業務' & 'その他'\n",
      "\n",
      "  test = test.with_columns(pl.col(\"種別2\").apply(classify_kenzoubutu_genre).alias(\"建造物_種類\"))\n"
     ]
    }
   ],
   "source": [
    "def classify_kenzoubutu_genre(text: str | None) -> str | None:\n",
    "    if text == \"近世以前／神社\":\n",
    "        return \"神社\"\n",
    "    elif text == \"近世以前／寺院\":\n",
    "        return \"寺院\"\n",
    "    elif text == \"近世以前／城郭\":\n",
    "        return \"城郭\"\n",
    "    elif text == \"近世以前／住宅\":\n",
    "        return \"住宅\"\n",
    "    elif text == \"近世以前／民家\":\n",
    "        return \"民家\"\n",
    "    elif text == \"近世以前／その他\":\n",
    "        return \"その他\"\n",
    "    elif text == \"近代／宗教\":\n",
    "        return \"宗教\"\n",
    "    elif text == \"近代／学校\":\n",
    "        return \"学校\"\n",
    "    elif text == \"近代／官公庁舎\":\n",
    "        return \"官公庁舎\"\n",
    "    elif text == \"近代／産業・交通・土木\":\n",
    "        return \"産業・交通・土木\"\n",
    "    elif text == \"近代／住居\":\n",
    "        return \"住居\"\n",
    "    elif text == \"近代／文化施設\":\n",
    "        return \"文化施設\"\n",
    "    elif text == \"近代／商業・業務\":\n",
    "        return \"商業・業務\"\n",
    "    elif text == \"近代／その他\":\n",
    "        return \"その他\"  # ここはその他で被っている\n",
    "    return None\n",
    "\n",
    "\n",
    "train = train.with_columns(\n",
    "    pl.col(\"種別2\").apply(classify_kenzoubutu_genre).alias(\"建造物_種類\")\n",
    ")\n",
    "test = test.with_columns(pl.col(\"種別2\").apply(classify_kenzoubutu_genre).alias(\"建造物_種類\"))"
   ]
  },
  {
   "cell_type": "code",
   "execution_count": 65,
   "metadata": {},
   "outputs": [],
   "source": [
    "# 時代を取得する\n",
    "import re\n",
    "\n",
    "\n",
    "def get_era(text: str) -> str | None:\n",
    "    all_era = [\n",
    "        \"鎌倉\",\n",
    "        \"元\",\n",
    "        \"古墳\",\n",
    "        \"江戸\",\n",
    "        \"高麗\",\n",
    "        \"室町\",\n",
    "        \"昭和\",\n",
    "        \"大正\",\n",
    "        \"唐\",\n",
    "        \"桃山\",\n",
    "        \"奈良\",\n",
    "        \"縄文\",\n",
    "        \"縄文\",\n",
    "        \"南宋\",\n",
    "        \"南北朝\",\n",
    "        \"飛鳥\",\n",
    "        \"平安\",\n",
    "        \"北宋\",\n",
    "        \"明治\",\n",
    "        \"弥生\",\n",
    "        \"明\",\n",
    "    ]\n",
    "    for era in all_era:\n",
    "        if era in text:\n",
    "            return era\n",
    "    return None\n",
    "\n",
    "\n",
    "# 時代を抽出\n",
    "train = train.with_columns(pl.col(\"時代\").apply(get_era).alias(\"時代_抽出\"))\n",
    "test = test.with_columns(pl.col(\"時代\").apply(get_era).alias(\"時代_抽出\"))"
   ]
  },
  {
   "cell_type": "code",
   "execution_count": 66,
   "metadata": {},
   "outputs": [
    {
     "data": {
      "text/html": [
       "<div><style>\n",
       ".dataframe > thead > tr > th,\n",
       ".dataframe > tbody > tr > td {\n",
       "  text-align: right;\n",
       "}\n",
       "</style>\n",
       "<small>shape: (10_065, 15)</small><table border=\"1\" class=\"dataframe\"><thead><tr><th>棟名</th><th>種別2</th><th>国</th><th>時代</th><th>都道府県 ※美工品は「所有者住所（所在都道府県）」</th><th>所在地</th><th>保管施設の名称</th><th>所有者名</th><th>管理団体又は責任者</th><th>緯度</th><th>経度</th><th>都道府県</th><th>建造物_or_美工品</th><th>建造物_種類</th><th>時代_抽出</th></tr><tr><td>str</td><td>str</td><td>str</td><td>str</td><td>str</td><td>str</td><td>str</td><td>str</td><td>str</td><td>f64</td><td>f64</td><td>str</td><td>str</td><td>str</td><td>str</td></tr></thead><tbody><tr><td>null</td><td>&quot;工芸品&quot;</td><td>&quot;日本&quot;</td><td>&quot;江戸&quot;</td><td>&quot;京都府（京都府）&quot;</td><td>null</td><td>null</td><td>&quot;相国寺&quot;</td><td>null</td><td>null</td><td>null</td><td>&quot;京都府&quot;</td><td>&quot;美工品&quot;</td><td>null</td><td>&quot;江戸&quot;</td></tr><tr><td>null</td><td>&quot;絵画&quot;</td><td>&quot;日本&quot;</td><td>&quot;平安&quot;</td><td>&quot;和歌山県（和歌山県）&quot;</td><td>null</td><td>null</td><td>&quot;西禅院&quot;</td><td>&quot;財団法人高野山文化財保存会&quot;</td><td>null</td><td>null</td><td>&quot;和歌山県&quot;</td><td>&quot;美工品&quot;</td><td>null</td><td>&quot;平安&quot;</td></tr><tr><td>null</td><td>&quot;絵画&quot;</td><td>&quot;日本&quot;</td><td>&quot;平安&quot;</td><td>&quot;東京都（東京都）&quot;</td><td>&quot;東京都世田谷区上野毛3-9-…</td><td>&quot;公益財団法人五島美術館&quot;</td><td>&quot;東急株式会社&quot;</td><td>null</td><td>35.61229</td><td>139.6355</td><td>&quot;東京都&quot;</td><td>&quot;美工品&quot;</td><td>null</td><td>&quot;平安&quot;</td></tr><tr><td>null</td><td>&quot;近世以前／神社&quot;</td><td>null</td><td>&quot;江戸前期&quot;</td><td>&quot;和歌山県&quot;</td><td>&quot;和歌山県有田郡広川町大字上中…</td><td>null</td><td>&quot;廣八幡宮&quot;</td><td>null</td><td>34.017835</td><td>135.175324</td><td>&quot;和歌山県&quot;</td><td>&quot;建造物&quot;</td><td>&quot;神社&quot;</td><td>&quot;江戸&quot;</td></tr><tr><td>null</td><td>&quot;彫刻&quot;</td><td>&quot;日本&quot;</td><td>&quot;平安&quot;</td><td>&quot;山形県（山形県）&quot;</td><td>null</td><td>null</td><td>&quot;吉祥院&quot;</td><td>null</td><td>null</td><td>null</td><td>&quot;山形県&quot;</td><td>&quot;美工品&quot;</td><td>null</td><td>&quot;平安&quot;</td></tr><tr><td>null</td><td>&quot;絵画&quot;</td><td>&quot;日本&quot;</td><td>&quot;平安&quot;</td><td>&quot;和歌山県（和歌山県）&quot;</td><td>null</td><td>null</td><td>&quot;有志八幡講&quot;</td><td>&quot;財団法人高野山文化財保存会&quot;</td><td>null</td><td>null</td><td>&quot;和歌山県&quot;</td><td>&quot;美工品&quot;</td><td>null</td><td>&quot;平安&quot;</td></tr><tr><td>null</td><td>&quot;彫刻&quot;</td><td>null</td><td>&quot;飛鳥&quot;</td><td>&quot;大分県（大分県）&quot;</td><td>&quot;大分県中津市1290番地&quot;</td><td>&quot;中津市歴史博物館&quot;</td><td>&quot;長谷寺&quot;</td><td>null</td><td>33.604307</td><td>131.183881</td><td>&quot;大分県&quot;</td><td>&quot;美工品&quot;</td><td>null</td><td>&quot;飛鳥&quot;</td></tr><tr><td>&quot;道具倉&quot;</td><td>&quot;近世以前／民家&quot;</td><td>null</td><td>&quot;江戸末期&quot;</td><td>&quot;石川県&quot;</td><td>&quot;石川県羽咋郡宝達志水町北川尻…</td><td>null</td><td>&quot;宝達志水町&quot;</td><td>null</td><td>36.80452</td><td>136.7416</td><td>&quot;石川県&quot;</td><td>&quot;建造物&quot;</td><td>&quot;民家&quot;</td><td>&quot;江戸&quot;</td></tr><tr><td>null</td><td>&quot;彫刻&quot;</td><td>&quot;日本&quot;</td><td>&quot;平安&quot;</td><td>&quot;兵庫県（兵庫県）&quot;</td><td>null</td><td>null</td><td>&quot;見性寺&quot;</td><td>null</td><td>null</td><td>null</td><td>&quot;兵庫県&quot;</td><td>&quot;美工品&quot;</td><td>null</td><td>&quot;平安&quot;</td></tr><tr><td>null</td><td>&quot;彫刻&quot;</td><td>&quot;日本&quot;</td><td>&quot;鎌倉&quot;</td><td>&quot;石川県（石川県）&quot;</td><td>null</td><td>null</td><td>&quot;松岡寺&quot;</td><td>null</td><td>null</td><td>null</td><td>&quot;石川県&quot;</td><td>&quot;美工品&quot;</td><td>null</td><td>&quot;鎌倉&quot;</td></tr><tr><td>null</td><td>&quot;近世以前／神社&quot;</td><td>null</td><td>&quot;鎌倉後期&quot;</td><td>&quot;京都府&quot;</td><td>&quot;京都府宇治市宇治山田&quot;</td><td>null</td><td>&quot;宇治神社&quot;</td><td>null</td><td>34.89107</td><td>135.8107</td><td>&quot;京都府&quot;</td><td>&quot;建造物&quot;</td><td>&quot;神社&quot;</td><td>&quot;鎌倉&quot;</td></tr><tr><td>&quot;表書院&quot;</td><td>&quot;近世以前／住宅&quot;</td><td>null</td><td>&quot;江戸前期&quot;</td><td>&quot;香川県&quot;</td><td>&quot;香川県仲多度郡琴平町&quot;</td><td>null</td><td>&quot;金刀比羅宮&quot;</td><td>null</td><td>34.18405</td><td>133.8114</td><td>&quot;香川県&quot;</td><td>&quot;建造物&quot;</td><td>&quot;住宅&quot;</td><td>&quot;江戸&quot;</td></tr><tr><td>&hellip;</td><td>&hellip;</td><td>&hellip;</td><td>&hellip;</td><td>&hellip;</td><td>&hellip;</td><td>&hellip;</td><td>&hellip;</td><td>&hellip;</td><td>&hellip;</td><td>&hellip;</td><td>&hellip;</td><td>&hellip;</td><td>&hellip;</td><td>&hellip;</td></tr><tr><td>null</td><td>&quot;近世以前／神社&quot;</td><td>null</td><td>&quot;室町後期&quot;</td><td>&quot;兵庫県&quot;</td><td>&quot;兵庫県三木市吉川町前田&quot;</td><td>null</td><td>&quot;天津神社&quot;</td><td>null</td><td>34.90921</td><td>135.1164</td><td>&quot;兵庫県&quot;</td><td>&quot;建造物&quot;</td><td>&quot;神社&quot;</td><td>&quot;室町&quot;</td></tr><tr><td>&quot;守衛室&quot;</td><td>&quot;近代／学校&quot;</td><td>null</td><td>&quot;明治&quot;</td><td>&quot;奈良県&quot;</td><td>&quot;奈良県奈良市北魚屋東町&quot;</td><td>null</td><td>&quot;国立大学法人奈良国立大学機構…</td><td>null</td><td>34.687984</td><td>135.829479</td><td>&quot;奈良県&quot;</td><td>&quot;建造物&quot;</td><td>&quot;学校&quot;</td><td>&quot;明治&quot;</td></tr><tr><td>null</td><td>&quot;工芸品&quot;</td><td>&quot;日本&quot;</td><td>&quot;鎌倉&quot;</td><td>&quot;和歌山県（和歌山県）&quot;</td><td>null</td><td>null</td><td>&quot;宗教法人金剛峯寺&quot;</td><td>&quot;財団法人高野山文化財保存会&quot;</td><td>null</td><td>null</td><td>&quot;和歌山県&quot;</td><td>&quot;美工品&quot;</td><td>null</td><td>&quot;鎌倉&quot;</td></tr><tr><td>null</td><td>&quot;彫刻&quot;</td><td>&quot;日本&quot;</td><td>&quot;平安・鎌倉&quot;</td><td>&quot;大阪府（大阪府）&quot;</td><td>&quot;大阪府泉大津市旭町22-45…</td><td>&quot;泉大津市立織編館&quot;</td><td>&quot;泉穴師神社&quot;</td><td>null</td><td>34.49644</td><td>135.4199</td><td>&quot;大阪府&quot;</td><td>&quot;美工品&quot;</td><td>null</td><td>&quot;鎌倉&quot;</td></tr><tr><td>null</td><td>&quot;工芸品&quot;</td><td>&quot;日本&quot;</td><td>&quot;南北朝&quot;</td><td>&quot;広島県（広島県）&quot;</td><td>null</td><td>null</td><td>&quot;厳島神社&quot;</td><td>null</td><td>null</td><td>null</td><td>&quot;広島県&quot;</td><td>&quot;美工品&quot;</td><td>null</td><td>&quot;南北朝&quot;</td></tr><tr><td>&quot;本殿&quot;</td><td>&quot;近世以前／神社&quot;</td><td>null</td><td>&quot;江戸前期&quot;</td><td>&quot;大阪府&quot;</td><td>&quot;大阪府阪南市石田&quot;</td><td>null</td><td>&quot;波太神社&quot;</td><td>null</td><td>34.34397</td><td>135.2448</td><td>&quot;大阪府&quot;</td><td>&quot;建造物&quot;</td><td>&quot;神社&quot;</td><td>&quot;江戸&quot;</td></tr><tr><td>null</td><td>&quot;古文書&quot;</td><td>&quot;日本&quot;</td><td>&quot;鎌倉&quot;</td><td>&quot;京都府（京都府）&quot;</td><td>null</td><td>null</td><td>&quot;八坂神社&quot;</td><td>null</td><td>null</td><td>null</td><td>&quot;京都府&quot;</td><td>&quot;美工品&quot;</td><td>null</td><td>&quot;鎌倉&quot;</td></tr><tr><td>null</td><td>&quot;近世以前／住宅&quot;</td><td>null</td><td>&quot;桃山&quot;</td><td>&quot;奈良県&quot;</td><td>&quot;奈良県生駒郡斑鳩町法隆寺山内…</td><td>null</td><td>&quot;法隆寺&quot;</td><td>null</td><td>34.61321</td><td>135.7341</td><td>&quot;奈良県&quot;</td><td>&quot;建造物&quot;</td><td>&quot;住宅&quot;</td><td>&quot;桃山&quot;</td></tr><tr><td>&quot;清浄門&quot;</td><td>&quot;近世以前／神社&quot;</td><td>null</td><td>&quot;室町前期&quot;</td><td>&quot;奈良県&quot;</td><td>&quot;奈良県奈良市春日野町&quot;</td><td>null</td><td>&quot;春日大社&quot;</td><td>null</td><td>34.68142</td><td>135.848</td><td>&quot;奈良県&quot;</td><td>&quot;建造物&quot;</td><td>&quot;神社&quot;</td><td>&quot;室町&quot;</td></tr><tr><td>null</td><td>&quot;書跡・典籍&quot;</td><td>&quot;中国&quot;</td><td>&quot;唐&quot;</td><td>&quot;東京都（東京都）&quot;</td><td>&quot;東京都世田谷区上野毛3-9-…</td><td>&quot;公益財団法人五島美術館&quot;</td><td>&quot;公益財団法人五島美術館&quot;</td><td>null</td><td>35.61229</td><td>139.6355</td><td>&quot;東京都&quot;</td><td>&quot;美工品&quot;</td><td>null</td><td>&quot;唐&quot;</td></tr><tr><td>null</td><td>&quot;絵画&quot;</td><td>&quot;日本&quot;</td><td>&quot;室町&quot;</td><td>&quot;東京都（京都府）&quot;</td><td>null</td><td>null</td><td>&quot;公益財団法人荏原畠山記念文化…</td><td>null</td><td>null</td><td>null</td><td>&quot;東京都&quot;</td><td>&quot;美工品&quot;</td><td>null</td><td>&quot;室町&quot;</td></tr><tr><td>null</td><td>&quot;絵画&quot;</td><td>&quot;日本&quot;</td><td>&quot;江戸&quot;</td><td>&quot;京都府（京都府）&quot;</td><td>null</td><td>null</td><td>&quot;万福寺&quot;</td><td>null</td><td>null</td><td>null</td><td>&quot;京都府&quot;</td><td>&quot;美工品&quot;</td><td>null</td><td>&quot;江戸&quot;</td></tr></tbody></table></div>"
      ],
      "text/plain": [
       "shape: (10_065, 15)\n",
       "┌────────┬───────────────┬──────┬──────────┬───┬──────────┬──────────────┬─────────────┬───────────┐\n",
       "│ 棟名   ┆ 種別2         ┆ 国   ┆ 時代     ┆ … ┆ 都道府県 ┆ 建造物_or_美 ┆ 建造物_種類 ┆ 時代_抽出 │\n",
       "│ ---    ┆ ---           ┆ ---  ┆ ---      ┆   ┆ ---      ┆ 工品         ┆ ---         ┆ ---       │\n",
       "│ str    ┆ str           ┆ str  ┆ str      ┆   ┆ str      ┆ ---          ┆ str         ┆ str       │\n",
       "│        ┆               ┆      ┆          ┆   ┆          ┆ str          ┆             ┆           │\n",
       "╞════════╪═══════════════╪══════╪══════════╪═══╪══════════╪══════════════╪═════════════╪═══════════╡\n",
       "│ null   ┆ 工芸品        ┆ 日本 ┆ 江戸     ┆ … ┆ 京都府   ┆ 美工品       ┆ null        ┆ 江戸      │\n",
       "│ null   ┆ 絵画          ┆ 日本 ┆ 平安     ┆ … ┆ 和歌山県 ┆ 美工品       ┆ null        ┆ 平安      │\n",
       "│ null   ┆ 絵画          ┆ 日本 ┆ 平安     ┆ … ┆ 東京都   ┆ 美工品       ┆ null        ┆ 平安      │\n",
       "│ null   ┆ 近世以前／神  ┆ null ┆ 江戸前期 ┆ … ┆ 和歌山県 ┆ 建造物       ┆ 神社        ┆ 江戸      │\n",
       "│        ┆ 社            ┆      ┆          ┆   ┆          ┆              ┆             ┆           │\n",
       "│ …      ┆ …             ┆ …    ┆ …        ┆ … ┆ …        ┆ …            ┆ …           ┆ …         │\n",
       "│ 清浄門 ┆ 近世以前／神  ┆ null ┆ 室町前期 ┆ … ┆ 奈良県   ┆ 建造物       ┆ 神社        ┆ 室町      │\n",
       "│        ┆ 社            ┆      ┆          ┆   ┆          ┆              ┆             ┆           │\n",
       "│ null   ┆ 書跡・典籍    ┆ 中国 ┆ 唐       ┆ … ┆ 東京都   ┆ 美工品       ┆ null        ┆ 唐        │\n",
       "│ null   ┆ 絵画          ┆ 日本 ┆ 室町     ┆ … ┆ 東京都   ┆ 美工品       ┆ null        ┆ 室町      │\n",
       "│ null   ┆ 絵画          ┆ 日本 ┆ 江戸     ┆ … ┆ 京都府   ┆ 美工品       ┆ null        ┆ 江戸      │\n",
       "└────────┴───────────────┴──────┴──────────┴───┴──────────┴──────────────┴─────────────┴───────────┘"
      ]
     },
     "execution_count": 66,
     "metadata": {},
     "output_type": "execute_result"
    }
   ],
   "source": [
    "test"
   ]
  },
  {
   "cell_type": "code",
   "execution_count": 67,
   "metadata": {},
   "outputs": [],
   "source": [
    "# 抽出した時代と、era.csvを紐づける\n",
    "train = train.join(era, left_on=\"時代_抽出\", right_on=\"時代\", how=\"left\")\n",
    "test = test.join(era, left_on=\"時代_抽出\", right_on=\"時代\", how=\"left\")\n",
    "\n",
    "# 開始 -終了の期間を計算する\n",
    "train = train.with_columns((pl.col(\"終了\") - pl.col(\"開始\")).alias(\"時代_期間\"))\n",
    "\n",
    "test = test.with_columns((pl.col(\"終了\") - pl.col(\"開始\")).alias(\"時代_期間\"))"
   ]
  },
  {
   "cell_type": "markdown",
   "metadata": {},
   "source": [
    "# データ型の変更"
   ]
  },
  {
   "cell_type": "code",
   "execution_count": 68,
   "metadata": {},
   "outputs": [
    {
     "data": {
      "text/html": [
       "<div><style>\n",
       ".dataframe > thead > tr > th,\n",
       ".dataframe > tbody > tr > td {\n",
       "  text-align: right;\n",
       "}\n",
       "</style>\n",
       "<small>shape: (5, 20)</small><table border=\"1\" class=\"dataframe\"><thead><tr><th>名称</th><th>棟名</th><th>種別2</th><th>国</th><th>時代</th><th>都道府県 ※美工品は「所有者住所（所在都道府県）」</th><th>所在地</th><th>保管施設の名称</th><th>所有者名</th><th>管理団体又は責任者</th><th>緯度</th><th>経度</th><th>is_kokuhou</th><th>都道府県</th><th>建造物_or_美工品</th><th>建造物_種類</th><th>時代_抽出</th><th>開始</th><th>終了</th><th>時代_期間</th></tr><tr><td>str</td><td>str</td><td>str</td><td>str</td><td>str</td><td>str</td><td>str</td><td>str</td><td>str</td><td>str</td><td>f64</td><td>f64</td><td>i64</td><td>str</td><td>str</td><td>str</td><td>str</td><td>i64</td><td>i64</td><td>i64</td></tr></thead><tbody><tr><td>&quot;泉布観&quot;</td><td>null</td><td>&quot;近代／文化施設&quot;</td><td>null</td><td>&quot;明治&quot;</td><td>&quot;大阪府&quot;</td><td>&quot;大阪府大阪市北区天満橋一丁目…</td><td>null</td><td>&quot;大阪市&quot;</td><td>null</td><td>34.69811</td><td>135.5214</td><td>0</td><td>&quot;大阪府&quot;</td><td>&quot;建造物&quot;</td><td>&quot;文化施設&quot;</td><td>&quot;明治&quot;</td><td>1868</td><td>1912</td><td>44</td></tr><tr><td>&quot;絹本著色准胝仏母像&quot;</td><td>null</td><td>&quot;絵画&quot;</td><td>&quot;日本&quot;</td><td>&quot;鎌倉&quot;</td><td>&quot;京都府（京都府）&quot;</td><td>null</td><td>null</td><td>&quot;広隆寺&quot;</td><td>null</td><td>null</td><td>null</td><td>0</td><td>&quot;京都府&quot;</td><td>&quot;美工品&quot;</td><td>null</td><td>&quot;鎌倉&quot;</td><td>1185</td><td>1333</td><td>148</td></tr><tr><td>&quot;石上神宮拝殿&quot;</td><td>null</td><td>&quot;近世以前／寺院&quot;</td><td>null</td><td>&quot;鎌倉前期&quot;</td><td>&quot;奈良県&quot;</td><td>&quot;奈良県天理市布留町&quot;</td><td>null</td><td>&quot;石上神宮&quot;</td><td>null</td><td>34.5978</td><td>135.852</td><td>1</td><td>&quot;奈良県&quot;</td><td>&quot;建造物&quot;</td><td>&quot;寺院&quot;</td><td>&quot;鎌倉&quot;</td><td>1185</td><td>1333</td><td>148</td></tr><tr><td>&quot;剣〈銘真守（備前）／〉&quot;</td><td>null</td><td>&quot;工芸品&quot;</td><td>&quot;日本&quot;</td><td>&quot;鎌倉&quot;</td><td>&quot;和歌山県（和歌山県）&quot;</td><td>null</td><td>null</td><td>&quot;宗教法人金剛峯寺&quot;</td><td>&quot;財団法人高野山文化財保存会&quot;</td><td>null</td><td>null</td><td>0</td><td>&quot;和歌山県&quot;</td><td>&quot;美工品&quot;</td><td>null</td><td>&quot;鎌倉&quot;</td><td>1185</td><td>1333</td><td>148</td></tr><tr><td>&quot;旧新町紡績所&quot;</td><td>&quot;工場本館&quot;</td><td>&quot;近代／産業・交通・土木&quot;</td><td>null</td><td>&quot;明治&quot;</td><td>&quot;群馬県&quot;</td><td>&quot;群馬県高崎市新町二三三〇番地…</td><td>null</td><td>&quot;クラシエフーズ株式会社&quot;</td><td>null</td><td>36.27766</td><td>139.1003</td><td>0</td><td>&quot;群馬県&quot;</td><td>&quot;建造物&quot;</td><td>&quot;産業・交通・土木&quot;</td><td>&quot;明治&quot;</td><td>1868</td><td>1912</td><td>44</td></tr></tbody></table></div>"
      ],
      "text/plain": [
       "shape: (5, 20)\n",
       "┌───────────────────┬──────────┬──────────────────┬──────┬───┬───────────┬──────┬──────┬───────────┐\n",
       "│ 名称              ┆ 棟名     ┆ 種別2            ┆ 国   ┆ … ┆ 時代_抽出 ┆ 開始 ┆ 終了 ┆ 時代_期間 │\n",
       "│ ---               ┆ ---      ┆ ---              ┆ ---  ┆   ┆ ---       ┆ ---  ┆ ---  ┆ ---       │\n",
       "│ str               ┆ str      ┆ str              ┆ str  ┆   ┆ str       ┆ i64  ┆ i64  ┆ i64       │\n",
       "╞═══════════════════╪══════════╪══════════════════╪══════╪═══╪═══════════╪══════╪══════╪═══════════╡\n",
       "│ 泉布観            ┆ null     ┆ 近代／文化施設   ┆ null ┆ … ┆ 明治      ┆ 1868 ┆ 1912 ┆ 44        │\n",
       "│ 絹本著色准胝仏母  ┆ null     ┆ 絵画             ┆ 日本 ┆ … ┆ 鎌倉      ┆ 1185 ┆ 1333 ┆ 148       │\n",
       "│ 像                ┆          ┆                  ┆      ┆   ┆           ┆      ┆      ┆           │\n",
       "│ 石上神宮拝殿      ┆ null     ┆ 近世以前／寺院   ┆ null ┆ … ┆ 鎌倉      ┆ 1185 ┆ 1333 ┆ 148       │\n",
       "│ 剣〈銘真守（備前  ┆ null     ┆ 工芸品           ┆ 日本 ┆ … ┆ 鎌倉      ┆ 1185 ┆ 1333 ┆ 148       │\n",
       "│ ）／〉            ┆          ┆                  ┆      ┆   ┆           ┆      ┆      ┆           │\n",
       "│ 旧新町紡績所      ┆ 工場本館 ┆ 近代／産業・交通 ┆ null ┆ … ┆ 明治      ┆ 1868 ┆ 1912 ┆ 44        │\n",
       "│                   ┆          ┆ ・土木           ┆      ┆   ┆           ┆      ┆      ┆           │\n",
       "└───────────────────┴──────────┴──────────────────┴──────┴───┴───────────┴──────┴──────┴───────────┘"
      ]
     },
     "execution_count": 68,
     "metadata": {},
     "output_type": "execute_result"
    }
   ],
   "source": [
    "train.head()"
   ]
  },
  {
   "cell_type": "code",
   "execution_count": 69,
   "metadata": {},
   "outputs": [],
   "source": [
    "categorical_cols = [\n",
    "    \"国\",\n",
    "    \"時代\",\n",
    "    \"保管施設の名称\",\n",
    "    \"所有者名\",\n",
    "    \"管理団体又は責任者\",\n",
    "    \"都道府県\",\n",
    "    \"建造物_or_美工品\",\n",
    "    \"建造物_種類\",\n",
    "    \"時代_抽出\",\n",
    "]"
   ]
  },
  {
   "cell_type": "code",
   "execution_count": 70,
   "metadata": {},
   "outputs": [],
   "source": [
    "for col in categorical_cols:\n",
    "    train = train.with_columns(pl.col(col).cast(pl.Categorical).alias(col))\n",
    "    test = test.with_columns(pl.col(col).cast(pl.Categorical).alias(col))"
   ]
  },
  {
   "cell_type": "markdown",
   "metadata": {},
   "source": [
    "# Fold"
   ]
  },
  {
   "cell_type": "code",
   "execution_count": 71,
   "metadata": {},
   "outputs": [],
   "source": [
    "FOLD_NUM = 5"
   ]
  },
  {
   "cell_type": "code",
   "execution_count": 72,
   "metadata": {},
   "outputs": [],
   "source": [
    "empty = np.zeros(train.height)\n",
    "fold = StratifiedKFold(n_splits=FOLD_NUM, shuffle=True, random_state=33)\n",
    "\n",
    "for idx, (_, val_idx) in enumerate(fold.split(train, train.get_column(\"is_kokuhou\"))):\n",
    "    empty[val_idx] = idx\n",
    "\n",
    "train = train.with_columns(pl.Series(empty).cast(pl.Int64).alias(\"fold\"))"
   ]
  },
  {
   "cell_type": "markdown",
   "metadata": {},
   "source": [
    "# LightGBM"
   ]
  },
  {
   "cell_type": "code",
   "execution_count": 73,
   "metadata": {},
   "outputs": [
    {
     "data": {
      "text/plain": [
       "14"
      ]
     },
     "execution_count": 73,
     "metadata": {},
     "output_type": "execute_result"
    }
   ],
   "source": [
    "use_col = []\n",
    "\n",
    "base_col = [\"緯度\", \"経度\", \"開始\", \"終了\", \"時代_期間\"]\n",
    "\n",
    "use_col += base_col\n",
    "use_col += categorical_cols\n",
    "\n",
    "len(use_col)"
   ]
  },
  {
   "cell_type": "code",
   "execution_count": 74,
   "metadata": {},
   "outputs": [
    {
     "data": {
      "text/plain": [
       "['緯度',\n",
       " '経度',\n",
       " '開始',\n",
       " '終了',\n",
       " '時代_期間',\n",
       " '国',\n",
       " '時代',\n",
       " '保管施設の名称',\n",
       " '所有者名',\n",
       " '管理団体又は責任者',\n",
       " '都道府県',\n",
       " '建造物_or_美工品',\n",
       " '建造物_種類',\n",
       " '時代_抽出']"
      ]
     },
     "execution_count": 74,
     "metadata": {},
     "output_type": "execute_result"
    }
   ],
   "source": [
    "use_col"
   ]
  },
  {
   "cell_type": "code",
   "execution_count": 75,
   "metadata": {},
   "outputs": [],
   "source": [
    "# LightGBMで用いるパラメーターを指定\n",
    "# ref: https://lightgbm.readthedocs.io/en/v3.3.5/Parameters.html\n",
    "params = {\"objective\": \"binary\", \"metric\": \"auc\", \"verbose\": -1, \"seed\": 33}"
   ]
  },
  {
   "cell_type": "code",
   "execution_count": 76,
   "metadata": {},
   "outputs": [
    {
     "name": "stdout",
     "output_type": "stream",
     "text": [
      "Start fold 0\n",
      "[LightGBM] [Warning] Categorical features with more bins than the configured maximum bin number found.\n",
      "[LightGBM] [Warning] For categorical features, max_bin and max_bin_by_feature may be ignored with a large number of categories.\n",
      "[LightGBM] [Info] Number of positive: 401, number of negative: 4967\n",
      "[LightGBM] [Warning] Auto-choosing row-wise multi-threading, the overhead of testing was 0.000605 seconds.\n",
      "You can set `force_row_wise=true` to remove the overhead.\n",
      "And if memory is not enough, you can set `force_col_wise=true`.\n",
      "[LightGBM] [Info] Total Bins 1226\n",
      "[LightGBM] [Info] Number of data points in the train set: 5368, number of used features: 14\n",
      "[LightGBM] [Info] [binary:BoostFromScore]: pavg=0.074702 -> initscore=-2.516610\n",
      "[LightGBM] [Info] Start training from score -2.516610\n",
      "Training until validation scores don't improve for 100 rounds\n",
      "Early stopping, best iteration is:\n",
      "[77]\ttraining's auc: 0.953949\tvalid_1's auc: 0.823128\n",
      "fold 0 Score: 0.8231280193236715\n",
      "Start fold 1\n",
      "[LightGBM] [Warning] Categorical features with more bins than the configured maximum bin number found.\n",
      "[LightGBM] [Warning] For categorical features, max_bin and max_bin_by_feature may be ignored with a large number of categories.\n",
      "[LightGBM] [Info] Number of positive: 401, number of negative: 4967\n",
      "[LightGBM] [Warning] Auto-choosing row-wise multi-threading, the overhead of testing was 0.000738 seconds.\n",
      "You can set `force_row_wise=true` to remove the overhead.\n",
      "And if memory is not enough, you can set `force_col_wise=true`.\n",
      "[LightGBM] [Info] Total Bins 1220\n",
      "[LightGBM] [Info] Number of data points in the train set: 5368, number of used features: 14\n",
      "[LightGBM] [Info] [binary:BoostFromScore]: pavg=0.074702 -> initscore=-2.516610\n",
      "[LightGBM] [Info] Start training from score -2.516610\n",
      "Training until validation scores don't improve for 100 rounds\n",
      "Early stopping, best iteration is:\n",
      "[48]\ttraining's auc: 0.937563\tvalid_1's auc: 0.787617\n",
      "fold 1 Score: 0.7876167471819646\n",
      "Start fold 2\n",
      "[LightGBM] [Warning] Categorical features with more bins than the configured maximum bin number found.\n",
      "[LightGBM] [Warning] For categorical features, max_bin and max_bin_by_feature may be ignored with a large number of categories.\n",
      "[LightGBM] [Info] Number of positive: 401, number of negative: 4967\n",
      "[LightGBM] [Warning] Auto-choosing col-wise multi-threading, the overhead of testing was 0.000768 seconds.\n",
      "You can set `force_col_wise=true` to remove the overhead.\n",
      "[LightGBM] [Info] Total Bins 1236\n",
      "[LightGBM] [Info] Number of data points in the train set: 5368, number of used features: 14\n",
      "[LightGBM] [Info] [binary:BoostFromScore]: pavg=0.074702 -> initscore=-2.516610\n",
      "[LightGBM] [Info] Start training from score -2.516610\n",
      "Training until validation scores don't improve for 100 rounds\n",
      "Early stopping, best iteration is:\n",
      "[88]\ttraining's auc: 0.955386\tvalid_1's auc: 0.810185\n",
      "fold 2 Score: 0.8101851851851852\n",
      "Start fold 3\n",
      "[LightGBM] [Warning] Categorical features with more bins than the configured maximum bin number found.\n",
      "[LightGBM] [Warning] For categorical features, max_bin and max_bin_by_feature may be ignored with a large number of categories.\n",
      "[LightGBM] [Info] Number of positive: 401, number of negative: 4967\n",
      "[LightGBM] [Warning] Auto-choosing row-wise multi-threading, the overhead of testing was 0.000664 seconds.\n",
      "You can set `force_row_wise=true` to remove the overhead.\n",
      "And if memory is not enough, you can set `force_col_wise=true`.\n",
      "[LightGBM] [Info] Total Bins 1234\n",
      "[LightGBM] [Info] Number of data points in the train set: 5368, number of used features: 14\n",
      "[LightGBM] [Info] [binary:BoostFromScore]: pavg=0.074702 -> initscore=-2.516610\n",
      "[LightGBM] [Info] Start training from score -2.516610\n",
      "Training until validation scores don't improve for 100 rounds\n",
      "Early stopping, best iteration is:\n",
      "[36]\ttraining's auc: 0.93084\tvalid_1's auc: 0.788973\n",
      "fold 3 Score: 0.7889734299516908\n",
      "Start fold 4\n",
      "[LightGBM] [Warning] Categorical features with more bins than the configured maximum bin number found.\n",
      "[LightGBM] [Warning] For categorical features, max_bin and max_bin_by_feature may be ignored with a large number of categories.\n",
      "[LightGBM] [Info] Number of positive: 400, number of negative: 4968\n",
      "[LightGBM] [Warning] Auto-choosing row-wise multi-threading, the overhead of testing was 0.000847 seconds.\n",
      "You can set `force_row_wise=true` to remove the overhead.\n",
      "And if memory is not enough, you can set `force_col_wise=true`.\n",
      "[LightGBM] [Info] Total Bins 1219\n",
      "[LightGBM] [Info] Number of data points in the train set: 5368, number of used features: 14\n",
      "[LightGBM] [Info] [binary:BoostFromScore]: pavg=0.074516 -> initscore=-2.519308\n",
      "[LightGBM] [Info] Start training from score -2.519308\n",
      "Training until validation scores don't improve for 100 rounds\n",
      "Early stopping, best iteration is:\n",
      "[104]\ttraining's auc: 0.962753\tvalid_1's auc: 0.774324\n",
      "fold 4 Score: 0.7743236450961777\n"
     ]
    }
   ],
   "source": [
    "# 学習データ全体に対する推論結果を保存するobjectを作成\n",
    "oof = np.zeros((len(train)))\n",
    "\n",
    "# テストデータに対する推論、特徴量重要度(後述)を計算するために、モデルを保存するobjectを作成\n",
    "models = []\n",
    "\n",
    "# Cross Validationによる学習の実施\n",
    "for fold in range(FOLD_NUM):\n",
    "    print(f\"Start fold {fold}\")\n",
    "\n",
    "    # polarsをpandasに変換\n",
    "    train_pd = train.to_pandas()\n",
    "\n",
    "    # foldごとにtrainとvalidに分ける\n",
    "    train_fold = train_pd[train_pd[\"fold\"] != fold]\n",
    "    valid_fold = train_pd[train_pd[\"fold\"] == fold]\n",
    "\n",
    "    # X(説明変数)とy(目的変数)に分ける\n",
    "    X_train = train_fold.drop(\"is_kokuhou\", axis=1)\n",
    "    X_valid = valid_fold.drop(\"is_kokuhou\", axis=1)\n",
    "    y_train = train_fold[[\"is_kokuhou\"]]\n",
    "    y_valid = valid_fold[[\"is_kokuhou\"]]\n",
    "\n",
    "    # 利用する説明変数に限定する\n",
    "    X_train = X_train[use_col]\n",
    "    X_valid = X_valid[use_col]\n",
    "\n",
    "    # LightGBMが認識可能な形にデータセットを変換\n",
    "    lgb_train = lgb.Dataset(X_train, y_train)\n",
    "    lgb_eval = lgb.Dataset(X_valid, y_valid, reference=lgb_train)\n",
    "\n",
    "    # モデルの学習\n",
    "    model = lgb.train(\n",
    "        params,\n",
    "        lgb_train,\n",
    "        num_boost_round=10000,  # 学習のiteration回数\n",
    "        valid_sets=[lgb_train, lgb_eval],\n",
    "        callbacks=[\n",
    "            lgb.early_stopping(stopping_rounds=100)\n",
    "        ],  # Early stopingの回数、binary_loglossが改善しないiterationが100回続いたら学習を止める\n",
    "    )\n",
    "\n",
    "    # モデルを保存\n",
    "    models.append(model)\n",
    "\n",
    "    # validデータに対する推論\n",
    "    y_valid_pred = model.predict(X_valid, num_iteration=model.best_iteration)\n",
    "\n",
    "    # validデータに対する推論の性能を計算\n",
    "    calc_f1_score = roc_auc_score(y_valid, y_valid_pred)\n",
    "    print(f\"fold {fold} Score: {calc_f1_score}\")\n",
    "\n",
    "    # oofに推論結果を保存\n",
    "    valid_idx = X_valid.index\n",
    "    oof[valid_idx] = y_valid_pred"
   ]
  },
  {
   "cell_type": "code",
   "execution_count": 77,
   "metadata": {},
   "outputs": [
    {
     "data": {
      "text/plain": [
       "0.7923462143196294"
      ]
     },
     "execution_count": 77,
     "metadata": {},
     "output_type": "execute_result"
    }
   ],
   "source": [
    "oof_score = roc_auc_score(y_true=train.get_column(\"is_kokuhou\"), y_score=oof)\n",
    "oof_score"
   ]
  },
  {
   "cell_type": "code",
   "execution_count": 78,
   "metadata": {},
   "outputs": [
    {
     "name": "stdout",
     "output_type": "stream",
     "text": [
      "thr: 0.01, f1_score: 0.19151160359606942\n",
      "thr: 0.02, f1_score: 0.23097112860892388\n",
      "thr: 0.03, f1_score: 0.25997506234413964\n",
      "thr: 0.04, f1_score: 0.2754029432375613\n",
      "thr: 0.05, f1_score: 0.2829532276768458\n",
      "thr: 0.060000000000000005, f1_score: 0.29333333333333333\n",
      "thr: 0.06999999999999999, f1_score: 0.3033860045146726\n",
      "thr: 0.08, f1_score: 0.30702179176755445\n",
      "thr: 0.09, f1_score: 0.3057517658930374\n",
      "thr: 0.09999999999999999, f1_score: 0.31065881092662023\n",
      "thr: 0.11, f1_score: 0.31330713082537903\n",
      "thr: 0.12, f1_score: 0.3112183353437877\n",
      "thr: 0.13, f1_score: 0.3100576553491352\n",
      "thr: 0.14, f1_score: 0.30319510537049627\n",
      "thr: 0.15000000000000002, f1_score: 0.29848594087959623\n",
      "thr: 0.16, f1_score: 0.2964071856287425\n",
      "thr: 0.17, f1_score: 0.30094043887147337\n",
      "thr: 0.18000000000000002, f1_score: 0.3051681706316653\n",
      "thr: 0.19, f1_score: 0.3148936170212766\n",
      "thr: 0.2, f1_score: 0.3153232949512843\n",
      "thr: 0.21000000000000002, f1_score: 0.3168498168498169\n",
      "thr: 0.22, f1_score: 0.31886792452830187\n",
      "thr: 0.23, f1_score: 0.3207729468599034\n",
      "thr: 0.24000000000000002, f1_score: 0.3121272365805169\n",
      "thr: 0.25, f1_score: 0.2996941896024465\n",
      "thr: 0.26, f1_score: 0.3013415892672859\n",
      "thr: 0.27, f1_score: 0.3018065887353879\n",
      "thr: 0.28, f1_score: 0.2962138084632517\n",
      "thr: 0.29000000000000004, f1_score: 0.2853881278538813\n",
      "thr: 0.3, f1_score: 0.2763466042154567\n",
      "thr: 0.31, f1_score: 0.2747909199522103\n",
      "thr: 0.32, f1_score: 0.27383863080684595\n",
      "thr: 0.33, f1_score: 0.2740740740740741\n",
      "thr: 0.34, f1_score: 0.2696629213483146\n",
      "thr: 0.35000000000000003, f1_score: 0.26888604353393086\n",
      "thr: 0.36000000000000004, f1_score: 0.2616580310880829\n",
      "thr: 0.37, f1_score: 0.25688073394495414\n",
      "thr: 0.38, f1_score: 0.246684350132626\n",
      "thr: 0.39, f1_score: 0.23118279569892475\n",
      "thr: 0.4, f1_score: 0.2304526748971193\n",
      "thr: 0.41000000000000003, f1_score: 0.223463687150838\n",
      "thr: 0.42000000000000004, f1_score: 0.22190611664295876\n",
      "thr: 0.43, f1_score: 0.2155172413793103\n",
      "thr: 0.44, f1_score: 0.2066957787481805\n",
      "thr: 0.45, f1_score: 0.20444444444444446\n",
      "thr: 0.46, f1_score: 0.1981981981981982\n",
      "thr: 0.47000000000000003, f1_score: 0.19482496194824964\n",
      "thr: 0.48000000000000004, f1_score: 0.175\n",
      "thr: 0.49, f1_score: 0.17034700315457416\n",
      "thr: 0.5, f1_score: 0.15384615384615385\n",
      "thr: 0.51, f1_score: 0.15161290322580645\n",
      "thr: 0.52, f1_score: 0.1377049180327869\n",
      "thr: 0.53, f1_score: 0.1357615894039735\n",
      "thr: 0.54, f1_score: 0.13355592654424042\n",
      "thr: 0.55, f1_score: 0.13377926421404682\n",
      "thr: 0.56, f1_score: 0.12478920741989881\n",
      "thr: 0.5700000000000001, f1_score: 0.11564625850340136\n",
      "thr: 0.5800000000000001, f1_score: 0.11623931623931624\n",
      "thr: 0.59, f1_score: 0.10708117443868738\n",
      "thr: 0.6, f1_score: 0.10434782608695653\n",
      "thr: 0.61, f1_score: 0.10193321616871705\n",
      "thr: 0.62, f1_score: 0.10229276895943562\n",
      "thr: 0.63, f1_score: 0.09591474245115454\n",
      "thr: 0.64, f1_score: 0.09252669039145907\n",
      "thr: 0.65, f1_score: 0.08960573476702509\n",
      "thr: 0.66, f1_score: 0.0867992766726944\n",
      "thr: 0.67, f1_score: 0.08743169398907104\n",
      "thr: 0.68, f1_score: 0.08394160583941605\n",
      "thr: 0.6900000000000001, f1_score: 0.0847145488029466\n",
      "thr: 0.7000000000000001, f1_score: 0.08163265306122448\n",
      "thr: 0.7100000000000001, f1_score: 0.074487895716946\n",
      "thr: 0.72, f1_score: 0.07490636704119849\n",
      "thr: 0.73, f1_score: 0.06049149338374291\n",
      "thr: 0.74, f1_score: 0.05681818181818182\n",
      "thr: 0.75, f1_score: 0.05692599620493358\n",
      "thr: 0.76, f1_score: 0.05323193916349811\n",
      "thr: 0.77, f1_score: 0.05333333333333334\n",
      "thr: 0.78, f1_score: 0.046065259117082535\n",
      "thr: 0.79, f1_score: 0.046153846153846156\n",
      "thr: 0.8, f1_score: 0.04238921001926782\n",
      "thr: 0.81, f1_score: 0.03868471953578337\n",
      "thr: 0.8200000000000001, f1_score: 0.03875968992248062\n",
      "thr: 0.8300000000000001, f1_score: 0.02729044834307992\n",
      "thr: 0.8400000000000001, f1_score: 0.019569471624266144\n",
      "thr: 0.85, f1_score: 0.019646365422396856\n",
      "thr: 0.86, f1_score: 0.019646365422396856\n",
      "thr: 0.87, f1_score: 0.007905138339920948\n",
      "thr: 0.88, f1_score: 0.003976143141153081\n",
      "thr: 0.89, f1_score: 0.003984063745019919\n",
      "thr: 0.9, f1_score: 0.003984063745019919\n",
      "thr: 0.91, f1_score: 0.0\n",
      "thr: 0.92, f1_score: 0.0\n",
      "thr: 0.93, f1_score: 0.0\n",
      "thr: 0.9400000000000001, f1_score: 0.0\n",
      "thr: 0.9500000000000001, f1_score: 0.0\n",
      "thr: 0.9600000000000001, f1_score: 0.0\n",
      "thr: 0.97, f1_score: 0.0\n",
      "thr: 0.98, f1_score: 0.0\n",
      "thr: 0.99, f1_score: 0.0\n",
      "Optimized thr: 0.23, f1 score: 0.3207729468599034\n"
     ]
    }
   ],
   "source": [
    "from sklearn.metrics import f1_score\n",
    "\n",
    "# 0.01 から 0.99 まで 0.01 刻みで閾値を変えて、F1 score を計算する\n",
    "max_f1_score = 0\n",
    "\n",
    "for thr in np.arange(0.01, 1, 0.01):\n",
    "    calc_f1_score = f1_score(train.get_column(\"is_kokuhou\"), (oof > thr).astype(int))\n",
    "    print(f\"thr: {thr}, f1_score: {calc_f1_score}\")\n",
    "    if max_f1_score < calc_f1_score:\n",
    "        max_f1_score = calc_f1_score\n",
    "        best_thr = thr\n",
    "\n",
    "print(f\"Optimized thr: {best_thr}, f1 score: {max_f1_score}\")"
   ]
  },
  {
   "cell_type": "code",
   "execution_count": 79,
   "metadata": {},
   "outputs": [
    {
     "data": {
      "image/png": "[encoded data removed]",
      "text/plain": [
       "<Figure size 1200x600 with 1 Axes>"
      ]
     },
     "metadata": {},
     "output_type": "display_data"
    }
   ],
   "source": [
    "def visualize_importance(models: list, use_col: list) -> None:\n",
    "    \"\"\"lightGBM の model 配列の feature importance を plot する\n",
    "    CVごとのブレを boxen plot として表現します.\n",
    "\n",
    "    args:\n",
    "        models:\n",
    "            List of lightGBM models\n",
    "        feat_train_df:\n",
    "            学習時に使った DataFrame\n",
    "    \"\"\"\n",
    "    feature_importance_df = pd.DataFrame()\n",
    "    for i, model in enumerate(models):\n",
    "        _df = pd.DataFrame()\n",
    "        _df[\"feature_importance\"] = model.feature_importance()\n",
    "        _df[\"column\"] = use_col\n",
    "        _df[\"fold\"] = i + 1\n",
    "        feature_importance_df = pd.concat(\n",
    "            [feature_importance_df, _df], axis=0, ignore_index=True\n",
    "        )\n",
    "\n",
    "    order = (\n",
    "        feature_importance_df.groupby(\"column\")\n",
    "        .sum()[[\"feature_importance\"]]\n",
    "        .sort_values(\"feature_importance\", ascending=False)\n",
    "        .index[:50]\n",
    "    )\n",
    "\n",
    "    fig, ax = plt.subplots(figsize=(12, max(6, len(order) * 0.25)))\n",
    "    sns.boxenplot(\n",
    "        data=feature_importance_df,\n",
    "        x=\"feature_importance\",\n",
    "        y=\"column\",\n",
    "        order=order,\n",
    "        ax=ax,\n",
    "        palette=\"viridis\",\n",
    "        orient=\"h\",\n",
    "    )\n",
    "    ax.tick_params(axis=\"x\", rotation=90)\n",
    "    ax.set_title(\"Importance\")\n",
    "    ax.grid()\n",
    "    fig.tight_layout()\n",
    "    return fig, ax\n",
    "\n",
    "\n",
    "fig, ax = visualize_importance(models, use_col)"
   ]
  },
  {
   "cell_type": "code",
   "execution_count": 80,
   "metadata": {},
   "outputs": [],
   "source": [
    "# k 個のモデルの予測を作成. shape = (5, N_test,).\n",
    "pred = np.array([model.predict(test.select(use_col).to_pandas()) for model in models])\n",
    "\n",
    "# k 個のモデルの予測値の平均 shape = (N_test,).\n",
    "pred = np.mean(pred, axis=0)  # axis=0 なので shape の `k` が潰れる"
   ]
  },
  {
   "cell_type": "code",
   "execution_count": 81,
   "metadata": {},
   "outputs": [
    {
     "data": {
      "image/png": "[encoded data removed]",
      "text/plain": [
       "<Figure size 800x600 with 1 Axes>"
      ]
     },
     "metadata": {},
     "output_type": "display_data"
    }
   ],
   "source": [
    "fig, ax = plt.subplots(figsize=(8, 6))\n",
    "\n",
    "vmax = 0.02\n",
    "# bins = np.linspace(0, 1, 0.1)\n",
    "ax.hist(pred, density=True, alpha=0.5, label=\"Test\")\n",
    "ax.hist(oof, density=True, alpha=0.5, label=\"OutOfFold\")\n",
    "ax.grid()\n",
    "ax.legend()\n",
    "ax.set_title(\"テストと学習時の予測傾向差分\")\n",
    "\n",
    "fig.tight_layout()"
   ]
  },
  {
   "cell_type": "code",
   "execution_count": 82,
   "metadata": {},
   "outputs": [],
   "source": [
    "train.with_columns(pl.Series(oof).cast(pl.Float64).alias(\"oof\")).write_csv(\n",
    "    f\"../oof/oof_{NOTEBOOK_NAME}_f1score_{max_f1_score:.4f}_auc_{oof_score:.4f}.csv\"\n",
    ")"
   ]
  },
  {
   "cell_type": "code",
   "execution_count": 83,
   "metadata": {},
   "outputs": [
    {
     "data": {
      "text/html": [
       "<div><style>\n",
       ".dataframe > thead > tr > th,\n",
       ".dataframe > tbody > tr > td {\n",
       "  text-align: right;\n",
       "}\n",
       "</style>\n",
       "<small>shape: (10_065, 1)</small><table border=\"1\" class=\"dataframe\"><thead><tr><th>is_kokuhou</th></tr><tr><td>i64</td></tr></thead><tbody><tr><td>0</td></tr><tr><td>0</td></tr><tr><td>1</td></tr><tr><td>0</td></tr><tr><td>0</td></tr><tr><td>0</td></tr><tr><td>0</td></tr><tr><td>0</td></tr><tr><td>0</td></tr><tr><td>0</td></tr><tr><td>1</td></tr><tr><td>0</td></tr><tr><td>&hellip;</td></tr><tr><td>0</td></tr><tr><td>0</td></tr><tr><td>0</td></tr><tr><td>0</td></tr><tr><td>0</td></tr><tr><td>0</td></tr><tr><td>0</td></tr><tr><td>0</td></tr><tr><td>0</td></tr><tr><td>0</td></tr><tr><td>0</td></tr><tr><td>0</td></tr></tbody></table></div>"
      ],
      "text/plain": [
       "shape: (10_065, 1)\n",
       "┌────────────┐\n",
       "│ is_kokuhou │\n",
       "│ ---        │\n",
       "│ i64        │\n",
       "╞════════════╡\n",
       "│ 0          │\n",
       "│ 0          │\n",
       "│ 1          │\n",
       "│ 0          │\n",
       "│ …          │\n",
       "│ 0          │\n",
       "│ 0          │\n",
       "│ 0          │\n",
       "│ 0          │\n",
       "└────────────┘"
      ]
     },
     "execution_count": 83,
     "metadata": {},
     "output_type": "execute_result"
    }
   ],
   "source": [
    "sample_submission.with_columns(pl.Series(\"is_kokuhou\", pred > best_thr).cast(int))"
   ]
  },
  {
   "cell_type": "code",
   "execution_count": 84,
   "metadata": {},
   "outputs": [
    {
     "data": {
      "text/html": [
       "<div><style>\n",
       ".dataframe > thead > tr > th,\n",
       ".dataframe > tbody > tr > td {\n",
       "  text-align: right;\n",
       "}\n",
       "</style>\n",
       "<small>shape: (10_065, 1)</small><table border=\"1\" class=\"dataframe\"><thead><tr><th>is_kokuhou</th></tr><tr><td>i64</td></tr></thead><tbody><tr><td>0</td></tr><tr><td>0</td></tr><tr><td>1</td></tr><tr><td>0</td></tr><tr><td>0</td></tr><tr><td>0</td></tr><tr><td>0</td></tr><tr><td>0</td></tr><tr><td>0</td></tr><tr><td>0</td></tr><tr><td>1</td></tr><tr><td>0</td></tr><tr><td>&hellip;</td></tr><tr><td>0</td></tr><tr><td>0</td></tr><tr><td>0</td></tr><tr><td>0</td></tr><tr><td>0</td></tr><tr><td>0</td></tr><tr><td>0</td></tr><tr><td>0</td></tr><tr><td>0</td></tr><tr><td>0</td></tr><tr><td>0</td></tr><tr><td>0</td></tr></tbody></table></div>"
      ],
      "text/plain": [
       "shape: (10_065, 1)\n",
       "┌────────────┐\n",
       "│ is_kokuhou │\n",
       "│ ---        │\n",
       "│ i64        │\n",
       "╞════════════╡\n",
       "│ 0          │\n",
       "│ 0          │\n",
       "│ 1          │\n",
       "│ 0          │\n",
       "│ …          │\n",
       "│ 0          │\n",
       "│ 0          │\n",
       "│ 0          │\n",
       "│ 0          │\n",
       "└────────────┘"
      ]
     },
     "execution_count": 84,
     "metadata": {},
     "output_type": "execute_result"
    }
   ],
   "source": [
    "sample_submission = sample_submission.with_columns(\n",
    "    pl.Series(\"is_kokuhou\", pred > best_thr).cast(int)\n",
    ")\n",
    "sample_submission"
   ]
  },
  {
   "cell_type": "code",
   "execution_count": 85,
   "metadata": {},
   "outputs": [],
   "source": [
    "sample_submission.write_csv(\n",
    "    f\"../sub/{NOTEBOOK_NAME}_f1score_{max_f1_score:.4f}_auc_{oof_score:.4f}.csv\"\n",
    ")"
   ]
  },
  {
   "cell_type": "code",
   "execution_count": null,
   "metadata": {},
   "outputs": [],
   "source": []
  }
 ],
 "metadata": {
  "kernelspec": {
   "display_name": ".venv",
   "language": "python",
   "name": "python3"
  },
  "language_info": {
   "codemirror_mode": {
    "name": "ipython",
    "version": 3
   },
   "file_extension": ".py",
   "mimetype": "text/x-python",
   "name": "python",
   "nbconvert_exporter": "python",
   "pygments_lexer": "ipython3",
   "version": "3.11.3"
  },
  "orig_nbformat": 4
 },
 "nbformat": 4,
 "nbformat_minor": 2
}
