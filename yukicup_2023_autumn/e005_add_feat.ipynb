{
 "cells": [
  {
   "cell_type": "code",
   "execution_count": 29,
   "metadata": {},
   "outputs": [],
   "source": [
    "NOTEBOOK_NAME = \"e005_add_feat\""
   ]
  },
  {
   "cell_type": "code",
   "execution_count": 30,
   "metadata": {},
   "outputs": [],
   "source": [
    "import numpy as np\n",
    "import polars as pl\n",
    "import pandas as pd\n",
    "import lightgbm as lgb\n",
    "import matplotlib.pyplot as plt\n",
    "from sklearn.model_selection import StratifiedKFold\n",
    "from sklearn.metrics import roc_auc_score\n",
    "import seaborn as sns\n",
    "import japanize_matplotlib"
   ]
  },
  {
   "cell_type": "code",
   "execution_count": 31,
   "metadata": {},
   "outputs": [],
   "source": [
    "train = pl.read_csv(\"../data/train.csv\")\n",
    "test = pl.read_csv(\"../data/test.csv\")\n",
    "era = pl.read_csv(\"../data/era.csv\")\n",
    "sample_submission = pl.read_csv(\"../data/sample_submission.csv\")"
   ]
  },
  {
   "cell_type": "markdown",
   "metadata": {},
   "source": [
    "# 前処理"
   ]
  },
  {
   "cell_type": "code",
   "execution_count": 32,
   "metadata": {},
   "outputs": [],
   "source": [
    "import re\n",
    "\n",
    "\n",
    "def get_prefecture(text: str) -> str | None:\n",
    "    all_prefectures = (\n",
    "        \"北海道|青森県|岩手県|宮城県|秋田県|山形県|福島県|\"\n",
    "        + \"茨城県|栃木県|群馬県|埼玉県|千葉県|東京都|神奈川県|\"\n",
    "        + \"新潟県|富山県|石川県|福井県|山梨県|長野県|岐阜県|静岡県|愛知県|\"\n",
    "        + \"三重県|滋賀県|京都府|大阪府|兵庫県|奈良県|和歌山県|\"\n",
    "        + \"鳥取県|島根県|岡山県|広島県|山口県|\"\n",
    "        + \"徳島県|香川県|愛媛県|高知県|\"\n",
    "        + \"福岡県|佐賀県|長崎県|熊本県|大分県|宮崎県|鹿児島県|沖縄県\"\n",
    "    )\n",
    "    if match := re.search(all_prefectures, text):\n",
    "        return match.group(0)\n",
    "    else:\n",
    "        return None\n",
    "\n",
    "\n",
    "# 都道府県を抽出\n",
    "train = train.with_columns(\n",
    "    pl.col(\"都道府県 ※美工品は「所有者住所（所在都道府県）」\").apply(get_prefecture).alias(\"都道府県\")\n",
    ")\n",
    "test = test.with_columns(\n",
    "    pl.col(\"都道府県 ※美工品は「所有者住所（所在都道府県）」\").apply(get_prefecture).alias(\"都道府県\")\n",
    ")\n",
    "\n",
    "train = train.with_columns(pl.col(\"所在地\").apply(get_prefecture).alias(\"所在地_都道府県\"))\n",
    "test = test.with_columns(pl.col(\"所在地\").apply(get_prefecture).alias(\"所在地_都道府県\"))"
   ]
  },
  {
   "cell_type": "code",
   "execution_count": 33,
   "metadata": {},
   "outputs": [
    {
     "name": "stderr",
     "output_type": "stream",
     "text": [
      "/var/folders/4p/kqrm_mh10fn2pjkrxfzxh03c0000gq/T/ipykernel_17946/1010906722.py:32: PolarsInefficientApplyWarning: \n",
      "Expr.apply is significantly slower than the native expressions API.\n",
      "Only use if you absolutely CANNOT implement your logic otherwise.\n",
      "In this case, you can replace your `apply` with the following:\n",
      "  - pl.col(\"種別2\").apply(classify_kenzoubutu_bikouhin)\n",
      "  + pl.col(\"種別2\").is_in(kenzoubutu_feat) & '建造物' & '美工品'\n",
      "\n",
      "  pl.col(\"種別2\").apply(classify_kenzoubutu_bikouhin).alias(\"建造物_or_美工品\")\n",
      "/var/folders/4p/kqrm_mh10fn2pjkrxfzxh03c0000gq/T/ipykernel_17946/1010906722.py:35: PolarsInefficientApplyWarning: \n",
      "Expr.apply is significantly slower than the native expressions API.\n",
      "Only use if you absolutely CANNOT implement your logic otherwise.\n",
      "In this case, you can replace your `apply` with the following:\n",
      "  - pl.col(\"種別2\").apply(classify_kenzoubutu_bikouhin)\n",
      "  + pl.col(\"種別2\").is_in(kenzoubutu_feat) & '建造物' & '美工品'\n",
      "\n",
      "  pl.col(\"種別2\").apply(classify_kenzoubutu_bikouhin).alias(\"建造物_or_美工品\")\n"
     ]
    }
   ],
   "source": [
    "# 種別2より建造物か美工品かを分類する特徴を追加\n",
    "kenzoubutu_feat = [\n",
    "    \"近世以前／神社\",\n",
    "    \"近世以前／神社\",\n",
    "    \"近世以前／寺院\",\n",
    "    \"近世以前／城郭\",\n",
    "    \"近世以前／住宅\",\n",
    "    \"近世以前／民家\",\n",
    "    \"近世以前／その他\",\n",
    "    \"近代／宗教\",\n",
    "    \"近代／学校\",\n",
    "    \"近代／官公庁舎\",\n",
    "    \"近代／産業・交通・土木\",\n",
    "    \"近代／住居\",\n",
    "    \"近代／文化施設\",\n",
    "    \"近代／商業・業務\",\n",
    "    \"近代／その他\",\n",
    "]\n",
    "\n",
    "bikouhin_feat = [\"宝\", \"絵画\", \"彫刻\", \"工芸品\", \"書跡・典籍\", \"古文書\", \"考古資料\", \"歴史資料\"]\n",
    "\n",
    "\n",
    "def classify_kenzoubutu_bikouhin(text: str | None) -> str | None:\n",
    "    if text in kenzoubutu_feat:\n",
    "        return \"建造物\"\n",
    "    elif text in bikouhin_feat:\n",
    "        return \"美工品\"\n",
    "    return None\n",
    "\n",
    "\n",
    "train = train.with_columns(\n",
    "    pl.col(\"種別2\").apply(classify_kenzoubutu_bikouhin).alias(\"建造物_or_美工品\")\n",
    ")\n",
    "test = test.with_columns(\n",
    "    pl.col(\"種別2\").apply(classify_kenzoubutu_bikouhin).alias(\"建造物_or_美工品\")\n",
    ")"
   ]
  },
  {
   "cell_type": "code",
   "execution_count": 34,
   "metadata": {},
   "outputs": [
    {
     "name": "stderr",
     "output_type": "stream",
     "text": [
      "/var/folders/4p/kqrm_mh10fn2pjkrxfzxh03c0000gq/T/ipykernel_17946/808284332.py:34: PolarsInefficientApplyWarning: \n",
      "Expr.apply is significantly slower than the native expressions API.\n",
      "Only use if you absolutely CANNOT implement your logic otherwise.\n",
      "In this case, you can replace your `apply` with the following:\n",
      "  - pl.col(\"種別2\").apply(classify_kenzoubutu_genre)\n",
      "  + (pl.col(\"種別2\") == '近世以前／神社') & '神社' & '寺院' & '城郭' & '住宅' & '民家' & 'その他' & '宗教' & '学校' & '官公庁舎' & '産業・交通・土木' & '住居' & '文化施設' & '商業・業務' & 'その他'\n",
      "\n",
      "  pl.col(\"種別2\").apply(classify_kenzoubutu_genre).alias(\"建造物_種類\")\n",
      "/var/folders/4p/kqrm_mh10fn2pjkrxfzxh03c0000gq/T/ipykernel_17946/808284332.py:36: PolarsInefficientApplyWarning: \n",
      "Expr.apply is significantly slower than the native expressions API.\n",
      "Only use if you absolutely CANNOT implement your logic otherwise.\n",
      "In this case, you can replace your `apply` with the following:\n",
      "  - pl.col(\"種別2\").apply(classify_kenzoubutu_genre)\n",
      "  + (pl.col(\"種別2\") == '近世以前／神社') & '神社' & '寺院' & '城郭' & '住宅' & '民家' & 'その他' & '宗教' & '学校' & '官公庁舎' & '産業・交通・土木' & '住居' & '文化施設' & '商業・業務' & 'その他'\n",
      "\n",
      "  test = test.with_columns(pl.col(\"種別2\").apply(classify_kenzoubutu_genre).alias(\"建造物_種類\"))\n"
     ]
    }
   ],
   "source": [
    "def classify_kenzoubutu_genre(text: str | None) -> str | None:\n",
    "    if text == \"近世以前／神社\":\n",
    "        return \"神社\"\n",
    "    elif text == \"近世以前／寺院\":\n",
    "        return \"寺院\"\n",
    "    elif text == \"近世以前／城郭\":\n",
    "        return \"城郭\"\n",
    "    elif text == \"近世以前／住宅\":\n",
    "        return \"住宅\"\n",
    "    elif text == \"近世以前／民家\":\n",
    "        return \"民家\"\n",
    "    elif text == \"近世以前／その他\":\n",
    "        return \"その他\"\n",
    "    elif text == \"近代／宗教\":\n",
    "        return \"宗教\"\n",
    "    elif text == \"近代／学校\":\n",
    "        return \"学校\"\n",
    "    elif text == \"近代／官公庁舎\":\n",
    "        return \"官公庁舎\"\n",
    "    elif text == \"近代／産業・交通・土木\":\n",
    "        return \"産業・交通・土木\"\n",
    "    elif text == \"近代／住居\":\n",
    "        return \"住居\"\n",
    "    elif text == \"近代／文化施設\":\n",
    "        return \"文化施設\"\n",
    "    elif text == \"近代／商業・業務\":\n",
    "        return \"商業・業務\"\n",
    "    elif text == \"近代／その他\":\n",
    "        return \"その他\"  # ここはその他で被っている\n",
    "    return None\n",
    "\n",
    "\n",
    "train = train.with_columns(\n",
    "    pl.col(\"種別2\").apply(classify_kenzoubutu_genre).alias(\"建造物_種類\")\n",
    ")\n",
    "test = test.with_columns(pl.col(\"種別2\").apply(classify_kenzoubutu_genre).alias(\"建造物_種類\"))"
   ]
  },
  {
   "cell_type": "code",
   "execution_count": 35,
   "metadata": {},
   "outputs": [],
   "source": [
    "# 時代を取得する\n",
    "import re\n",
    "\n",
    "\n",
    "def get_era(text: str) -> str | None:\n",
    "    all_era = [\n",
    "        \"鎌倉\",\n",
    "        \"元\",\n",
    "        \"古墳\",\n",
    "        \"江戸\",\n",
    "        \"高麗\",\n",
    "        \"室町\",\n",
    "        \"昭和\",\n",
    "        \"大正\",\n",
    "        \"唐\",\n",
    "        \"桃山\",\n",
    "        \"奈良\",\n",
    "        \"縄文\",\n",
    "        \"縄文\",\n",
    "        \"南宋\",\n",
    "        \"南北朝\",\n",
    "        \"飛鳥\",\n",
    "        \"平安\",\n",
    "        \"北宋\",\n",
    "        \"明治\",\n",
    "        \"弥生\",\n",
    "        \"明\",\n",
    "    ]\n",
    "    for era in all_era:\n",
    "        if era in text:\n",
    "            return era\n",
    "    return None\n",
    "\n",
    "\n",
    "# 時代を抽出\n",
    "train = train.with_columns(pl.col(\"時代\").apply(get_era).alias(\"時代_抽出\"))\n",
    "test = test.with_columns(pl.col(\"時代\").apply(get_era).alias(\"時代_抽出\"))"
   ]
  },
  {
   "cell_type": "code",
   "execution_count": 36,
   "metadata": {},
   "outputs": [
    {
     "data": {
      "text/html": [
       "<div><style>\n",
       ".dataframe > thead > tr > th,\n",
       ".dataframe > tbody > tr > td {\n",
       "  text-align: right;\n",
       "}\n",
       "</style>\n",
       "<small>shape: (10_065, 16)</small><table border=\"1\" class=\"dataframe\"><thead><tr><th>棟名</th><th>種別2</th><th>国</th><th>時代</th><th>都道府県 ※美工品は「所有者住所（所在都道府県）」</th><th>所在地</th><th>保管施設の名称</th><th>所有者名</th><th>管理団体又は責任者</th><th>緯度</th><th>経度</th><th>都道府県</th><th>所在地_都道府県</th><th>建造物_or_美工品</th><th>建造物_種類</th><th>時代_抽出</th></tr><tr><td>str</td><td>str</td><td>str</td><td>str</td><td>str</td><td>str</td><td>str</td><td>str</td><td>str</td><td>f64</td><td>f64</td><td>str</td><td>str</td><td>str</td><td>str</td><td>str</td></tr></thead><tbody><tr><td>null</td><td>&quot;工芸品&quot;</td><td>&quot;日本&quot;</td><td>&quot;江戸&quot;</td><td>&quot;京都府（京都府）&quot;</td><td>null</td><td>null</td><td>&quot;相国寺&quot;</td><td>null</td><td>null</td><td>null</td><td>&quot;京都府&quot;</td><td>null</td><td>&quot;美工品&quot;</td><td>null</td><td>&quot;江戸&quot;</td></tr><tr><td>null</td><td>&quot;絵画&quot;</td><td>&quot;日本&quot;</td><td>&quot;平安&quot;</td><td>&quot;和歌山県（和歌山県）&quot;</td><td>null</td><td>null</td><td>&quot;西禅院&quot;</td><td>&quot;財団法人高野山文化財保存会&quot;</td><td>null</td><td>null</td><td>&quot;和歌山県&quot;</td><td>null</td><td>&quot;美工品&quot;</td><td>null</td><td>&quot;平安&quot;</td></tr><tr><td>null</td><td>&quot;絵画&quot;</td><td>&quot;日本&quot;</td><td>&quot;平安&quot;</td><td>&quot;東京都（東京都）&quot;</td><td>&quot;東京都世田谷区上野毛3-9-…</td><td>&quot;公益財団法人五島美術館&quot;</td><td>&quot;東急株式会社&quot;</td><td>null</td><td>35.61229</td><td>139.6355</td><td>&quot;東京都&quot;</td><td>&quot;東京都&quot;</td><td>&quot;美工品&quot;</td><td>null</td><td>&quot;平安&quot;</td></tr><tr><td>null</td><td>&quot;近世以前／神社&quot;</td><td>null</td><td>&quot;江戸前期&quot;</td><td>&quot;和歌山県&quot;</td><td>&quot;和歌山県有田郡広川町大字上中…</td><td>null</td><td>&quot;廣八幡宮&quot;</td><td>null</td><td>34.017835</td><td>135.175324</td><td>&quot;和歌山県&quot;</td><td>&quot;和歌山県&quot;</td><td>&quot;建造物&quot;</td><td>&quot;神社&quot;</td><td>&quot;江戸&quot;</td></tr><tr><td>null</td><td>&quot;彫刻&quot;</td><td>&quot;日本&quot;</td><td>&quot;平安&quot;</td><td>&quot;山形県（山形県）&quot;</td><td>null</td><td>null</td><td>&quot;吉祥院&quot;</td><td>null</td><td>null</td><td>null</td><td>&quot;山形県&quot;</td><td>null</td><td>&quot;美工品&quot;</td><td>null</td><td>&quot;平安&quot;</td></tr><tr><td>null</td><td>&quot;絵画&quot;</td><td>&quot;日本&quot;</td><td>&quot;平安&quot;</td><td>&quot;和歌山県（和歌山県）&quot;</td><td>null</td><td>null</td><td>&quot;有志八幡講&quot;</td><td>&quot;財団法人高野山文化財保存会&quot;</td><td>null</td><td>null</td><td>&quot;和歌山県&quot;</td><td>null</td><td>&quot;美工品&quot;</td><td>null</td><td>&quot;平安&quot;</td></tr><tr><td>null</td><td>&quot;彫刻&quot;</td><td>null</td><td>&quot;飛鳥&quot;</td><td>&quot;大分県（大分県）&quot;</td><td>&quot;大分県中津市1290番地&quot;</td><td>&quot;中津市歴史博物館&quot;</td><td>&quot;長谷寺&quot;</td><td>null</td><td>33.604307</td><td>131.183881</td><td>&quot;大分県&quot;</td><td>&quot;大分県&quot;</td><td>&quot;美工品&quot;</td><td>null</td><td>&quot;飛鳥&quot;</td></tr><tr><td>&quot;道具倉&quot;</td><td>&quot;近世以前／民家&quot;</td><td>null</td><td>&quot;江戸末期&quot;</td><td>&quot;石川県&quot;</td><td>&quot;石川県羽咋郡宝達志水町北川尻…</td><td>null</td><td>&quot;宝達志水町&quot;</td><td>null</td><td>36.80452</td><td>136.7416</td><td>&quot;石川県&quot;</td><td>&quot;石川県&quot;</td><td>&quot;建造物&quot;</td><td>&quot;民家&quot;</td><td>&quot;江戸&quot;</td></tr><tr><td>null</td><td>&quot;彫刻&quot;</td><td>&quot;日本&quot;</td><td>&quot;平安&quot;</td><td>&quot;兵庫県（兵庫県）&quot;</td><td>null</td><td>null</td><td>&quot;見性寺&quot;</td><td>null</td><td>null</td><td>null</td><td>&quot;兵庫県&quot;</td><td>null</td><td>&quot;美工品&quot;</td><td>null</td><td>&quot;平安&quot;</td></tr><tr><td>null</td><td>&quot;彫刻&quot;</td><td>&quot;日本&quot;</td><td>&quot;鎌倉&quot;</td><td>&quot;石川県（石川県）&quot;</td><td>null</td><td>null</td><td>&quot;松岡寺&quot;</td><td>null</td><td>null</td><td>null</td><td>&quot;石川県&quot;</td><td>null</td><td>&quot;美工品&quot;</td><td>null</td><td>&quot;鎌倉&quot;</td></tr><tr><td>null</td><td>&quot;近世以前／神社&quot;</td><td>null</td><td>&quot;鎌倉後期&quot;</td><td>&quot;京都府&quot;</td><td>&quot;京都府宇治市宇治山田&quot;</td><td>null</td><td>&quot;宇治神社&quot;</td><td>null</td><td>34.89107</td><td>135.8107</td><td>&quot;京都府&quot;</td><td>&quot;京都府&quot;</td><td>&quot;建造物&quot;</td><td>&quot;神社&quot;</td><td>&quot;鎌倉&quot;</td></tr><tr><td>&quot;表書院&quot;</td><td>&quot;近世以前／住宅&quot;</td><td>null</td><td>&quot;江戸前期&quot;</td><td>&quot;香川県&quot;</td><td>&quot;香川県仲多度郡琴平町&quot;</td><td>null</td><td>&quot;金刀比羅宮&quot;</td><td>null</td><td>34.18405</td><td>133.8114</td><td>&quot;香川県&quot;</td><td>&quot;香川県&quot;</td><td>&quot;建造物&quot;</td><td>&quot;住宅&quot;</td><td>&quot;江戸&quot;</td></tr><tr><td>&hellip;</td><td>&hellip;</td><td>&hellip;</td><td>&hellip;</td><td>&hellip;</td><td>&hellip;</td><td>&hellip;</td><td>&hellip;</td><td>&hellip;</td><td>&hellip;</td><td>&hellip;</td><td>&hellip;</td><td>&hellip;</td><td>&hellip;</td><td>&hellip;</td><td>&hellip;</td></tr><tr><td>null</td><td>&quot;近世以前／神社&quot;</td><td>null</td><td>&quot;室町後期&quot;</td><td>&quot;兵庫県&quot;</td><td>&quot;兵庫県三木市吉川町前田&quot;</td><td>null</td><td>&quot;天津神社&quot;</td><td>null</td><td>34.90921</td><td>135.1164</td><td>&quot;兵庫県&quot;</td><td>&quot;兵庫県&quot;</td><td>&quot;建造物&quot;</td><td>&quot;神社&quot;</td><td>&quot;室町&quot;</td></tr><tr><td>&quot;守衛室&quot;</td><td>&quot;近代／学校&quot;</td><td>null</td><td>&quot;明治&quot;</td><td>&quot;奈良県&quot;</td><td>&quot;奈良県奈良市北魚屋東町&quot;</td><td>null</td><td>&quot;国立大学法人奈良国立大学機構…</td><td>null</td><td>34.687984</td><td>135.829479</td><td>&quot;奈良県&quot;</td><td>&quot;奈良県&quot;</td><td>&quot;建造物&quot;</td><td>&quot;学校&quot;</td><td>&quot;明治&quot;</td></tr><tr><td>null</td><td>&quot;工芸品&quot;</td><td>&quot;日本&quot;</td><td>&quot;鎌倉&quot;</td><td>&quot;和歌山県（和歌山県）&quot;</td><td>null</td><td>null</td><td>&quot;宗教法人金剛峯寺&quot;</td><td>&quot;財団法人高野山文化財保存会&quot;</td><td>null</td><td>null</td><td>&quot;和歌山県&quot;</td><td>null</td><td>&quot;美工品&quot;</td><td>null</td><td>&quot;鎌倉&quot;</td></tr><tr><td>null</td><td>&quot;彫刻&quot;</td><td>&quot;日本&quot;</td><td>&quot;平安・鎌倉&quot;</td><td>&quot;大阪府（大阪府）&quot;</td><td>&quot;大阪府泉大津市旭町22-45…</td><td>&quot;泉大津市立織編館&quot;</td><td>&quot;泉穴師神社&quot;</td><td>null</td><td>34.49644</td><td>135.4199</td><td>&quot;大阪府&quot;</td><td>&quot;大阪府&quot;</td><td>&quot;美工品&quot;</td><td>null</td><td>&quot;鎌倉&quot;</td></tr><tr><td>null</td><td>&quot;工芸品&quot;</td><td>&quot;日本&quot;</td><td>&quot;南北朝&quot;</td><td>&quot;広島県（広島県）&quot;</td><td>null</td><td>null</td><td>&quot;厳島神社&quot;</td><td>null</td><td>null</td><td>null</td><td>&quot;広島県&quot;</td><td>null</td><td>&quot;美工品&quot;</td><td>null</td><td>&quot;南北朝&quot;</td></tr><tr><td>&quot;本殿&quot;</td><td>&quot;近世以前／神社&quot;</td><td>null</td><td>&quot;江戸前期&quot;</td><td>&quot;大阪府&quot;</td><td>&quot;大阪府阪南市石田&quot;</td><td>null</td><td>&quot;波太神社&quot;</td><td>null</td><td>34.34397</td><td>135.2448</td><td>&quot;大阪府&quot;</td><td>&quot;大阪府&quot;</td><td>&quot;建造物&quot;</td><td>&quot;神社&quot;</td><td>&quot;江戸&quot;</td></tr><tr><td>null</td><td>&quot;古文書&quot;</td><td>&quot;日本&quot;</td><td>&quot;鎌倉&quot;</td><td>&quot;京都府（京都府）&quot;</td><td>null</td><td>null</td><td>&quot;八坂神社&quot;</td><td>null</td><td>null</td><td>null</td><td>&quot;京都府&quot;</td><td>null</td><td>&quot;美工品&quot;</td><td>null</td><td>&quot;鎌倉&quot;</td></tr><tr><td>null</td><td>&quot;近世以前／住宅&quot;</td><td>null</td><td>&quot;桃山&quot;</td><td>&quot;奈良県&quot;</td><td>&quot;奈良県生駒郡斑鳩町法隆寺山内…</td><td>null</td><td>&quot;法隆寺&quot;</td><td>null</td><td>34.61321</td><td>135.7341</td><td>&quot;奈良県&quot;</td><td>&quot;奈良県&quot;</td><td>&quot;建造物&quot;</td><td>&quot;住宅&quot;</td><td>&quot;桃山&quot;</td></tr><tr><td>&quot;清浄門&quot;</td><td>&quot;近世以前／神社&quot;</td><td>null</td><td>&quot;室町前期&quot;</td><td>&quot;奈良県&quot;</td><td>&quot;奈良県奈良市春日野町&quot;</td><td>null</td><td>&quot;春日大社&quot;</td><td>null</td><td>34.68142</td><td>135.848</td><td>&quot;奈良県&quot;</td><td>&quot;奈良県&quot;</td><td>&quot;建造物&quot;</td><td>&quot;神社&quot;</td><td>&quot;室町&quot;</td></tr><tr><td>null</td><td>&quot;書跡・典籍&quot;</td><td>&quot;中国&quot;</td><td>&quot;唐&quot;</td><td>&quot;東京都（東京都）&quot;</td><td>&quot;東京都世田谷区上野毛3-9-…</td><td>&quot;公益財団法人五島美術館&quot;</td><td>&quot;公益財団法人五島美術館&quot;</td><td>null</td><td>35.61229</td><td>139.6355</td><td>&quot;東京都&quot;</td><td>&quot;東京都&quot;</td><td>&quot;美工品&quot;</td><td>null</td><td>&quot;唐&quot;</td></tr><tr><td>null</td><td>&quot;絵画&quot;</td><td>&quot;日本&quot;</td><td>&quot;室町&quot;</td><td>&quot;東京都（京都府）&quot;</td><td>null</td><td>null</td><td>&quot;公益財団法人荏原畠山記念文化…</td><td>null</td><td>null</td><td>null</td><td>&quot;東京都&quot;</td><td>null</td><td>&quot;美工品&quot;</td><td>null</td><td>&quot;室町&quot;</td></tr><tr><td>null</td><td>&quot;絵画&quot;</td><td>&quot;日本&quot;</td><td>&quot;江戸&quot;</td><td>&quot;京都府（京都府）&quot;</td><td>null</td><td>null</td><td>&quot;万福寺&quot;</td><td>null</td><td>null</td><td>null</td><td>&quot;京都府&quot;</td><td>null</td><td>&quot;美工品&quot;</td><td>null</td><td>&quot;江戸&quot;</td></tr></tbody></table></div>"
      ],
      "text/plain": [
       "shape: (10_065, 16)\n",
       "┌────────┬─────────────┬──────┬──────────┬───┬─────────────┬─────────────┬─────────────┬───────────┐\n",
       "│ 棟名   ┆ 種別2       ┆ 国   ┆ 時代     ┆ … ┆ 所在地_都道 ┆ 建造物_or_  ┆ 建造物_種類 ┆ 時代_抽出 │\n",
       "│ ---    ┆ ---         ┆ ---  ┆ ---      ┆   ┆ 府県        ┆ 美工品      ┆ ---         ┆ ---       │\n",
       "│ str    ┆ str         ┆ str  ┆ str      ┆   ┆ ---         ┆ ---         ┆ str         ┆ str       │\n",
       "│        ┆             ┆      ┆          ┆   ┆ str         ┆ str         ┆             ┆           │\n",
       "╞════════╪═════════════╪══════╪══════════╪═══╪═════════════╪═════════════╪═════════════╪═══════════╡\n",
       "│ null   ┆ 工芸品      ┆ 日本 ┆ 江戸     ┆ … ┆ null        ┆ 美工品      ┆ null        ┆ 江戸      │\n",
       "│ null   ┆ 絵画        ┆ 日本 ┆ 平安     ┆ … ┆ null        ┆ 美工品      ┆ null        ┆ 平安      │\n",
       "│ null   ┆ 絵画        ┆ 日本 ┆ 平安     ┆ … ┆ 東京都      ┆ 美工品      ┆ null        ┆ 平安      │\n",
       "│ null   ┆ 近世以前／  ┆ null ┆ 江戸前期 ┆ … ┆ 和歌山県    ┆ 建造物      ┆ 神社        ┆ 江戸      │\n",
       "│        ┆ 神社        ┆      ┆          ┆   ┆             ┆             ┆             ┆           │\n",
       "│ …      ┆ …           ┆ …    ┆ …        ┆ … ┆ …           ┆ …           ┆ …           ┆ …         │\n",
       "│ 清浄門 ┆ 近世以前／  ┆ null ┆ 室町前期 ┆ … ┆ 奈良県      ┆ 建造物      ┆ 神社        ┆ 室町      │\n",
       "│        ┆ 神社        ┆      ┆          ┆   ┆             ┆             ┆             ┆           │\n",
       "│ null   ┆ 書跡・典籍  ┆ 中国 ┆ 唐       ┆ … ┆ 東京都      ┆ 美工品      ┆ null        ┆ 唐        │\n",
       "│ null   ┆ 絵画        ┆ 日本 ┆ 室町     ┆ … ┆ null        ┆ 美工品      ┆ null        ┆ 室町      │\n",
       "│ null   ┆ 絵画        ┆ 日本 ┆ 江戸     ┆ … ┆ null        ┆ 美工品      ┆ null        ┆ 江戸      │\n",
       "└────────┴─────────────┴──────┴──────────┴───┴─────────────┴─────────────┴─────────────┴───────────┘"
      ]
     },
     "execution_count": 36,
     "metadata": {},
     "output_type": "execute_result"
    }
   ],
   "source": [
    "test"
   ]
  },
  {
   "cell_type": "code",
   "execution_count": 37,
   "metadata": {},
   "outputs": [],
   "source": [
    "# 抽出した時代と、era.csvを紐づける\n",
    "train = train.join(era, left_on=\"時代_抽出\", right_on=\"時代\", how=\"left\")\n",
    "test = test.join(era, left_on=\"時代_抽出\", right_on=\"時代\", how=\"left\")\n",
    "\n",
    "# 開始 -終了の期間を計算する\n",
    "train = train.with_columns((pl.col(\"終了\") - pl.col(\"開始\")).alias(\"時代_期間\"))\n",
    "\n",
    "test = test.with_columns((pl.col(\"終了\") - pl.col(\"開始\")).alias(\"時代_期間\"))"
   ]
  },
  {
   "cell_type": "markdown",
   "metadata": {},
   "source": [
    "# データ型の変更"
   ]
  },
  {
   "cell_type": "code",
   "execution_count": 38,
   "metadata": {},
   "outputs": [
    {
     "data": {
      "text/html": [
       "<div><style>\n",
       ".dataframe > thead > tr > th,\n",
       ".dataframe > tbody > tr > td {\n",
       "  text-align: right;\n",
       "}\n",
       "</style>\n",
       "<small>shape: (5, 21)</small><table border=\"1\" class=\"dataframe\"><thead><tr><th>名称</th><th>棟名</th><th>種別2</th><th>国</th><th>時代</th><th>都道府県 ※美工品は「所有者住所（所在都道府県）」</th><th>所在地</th><th>保管施設の名称</th><th>所有者名</th><th>管理団体又は責任者</th><th>緯度</th><th>経度</th><th>is_kokuhou</th><th>都道府県</th><th>所在地_都道府県</th><th>建造物_or_美工品</th><th>建造物_種類</th><th>時代_抽出</th><th>開始</th><th>終了</th><th>時代_期間</th></tr><tr><td>str</td><td>str</td><td>str</td><td>str</td><td>str</td><td>str</td><td>str</td><td>str</td><td>str</td><td>str</td><td>f64</td><td>f64</td><td>i64</td><td>str</td><td>str</td><td>str</td><td>str</td><td>str</td><td>i64</td><td>i64</td><td>i64</td></tr></thead><tbody><tr><td>&quot;泉布観&quot;</td><td>null</td><td>&quot;近代／文化施設&quot;</td><td>null</td><td>&quot;明治&quot;</td><td>&quot;大阪府&quot;</td><td>&quot;大阪府大阪市北区天満橋一丁目…</td><td>null</td><td>&quot;大阪市&quot;</td><td>null</td><td>34.69811</td><td>135.5214</td><td>0</td><td>&quot;大阪府&quot;</td><td>&quot;大阪府&quot;</td><td>&quot;建造物&quot;</td><td>&quot;文化施設&quot;</td><td>&quot;明治&quot;</td><td>1868</td><td>1912</td><td>44</td></tr><tr><td>&quot;絹本著色准胝仏母像&quot;</td><td>null</td><td>&quot;絵画&quot;</td><td>&quot;日本&quot;</td><td>&quot;鎌倉&quot;</td><td>&quot;京都府（京都府）&quot;</td><td>null</td><td>null</td><td>&quot;広隆寺&quot;</td><td>null</td><td>null</td><td>null</td><td>0</td><td>&quot;京都府&quot;</td><td>null</td><td>&quot;美工品&quot;</td><td>null</td><td>&quot;鎌倉&quot;</td><td>1185</td><td>1333</td><td>148</td></tr><tr><td>&quot;石上神宮拝殿&quot;</td><td>null</td><td>&quot;近世以前／寺院&quot;</td><td>null</td><td>&quot;鎌倉前期&quot;</td><td>&quot;奈良県&quot;</td><td>&quot;奈良県天理市布留町&quot;</td><td>null</td><td>&quot;石上神宮&quot;</td><td>null</td><td>34.5978</td><td>135.852</td><td>1</td><td>&quot;奈良県&quot;</td><td>&quot;奈良県&quot;</td><td>&quot;建造物&quot;</td><td>&quot;寺院&quot;</td><td>&quot;鎌倉&quot;</td><td>1185</td><td>1333</td><td>148</td></tr><tr><td>&quot;剣〈銘真守（備前）／〉&quot;</td><td>null</td><td>&quot;工芸品&quot;</td><td>&quot;日本&quot;</td><td>&quot;鎌倉&quot;</td><td>&quot;和歌山県（和歌山県）&quot;</td><td>null</td><td>null</td><td>&quot;宗教法人金剛峯寺&quot;</td><td>&quot;財団法人高野山文化財保存会&quot;</td><td>null</td><td>null</td><td>0</td><td>&quot;和歌山県&quot;</td><td>null</td><td>&quot;美工品&quot;</td><td>null</td><td>&quot;鎌倉&quot;</td><td>1185</td><td>1333</td><td>148</td></tr><tr><td>&quot;旧新町紡績所&quot;</td><td>&quot;工場本館&quot;</td><td>&quot;近代／産業・交通・土木&quot;</td><td>null</td><td>&quot;明治&quot;</td><td>&quot;群馬県&quot;</td><td>&quot;群馬県高崎市新町二三三〇番地…</td><td>null</td><td>&quot;クラシエフーズ株式会社&quot;</td><td>null</td><td>36.27766</td><td>139.1003</td><td>0</td><td>&quot;群馬県&quot;</td><td>&quot;群馬県&quot;</td><td>&quot;建造物&quot;</td><td>&quot;産業・交通・土木&quot;</td><td>&quot;明治&quot;</td><td>1868</td><td>1912</td><td>44</td></tr></tbody></table></div>"
      ],
      "text/plain": [
       "shape: (5, 21)\n",
       "┌───────────────────┬──────────┬──────────────────┬──────┬───┬───────────┬──────┬──────┬───────────┐\n",
       "│ 名称              ┆ 棟名     ┆ 種別2            ┆ 国   ┆ … ┆ 時代_抽出 ┆ 開始 ┆ 終了 ┆ 時代_期間 │\n",
       "│ ---               ┆ ---      ┆ ---              ┆ ---  ┆   ┆ ---       ┆ ---  ┆ ---  ┆ ---       │\n",
       "│ str               ┆ str      ┆ str              ┆ str  ┆   ┆ str       ┆ i64  ┆ i64  ┆ i64       │\n",
       "╞═══════════════════╪══════════╪══════════════════╪══════╪═══╪═══════════╪══════╪══════╪═══════════╡\n",
       "│ 泉布観            ┆ null     ┆ 近代／文化施設   ┆ null ┆ … ┆ 明治      ┆ 1868 ┆ 1912 ┆ 44        │\n",
       "│ 絹本著色准胝仏母  ┆ null     ┆ 絵画             ┆ 日本 ┆ … ┆ 鎌倉      ┆ 1185 ┆ 1333 ┆ 148       │\n",
       "│ 像                ┆          ┆                  ┆      ┆   ┆           ┆      ┆      ┆           │\n",
       "│ 石上神宮拝殿      ┆ null     ┆ 近世以前／寺院   ┆ null ┆ … ┆ 鎌倉      ┆ 1185 ┆ 1333 ┆ 148       │\n",
       "│ 剣〈銘真守（備前  ┆ null     ┆ 工芸品           ┆ 日本 ┆ … ┆ 鎌倉      ┆ 1185 ┆ 1333 ┆ 148       │\n",
       "│ ）／〉            ┆          ┆                  ┆      ┆   ┆           ┆      ┆      ┆           │\n",
       "│ 旧新町紡績所      ┆ 工場本館 ┆ 近代／産業・交通 ┆ null ┆ … ┆ 明治      ┆ 1868 ┆ 1912 ┆ 44        │\n",
       "│                   ┆          ┆ ・土木           ┆      ┆   ┆           ┆      ┆      ┆           │\n",
       "└───────────────────┴──────────┴──────────────────┴──────┴───┴───────────┴──────┴──────┴───────────┘"
      ]
     },
     "execution_count": 38,
     "metadata": {},
     "output_type": "execute_result"
    }
   ],
   "source": [
    "train.head()"
   ]
  },
  {
   "cell_type": "code",
   "execution_count": 39,
   "metadata": {},
   "outputs": [],
   "source": [
    "categorical_cols = [\n",
    "    \"棟名\",\n",
    "    \"種別2\",\n",
    "    \"国\",\n",
    "    \"都道府県 ※美工品は「所有者住所（所在都道府県）」\",\n",
    "    \"時代\",\n",
    "    \"保管施設の名称\",\n",
    "    \"所有者名\",\n",
    "    \"管理団体又は責任者\",\n",
    "    \"都道府県\",\n",
    "    \"所在地_都道府県\",\n",
    "    \"建造物_or_美工品\",\n",
    "    \"建造物_種類\",\n",
    "    \"時代_抽出\",\n",
    "]"
   ]
  },
  {
   "cell_type": "code",
   "execution_count": 40,
   "metadata": {},
   "outputs": [],
   "source": [
    "for col in categorical_cols:\n",
    "    train = train.with_columns(pl.col(col).cast(pl.Categorical).alias(col))\n",
    "    test = test.with_columns(pl.col(col).cast(pl.Categorical).alias(col))"
   ]
  },
  {
   "cell_type": "markdown",
   "metadata": {},
   "source": [
    "# Fold"
   ]
  },
  {
   "cell_type": "code",
   "execution_count": 41,
   "metadata": {},
   "outputs": [],
   "source": [
    "FOLD_NUM = 5"
   ]
  },
  {
   "cell_type": "code",
   "execution_count": 42,
   "metadata": {},
   "outputs": [],
   "source": [
    "empty = np.zeros(train.height)\n",
    "fold = StratifiedKFold(n_splits=FOLD_NUM, shuffle=True, random_state=33)\n",
    "\n",
    "for idx, (_, val_idx) in enumerate(fold.split(train, train.get_column(\"is_kokuhou\"))):\n",
    "    empty[val_idx] = idx\n",
    "\n",
    "train = train.with_columns(pl.Series(empty).cast(pl.Int64).alias(\"fold\"))"
   ]
  },
  {
   "cell_type": "markdown",
   "metadata": {},
   "source": [
    "# LightGBM"
   ]
  },
  {
   "cell_type": "code",
   "execution_count": 43,
   "metadata": {},
   "outputs": [
    {
     "data": {
      "text/plain": [
       "18"
      ]
     },
     "execution_count": 43,
     "metadata": {},
     "output_type": "execute_result"
    }
   ],
   "source": [
    "use_col = []\n",
    "\n",
    "base_col = [\"緯度\", \"経度\", \"開始\", \"終了\", \"時代_期間\"]\n",
    "\n",
    "use_col += base_col\n",
    "use_col += categorical_cols\n",
    "\n",
    "len(use_col)"
   ]
  },
  {
   "cell_type": "code",
   "execution_count": 44,
   "metadata": {},
   "outputs": [
    {
     "data": {
      "text/plain": [
       "['緯度',\n",
       " '経度',\n",
       " '開始',\n",
       " '終了',\n",
       " '時代_期間',\n",
       " '棟名',\n",
       " '種別2',\n",
       " '国',\n",
       " '都道府県 ※美工品は「所有者住所（所在都道府県）」',\n",
       " '時代',\n",
       " '保管施設の名称',\n",
       " '所有者名',\n",
       " '管理団体又は責任者',\n",
       " '都道府県',\n",
       " '所在地_都道府県',\n",
       " '建造物_or_美工品',\n",
       " '建造物_種類',\n",
       " '時代_抽出']"
      ]
     },
     "execution_count": 44,
     "metadata": {},
     "output_type": "execute_result"
    }
   ],
   "source": [
    "use_col"
   ]
  },
  {
   "cell_type": "code",
   "execution_count": 45,
   "metadata": {},
   "outputs": [],
   "source": [
    "# LightGBMで用いるパラメーターを指定\n",
    "# ref: https://lightgbm.readthedocs.io/en/v3.3.5/Parameters.html\n",
    "params = {\"objective\": \"binary\", \"metric\": \"auc\", \"verbose\": -1, \"seed\": 33}"
   ]
  },
  {
   "cell_type": "code",
   "execution_count": 46,
   "metadata": {},
   "outputs": [
    {
     "name": "stdout",
     "output_type": "stream",
     "text": [
      "Start fold 0\n",
      "Training until validation scores don't improve for 100 rounds\n",
      "Early stopping, best iteration is:\n",
      "[78]\ttraining's auc: 0.970844\tvalid_1's auc: 0.850012\n",
      "fold 0 Score: 0.850012077294686\n",
      "Start fold 1\n",
      "Training until validation scores don't improve for 100 rounds\n",
      "Early stopping, best iteration is:\n",
      "[40]\ttraining's auc: 0.950397\tvalid_1's auc: 0.814271\n",
      "fold 1 Score: 0.8142713365539452\n",
      "Start fold 2\n",
      "Training until validation scores don't improve for 100 rounds\n",
      "Early stopping, best iteration is:\n",
      "[79]\ttraining's auc: 0.96989\tvalid_1's auc: 0.835407\n",
      "fold 2 Score: 0.8354066022544284\n",
      "Start fold 3\n",
      "Training until validation scores don't improve for 100 rounds\n",
      "Early stopping, best iteration is:\n",
      "[35]\ttraining's auc: 0.947927\tvalid_1's auc: 0.804549\n",
      "fold 3 Score: 0.8045491143317229\n",
      "Start fold 4\n",
      "Training until validation scores don't improve for 100 rounds\n",
      "Early stopping, best iteration is:\n",
      "[142]\ttraining's auc: 0.985118\tvalid_1's auc: 0.795494\n",
      "fold 4 Score: 0.7954938926608212\n"
     ]
    }
   ],
   "source": [
    "# 学習データ全体に対する推論結果を保存するobjectを作成\n",
    "oof = np.zeros((len(train)))\n",
    "\n",
    "# テストデータに対する推論、特徴量重要度(後述)を計算するために、モデルを保存するobjectを作成\n",
    "models = []\n",
    "\n",
    "# Cross Validationによる学習の実施\n",
    "for fold in range(FOLD_NUM):\n",
    "    print(f\"Start fold {fold}\")\n",
    "\n",
    "    # polarsをpandasに変換\n",
    "    train_pd = train.to_pandas()\n",
    "\n",
    "    # foldごとにtrainとvalidに分ける\n",
    "    train_fold = train_pd[train_pd[\"fold\"] != fold]\n",
    "    valid_fold = train_pd[train_pd[\"fold\"] == fold]\n",
    "\n",
    "    # X(説明変数)とy(目的変数)に分ける\n",
    "    X_train = train_fold.drop(\"is_kokuhou\", axis=1)\n",
    "    X_valid = valid_fold.drop(\"is_kokuhou\", axis=1)\n",
    "    y_train = train_fold[[\"is_kokuhou\"]]\n",
    "    y_valid = valid_fold[[\"is_kokuhou\"]]\n",
    "\n",
    "    # 利用する説明変数に限定する\n",
    "    X_train = X_train[use_col]\n",
    "    X_valid = X_valid[use_col]\n",
    "\n",
    "    # LightGBMが認識可能な形にデータセットを変換\n",
    "    lgb_train = lgb.Dataset(X_train, y_train)\n",
    "    lgb_eval = lgb.Dataset(X_valid, y_valid, reference=lgb_train)\n",
    "\n",
    "    # モデルの学習\n",
    "    model = lgb.train(\n",
    "        params,\n",
    "        lgb_train,\n",
    "        num_boost_round=10000,  # 学習のiteration回数\n",
    "        valid_sets=[lgb_train, lgb_eval],\n",
    "        callbacks=[\n",
    "            lgb.early_stopping(stopping_rounds=100)\n",
    "        ],  # Early stopingの回数、binary_loglossが改善しないiterationが100回続いたら学習を止める\n",
    "    )\n",
    "\n",
    "    # モデルを保存\n",
    "    models.append(model)\n",
    "\n",
    "    # validデータに対する推論\n",
    "    y_valid_pred = model.predict(X_valid, num_iteration=model.best_iteration)\n",
    "\n",
    "    # validデータに対する推論の性能を計算\n",
    "    calc_f1_score = roc_auc_score(y_valid, y_valid_pred)\n",
    "    print(f\"fold {fold} Score: {calc_f1_score}\")\n",
    "\n",
    "    # oofに推論結果を保存\n",
    "    valid_idx = X_valid.index\n",
    "    oof[valid_idx] = y_valid_pred"
   ]
  },
  {
   "cell_type": "code",
   "execution_count": 47,
   "metadata": {},
   "outputs": [
    {
     "data": {
      "text/plain": [
       "0.8107008723734686"
      ]
     },
     "execution_count": 47,
     "metadata": {},
     "output_type": "execute_result"
    }
   ],
   "source": [
    "oof_score = roc_auc_score(y_true=train.get_column(\"is_kokuhou\"), y_score=oof)\n",
    "oof_score"
   ]
  },
  {
   "cell_type": "code",
   "execution_count": 48,
   "metadata": {},
   "outputs": [
    {
     "name": "stdout",
     "output_type": "stream",
     "text": [
      "thr: 0.01, f1_score: 0.20810810810810812\n",
      "thr: 0.02, f1_score: 0.24279379157427936\n",
      "thr: 0.03, f1_score: 0.2709424083769633\n",
      "thr: 0.04, f1_score: 0.2920754716981132\n",
      "thr: 0.05, f1_score: 0.3042934556065028\n",
      "thr: 0.060000000000000005, f1_score: 0.3135669362084456\n",
      "thr: 0.06999999999999999, f1_score: 0.3257612373127115\n",
      "thr: 0.08, f1_score: 0.3331630045988759\n",
      "thr: 0.09, f1_score: 0.33890987587695626\n",
      "thr: 0.09999999999999999, f1_score: 0.34619750283768447\n",
      "thr: 0.11, f1_score: 0.34725536992840095\n",
      "thr: 0.12, f1_score: 0.345771144278607\n",
      "thr: 0.13, f1_score: 0.3411154345006485\n",
      "thr: 0.14, f1_score: 0.34417344173441733\n",
      "thr: 0.15000000000000002, f1_score: 0.34745762711864403\n",
      "thr: 0.16, f1_score: 0.34045689019896835\n",
      "thr: 0.17, f1_score: 0.33919022154316275\n",
      "thr: 0.18000000000000002, f1_score: 0.33941316415543216\n",
      "thr: 0.19, f1_score: 0.339622641509434\n",
      "thr: 0.2, f1_score: 0.3327615780445969\n",
      "thr: 0.21000000000000002, f1_score: 0.33303964757709253\n",
      "thr: 0.22, f1_score: 0.33363719234275296\n",
      "thr: 0.23, f1_score: 0.34178403755868547\n",
      "thr: 0.24000000000000002, f1_score: 0.33753637245392826\n",
      "thr: 0.25, f1_score: 0.33266533066132264\n",
      "thr: 0.26, f1_score: 0.3271983640081799\n",
      "thr: 0.27, f1_score: 0.32285115303983225\n",
      "thr: 0.28, f1_score: 0.32900432900432897\n",
      "thr: 0.29000000000000004, f1_score: 0.3192904656319291\n",
      "thr: 0.3, f1_score: 0.3201803833145434\n",
      "thr: 0.31, f1_score: 0.3138602520045819\n",
      "thr: 0.32, f1_score: 0.30409356725146197\n",
      "thr: 0.33, f1_score: 0.293491124260355\n",
      "thr: 0.34, f1_score: 0.28776978417266186\n",
      "thr: 0.35000000000000003, f1_score: 0.2804428044280443\n",
      "thr: 0.36000000000000004, f1_score: 0.27680798004987534\n",
      "thr: 0.37, f1_score: 0.26108998732572875\n",
      "thr: 0.38, f1_score: 0.2564766839378238\n",
      "thr: 0.39, f1_score: 0.24934383202099739\n",
      "thr: 0.4, f1_score: 0.24032042723631514\n",
      "thr: 0.41000000000000003, f1_score: 0.22826086956521735\n",
      "thr: 0.42000000000000004, f1_score: 0.22005571030640667\n",
      "thr: 0.43, f1_score: 0.21186440677966098\n",
      "thr: 0.44, f1_score: 0.20857142857142855\n",
      "thr: 0.45, f1_score: 0.19854014598540146\n",
      "thr: 0.46, f1_score: 0.18666666666666668\n",
      "thr: 0.47000000000000003, f1_score: 0.18424962852897472\n",
      "thr: 0.48000000000000004, f1_score: 0.17664670658682635\n",
      "thr: 0.49, f1_score: 0.17021276595744678\n",
      "thr: 0.5, f1_score: 0.1614906832298137\n",
      "thr: 0.51, f1_score: 0.15384615384615385\n",
      "thr: 0.52, f1_score: 0.1518987341772152\n",
      "thr: 0.53, f1_score: 0.13870967741935483\n",
      "thr: 0.54, f1_score: 0.13680781758957652\n",
      "thr: 0.55, f1_score: 0.1342062193126023\n",
      "thr: 0.56, f1_score: 0.129783693843594\n",
      "thr: 0.5700000000000001, f1_score: 0.12499999999999999\n",
      "thr: 0.5800000000000001, f1_score: 0.12265758091993186\n",
      "thr: 0.59, f1_score: 0.1135972461273666\n",
      "thr: 0.6, f1_score: 0.11091854419410745\n",
      "thr: 0.61, f1_score: 0.10934744268077602\n",
      "thr: 0.62, f1_score: 0.10934744268077602\n",
      "thr: 0.63, f1_score: 0.10638297872340426\n",
      "thr: 0.64, f1_score: 0.10320284697508898\n",
      "thr: 0.65, f1_score: 0.09660107334525939\n",
      "thr: 0.66, f1_score: 0.09352517985611511\n",
      "thr: 0.67, f1_score: 0.09352517985611511\n",
      "thr: 0.68, f1_score: 0.08333333333333334\n",
      "thr: 0.6900000000000001, f1_score: 0.08409506398537477\n",
      "thr: 0.7000000000000001, f1_score: 0.07366482504604051\n",
      "thr: 0.7100000000000001, f1_score: 0.0670391061452514\n",
      "thr: 0.72, f1_score: 0.05649717514124294\n",
      "thr: 0.73, f1_score: 0.05681818181818182\n",
      "thr: 0.74, f1_score: 0.057034220532319393\n",
      "thr: 0.75, f1_score: 0.05714285714285715\n",
      "thr: 0.76, f1_score: 0.05747126436781609\n",
      "thr: 0.77, f1_score: 0.057692307692307696\n",
      "thr: 0.78, f1_score: 0.05394990366088632\n",
      "thr: 0.79, f1_score: 0.05394990366088632\n",
      "thr: 0.8, f1_score: 0.05405405405405406\n",
      "thr: 0.81, f1_score: 0.042801556420233464\n",
      "thr: 0.8200000000000001, f1_score: 0.038986354775828465\n",
      "thr: 0.8300000000000001, f1_score: 0.03515625\n",
      "thr: 0.8400000000000001, f1_score: 0.03131115459882583\n",
      "thr: 0.85, f1_score: 0.02745098039215686\n",
      "thr: 0.86, f1_score: 0.02745098039215686\n",
      "thr: 0.87, f1_score: 0.02357563850687623\n",
      "thr: 0.88, f1_score: 0.01968503937007874\n",
      "thr: 0.89, f1_score: 0.015779092702169623\n",
      "thr: 0.9, f1_score: 0.015779092702169623\n",
      "thr: 0.91, f1_score: 0.015779092702169623\n",
      "thr: 0.92, f1_score: 0.011881188118811883\n",
      "thr: 0.93, f1_score: 0.003976143141153081\n",
      "thr: 0.9400000000000001, f1_score: 0.003984063745019919\n",
      "thr: 0.9500000000000001, f1_score: 0.0\n",
      "thr: 0.9600000000000001, f1_score: 0.0\n",
      "thr: 0.97, f1_score: 0.0\n",
      "thr: 0.98, f1_score: 0.0\n",
      "thr: 0.99, f1_score: 0.0\n",
      "Optimized thr: 0.15000000000000002, f1 score: 0.34745762711864403\n"
     ]
    }
   ],
   "source": [
    "from sklearn.metrics import f1_score\n",
    "\n",
    "# 0.01 から 0.99 まで 0.01 刻みで閾値を変えて、F1 score を計算する\n",
    "max_f1_score = 0\n",
    "\n",
    "for thr in np.arange(0.01, 1, 0.01):\n",
    "    calc_f1_score = f1_score(train.get_column(\"is_kokuhou\"), (oof > thr).astype(int))\n",
    "    print(f\"thr: {thr}, f1_score: {calc_f1_score}\")\n",
    "    if max_f1_score < calc_f1_score:\n",
    "        max_f1_score = calc_f1_score\n",
    "        best_thr = thr\n",
    "\n",
    "print(f\"Optimized thr: {best_thr}, f1 score: {max_f1_score}\")"
   ]
  },
  {
   "cell_type": "code",
   "execution_count": 49,
   "metadata": {},
   "outputs": [
    {
     "data": {
      "image/png": "[encoded data removed]",
      "text/plain": [
       "<Figure size 1200x600 with 1 Axes>"
      ]
     },
     "metadata": {},
     "output_type": "display_data"
    }
   ],
   "source": [
    "def visualize_importance(models: list, use_col: list) -> None:\n",
    "    \"\"\"lightGBM の model 配列の feature importance を plot する\n",
    "    CVごとのブレを boxen plot として表現します.\n",
    "\n",
    "    args:\n",
    "        models:\n",
    "            List of lightGBM models\n",
    "        feat_train_df:\n",
    "            学習時に使った DataFrame\n",
    "    \"\"\"\n",
    "    feature_importance_df = pd.DataFrame()\n",
    "    for i, model in enumerate(models):\n",
    "        _df = pd.DataFrame()\n",
    "        _df[\"feature_importance\"] = model.feature_importance()\n",
    "        _df[\"column\"] = use_col\n",
    "        _df[\"fold\"] = i + 1\n",
    "        feature_importance_df = pd.concat(\n",
    "            [feature_importance_df, _df], axis=0, ignore_index=True\n",
    "        )\n",
    "\n",
    "    order = (\n",
    "        feature_importance_df.groupby(\"column\")\n",
    "        .sum()[[\"feature_importance\"]]\n",
    "        .sort_values(\"feature_importance\", ascending=False)\n",
    "        .index[:50]\n",
    "    )\n",
    "\n",
    "    fig, ax = plt.subplots(figsize=(12, max(6, len(order) * 0.25)))\n",
    "    sns.boxenplot(\n",
    "        data=feature_importance_df,\n",
    "        x=\"feature_importance\",\n",
    "        y=\"column\",\n",
    "        order=order,\n",
    "        ax=ax,\n",
    "        palette=\"viridis\",\n",
    "        orient=\"h\",\n",
    "    )\n",
    "    ax.tick_params(axis=\"x\", rotation=90)\n",
    "    ax.set_title(\"Importance\")\n",
    "    ax.grid()\n",
    "    fig.tight_layout()\n",
    "    return fig, ax\n",
    "\n",
    "\n",
    "fig, ax = visualize_importance(models, use_col)"
   ]
  },
  {
   "cell_type": "code",
   "execution_count": 50,
   "metadata": {},
   "outputs": [],
   "source": [
    "# k 個のモデルの予測を作成. shape = (5, N_test,).\n",
    "pred = np.array([model.predict(test.select(use_col).to_pandas()) for model in models])\n",
    "\n",
    "# k 個のモデルの予測値の平均 shape = (N_test,).\n",
    "pred = np.mean(pred, axis=0)  # axis=0 なので shape の `k` が潰れる"
   ]
  },
  {
   "cell_type": "code",
   "execution_count": 51,
   "metadata": {},
   "outputs": [
    {
     "data": {
      "image/png": "[encoded data removed]",
      "text/plain": [
       "<Figure size 800x600 with 1 Axes>"
      ]
     },
     "metadata": {},
     "output_type": "display_data"
    }
   ],
   "source": [
    "fig, ax = plt.subplots(figsize=(8, 6))\n",
    "\n",
    "vmax = 0.02\n",
    "# bins = np.linspace(0, 1, 0.1)\n",
    "ax.hist(pred, density=True, alpha=0.5, label=\"Test\")\n",
    "ax.hist(oof, density=True, alpha=0.5, label=\"OutOfFold\")\n",
    "ax.grid()\n",
    "ax.legend()\n",
    "ax.set_title(\"テストと学習時の予測傾向差分\")\n",
    "\n",
    "fig.tight_layout()"
   ]
  },
  {
   "cell_type": "code",
   "execution_count": 52,
   "metadata": {},
   "outputs": [],
   "source": [
    "train.with_columns(pl.Series(oof).cast(pl.Float64).alias(\"oof\")).write_csv(\n",
    "    f\"../oof/oof_{NOTEBOOK_NAME}_f1score_{max_f1_score:.4f}_auc_{oof_score:.4f}.csv\"\n",
    ")"
   ]
  },
  {
   "cell_type": "code",
   "execution_count": 53,
   "metadata": {},
   "outputs": [
    {
     "data": {
      "text/html": [
       "<div><style>\n",
       ".dataframe > thead > tr > th,\n",
       ".dataframe > tbody > tr > td {\n",
       "  text-align: right;\n",
       "}\n",
       "</style>\n",
       "<small>shape: (10_065, 1)</small><table border=\"1\" class=\"dataframe\"><thead><tr><th>is_kokuhou</th></tr><tr><td>i64</td></tr></thead><tbody><tr><td>0</td></tr><tr><td>1</td></tr><tr><td>1</td></tr><tr><td>0</td></tr><tr><td>0</td></tr><tr><td>1</td></tr><tr><td>1</td></tr><tr><td>0</td></tr><tr><td>0</td></tr><tr><td>0</td></tr><tr><td>1</td></tr><tr><td>0</td></tr><tr><td>&hellip;</td></tr><tr><td>0</td></tr><tr><td>0</td></tr><tr><td>0</td></tr><tr><td>0</td></tr><tr><td>0</td></tr><tr><td>0</td></tr><tr><td>0</td></tr><tr><td>0</td></tr><tr><td>0</td></tr><tr><td>0</td></tr><tr><td>0</td></tr><tr><td>0</td></tr></tbody></table></div>"
      ],
      "text/plain": [
       "shape: (10_065, 1)\n",
       "┌────────────┐\n",
       "│ is_kokuhou │\n",
       "│ ---        │\n",
       "│ i64        │\n",
       "╞════════════╡\n",
       "│ 0          │\n",
       "│ 1          │\n",
       "│ 1          │\n",
       "│ 0          │\n",
       "│ …          │\n",
       "│ 0          │\n",
       "│ 0          │\n",
       "│ 0          │\n",
       "│ 0          │\n",
       "└────────────┘"
      ]
     },
     "execution_count": 53,
     "metadata": {},
     "output_type": "execute_result"
    }
   ],
   "source": [
    "sample_submission.with_columns(pl.Series(\"is_kokuhou\", pred > best_thr).cast(int))"
   ]
  },
  {
   "cell_type": "code",
   "execution_count": 54,
   "metadata": {},
   "outputs": [
    {
     "data": {
      "text/html": [
       "<div><style>\n",
       ".dataframe > thead > tr > th,\n",
       ".dataframe > tbody > tr > td {\n",
       "  text-align: right;\n",
       "}\n",
       "</style>\n",
       "<small>shape: (10_065, 1)</small><table border=\"1\" class=\"dataframe\"><thead><tr><th>is_kokuhou</th></tr><tr><td>i64</td></tr></thead><tbody><tr><td>0</td></tr><tr><td>1</td></tr><tr><td>1</td></tr><tr><td>0</td></tr><tr><td>0</td></tr><tr><td>1</td></tr><tr><td>1</td></tr><tr><td>0</td></tr><tr><td>0</td></tr><tr><td>0</td></tr><tr><td>1</td></tr><tr><td>0</td></tr><tr><td>&hellip;</td></tr><tr><td>0</td></tr><tr><td>0</td></tr><tr><td>0</td></tr><tr><td>0</td></tr><tr><td>0</td></tr><tr><td>0</td></tr><tr><td>0</td></tr><tr><td>0</td></tr><tr><td>0</td></tr><tr><td>0</td></tr><tr><td>0</td></tr><tr><td>0</td></tr></tbody></table></div>"
      ],
      "text/plain": [
       "shape: (10_065, 1)\n",
       "┌────────────┐\n",
       "│ is_kokuhou │\n",
       "│ ---        │\n",
       "│ i64        │\n",
       "╞════════════╡\n",
       "│ 0          │\n",
       "│ 1          │\n",
       "│ 1          │\n",
       "│ 0          │\n",
       "│ …          │\n",
       "│ 0          │\n",
       "│ 0          │\n",
       "│ 0          │\n",
       "│ 0          │\n",
       "└────────────┘"
      ]
     },
     "execution_count": 54,
     "metadata": {},
     "output_type": "execute_result"
    }
   ],
   "source": [
    "sample_submission = sample_submission.with_columns(\n",
    "    pl.Series(\"is_kokuhou\", pred > best_thr).cast(int)\n",
    ")\n",
    "sample_submission"
   ]
  },
  {
   "cell_type": "code",
   "execution_count": 55,
   "metadata": {},
   "outputs": [],
   "source": [
    "sample_submission.write_csv(\n",
    "    f\"../sub/{NOTEBOOK_NAME}_f1score_{max_f1_score:.4f}_auc_{oof_score:.4f}.csv\"\n",
    ")"
   ]
  },
  {
   "cell_type": "code",
   "execution_count": null,
   "metadata": {},
   "outputs": [],
   "source": []
  }
 ],
 "metadata": {
  "kernelspec": {
   "display_name": ".venv",
   "language": "python",
   "name": "python3"
  },
  "language_info": {
   "codemirror_mode": {
    "name": "ipython",
    "version": 3
   },
   "file_extension": ".py",
   "mimetype": "text/x-python",
   "name": "python",
   "nbconvert_exporter": "python",
   "pygments_lexer": "ipython3",
   "version": "3.11.3"
  },
  "orig_nbformat": 4
 },
 "nbformat": 4,
 "nbformat_minor": 2
}
