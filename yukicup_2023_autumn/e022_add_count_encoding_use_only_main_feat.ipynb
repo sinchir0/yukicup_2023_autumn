{
 "cells": [
  {
   "cell_type": "code",
   "execution_count": 109,
   "metadata": {},
   "outputs": [],
   "source": [
    "NOTEBOOK_NAME = \"e022_add_count_encoding_use_only_main_feat\""
   ]
  },
  {
   "cell_type": "code",
   "execution_count": 110,
   "metadata": {},
   "outputs": [],
   "source": [
    "import numpy as np\n",
    "import polars as pl\n",
    "import pandas as pd\n",
    "import lightgbm as lgb\n",
    "import matplotlib.pyplot as plt\n",
    "from sklearn.model_selection import StratifiedKFold\n",
    "from sklearn.metrics import roc_auc_score\n",
    "import seaborn as sns\n",
    "import japanize_matplotlib"
   ]
  },
  {
   "cell_type": "code",
   "execution_count": 111,
   "metadata": {},
   "outputs": [],
   "source": [
    "train = pl.read_csv(\"../data/train.csv\")\n",
    "test = pl.read_csv(\"../data/test.csv\")\n",
    "era = pl.read_csv(\"../data/era_improve.csv\")\n",
    "sample_submission = pl.read_csv(\"../data/sample_submission.csv\")"
   ]
  },
  {
   "cell_type": "markdown",
   "metadata": {},
   "source": [
    "# 前処理"
   ]
  },
  {
   "cell_type": "code",
   "execution_count": 112,
   "metadata": {},
   "outputs": [],
   "source": [
    "import re\n",
    "\n",
    "\n",
    "def get_prefecture(text: str) -> str | None:\n",
    "    all_prefectures = (\n",
    "        \"北海道|青森県|岩手県|宮城県|秋田県|山形県|福島県|\"\n",
    "        + \"茨城県|栃木県|群馬県|埼玉県|千葉県|東京都|神奈川県|\"\n",
    "        + \"新潟県|富山県|石川県|福井県|山梨県|長野県|岐阜県|静岡県|愛知県|\"\n",
    "        + \"三重県|滋賀県|京都府|大阪府|兵庫県|奈良県|和歌山県|\"\n",
    "        + \"鳥取県|島根県|岡山県|広島県|山口県|\"\n",
    "        + \"徳島県|香川県|愛媛県|高知県|\"\n",
    "        + \"福岡県|佐賀県|長崎県|熊本県|大分県|宮崎県|鹿児島県|沖縄県\"\n",
    "    )\n",
    "    if match := re.search(all_prefectures, text):\n",
    "        return match.group(0)\n",
    "    else:\n",
    "        return None\n",
    "\n",
    "\n",
    "# 都道府県を抽出\n",
    "train = train.with_columns(\n",
    "    pl.col(\"都道府県 ※美工品は「所有者住所（所在都道府県）」\").apply(get_prefecture).alias(\"都道府県\")\n",
    ")\n",
    "test = test.with_columns(\n",
    "    pl.col(\"都道府県 ※美工品は「所有者住所（所在都道府県）」\").apply(get_prefecture).alias(\"都道府県\")\n",
    ")\n",
    "\n",
    "train = train.with_columns(pl.col(\"所在地\").apply(get_prefecture).alias(\"所在地_都道府県\"))\n",
    "test = test.with_columns(pl.col(\"所在地\").apply(get_prefecture).alias(\"所在地_都道府県\"))"
   ]
  },
  {
   "cell_type": "code",
   "execution_count": 113,
   "metadata": {},
   "outputs": [
    {
     "name": "stderr",
     "output_type": "stream",
     "text": [
      "/var/folders/4p/kqrm_mh10fn2pjkrxfzxh03c0000gq/T/ipykernel_28313/1010906722.py:32: PolarsInefficientApplyWarning: \n",
      "Expr.apply is significantly slower than the native expressions API.\n",
      "Only use if you absolutely CANNOT implement your logic otherwise.\n",
      "In this case, you can replace your `apply` with the following:\n",
      "  - pl.col(\"種別2\").apply(classify_kenzoubutu_bikouhin)\n",
      "  + pl.col(\"種別2\").is_in(kenzoubutu_feat) & '建造物' & '美工品'\n",
      "\n",
      "  pl.col(\"種別2\").apply(classify_kenzoubutu_bikouhin).alias(\"建造物_or_美工品\")\n",
      "/var/folders/4p/kqrm_mh10fn2pjkrxfzxh03c0000gq/T/ipykernel_28313/1010906722.py:35: PolarsInefficientApplyWarning: \n",
      "Expr.apply is significantly slower than the native expressions API.\n",
      "Only use if you absolutely CANNOT implement your logic otherwise.\n",
      "In this case, you can replace your `apply` with the following:\n",
      "  - pl.col(\"種別2\").apply(classify_kenzoubutu_bikouhin)\n",
      "  + pl.col(\"種別2\").is_in(kenzoubutu_feat) & '建造物' & '美工品'\n",
      "\n",
      "  pl.col(\"種別2\").apply(classify_kenzoubutu_bikouhin).alias(\"建造物_or_美工品\")\n"
     ]
    }
   ],
   "source": [
    "# 種別2より建造物か美工品かを分類する特徴を追加\n",
    "kenzoubutu_feat = [\n",
    "    \"近世以前／神社\",\n",
    "    \"近世以前／神社\",\n",
    "    \"近世以前／寺院\",\n",
    "    \"近世以前／城郭\",\n",
    "    \"近世以前／住宅\",\n",
    "    \"近世以前／民家\",\n",
    "    \"近世以前／その他\",\n",
    "    \"近代／宗教\",\n",
    "    \"近代／学校\",\n",
    "    \"近代／官公庁舎\",\n",
    "    \"近代／産業・交通・土木\",\n",
    "    \"近代／住居\",\n",
    "    \"近代／文化施設\",\n",
    "    \"近代／商業・業務\",\n",
    "    \"近代／その他\",\n",
    "]\n",
    "\n",
    "bikouhin_feat = [\"宝\", \"絵画\", \"彫刻\", \"工芸品\", \"書跡・典籍\", \"古文書\", \"考古資料\", \"歴史資料\"]\n",
    "\n",
    "\n",
    "def classify_kenzoubutu_bikouhin(text: str | None) -> str | None:\n",
    "    if text in kenzoubutu_feat:\n",
    "        return \"建造物\"\n",
    "    elif text in bikouhin_feat:\n",
    "        return \"美工品\"\n",
    "    return None\n",
    "\n",
    "\n",
    "train = train.with_columns(\n",
    "    pl.col(\"種別2\").apply(classify_kenzoubutu_bikouhin).alias(\"建造物_or_美工品\")\n",
    ")\n",
    "test = test.with_columns(\n",
    "    pl.col(\"種別2\").apply(classify_kenzoubutu_bikouhin).alias(\"建造物_or_美工品\")\n",
    ")"
   ]
  },
  {
   "cell_type": "code",
   "execution_count": 114,
   "metadata": {},
   "outputs": [
    {
     "name": "stderr",
     "output_type": "stream",
     "text": [
      "/var/folders/4p/kqrm_mh10fn2pjkrxfzxh03c0000gq/T/ipykernel_28313/808284332.py:34: PolarsInefficientApplyWarning: \n",
      "Expr.apply is significantly slower than the native expressions API.\n",
      "Only use if you absolutely CANNOT implement your logic otherwise.\n",
      "In this case, you can replace your `apply` with the following:\n",
      "  - pl.col(\"種別2\").apply(classify_kenzoubutu_genre)\n",
      "  + (pl.col(\"種別2\") == '近世以前／神社') & '神社' & '寺院' & '城郭' & '住宅' & '民家' & 'その他' & '宗教' & '学校' & '官公庁舎' & '産業・交通・土木' & '住居' & '文化施設' & '商業・業務' & 'その他'\n",
      "\n",
      "  pl.col(\"種別2\").apply(classify_kenzoubutu_genre).alias(\"建造物_種類\")\n",
      "/var/folders/4p/kqrm_mh10fn2pjkrxfzxh03c0000gq/T/ipykernel_28313/808284332.py:36: PolarsInefficientApplyWarning: \n",
      "Expr.apply is significantly slower than the native expressions API.\n",
      "Only use if you absolutely CANNOT implement your logic otherwise.\n",
      "In this case, you can replace your `apply` with the following:\n",
      "  - pl.col(\"種別2\").apply(classify_kenzoubutu_genre)\n",
      "  + (pl.col(\"種別2\") == '近世以前／神社') & '神社' & '寺院' & '城郭' & '住宅' & '民家' & 'その他' & '宗教' & '学校' & '官公庁舎' & '産業・交通・土木' & '住居' & '文化施設' & '商業・業務' & 'その他'\n",
      "\n",
      "  test = test.with_columns(pl.col(\"種別2\").apply(classify_kenzoubutu_genre).alias(\"建造物_種類\"))\n"
     ]
    }
   ],
   "source": [
    "def classify_kenzoubutu_genre(text: str | None) -> str | None:\n",
    "    if text == \"近世以前／神社\":\n",
    "        return \"神社\"\n",
    "    elif text == \"近世以前／寺院\":\n",
    "        return \"寺院\"\n",
    "    elif text == \"近世以前／城郭\":\n",
    "        return \"城郭\"\n",
    "    elif text == \"近世以前／住宅\":\n",
    "        return \"住宅\"\n",
    "    elif text == \"近世以前／民家\":\n",
    "        return \"民家\"\n",
    "    elif text == \"近世以前／その他\":\n",
    "        return \"その他\"\n",
    "    elif text == \"近代／宗教\":\n",
    "        return \"宗教\"\n",
    "    elif text == \"近代／学校\":\n",
    "        return \"学校\"\n",
    "    elif text == \"近代／官公庁舎\":\n",
    "        return \"官公庁舎\"\n",
    "    elif text == \"近代／産業・交通・土木\":\n",
    "        return \"産業・交通・土木\"\n",
    "    elif text == \"近代／住居\":\n",
    "        return \"住居\"\n",
    "    elif text == \"近代／文化施設\":\n",
    "        return \"文化施設\"\n",
    "    elif text == \"近代／商業・業務\":\n",
    "        return \"商業・業務\"\n",
    "    elif text == \"近代／その他\":\n",
    "        return \"その他\"  # ここはその他で被っている\n",
    "    return None\n",
    "\n",
    "\n",
    "train = train.with_columns(\n",
    "    pl.col(\"種別2\").apply(classify_kenzoubutu_genre).alias(\"建造物_種類\")\n",
    ")\n",
    "test = test.with_columns(pl.col(\"種別2\").apply(classify_kenzoubutu_genre).alias(\"建造物_種類\"))"
   ]
  },
  {
   "cell_type": "code",
   "execution_count": 115,
   "metadata": {},
   "outputs": [],
   "source": [
    "# 時代を取得する\n",
    "import re\n",
    "\n",
    "\n",
    "def get_era(text: str) -> str | None:\n",
    "    all_era = [\n",
    "        \"鎌倉\",\n",
    "        \"元\",\n",
    "        \"古墳\",\n",
    "        \"江戸\",\n",
    "        \"高麗\",\n",
    "        \"室町\",\n",
    "        \"昭和\",\n",
    "        \"大正\",\n",
    "        \"唐\",\n",
    "        \"桃山\",\n",
    "        \"奈良\",\n",
    "        \"縄文\",\n",
    "        \"縄文\",\n",
    "        \"南宋\",\n",
    "        \"南北朝\",\n",
    "        \"飛鳥\",\n",
    "        \"平安\",\n",
    "        \"北宋\",\n",
    "        \"明治\",\n",
    "        \"弥生\",\n",
    "        \"明\",\n",
    "    ]\n",
    "    for era in all_era:\n",
    "        if era in text:\n",
    "            return era\n",
    "    return None\n",
    "\n",
    "\n",
    "# 時代を抽出\n",
    "train = train.with_columns(pl.col(\"時代\").apply(get_era).alias(\"時代_抽出\"))\n",
    "test = test.with_columns(pl.col(\"時代\").apply(get_era).alias(\"時代_抽出\"))"
   ]
  },
  {
   "cell_type": "code",
   "execution_count": 116,
   "metadata": {},
   "outputs": [],
   "source": [
    "def get_shoyusya_genre(text: str) -> str | None:\n",
    "    words = [\n",
    "        \"神宮\",\n",
    "        \"八幡宮\",\n",
    "        \"神社\",\n",
    "        \"株式会社\",\n",
    "        \"有限会社\",\n",
    "        \"研究機構\",\n",
    "        \"独立行政法人\",\n",
    "        \"公益財団法人\",\n",
    "        \"財団法人\",\n",
    "        \"学校法人\",\n",
    "        \"大学\",\n",
    "        \"県\",\n",
    "        \"市\",\n",
    "        \"区\",\n",
    "        \"国\",\n",
    "        \"寺\",\n",
    "    ]\n",
    "    for word in words:\n",
    "        if word in text:\n",
    "            return word\n",
    "    return None\n",
    "\n",
    "\n",
    "train = train.with_columns(pl.col(\"所有者名\").apply(get_shoyusya_genre).alias(\"所有者名_genre\"))\n",
    "test = test.with_columns(pl.col(\"所有者名\").apply(get_shoyusya_genre).alias(\"所有者名_genre\"))"
   ]
  },
  {
   "cell_type": "code",
   "execution_count": 117,
   "metadata": {},
   "outputs": [
    {
     "data": {
      "text/html": [
       "<div><style>\n",
       ".dataframe > thead > tr > th,\n",
       ".dataframe > tbody > tr > td {\n",
       "  text-align: right;\n",
       "}\n",
       "</style>\n",
       "<small>shape: (277, 3)</small><table border=\"1\" class=\"dataframe\"><thead><tr><th>時代</th><th>開始</th><th>終了</th></tr><tr><td>str</td><td>i64</td><td>i64</td></tr></thead><tbody><tr><td>&quot;鎌倉&quot;</td><td>1185</td><td>1333</td></tr><tr><td>&quot;平安&quot;</td><td>794</td><td>1185</td></tr><tr><td>&quot;明治&quot;</td><td>1868</td><td>1912</td></tr><tr><td>&quot;桃山&quot;</td><td>1573</td><td>1603</td></tr><tr><td>&quot;江戸中期&quot;</td><td>1603</td><td>1868</td></tr><tr><td>&quot;室町&quot;</td><td>1336</td><td>1573</td></tr><tr><td>&quot;南北朝&quot;</td><td>1337</td><td>1392</td></tr><tr><td>&quot;江戸前期&quot;</td><td>1603</td><td>1868</td></tr><tr><td>&quot;江戸&quot;</td><td>1603</td><td>1868</td></tr><tr><td>&quot;江戸後期&quot;</td><td>1603</td><td>1868</td></tr><tr><td>&quot;奈良&quot;</td><td>710</td><td>794</td></tr><tr><td>&quot;江戸末期&quot;</td><td>1603</td><td>1868</td></tr><tr><td>&hellip;</td><td>&hellip;</td><td>&hellip;</td></tr><tr><td>&quot;平安時代、鎌倉時代&quot;</td><td>794</td><td>1333</td></tr><tr><td>&quot;平安/鎌倉&quot;</td><td>794</td><td>1333</td></tr><tr><td>&quot;古墳時代　後期&quot;</td><td>250</td><td>538</td></tr><tr><td>&quot;南北朝、室町、桃山、江戸&quot;</td><td>1336</td><td>1868</td></tr><tr><td>&quot;鎌倉ー南北朝&quot;</td><td>1185</td><td>1392</td></tr><tr><td>&quot;室町～江戸時代&quot;</td><td>1336</td><td>1868</td></tr><tr><td>&quot;隋時代&quot;</td><td>0</td><td>0</td></tr><tr><td>&quot;（奈良）&quot;</td><td>710</td><td>794</td></tr><tr><td>&quot;南北朝／室町&quot;</td><td>1336</td><td>1573</td></tr><tr><td>&quot;―&quot;</td><td>0</td><td>0</td></tr><tr><td>&quot;桃山　（附）江戸&quot;</td><td>1573</td><td>1603</td></tr><tr><td>&quot;縄文晩期～続縄文&quot;</td><td>-14000</td><td>-400</td></tr></tbody></table></div>"
      ],
      "text/plain": [
       "shape: (277, 3)\n",
       "┌──────────────────┬────────┬──────┐\n",
       "│ 時代             ┆ 開始   ┆ 終了 │\n",
       "│ ---              ┆ ---    ┆ ---  │\n",
       "│ str              ┆ i64    ┆ i64  │\n",
       "╞══════════════════╪════════╪══════╡\n",
       "│ 鎌倉             ┆ 1185   ┆ 1333 │\n",
       "│ 平安             ┆ 794    ┆ 1185 │\n",
       "│ 明治             ┆ 1868   ┆ 1912 │\n",
       "│ 桃山             ┆ 1573   ┆ 1603 │\n",
       "│ …                ┆ …      ┆ …    │\n",
       "│ 南北朝／室町     ┆ 1336   ┆ 1573 │\n",
       "│ ―                ┆ 0      ┆ 0    │\n",
       "│ 桃山　（附）江戸 ┆ 1573   ┆ 1603 │\n",
       "│ 縄文晩期～続縄文 ┆ -14000 ┆ -400 │\n",
       "└──────────────────┴────────┴──────┘"
      ]
     },
     "execution_count": 117,
     "metadata": {},
     "output_type": "execute_result"
    }
   ],
   "source": [
    "era"
   ]
  },
  {
   "cell_type": "code",
   "execution_count": 118,
   "metadata": {},
   "outputs": [
    {
     "data": {
      "text/html": [
       "<div><style>\n",
       ".dataframe > thead > tr > th,\n",
       ".dataframe > tbody > tr > td {\n",
       "  text-align: right;\n",
       "}\n",
       "</style>\n",
       "<small>shape: (6_710, 21)</small><table border=\"1\" class=\"dataframe\"><thead><tr><th>名称</th><th>棟名</th><th>種別2</th><th>国</th><th>時代</th><th>都道府県 ※美工品は「所有者住所（所在都道府県）」</th><th>所在地</th><th>保管施設の名称</th><th>所有者名</th><th>管理団体又は責任者</th><th>緯度</th><th>経度</th><th>is_kokuhou</th><th>都道府県</th><th>所在地_都道府県</th><th>建造物_or_美工品</th><th>建造物_種類</th><th>時代_抽出</th><th>所有者名_genre</th><th>開始</th><th>終了</th></tr><tr><td>str</td><td>str</td><td>str</td><td>str</td><td>str</td><td>str</td><td>str</td><td>str</td><td>str</td><td>str</td><td>f64</td><td>f64</td><td>i64</td><td>str</td><td>str</td><td>str</td><td>str</td><td>str</td><td>str</td><td>i64</td><td>i64</td></tr></thead><tbody><tr><td>&quot;泉布観&quot;</td><td>null</td><td>&quot;近代／文化施設&quot;</td><td>null</td><td>&quot;明治&quot;</td><td>&quot;大阪府&quot;</td><td>&quot;大阪府大阪市北区天満橋一丁目…</td><td>null</td><td>&quot;大阪市&quot;</td><td>null</td><td>34.69811</td><td>135.5214</td><td>0</td><td>&quot;大阪府&quot;</td><td>&quot;大阪府&quot;</td><td>&quot;建造物&quot;</td><td>&quot;文化施設&quot;</td><td>&quot;明治&quot;</td><td>&quot;市&quot;</td><td>1868</td><td>1912</td></tr><tr><td>&quot;絹本著色准胝仏母像&quot;</td><td>null</td><td>&quot;絵画&quot;</td><td>&quot;日本&quot;</td><td>&quot;鎌倉&quot;</td><td>&quot;京都府（京都府）&quot;</td><td>null</td><td>null</td><td>&quot;広隆寺&quot;</td><td>null</td><td>null</td><td>null</td><td>0</td><td>&quot;京都府&quot;</td><td>null</td><td>&quot;美工品&quot;</td><td>null</td><td>&quot;鎌倉&quot;</td><td>&quot;寺&quot;</td><td>1185</td><td>1333</td></tr><tr><td>&quot;石上神宮拝殿&quot;</td><td>null</td><td>&quot;近世以前／寺院&quot;</td><td>null</td><td>&quot;鎌倉前期&quot;</td><td>&quot;奈良県&quot;</td><td>&quot;奈良県天理市布留町&quot;</td><td>null</td><td>&quot;石上神宮&quot;</td><td>null</td><td>34.5978</td><td>135.852</td><td>1</td><td>&quot;奈良県&quot;</td><td>&quot;奈良県&quot;</td><td>&quot;建造物&quot;</td><td>&quot;寺院&quot;</td><td>&quot;鎌倉&quot;</td><td>&quot;神宮&quot;</td><td>1185</td><td>1333</td></tr><tr><td>&quot;剣〈銘真守（備前）／〉&quot;</td><td>null</td><td>&quot;工芸品&quot;</td><td>&quot;日本&quot;</td><td>&quot;鎌倉&quot;</td><td>&quot;和歌山県（和歌山県）&quot;</td><td>null</td><td>null</td><td>&quot;宗教法人金剛峯寺&quot;</td><td>&quot;財団法人高野山文化財保存会&quot;</td><td>null</td><td>null</td><td>0</td><td>&quot;和歌山県&quot;</td><td>null</td><td>&quot;美工品&quot;</td><td>null</td><td>&quot;鎌倉&quot;</td><td>&quot;寺&quot;</td><td>1185</td><td>1333</td></tr><tr><td>&quot;旧新町紡績所&quot;</td><td>&quot;工場本館&quot;</td><td>&quot;近代／産業・交通・土木&quot;</td><td>null</td><td>&quot;明治&quot;</td><td>&quot;群馬県&quot;</td><td>&quot;群馬県高崎市新町二三三〇番地…</td><td>null</td><td>&quot;クラシエフーズ株式会社&quot;</td><td>null</td><td>36.27766</td><td>139.1003</td><td>0</td><td>&quot;群馬県&quot;</td><td>&quot;群馬県&quot;</td><td>&quot;建造物&quot;</td><td>&quot;産業・交通・土木&quot;</td><td>&quot;明治&quot;</td><td>&quot;株式会社&quot;</td><td>1868</td><td>1912</td></tr><tr><td>&quot;刀〈無銘正宗（名物石田正宗）…</td><td>null</td><td>&quot;工芸品&quot;</td><td>&quot;日本&quot;</td><td>&quot;鎌倉&quot;</td><td>&quot;東京都（東京都）&quot;</td><td>&quot;東京国立博物館　東京都台東区…</td><td>&quot;東京国立博物館&quot;</td><td>&quot;独立行政法人国立文化財機構&quot;</td><td>null</td><td>35.719944</td><td>139.775637</td><td>0</td><td>&quot;東京都&quot;</td><td>&quot;東京都&quot;</td><td>&quot;美工品&quot;</td><td>null</td><td>&quot;鎌倉&quot;</td><td>&quot;独立行政法人&quot;</td><td>1185</td><td>1333</td></tr><tr><td>&quot;刀〈無銘伝備中依真／〉&quot;</td><td>null</td><td>&quot;工芸品&quot;</td><td>&quot;日本&quot;</td><td>&quot;南北朝&quot;</td><td>&quot;（福井県）&quot;</td><td>&quot;福井市文京3-16-1&quot;</td><td>&quot;福井県立美術館&quot;</td><td>null</td><td>null</td><td>36.0786</td><td>136.2152</td><td>0</td><td>&quot;福井県&quot;</td><td>null</td><td>&quot;美工品&quot;</td><td>null</td><td>&quot;南北朝&quot;</td><td>null</td><td>1337</td><td>1392</td></tr><tr><td>&quot;姫路城&quot;</td><td>&quot;リの一渡櫓&quot;</td><td>&quot;近世以前／城郭&quot;</td><td>null</td><td>&quot;桃山&quot;</td><td>&quot;兵庫県&quot;</td><td>&quot;兵庫県姫路市本町&quot;</td><td>null</td><td>&quot;国(文部科学省)&quot;</td><td>&quot;姫路市&quot;</td><td>34.83876</td><td>134.6933</td><td>0</td><td>&quot;兵庫県&quot;</td><td>&quot;兵庫県&quot;</td><td>&quot;建造物&quot;</td><td>&quot;城郭&quot;</td><td>&quot;桃山&quot;</td><td>&quot;国&quot;</td><td>1573</td><td>1603</td></tr><tr><td>&quot;絹本墨画生々流転図〈横山大観…</td><td>null</td><td>&quot;絵画&quot;</td><td>&quot;日本&quot;</td><td>&quot;大正&quot;</td><td>&quot;東京都（東京都）&quot;</td><td>&quot;東京国立近代美術館　東京都千…</td><td>&quot;東京国立近代美術館&quot;</td><td>&quot;独立行政法人国立美術館&quot;</td><td>null</td><td>35.690568</td><td>139.754725</td><td>0</td><td>&quot;東京都&quot;</td><td>&quot;東京都&quot;</td><td>&quot;美工品&quot;</td><td>null</td><td>&quot;大正&quot;</td><td>&quot;独立行政法人&quot;</td><td>1912</td><td>1926</td></tr><tr><td>&quot;厨子入金銅水神像&quot;</td><td>null</td><td>&quot;工芸品&quot;</td><td>&quot;日本&quot;</td><td>&quot;室町&quot;</td><td>&quot;和歌山県（和歌山県）&quot;</td><td>null</td><td>null</td><td>&quot;宗教法人金剛峯寺&quot;</td><td>&quot;財団法人高野山文化財保存会&quot;</td><td>null</td><td>null</td><td>0</td><td>&quot;和歌山県&quot;</td><td>null</td><td>&quot;美工品&quot;</td><td>null</td><td>&quot;室町&quot;</td><td>&quot;寺&quot;</td><td>1336</td><td>1573</td></tr><tr><td>&quot;慈眼寺&quot;</td><td>&quot;本堂&quot;</td><td>&quot;近世以前／寺院&quot;</td><td>null</td><td>&quot;江戸前期&quot;</td><td>&quot;山梨県&quot;</td><td>&quot;山梨県笛吹市一宮町末木&quot;</td><td>null</td><td>&quot;慈眼寺&quot;</td><td>null</td><td>35.64313</td><td>138.6921</td><td>0</td><td>&quot;山梨県&quot;</td><td>&quot;山梨県&quot;</td><td>&quot;建造物&quot;</td><td>&quot;寺院&quot;</td><td>&quot;江戸&quot;</td><td>&quot;寺&quot;</td><td>1603</td><td>1868</td></tr><tr><td>&quot;梅唐草蒔絵文台硯箱〈（伝大内…</td><td>null</td><td>&quot;工芸品&quot;</td><td>&quot;日本&quot;</td><td>&quot;室町&quot;</td><td>&quot;広島県（広島県）&quot;</td><td>null</td><td>null</td><td>&quot;厳島神社&quot;</td><td>null</td><td>null</td><td>null</td><td>0</td><td>&quot;広島県&quot;</td><td>null</td><td>&quot;美工品&quot;</td><td>null</td><td>&quot;室町&quot;</td><td>&quot;神社&quot;</td><td>1336</td><td>1573</td></tr><tr><td>&hellip;</td><td>&hellip;</td><td>&hellip;</td><td>&hellip;</td><td>&hellip;</td><td>&hellip;</td><td>&hellip;</td><td>&hellip;</td><td>&hellip;</td><td>&hellip;</td><td>&hellip;</td><td>&hellip;</td><td>&hellip;</td><td>&hellip;</td><td>&hellip;</td><td>&hellip;</td><td>&hellip;</td><td>&hellip;</td><td>&hellip;</td><td>&hellip;</td><td>&hellip;</td></tr><tr><td>&quot;四天王寺縁起残巻&quot;</td><td>null</td><td>&quot;書跡・典籍&quot;</td><td>&quot;日本&quot;</td><td>&quot;平安&quot;</td><td>&quot;京都府（京都府）&quot;</td><td>null</td><td>null</td><td>&quot;三千院&quot;</td><td>null</td><td>null</td><td>null</td><td>0</td><td>&quot;京都府&quot;</td><td>null</td><td>&quot;美工品&quot;</td><td>null</td><td>&quot;平安&quot;</td><td>null</td><td>794</td><td>1185</td></tr><tr><td>&quot;木造阿弥陀如来坐像〈／（所在…</td><td>null</td><td>&quot;彫刻&quot;</td><td>&quot;日本&quot;</td><td>&quot;平安&quot;</td><td>&quot;奈良県（奈良県）&quot;</td><td>null</td><td>null</td><td>&quot;法隆寺&quot;</td><td>null</td><td>null</td><td>null</td><td>0</td><td>&quot;奈良県&quot;</td><td>null</td><td>&quot;美工品&quot;</td><td>null</td><td>&quot;平安&quot;</td><td>&quot;寺&quot;</td><td>794</td><td>1185</td></tr><tr><td>&quot;木造四天王立像&quot;</td><td>null</td><td>&quot;彫刻&quot;</td><td>&quot;日本&quot;</td><td>&quot;平安&quot;</td><td>&quot;大分県（大分県）&quot;</td><td>null</td><td>null</td><td>&quot;真木大堂&quot;</td><td>null</td><td>null</td><td>null</td><td>0</td><td>&quot;大分県&quot;</td><td>null</td><td>&quot;美工品&quot;</td><td>null</td><td>&quot;平安&quot;</td><td>null</td><td>794</td><td>1185</td></tr><tr><td>&quot;名古屋市庁舎&quot;</td><td>null</td><td>&quot;近代／官公庁舎&quot;</td><td>null</td><td>&quot;昭和&quot;</td><td>&quot;愛知県&quot;</td><td>&quot;愛知県名古屋市中区三の丸三丁…</td><td>null</td><td>&quot;名古屋市&quot;</td><td>null</td><td>35.18142</td><td>136.9063</td><td>0</td><td>&quot;愛知県&quot;</td><td>&quot;愛知県&quot;</td><td>&quot;建造物&quot;</td><td>&quot;官公庁舎&quot;</td><td>&quot;昭和&quot;</td><td>&quot;市&quot;</td><td>1926</td><td>1989</td></tr><tr><td>&quot;太刀〈金銘国吉／〉&quot;</td><td>null</td><td>&quot;工芸品&quot;</td><td>&quot;日本&quot;</td><td>&quot;鎌倉&quot;</td><td>&quot;神奈川県（神奈川県）&quot;</td><td>null</td><td>null</td><td>&quot;鶴岡八幡宮&quot;</td><td>null</td><td>null</td><td>null</td><td>0</td><td>&quot;神奈川県&quot;</td><td>null</td><td>&quot;美工品&quot;</td><td>null</td><td>&quot;鎌倉&quot;</td><td>&quot;八幡宮&quot;</td><td>1185</td><td>1333</td></tr><tr><td>&quot;絹本著色釈迦三尊十八羅漢図&quot;</td><td>null</td><td>&quot;絵画&quot;</td><td>&quot;日本&quot;</td><td>&quot;鎌倉&quot;</td><td>&quot;山梨県（山梨県）&quot;</td><td>null</td><td>null</td><td>&quot;一蓮寺&quot;</td><td>null</td><td>null</td><td>null</td><td>0</td><td>&quot;山梨県&quot;</td><td>null</td><td>&quot;美工品&quot;</td><td>null</td><td>&quot;鎌倉&quot;</td><td>&quot;寺&quot;</td><td>1185</td><td>1333</td></tr><tr><td>&quot;部埼灯台&quot;</td><td>&quot;旧昼間潮流信号機&quot;</td><td>&quot;近代／産業・交通・土木&quot;</td><td>null</td><td>&quot;明治&quot;</td><td>&quot;福岡県&quot;</td><td>&quot;福岡県北九州市門司区大字白野…</td><td>null</td><td>&quot;北九州市&quot;</td><td>null</td><td>33.9351</td><td>131.004932</td><td>0</td><td>&quot;福岡県&quot;</td><td>&quot;福岡県&quot;</td><td>&quot;建造物&quot;</td><td>&quot;産業・交通・土木&quot;</td><td>&quot;明治&quot;</td><td>&quot;市&quot;</td><td>1868</td><td>1912</td></tr><tr><td>&quot;平家物語&quot;</td><td>null</td><td>&quot;書跡・典籍&quot;</td><td>&quot;日本&quot;</td><td>&quot;室町&quot;</td><td>&quot;東京都（東京都）&quot;</td><td>&quot;東京都世田谷区上野毛3-9-…</td><td>&quot;公益財団法人五島美術館&quot;</td><td>&quot;公益財団法人五島美術館&quot;</td><td>null</td><td>35.61229</td><td>139.6355</td><td>0</td><td>&quot;東京都&quot;</td><td>&quot;東京都&quot;</td><td>&quot;美工品&quot;</td><td>null</td><td>&quot;室町&quot;</td><td>&quot;公益財団法人&quot;</td><td>1336</td><td>1573</td></tr><tr><td>&quot;因明論疏〈巻上中／〉&quot;</td><td>null</td><td>&quot;書跡・典籍&quot;</td><td>&quot;日本&quot;</td><td>&quot;平安&quot;</td><td>&quot;東京都（東京都）&quot;</td><td>&quot;東京都世田谷区上野毛3-9-…</td><td>&quot;公益財団法人五島美術館&quot;</td><td>&quot;公益財団法人五島美術館&quot;</td><td>null</td><td>35.61229</td><td>139.6355</td><td>0</td><td>&quot;東京都&quot;</td><td>&quot;東京都&quot;</td><td>&quot;美工品&quot;</td><td>null</td><td>&quot;平安&quot;</td><td>&quot;公益財団法人&quot;</td><td>794</td><td>1185</td></tr><tr><td>&quot;石燈籠&quot;</td><td>null</td><td>&quot;工芸品&quot;</td><td>&quot;日本&quot;</td><td>&quot;鎌倉&quot;</td><td>&quot;京都府（京都府）&quot;</td><td>&quot;公益財団法人北村文華財団　京…</td><td>&quot;公益財団法人北村文華財団&quot;</td><td>&quot;公益財団法人北村文華財団&quot;</td><td>null</td><td>35.02793</td><td>135.7704</td><td>0</td><td>&quot;京都府&quot;</td><td>&quot;京都府&quot;</td><td>&quot;美工品&quot;</td><td>null</td><td>&quot;鎌倉&quot;</td><td>&quot;公益財団法人&quot;</td><td>1185</td><td>1333</td></tr><tr><td>&quot;孔雀経音義〈真寂法親王撰／〉…</td><td>null</td><td>&quot;書跡・典籍&quot;</td><td>&quot;日本&quot;</td><td>&quot;平安&quot;</td><td>&quot;京都府（京都府）&quot;</td><td>null</td><td>null</td><td>&quot;醍醐寺&quot;</td><td>null</td><td>null</td><td>null</td><td>0</td><td>&quot;京都府&quot;</td><td>null</td><td>&quot;美工品&quot;</td><td>null</td><td>&quot;平安&quot;</td><td>&quot;寺&quot;</td><td>794</td><td>1185</td></tr><tr><td>&quot;紙本墨書徹翁和尚筆七ヶ条制法…</td><td>null</td><td>&quot;古文書&quot;</td><td>&quot;日本&quot;</td><td>&quot;南北朝&quot;</td><td>&quot;京都府（京都府）&quot;</td><td>null</td><td>null</td><td>&quot;大徳寺&quot;</td><td>null</td><td>null</td><td>null</td><td>0</td><td>&quot;京都府&quot;</td><td>null</td><td>&quot;美工品&quot;</td><td>null</td><td>&quot;南北朝&quot;</td><td>&quot;寺&quot;</td><td>1337</td><td>1392</td></tr></tbody></table></div>"
      ],
      "text/plain": [
       "shape: (6_710, 21)\n",
       "┌────────────────────┬──────┬────────────────┬──────┬───┬───────────┬────────────────┬──────┬──────┐\n",
       "│ 名称               ┆ 棟名 ┆ 種別2          ┆ 国   ┆ … ┆ 時代_抽出 ┆ 所有者名_genre ┆ 開始 ┆ 終了 │\n",
       "│ ---                ┆ ---  ┆ ---            ┆ ---  ┆   ┆ ---       ┆ ---            ┆ ---  ┆ ---  │\n",
       "│ str                ┆ str  ┆ str            ┆ str  ┆   ┆ str       ┆ str            ┆ i64  ┆ i64  │\n",
       "╞════════════════════╪══════╪════════════════╪══════╪═══╪═══════════╪════════════════╪══════╪══════╡\n",
       "│ 泉布観             ┆ null ┆ 近代／文化施設 ┆ null ┆ … ┆ 明治      ┆ 市             ┆ 1868 ┆ 1912 │\n",
       "│ 絹本著色准胝仏母像 ┆ null ┆ 絵画           ┆ 日本 ┆ … ┆ 鎌倉      ┆ 寺             ┆ 1185 ┆ 1333 │\n",
       "│ 石上神宮拝殿       ┆ null ┆ 近世以前／寺院 ┆ null ┆ … ┆ 鎌倉      ┆ 神宮           ┆ 1185 ┆ 1333 │\n",
       "│ 剣〈銘真守（備前） ┆ null ┆ 工芸品         ┆ 日本 ┆ … ┆ 鎌倉      ┆ 寺             ┆ 1185 ┆ 1333 │\n",
       "│ ／〉               ┆      ┆                ┆      ┆   ┆           ┆                ┆      ┆      │\n",
       "│ …                  ┆ …    ┆ …              ┆ …    ┆ … ┆ …         ┆ …              ┆ …    ┆ …    │\n",
       "│ 因明論疏〈巻上中／ ┆ null ┆ 書跡・典籍     ┆ 日本 ┆ … ┆ 平安      ┆ 公益財団法人   ┆ 794  ┆ 1185 │\n",
       "│ 〉                 ┆      ┆                ┆      ┆   ┆           ┆                ┆      ┆      │\n",
       "│ 石燈籠             ┆ null ┆ 工芸品         ┆ 日本 ┆ … ┆ 鎌倉      ┆ 公益財団法人   ┆ 1185 ┆ 1333 │\n",
       "│ 孔雀経音義〈真寂法 ┆ null ┆ 書跡・典籍     ┆ 日本 ┆ … ┆ 平安      ┆ 寺             ┆ 794  ┆ 1185 │\n",
       "│ 親王撰／〉         ┆      ┆                ┆      ┆   ┆           ┆                ┆      ┆      │\n",
       "│ 紙本墨書徹翁和尚筆 ┆ null ┆ 古文書         ┆ 日本 ┆ … ┆ 南北朝    ┆ 寺             ┆ 1337 ┆ 1392 │\n",
       "│ 七ヶ条制法（建武四 ┆      ┆                ┆      ┆   ┆           ┆                ┆      ┆      │\n",
       "│ 年五月十五日）     ┆      ┆                ┆      ┆   ┆           ┆                ┆      ┆      │\n",
       "└────────────────────┴──────┴────────────────┴──────┴───┴───────────┴────────────────┴──────┴──────┘"
      ]
     },
     "execution_count": 118,
     "metadata": {},
     "output_type": "execute_result"
    }
   ],
   "source": [
    "train.join(era, on=\"時代\", how=\"left\")"
   ]
  },
  {
   "cell_type": "code",
   "execution_count": 119,
   "metadata": {},
   "outputs": [],
   "source": [
    "# 抽出した時代と、era.csvを紐づける\n",
    "# train = train.join(era, left_on=\"時代_抽出\", right_on=\"時代\", how=\"left\")\n",
    "# test = test.join(era, left_on=\"時代_抽出\", right_on=\"時代\", how=\"left\")\n",
    "\n",
    "train = train.join(era, on=\"時代\", how=\"left\")\n",
    "test = test.join(era, on=\"時代\", how=\"left\")\n",
    "\n",
    "# 開始 -終了の期間を計算する\n",
    "train = train.with_columns((pl.col(\"終了\") - pl.col(\"開始\")).alias(\"時代_期間\"))\n",
    "test = test.with_columns((pl.col(\"終了\") - pl.col(\"開始\")).alias(\"時代_期間\"))"
   ]
  },
  {
   "cell_type": "code",
   "execution_count": 120,
   "metadata": {},
   "outputs": [],
   "source": [
    "# 緯度と経度のブロックを追加する\n",
    "def classify_coordinates_japan(lat: float, lon: float) -> str | None:\n",
    "    if lat is None or lon is None:\n",
    "        return None\n",
    "\n",
    "    lat_block = int((lat - 24) // (22 / 50))\n",
    "    lon_block = int((lon - 123) // (30 / 50))\n",
    "\n",
    "    return f\"{lat_block}_{lon_block}\"\n",
    "\n",
    "\n",
    "train_outputs = []\n",
    "for i, j in zip(train[\"緯度\"], train[\"経度\"]):\n",
    "    train_outputs.append(classify_coordinates_japan(i, j))\n",
    "\n",
    "train = train.with_columns(pl.Series(train_outputs).alias(\"緯度_経度_ブロック\"))\n",
    "\n",
    "test_outputs = []\n",
    "for i, j in zip(test[\"緯度\"], test[\"経度\"]):\n",
    "    test_outputs.append(classify_coordinates_japan(i, j))\n",
    "\n",
    "test = test.with_columns(pl.Series(test_outputs).alias(\"緯度_経度_ブロック\"))"
   ]
  },
  {
   "cell_type": "code",
   "execution_count": 121,
   "metadata": {},
   "outputs": [],
   "source": [
    "from unicodedata import normalize\n",
    "\n",
    "\n",
    "def get_prefecture_city(text: str | None) -> str | None:\n",
    "    if text is None:\n",
    "        return None\n",
    "    text = normalize(\"NFKC\", text)\n",
    "    address_pattern = r\"([一-龠]{1,3}[都道府県])([一-龠]{1,3}[市区町村])\"\n",
    "\n",
    "    if match := re.search(address_pattern, text):\n",
    "        return match.group(1) + match.group(2)\n",
    "    return None\n",
    "\n",
    "\n",
    "train = train.with_columns(\n",
    "    pl.col(\"所在地\").apply(get_prefecture_city).alias(\"所在地_pref_city\")\n",
    ")\n",
    "test = test.with_columns(\n",
    "    pl.col(\"所在地\").apply(get_prefecture_city).alias(\"所在地_pref_city\")\n",
    ")"
   ]
  },
  {
   "cell_type": "code",
   "execution_count": 122,
   "metadata": {},
   "outputs": [],
   "source": [
    "def get_shozaiti_first(text: str | None) -> str | None:\n",
    "    if text is None:\n",
    "        return None\n",
    "    text = normalize(\"NFKC\", text)\n",
    "    if \" \" in text:\n",
    "        return text.split(\" \")[0]\n",
    "    return None\n",
    "\n",
    "\n",
    "train = train.with_columns(pl.col(\"所在地\").apply(get_shozaiti_first).alias(\"所在地_first\"))\n",
    "test = test.with_columns(pl.col(\"所在地\").apply(get_shozaiti_first).alias(\"所在地_first\"))"
   ]
  },
  {
   "cell_type": "markdown",
   "metadata": {},
   "source": [
    "# データ型の変更"
   ]
  },
  {
   "cell_type": "code",
   "execution_count": 123,
   "metadata": {},
   "outputs": [],
   "source": [
    "categorical_cols = [\n",
    "    \"棟名\",\n",
    "    \"種別2\",\n",
    "    \"国\",\n",
    "    \"都道府県 ※美工品は「所有者住所（所在都道府県）」\",\n",
    "    \"時代\",\n",
    "    \"保管施設の名称\",\n",
    "    \"所有者名\",\n",
    "    \"管理団体又は責任者\",\n",
    "    # \"都道府県\",\n",
    "    \"所在地\",\n",
    "    # \"所在地_都道府県\",\n",
    "    # \"建造物_or_美工品\",\n",
    "    # \"建造物_種類\",\n",
    "    # \"時代_抽出\",\n",
    "    # \"所有者名_genre\",\n",
    "    # \"緯度_経度_ブロック\",\n",
    "    # \"所在地_pref_city\",\n",
    "    # \"所在地_first\",\n",
    "]"
   ]
  },
  {
   "cell_type": "code",
   "execution_count": null,
   "metadata": {},
   "outputs": [],
   "source": []
  },
  {
   "cell_type": "code",
   "execution_count": 124,
   "metadata": {},
   "outputs": [],
   "source": [
    "# カウントエンコーディングを行う\n",
    "merge_df = pl.concat([train[categorical_cols], test[categorical_cols]])\n",
    "\n",
    "merge_count_df = merge_df.select(\n",
    "    [pl.count().over(col).alias(f\"{col}_count\") for col in categorical_cols]\n",
    ")\n",
    "\n",
    "train_count_df = merge_count_df.slice(0, train.shape[0])\n",
    "test_count_df = merge_count_df.slice(train.shape[0])"
   ]
  },
  {
   "cell_type": "code",
   "execution_count": 125,
   "metadata": {},
   "outputs": [],
   "source": [
    "train = pl.concat([train, train_count_df], how=\"horizontal\")\n",
    "test = pl.concat([test, test_count_df], how=\"horizontal\")"
   ]
  },
  {
   "cell_type": "code",
   "execution_count": 126,
   "metadata": {},
   "outputs": [
    {
     "data": {
      "text/plain": [
       "6710"
      ]
     },
     "execution_count": 126,
     "metadata": {},
     "output_type": "execute_result"
    }
   ],
   "source": [
    "train.shape[0]"
   ]
  },
  {
   "cell_type": "code",
   "execution_count": 127,
   "metadata": {},
   "outputs": [],
   "source": [
    "# Trainにしかないデータを削除する\n",
    "def only_train_is_null(train: pl.DataFrame, test: pl.DataFrame, col: str):\n",
    "    only_train = set(train.get_column(col).unique())\n",
    "    only_test = set(test.get_column(col).unique())\n",
    "\n",
    "    share_value = only_train & only_test\n",
    "\n",
    "    return train.with_columns(\n",
    "        pl.when(pl.col(col).is_in(list(share_value)))\n",
    "        .then(pl.col(col))\n",
    "        .otherwise(None)\n",
    "        .alias(col)\n",
    "    )\n",
    "\n",
    "\n",
    "for col in categorical_cols:\n",
    "    train = only_train_is_null(train, test, col)"
   ]
  },
  {
   "cell_type": "code",
   "execution_count": 128,
   "metadata": {},
   "outputs": [],
   "source": [
    "for col in categorical_cols:\n",
    "    train = train.with_columns(pl.col(col).cast(pl.Categorical).alias(col))\n",
    "    test = test.with_columns(pl.col(col).cast(pl.Categorical).alias(col))"
   ]
  },
  {
   "cell_type": "markdown",
   "metadata": {},
   "source": [
    "# Fold"
   ]
  },
  {
   "cell_type": "code",
   "execution_count": 129,
   "metadata": {},
   "outputs": [],
   "source": [
    "FOLD_NUM = 10"
   ]
  },
  {
   "cell_type": "code",
   "execution_count": 130,
   "metadata": {},
   "outputs": [],
   "source": [
    "empty = np.zeros(train.height)\n",
    "fold = StratifiedKFold(n_splits=FOLD_NUM, shuffle=True, random_state=33)\n",
    "\n",
    "for idx, (_, val_idx) in enumerate(fold.split(train, train.get_column(\"is_kokuhou\"))):\n",
    "    empty[val_idx] = idx\n",
    "\n",
    "train = train.with_columns(pl.Series(empty).cast(pl.Int64).alias(\"fold\"))"
   ]
  },
  {
   "cell_type": "markdown",
   "metadata": {},
   "source": [
    "# LightGBM"
   ]
  },
  {
   "cell_type": "code",
   "execution_count": 131,
   "metadata": {},
   "outputs": [
    {
     "data": {
      "text/plain": [
       "23"
      ]
     },
     "execution_count": 131,
     "metadata": {},
     "output_type": "execute_result"
    }
   ],
   "source": [
    "use_col = []\n",
    "\n",
    "base_col = [\"緯度\", \"経度\", \"開始\", \"終了\", \"時代_期間\"]\n",
    "\n",
    "use_col += base_col\n",
    "use_col += categorical_cols\n",
    "use_col += [f\"{col}_count\" for col in categorical_cols]\n",
    "\n",
    "len(use_col)"
   ]
  },
  {
   "cell_type": "code",
   "execution_count": 132,
   "metadata": {},
   "outputs": [
    {
     "data": {
      "text/plain": [
       "['緯度',\n",
       " '経度',\n",
       " '開始',\n",
       " '終了',\n",
       " '時代_期間',\n",
       " '棟名',\n",
       " '種別2',\n",
       " '国',\n",
       " '都道府県 ※美工品は「所有者住所（所在都道府県）」',\n",
       " '時代',\n",
       " '保管施設の名称',\n",
       " '所有者名',\n",
       " '管理団体又は責任者',\n",
       " '所在地',\n",
       " '棟名_count',\n",
       " '種別2_count',\n",
       " '国_count',\n",
       " '都道府県 ※美工品は「所有者住所（所在都道府県）」_count',\n",
       " '時代_count',\n",
       " '保管施設の名称_count',\n",
       " '所有者名_count',\n",
       " '管理団体又は責任者_count',\n",
       " '所在地_count']"
      ]
     },
     "execution_count": 132,
     "metadata": {},
     "output_type": "execute_result"
    }
   ],
   "source": [
    "use_col"
   ]
  },
  {
   "cell_type": "code",
   "execution_count": 133,
   "metadata": {},
   "outputs": [],
   "source": [
    "# LightGBMで用いるパラメーターを指定\n",
    "# ref: https://lightgbm.readthedocs.io/en/v3.3.5/Parameters.html\n",
    "params = {\"objective\": \"binary\", \"metric\": \"auc\", \"verbosity\": -1, \"seed\": 42}"
   ]
  },
  {
   "cell_type": "code",
   "execution_count": 134,
   "metadata": {},
   "outputs": [
    {
     "name": "stdout",
     "output_type": "stream",
     "text": [
      "Start fold 0\n",
      "Training until validation scores don't improve for 100 rounds\n",
      "Early stopping, best iteration is:\n",
      "[26]\ttraining's auc: 0.945701\tvalid_1's auc: 0.862866\n",
      "fold 0 Score: 0.862866344605475\n",
      "Start fold 1\n",
      "Training until validation scores don't improve for 100 rounds\n",
      "Early stopping, best iteration is:\n",
      "[12]\ttraining's auc: 0.914792\tvalid_1's auc: 0.804815\n",
      "fold 1 Score: 0.8048148148148149\n",
      "Start fold 2\n",
      "Training until validation scores don't improve for 100 rounds\n",
      "Early stopping, best iteration is:\n",
      "[118]\ttraining's auc: 0.988176\tvalid_1's auc: 0.83132\n",
      "fold 2 Score: 0.8313204508856683\n",
      "Start fold 3\n",
      "Training until validation scores don't improve for 100 rounds\n",
      "Early stopping, best iteration is:\n",
      "[105]\ttraining's auc: 0.98733\tvalid_1's auc: 0.78095\n",
      "fold 3 Score: 0.7809500805152978\n",
      "Start fold 4\n",
      "Training until validation scores don't improve for 100 rounds\n",
      "Early stopping, best iteration is:\n",
      "[39]\ttraining's auc: 0.961822\tvalid_1's auc: 0.861787\n",
      "fold 4 Score: 0.8617874396135266\n",
      "Start fold 5\n",
      "Training until validation scores don't improve for 100 rounds\n",
      "Early stopping, best iteration is:\n",
      "[74]\ttraining's auc: 0.981059\tvalid_1's auc: 0.838551\n",
      "fold 5 Score: 0.8385507246376811\n",
      "Start fold 6\n",
      "Training until validation scores don't improve for 100 rounds\n",
      "Early stopping, best iteration is:\n",
      "[16]\ttraining's auc: 0.932881\tvalid_1's auc: 0.819291\n",
      "fold 6 Score: 0.8192914653784219\n",
      "Start fold 7\n",
      "Training until validation scores don't improve for 100 rounds\n",
      "Early stopping, best iteration is:\n",
      "[125]\ttraining's auc: 0.989055\tvalid_1's auc: 0.832367\n",
      "fold 7 Score: 0.832367149758454\n",
      "Start fold 8\n",
      "Training until validation scores don't improve for 100 rounds\n",
      "Early stopping, best iteration is:\n",
      "[218]\ttraining's auc: 0.992752\tvalid_1's auc: 0.829356\n",
      "fold 8 Score: 0.8293558776167471\n",
      "Start fold 9\n",
      "Training until validation scores don't improve for 100 rounds\n",
      "Early stopping, best iteration is:\n",
      "[6]\ttraining's auc: 0.896682\tvalid_1's auc: 0.777372\n",
      "fold 9 Score: 0.777371916508539\n"
     ]
    }
   ],
   "source": [
    "# 学習データ全体に対する推論結果を保存するobjectを作成\n",
    "oof = np.zeros((len(train)))\n",
    "\n",
    "# テストデータに対する推論、特徴量重要度(後述)を計算するために、モデルを保存するobjectを作成\n",
    "models = []\n",
    "\n",
    "# Cross Validationによる学習の実施\n",
    "for fold in range(FOLD_NUM):\n",
    "    print(f\"Start fold {fold}\")\n",
    "\n",
    "    # polarsをpandasに変換\n",
    "    train_pd = train.to_pandas()\n",
    "\n",
    "    # foldごとにtrainとvalidに分ける\n",
    "    train_fold = train_pd[train_pd[\"fold\"] != fold]\n",
    "    valid_fold = train_pd[train_pd[\"fold\"] == fold]\n",
    "\n",
    "    # X(説明変数)とy(目的変数)に分ける\n",
    "    X_train = train_fold.drop(\"is_kokuhou\", axis=1)\n",
    "    X_valid = valid_fold.drop(\"is_kokuhou\", axis=1)\n",
    "    y_train = train_fold[[\"is_kokuhou\"]]\n",
    "    y_valid = valid_fold[[\"is_kokuhou\"]]\n",
    "\n",
    "    # 利用する説明変数に限定する\n",
    "    X_train = X_train[use_col]\n",
    "    X_valid = X_valid[use_col]\n",
    "\n",
    "    # LightGBMが認識可能な形にデータセットを変換\n",
    "    lgb_train = lgb.Dataset(X_train, y_train)\n",
    "    lgb_eval = lgb.Dataset(X_valid, y_valid, reference=lgb_train)\n",
    "\n",
    "    # モデルの学習\n",
    "    model = lgb.train(\n",
    "        params,\n",
    "        lgb_train,\n",
    "        num_boost_round=10000,  # 学習のiteration回数\n",
    "        valid_sets=[lgb_train, lgb_eval],\n",
    "        callbacks=[\n",
    "            lgb.early_stopping(stopping_rounds=100)\n",
    "        ],  # Early stopingの回数、binary_loglossが改善しないiterationが100回続いたら学習を止める\n",
    "    )\n",
    "\n",
    "    # モデルを保存\n",
    "    models.append(model)\n",
    "\n",
    "    # validデータに対する推論\n",
    "    y_valid_pred = model.predict(X_valid, num_iteration=model.best_iteration)\n",
    "\n",
    "    # validデータに対する推論の性能を計算\n",
    "    calc_f1_score = roc_auc_score(y_valid, y_valid_pred)\n",
    "    print(f\"fold {fold} Score: {calc_f1_score}\")\n",
    "\n",
    "    # oofに推論結果を保存\n",
    "    valid_idx = X_valid.index\n",
    "    oof[valid_idx] = y_valid_pred"
   ]
  },
  {
   "cell_type": "code",
   "execution_count": 135,
   "metadata": {},
   "outputs": [
    {
     "data": {
      "text/plain": [
       "0.7976326297316786"
      ]
     },
     "execution_count": 135,
     "metadata": {},
     "output_type": "execute_result"
    }
   ],
   "source": [
    "oof_score = roc_auc_score(y_true=train.get_column(\"is_kokuhou\"), y_score=oof)\n",
    "oof_score"
   ]
  },
  {
   "cell_type": "code",
   "execution_count": 136,
   "metadata": {},
   "outputs": [
    {
     "name": "stdout",
     "output_type": "stream",
     "text": [
      "thr: 0.01, f1_score: 0.18702136235388955\n",
      "thr: 0.02, f1_score: 0.20279880706584077\n",
      "thr: 0.03, f1_score: 0.22018828451882844\n",
      "thr: 0.04, f1_score: 0.24796380090497738\n",
      "thr: 0.05, f1_score: 0.2780203784570597\n",
      "thr: 0.060000000000000005, f1_score: 0.29702970297029707\n",
      "thr: 0.06999999999999999, f1_score: 0.3134396355353075\n",
      "thr: 0.08, f1_score: 0.3182266009852217\n",
      "thr: 0.09, f1_score: 0.3260984647961885\n",
      "thr: 0.09999999999999999, f1_score: 0.33521444695259595\n",
      "thr: 0.11, f1_score: 0.343030303030303\n",
      "thr: 0.12, f1_score: 0.3509677419354839\n",
      "thr: 0.13, f1_score: 0.35592060232717315\n",
      "thr: 0.14, f1_score: 0.3615328994938539\n",
      "thr: 0.15000000000000002, f1_score: 0.36307692307692313\n",
      "thr: 0.16, f1_score: 0.35868694955964775\n",
      "thr: 0.17, f1_score: 0.35264900662251664\n",
      "thr: 0.18000000000000002, f1_score: 0.34805194805194806\n",
      "thr: 0.19, f1_score: 0.3427529626253418\n",
      "thr: 0.2, f1_score: 0.34377967711301044\n",
      "thr: 0.21000000000000002, f1_score: 0.33763654419066536\n",
      "thr: 0.22, f1_score: 0.3333333333333333\n",
      "thr: 0.23, f1_score: 0.33575129533678755\n",
      "thr: 0.24000000000000002, f1_score: 0.3194888178913738\n",
      "thr: 0.25, f1_score: 0.3202614379084967\n",
      "thr: 0.26, f1_score: 0.31637168141592925\n",
      "thr: 0.27, f1_score: 0.3108108108108108\n",
      "thr: 0.28, f1_score: 0.30344827586206896\n",
      "thr: 0.29000000000000004, f1_score: 0.2970760233918129\n",
      "thr: 0.3, f1_score: 0.2908224076281287\n",
      "thr: 0.31, f1_score: 0.28640776699029125\n",
      "thr: 0.32, f1_score: 0.28322981366459626\n",
      "thr: 0.33, f1_score: 0.27490542244640603\n",
      "thr: 0.34, f1_score: 0.27179487179487183\n",
      "thr: 0.35000000000000003, f1_score: 0.26666666666666666\n",
      "thr: 0.36000000000000004, f1_score: 0.2656042496679947\n",
      "thr: 0.37, f1_score: 0.24291497975708504\n",
      "thr: 0.38, f1_score: 0.23673469387755103\n",
      "thr: 0.39, f1_score: 0.22714681440443213\n",
      "thr: 0.4, f1_score: 0.226890756302521\n",
      "thr: 0.41000000000000003, f1_score: 0.22475106685632998\n",
      "thr: 0.42000000000000004, f1_score: 0.21676300578034682\n",
      "thr: 0.43, f1_score: 0.21834061135371177\n",
      "thr: 0.44, f1_score: 0.21301775147928995\n",
      "thr: 0.45, f1_score: 0.20658682634730538\n",
      "thr: 0.46, f1_score: 0.20689655172413793\n",
      "thr: 0.47000000000000003, f1_score: 0.19236641221374043\n",
      "thr: 0.48000000000000004, f1_score: 0.18518518518518517\n",
      "thr: 0.49, f1_score: 0.1700787401574803\n",
      "thr: 0.5, f1_score: 0.16798732171156894\n",
      "thr: 0.51, f1_score: 0.16534181240063592\n",
      "thr: 0.52, f1_score: 0.15806451612903225\n",
      "thr: 0.53, f1_score: 0.14379084967320263\n",
      "thr: 0.54, f1_score: 0.13553719008264462\n",
      "thr: 0.55, f1_score: 0.1368948247078464\n",
      "thr: 0.56, f1_score: 0.13175675675675674\n",
      "thr: 0.5700000000000001, f1_score: 0.1258503401360544\n",
      "thr: 0.5800000000000001, f1_score: 0.12392426850258177\n",
      "thr: 0.59, f1_score: 0.12089810017271156\n",
      "thr: 0.6, f1_score: 0.12110726643598614\n",
      "thr: 0.61, f1_score: 0.11805555555555557\n",
      "thr: 0.62, f1_score: 0.1083916083916084\n",
      "thr: 0.63, f1_score: 0.10526315789473685\n",
      "thr: 0.64, f1_score: 0.0920353982300885\n",
      "thr: 0.65, f1_score: 0.08199643493761141\n",
      "thr: 0.66, f1_score: 0.07885304659498207\n",
      "thr: 0.67, f1_score: 0.07220216606498195\n",
      "thr: 0.68, f1_score: 0.07233273056057866\n",
      "thr: 0.6900000000000001, f1_score: 0.07272727272727274\n",
      "thr: 0.7000000000000001, f1_score: 0.06946983546617917\n",
      "thr: 0.7100000000000001, f1_score: 0.06605504587155964\n",
      "thr: 0.72, f1_score: 0.06629834254143646\n",
      "thr: 0.73, f1_score: 0.066543438077634\n",
      "thr: 0.74, f1_score: 0.06296296296296297\n",
      "thr: 0.75, f1_score: 0.055762081784386616\n",
      "thr: 0.76, f1_score: 0.05243445692883895\n",
      "thr: 0.77, f1_score: 0.048780487804878044\n",
      "thr: 0.78, f1_score: 0.03787878787878788\n",
      "thr: 0.79, f1_score: 0.03441682600382409\n",
      "thr: 0.8, f1_score: 0.03441682600382409\n",
      "thr: 0.81, f1_score: 0.026923076923076925\n",
      "thr: 0.8200000000000001, f1_score: 0.023255813953488375\n",
      "thr: 0.8300000000000001, f1_score: 0.01556420233463035\n",
      "thr: 0.8400000000000001, f1_score: 0.01556420233463035\n",
      "thr: 0.85, f1_score: 0.01171875\n",
      "thr: 0.86, f1_score: 0.01171875\n",
      "thr: 0.87, f1_score: 0.00784313725490196\n",
      "thr: 0.88, f1_score: 0.00784313725490196\n",
      "thr: 0.89, f1_score: 0.007874015748031496\n",
      "thr: 0.9, f1_score: 0.007889546351084811\n",
      "thr: 0.91, f1_score: 0.007905138339920948\n",
      "thr: 0.92, f1_score: 0.007920792079207921\n",
      "thr: 0.93, f1_score: 0.007936507936507936\n",
      "thr: 0.9400000000000001, f1_score: 0.007952286282306162\n",
      "thr: 0.9500000000000001, f1_score: 0.003984063745019919\n",
      "thr: 0.9600000000000001, f1_score: 0.0\n",
      "thr: 0.97, f1_score: 0.0\n",
      "thr: 0.98, f1_score: 0.0\n",
      "thr: 0.99, f1_score: 0.0\n",
      "Optimized thr: 0.15000000000000002, f1 score: 0.36307692307692313\n"
     ]
    }
   ],
   "source": [
    "from sklearn.metrics import f1_score\n",
    "\n",
    "# 0.01 から 0.99 まで 0.01 刻みで閾値を変えて、F1 score を計算する\n",
    "max_f1_score = 0\n",
    "\n",
    "for thr in np.arange(0.01, 1, 0.01):\n",
    "    calc_f1_score = f1_score(train.get_column(\"is_kokuhou\"), (oof > thr).astype(int))\n",
    "    print(f\"thr: {thr}, f1_score: {calc_f1_score}\")\n",
    "    if max_f1_score < calc_f1_score:\n",
    "        max_f1_score = calc_f1_score\n",
    "        best_thr = thr\n",
    "\n",
    "print(f\"Optimized thr: {best_thr}, f1 score: {max_f1_score}\")"
   ]
  },
  {
   "cell_type": "code",
   "execution_count": 137,
   "metadata": {},
   "outputs": [
    {
     "data": {
      "image/png": "[encoded data removed]",
      "text/plain": [
       "<Figure size 1200x600 with 1 Axes>"
      ]
     },
     "metadata": {},
     "output_type": "display_data"
    }
   ],
   "source": [
    "def visualize_importance(models: list, use_col: list) -> None:\n",
    "    \"\"\"lightGBM の model 配列の feature importance を plot する\n",
    "    CVごとのブレを boxen plot として表現します.\n",
    "\n",
    "    args:\n",
    "        models:\n",
    "            List of lightGBM models\n",
    "        feat_train_df:\n",
    "            学習時に使った DataFrame\n",
    "    \"\"\"\n",
    "    feature_importance_df = pd.DataFrame()\n",
    "    for i, model in enumerate(models):\n",
    "        _df = pd.DataFrame()\n",
    "        _df[\"feature_importance\"] = model.feature_importance()\n",
    "        _df[\"column\"] = use_col\n",
    "        _df[\"fold\"] = i + 1\n",
    "        feature_importance_df = pd.concat(\n",
    "            [feature_importance_df, _df], axis=0, ignore_index=True\n",
    "        )\n",
    "\n",
    "    order = (\n",
    "        feature_importance_df.groupby(\"column\")\n",
    "        .sum()[[\"feature_importance\"]]\n",
    "        .sort_values(\"feature_importance\", ascending=False)\n",
    "        .index[:50]\n",
    "    )\n",
    "\n",
    "    fig, ax = plt.subplots(figsize=(12, max(6, len(order) * 0.25)))\n",
    "    sns.boxenplot(\n",
    "        data=feature_importance_df,\n",
    "        x=\"feature_importance\",\n",
    "        y=\"column\",\n",
    "        order=order,\n",
    "        ax=ax,\n",
    "        palette=\"viridis\",\n",
    "        orient=\"h\",\n",
    "    )\n",
    "    ax.tick_params(axis=\"x\", rotation=90)\n",
    "    ax.set_title(\"Importance\")\n",
    "    ax.grid()\n",
    "    fig.tight_layout()\n",
    "    return fig, ax\n",
    "\n",
    "\n",
    "fig, ax = visualize_importance(models, use_col)"
   ]
  },
  {
   "cell_type": "code",
   "execution_count": 138,
   "metadata": {},
   "outputs": [],
   "source": [
    "# k 個のモデルの予測を作成. shape = (5, N_test,).\n",
    "pred = np.array([model.predict(test.select(use_col).to_pandas()) for model in models])\n",
    "\n",
    "# k 個のモデルの予測値の平均 shape = (N_test,).\n",
    "pred = np.mean(pred, axis=0)  # axis=0 なので shape の `k` が潰れる"
   ]
  },
  {
   "cell_type": "code",
   "execution_count": 139,
   "metadata": {},
   "outputs": [
    {
     "data": {
      "image/png": "[encoded data removed]",
      "text/plain": [
       "<Figure size 800x600 with 1 Axes>"
      ]
     },
     "metadata": {},
     "output_type": "display_data"
    }
   ],
   "source": [
    "fig, ax = plt.subplots(figsize=(8, 6))\n",
    "\n",
    "vmax = 0.02\n",
    "# bins = np.linspace(0, 1, 0.1)\n",
    "ax.hist(pred, density=True, alpha=0.5, label=\"Test\")\n",
    "ax.hist(oof, density=True, alpha=0.5, label=\"OutOfFold\")\n",
    "ax.grid()\n",
    "ax.legend()\n",
    "ax.set_title(\"テストと学習時の予測傾向差分\")\n",
    "\n",
    "fig.tight_layout()"
   ]
  },
  {
   "cell_type": "code",
   "execution_count": 140,
   "metadata": {},
   "outputs": [],
   "source": [
    "train.with_columns(pl.Series(oof).cast(pl.Float64).alias(\"oof\")).write_csv(\n",
    "    f\"../oof/oof_{NOTEBOOK_NAME}_f1score_{max_f1_score:.4f}_auc_{oof_score:.4f}.csv\"\n",
    ")"
   ]
  },
  {
   "cell_type": "code",
   "execution_count": 141,
   "metadata": {},
   "outputs": [
    {
     "data": {
      "text/html": [
       "<div><style>\n",
       ".dataframe > thead > tr > th,\n",
       ".dataframe > tbody > tr > td {\n",
       "  text-align: right;\n",
       "}\n",
       "</style>\n",
       "<small>shape: (10_065, 1)</small><table border=\"1\" class=\"dataframe\"><thead><tr><th>is_kokuhou</th></tr><tr><td>i64</td></tr></thead><tbody><tr><td>0</td></tr><tr><td>0</td></tr><tr><td>1</td></tr><tr><td>0</td></tr><tr><td>0</td></tr><tr><td>1</td></tr><tr><td>0</td></tr><tr><td>0</td></tr><tr><td>0</td></tr><tr><td>0</td></tr><tr><td>1</td></tr><tr><td>0</td></tr><tr><td>&hellip;</td></tr><tr><td>0</td></tr><tr><td>0</td></tr><tr><td>0</td></tr><tr><td>0</td></tr><tr><td>0</td></tr><tr><td>0</td></tr><tr><td>0</td></tr><tr><td>0</td></tr><tr><td>0</td></tr><tr><td>0</td></tr><tr><td>0</td></tr><tr><td>0</td></tr></tbody></table></div>"
      ],
      "text/plain": [
       "shape: (10_065, 1)\n",
       "┌────────────┐\n",
       "│ is_kokuhou │\n",
       "│ ---        │\n",
       "│ i64        │\n",
       "╞════════════╡\n",
       "│ 0          │\n",
       "│ 0          │\n",
       "│ 1          │\n",
       "│ 0          │\n",
       "│ …          │\n",
       "│ 0          │\n",
       "│ 0          │\n",
       "│ 0          │\n",
       "│ 0          │\n",
       "└────────────┘"
      ]
     },
     "execution_count": 141,
     "metadata": {},
     "output_type": "execute_result"
    }
   ],
   "source": [
    "sample_submission.with_columns(pl.Series(\"is_kokuhou\", pred > best_thr).cast(int))"
   ]
  },
  {
   "cell_type": "code",
   "execution_count": 142,
   "metadata": {},
   "outputs": [
    {
     "data": {
      "text/html": [
       "<div><style>\n",
       ".dataframe > thead > tr > th,\n",
       ".dataframe > tbody > tr > td {\n",
       "  text-align: right;\n",
       "}\n",
       "</style>\n",
       "<small>shape: (10_065, 1)</small><table border=\"1\" class=\"dataframe\"><thead><tr><th>is_kokuhou</th></tr><tr><td>i64</td></tr></thead><tbody><tr><td>0</td></tr><tr><td>0</td></tr><tr><td>1</td></tr><tr><td>0</td></tr><tr><td>0</td></tr><tr><td>1</td></tr><tr><td>0</td></tr><tr><td>0</td></tr><tr><td>0</td></tr><tr><td>0</td></tr><tr><td>1</td></tr><tr><td>0</td></tr><tr><td>&hellip;</td></tr><tr><td>0</td></tr><tr><td>0</td></tr><tr><td>0</td></tr><tr><td>0</td></tr><tr><td>0</td></tr><tr><td>0</td></tr><tr><td>0</td></tr><tr><td>0</td></tr><tr><td>0</td></tr><tr><td>0</td></tr><tr><td>0</td></tr><tr><td>0</td></tr></tbody></table></div>"
      ],
      "text/plain": [
       "shape: (10_065, 1)\n",
       "┌────────────┐\n",
       "│ is_kokuhou │\n",
       "│ ---        │\n",
       "│ i64        │\n",
       "╞════════════╡\n",
       "│ 0          │\n",
       "│ 0          │\n",
       "│ 1          │\n",
       "│ 0          │\n",
       "│ …          │\n",
       "│ 0          │\n",
       "│ 0          │\n",
       "│ 0          │\n",
       "│ 0          │\n",
       "└────────────┘"
      ]
     },
     "execution_count": 142,
     "metadata": {},
     "output_type": "execute_result"
    }
   ],
   "source": [
    "sample_submission = sample_submission.with_columns(\n",
    "    pl.Series(\"is_kokuhou\", pred > best_thr).cast(int)\n",
    ")\n",
    "sample_submission"
   ]
  },
  {
   "cell_type": "code",
   "execution_count": 143,
   "metadata": {},
   "outputs": [
    {
     "data": {
      "text/plain": [
       "'../sub/e022_add_count_encoding_use_only_main_feat_f1score_0.3631_auc_0.7976.csv'"
      ]
     },
     "execution_count": 143,
     "metadata": {},
     "output_type": "execute_result"
    }
   ],
   "source": [
    "sample_submission.write_csv(\n",
    "    f\"../sub/{NOTEBOOK_NAME}_f1score_{max_f1_score:.4f}_auc_{oof_score:.4f}.csv\"\n",
    ")\n",
    "f\"../sub/{NOTEBOOK_NAME}_f1score_{max_f1_score:.4f}_auc_{oof_score:.4f}.csv\""
   ]
  },
  {
   "cell_type": "code",
   "execution_count": null,
   "metadata": {},
   "outputs": [],
   "source": []
  }
 ],
 "metadata": {
  "kernelspec": {
   "display_name": ".venv",
   "language": "python",
   "name": "python3"
  },
  "language_info": {
   "codemirror_mode": {
    "name": "ipython",
    "version": 3
   },
   "file_extension": ".py",
   "mimetype": "text/x-python",
   "name": "python",
   "nbconvert_exporter": "python",
   "pygments_lexer": "ipython3",
   "version": "3.11.3"
  },
  "orig_nbformat": 4
 },
 "nbformat": 4,
 "nbformat_minor": 2
}
