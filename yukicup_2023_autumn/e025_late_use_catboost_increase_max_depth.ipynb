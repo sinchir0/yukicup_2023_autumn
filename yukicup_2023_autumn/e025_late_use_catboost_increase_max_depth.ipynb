{
 "cells": [
  {
   "cell_type": "code",
   "execution_count": 31,
   "metadata": {},
   "outputs": [],
   "source": [
    "NOTEBOOK_NAME = \"e025_late_use_catboost_increase_max_depth\""
   ]
  },
  {
   "cell_type": "code",
   "execution_count": 32,
   "metadata": {},
   "outputs": [],
   "source": [
    "import numpy as np\n",
    "import polars as pl\n",
    "import pandas as pd\n",
    "import lightgbm as lgb\n",
    "import matplotlib.pyplot as plt\n",
    "from sklearn.model_selection import StratifiedKFold\n",
    "from sklearn.metrics import roc_auc_score\n",
    "import seaborn as sns\n",
    "import japanize_matplotlib\n",
    "\n",
    "from catboost import Pool\n",
    "from catboost import CatBoostClassifier"
   ]
  },
  {
   "cell_type": "code",
   "execution_count": 33,
   "metadata": {},
   "outputs": [],
   "source": [
    "train = pl.read_csv(\"../data/train.csv\")\n",
    "test = pl.read_csv(\"../data/test.csv\")\n",
    "era = pl.read_csv(\"../data/era_improve.csv\")\n",
    "sample_submission = pl.read_csv(\"../data/sample_submission.csv\")"
   ]
  },
  {
   "cell_type": "markdown",
   "metadata": {},
   "source": [
    "# 前処理"
   ]
  },
  {
   "cell_type": "code",
   "execution_count": 34,
   "metadata": {},
   "outputs": [],
   "source": [
    "train = train.join(era, on=\"時代\", how=\"left\")\n",
    "test = test.join(era, on=\"時代\", how=\"left\")"
   ]
  },
  {
   "cell_type": "markdown",
   "metadata": {},
   "source": [
    "# データ型の変更"
   ]
  },
  {
   "cell_type": "code",
   "execution_count": 35,
   "metadata": {},
   "outputs": [],
   "source": [
    "categorical_cols = [\n",
    "    \"棟名\",\n",
    "    \"種別2\",\n",
    "    \"国\",\n",
    "    \"都道府県 ※美工品は「所有者住所（所在都道府県）」\",\n",
    "    \"時代\",\n",
    "    \"保管施設の名称\",\n",
    "    \"所有者名\",\n",
    "    \"管理団体又は責任者\",\n",
    "    \"所在地\",\n",
    "]"
   ]
  },
  {
   "cell_type": "code",
   "execution_count": 36,
   "metadata": {},
   "outputs": [],
   "source": [
    "# カウントエンコーディングを行う\n",
    "merge_df = pl.concat([train[categorical_cols], test[categorical_cols]])\n",
    "\n",
    "merge_count_df = merge_df.select(\n",
    "    [pl.count().over(col).alias(f\"{col}_count\") for col in categorical_cols]\n",
    ")\n",
    "\n",
    "train_count_df = merge_count_df.slice(0, train.shape[0])\n",
    "test_count_df = merge_count_df.slice(train.shape[0])\n",
    "\n",
    "train = pl.concat([train, train_count_df], how=\"horizontal\")\n",
    "test = pl.concat([test, test_count_df], how=\"horizontal\")"
   ]
  },
  {
   "cell_type": "code",
   "execution_count": 37,
   "metadata": {},
   "outputs": [],
   "source": [
    "# Trainにしかないデータを削除する\n",
    "def only_train_is_null(train: pl.DataFrame, test: pl.DataFrame, col: str):\n",
    "    only_train = set(train.get_column(col).unique())\n",
    "    only_test = set(test.get_column(col).unique())\n",
    "\n",
    "    share_value = only_train & only_test\n",
    "\n",
    "    return train.with_columns(\n",
    "        pl.when(pl.col(col).is_in(list(share_value)))\n",
    "        .then(pl.col(col))\n",
    "        .otherwise(None)\n",
    "        .alias(col)\n",
    "    )\n",
    "\n",
    "\n",
    "for col in categorical_cols:\n",
    "    train = only_train_is_null(train, test, col)"
   ]
  },
  {
   "cell_type": "code",
   "execution_count": 38,
   "metadata": {},
   "outputs": [],
   "source": [
    "from sklearn.preprocessing import LabelEncoder\n",
    "\n",
    "\n",
    "def label_encoder(train: pd.Series, test: pd.Series) -> tuple[pd.Series, pd.Series]:\n",
    "    le = LabelEncoder()\n",
    "    labeld_sr = le.fit_transform(pd.concat([train, test]))\n",
    "    return labeld_sr[: len(train)], labeld_sr[len(train) :]\n",
    "\n",
    "\n",
    "train = train.to_pandas()\n",
    "test = test.to_pandas()\n",
    "\n",
    "for col in categorical_cols:\n",
    "    train[col], test[col] = label_encoder(train[col], test[col])\n",
    "\n",
    "train = pl.from_pandas(train)\n",
    "test = pl.from_pandas(test)"
   ]
  },
  {
   "cell_type": "code",
   "execution_count": 39,
   "metadata": {},
   "outputs": [],
   "source": [
    "# for col in categorical_cols:\n",
    "#     train = train.with_columns(pl.col(col).cast(pl.Categorical).alias(col))\n",
    "#     test = test.with_columns(pl.col(col).cast(pl.Categorical).alias(col))"
   ]
  },
  {
   "cell_type": "markdown",
   "metadata": {},
   "source": [
    "# Fold"
   ]
  },
  {
   "cell_type": "code",
   "execution_count": 40,
   "metadata": {},
   "outputs": [],
   "source": [
    "FOLD_NUM = 5"
   ]
  },
  {
   "cell_type": "code",
   "execution_count": 41,
   "metadata": {},
   "outputs": [],
   "source": [
    "empty = np.zeros(train.height)\n",
    "fold = StratifiedKFold(n_splits=FOLD_NUM, shuffle=True, random_state=33)\n",
    "\n",
    "for idx, (_, val_idx) in enumerate(fold.split(train, train.get_column(\"is_kokuhou\"))):\n",
    "    empty[val_idx] = idx\n",
    "\n",
    "train = train.with_columns(pl.Series(empty).cast(pl.Int64).alias(\"fold\"))"
   ]
  },
  {
   "cell_type": "markdown",
   "metadata": {},
   "source": [
    "# CatBoost"
   ]
  },
  {
   "cell_type": "code",
   "execution_count": 42,
   "metadata": {},
   "outputs": [
    {
     "data": {
      "text/plain": [
       "22"
      ]
     },
     "execution_count": 42,
     "metadata": {},
     "output_type": "execute_result"
    }
   ],
   "source": [
    "use_col = []\n",
    "\n",
    "base_col = [\"緯度\", \"経度\", \"開始\", \"終了\"]\n",
    "\n",
    "use_col += base_col\n",
    "use_col += categorical_cols\n",
    "use_col += [f\"{col}_count\" for col in categorical_cols]\n",
    "\n",
    "len(use_col)"
   ]
  },
  {
   "cell_type": "code",
   "execution_count": 43,
   "metadata": {},
   "outputs": [
    {
     "data": {
      "text/plain": [
       "['緯度',\n",
       " '経度',\n",
       " '開始',\n",
       " '終了',\n",
       " '棟名',\n",
       " '種別2',\n",
       " '国',\n",
       " '都道府県 ※美工品は「所有者住所（所在都道府県）」',\n",
       " '時代',\n",
       " '保管施設の名称',\n",
       " '所有者名',\n",
       " '管理団体又は責任者',\n",
       " '所在地',\n",
       " '棟名_count',\n",
       " '種別2_count',\n",
       " '国_count',\n",
       " '都道府県 ※美工品は「所有者住所（所在都道府県）」_count',\n",
       " '時代_count',\n",
       " '保管施設の名称_count',\n",
       " '所有者名_count',\n",
       " '管理団体又は責任者_count',\n",
       " '所在地_count']"
      ]
     },
     "execution_count": 43,
     "metadata": {},
     "output_type": "execute_result"
    }
   ],
   "source": [
    "use_col"
   ]
  },
  {
   "cell_type": "code",
   "execution_count": 44,
   "metadata": {},
   "outputs": [],
   "source": [
    "def get_lgbm_prediction(\n",
    "    train: pl.DataFrame, use_col: list, params: dict, FOLD_NUM: int = 5\n",
    ") -> tuple[np.ndarray, list]:\n",
    "    print(params)\n",
    "    # 学習データ全体に対する推論結果を保存するobjectを作成\n",
    "    oof = np.zeros((len(train)))\n",
    "\n",
    "    # テストデータに対する推論、特徴量重要度(後述)を計算するために、モデルを保存するobjectを作成\n",
    "    models = []\n",
    "\n",
    "    # Cross Validationによる学習の実施\n",
    "    for fold in range(FOLD_NUM):\n",
    "        print(f\"Start fold {fold}\")\n",
    "\n",
    "        # polarsをpandasに変換\n",
    "        train_pd = train.to_pandas()\n",
    "\n",
    "        # foldごとにtrainとvalidに分ける\n",
    "        train_fold = train_pd[train_pd[\"fold\"] != fold]\n",
    "        valid_fold = train_pd[train_pd[\"fold\"] == fold]\n",
    "\n",
    "        # X(説明変数)とy(目的変数)に分ける\n",
    "        X_train = train_fold.drop(\"is_kokuhou\", axis=1)\n",
    "        X_valid = valid_fold.drop(\"is_kokuhou\", axis=1)\n",
    "        y_train = train_fold[[\"is_kokuhou\"]]\n",
    "        y_valid = valid_fold[[\"is_kokuhou\"]]\n",
    "\n",
    "        # 利用する説明変数に限定する\n",
    "        X_train = X_train[use_col]\n",
    "        X_valid = X_valid[use_col]\n",
    "\n",
    "        # CatBoostが認識可能な形にデータセットを変換\n",
    "        cat_train = Pool(X_train, y_train, cat_features=categorical_cols)\n",
    "        cat_valid = Pool(X_valid, y_valid, cat_features=categorical_cols)\n",
    "\n",
    "        # モデルの学習\n",
    "        model = CatBoostClassifier(**params)\n",
    "        model.fit(\n",
    "            cat_train,\n",
    "            eval_set=cat_valid,\n",
    "            use_best_model=True,\n",
    "            early_stopping_rounds=100,\n",
    "            verbose=False,\n",
    "        )\n",
    "\n",
    "        # モデルを保存\n",
    "        models.append(model)\n",
    "\n",
    "        # validデータに対する推論\n",
    "        y_valid_pred = model.predict_proba(X_valid)[:, 1]\n",
    "\n",
    "        # validデータに対する推論の性能を計算\n",
    "        calc_f1_score = roc_auc_score(y_valid, y_valid_pred)\n",
    "        print(f\"fold {fold} Score: {calc_f1_score}\")\n",
    "\n",
    "        # oofに推論結果を保存\n",
    "        valid_idx = X_valid.index\n",
    "        oof[valid_idx] = y_valid_pred\n",
    "    return oof, models"
   ]
  },
  {
   "cell_type": "code",
   "execution_count": 45,
   "metadata": {},
   "outputs": [],
   "source": [
    "# LightGBMで用いるパラメーターを指定\n",
    "# ref: https://lightgbm.readthedocs.io/en/v3.3.5/Parameters.html\n",
    "# params = {\"objective\": \"binary\", \"metric\": \"auc\", \"verbosity\": -1, \"seed\": 42}"
   ]
  },
  {
   "cell_type": "code",
   "execution_count": 46,
   "metadata": {},
   "outputs": [
    {
     "name": "stdout",
     "output_type": "stream",
     "text": [
      "{'objective': 'Logloss', 'eval_metric': 'AUC', 'task_type': 'CPU', 'learning_rate': 0.01, 'iterations': 10000, 'random_seed': 42, 'od_type': 'Iter', 'use_best_model': True, 'max_depth': 8}\n",
      "Start fold 0\n",
      "fold 0 Score: 0.839122383252818\n",
      "Start fold 1\n",
      "fold 1 Score: 0.7937439613526571\n",
      "Start fold 2\n",
      "fold 2 Score: 0.8429347826086956\n",
      "Start fold 3\n",
      "fold 3 Score: 0.8251972624798712\n",
      "Start fold 4\n",
      "fold 4 Score: 0.8138039428439218\n",
      "thr: 0.01, f1_score: 0.1562204724409449\n",
      "thr: 0.02, f1_score: 0.1861271676300578\n",
      "thr: 0.03, f1_score: 0.2157676348547718\n",
      "thr: 0.04, f1_score: 0.24245689655172414\n",
      "thr: 0.05, f1_score: 0.26441717791411046\n",
      "thr: 0.060000000000000005, f1_score: 0.28157349896480327\n",
      "thr: 0.06999999999999999, f1_score: 0.29596073990184973\n",
      "thr: 0.08, f1_score: 0.3076923076923077\n",
      "thr: 0.09, f1_score: 0.3134461264470169\n",
      "thr: 0.09999999999999999, f1_score: 0.3254901960784314\n",
      "thr: 0.11, f1_score: 0.3335086796422935\n",
      "thr: 0.12, f1_score: 0.34059633027522934\n",
      "thr: 0.13, f1_score: 0.3435736677115988\n",
      "thr: 0.14, f1_score: 0.345343303874915\n",
      "thr: 0.15000000000000002, f1_score: 0.34738372093023256\n",
      "thr: 0.16, f1_score: 0.34401876465989056\n",
      "thr: 0.17, f1_score: 0.35108153078202997\n",
      "thr: 0.18000000000000002, f1_score: 0.34219858156028365\n",
      "thr: 0.19, f1_score: 0.33552014995313967\n",
      "thr: 0.2, f1_score: 0.3333333333333333\n",
      "thr: 0.21000000000000002, f1_score: 0.32627118644067793\n",
      "thr: 0.22, f1_score: 0.31450719822812845\n",
      "thr: 0.23, f1_score: 0.3075144508670521\n",
      "thr: 0.24000000000000002, f1_score: 0.3036144578313253\n",
      "thr: 0.25, f1_score: 0.2828282828282829\n",
      "thr: 0.26, f1_score: 0.2759526938239159\n",
      "thr: 0.27, f1_score: 0.26287262872628725\n",
      "thr: 0.28, f1_score: 0.2520775623268698\n",
      "thr: 0.29000000000000004, f1_score: 0.23863636363636362\n",
      "thr: 0.3, f1_score: 0.23065693430656936\n",
      "thr: 0.31, f1_score: 0.2265275707898659\n",
      "thr: 0.32, f1_score: 0.20489296636085627\n",
      "thr: 0.33, f1_score: 0.20370370370370372\n",
      "thr: 0.34, f1_score: 0.1940532081377152\n",
      "thr: 0.35000000000000003, f1_score: 0.18441971383147857\n",
      "thr: 0.36000000000000004, f1_score: 0.1824\n",
      "thr: 0.37, f1_score: 0.17105263157894735\n",
      "thr: 0.38, f1_score: 0.16611295681063123\n",
      "thr: 0.39, f1_score: 0.15771812080536912\n",
      "thr: 0.4, f1_score: 0.14915254237288136\n",
      "thr: 0.41000000000000003, f1_score: 0.13993174061433447\n",
      "thr: 0.42000000000000004, f1_score: 0.1312607944732297\n",
      "thr: 0.43, f1_score: 0.12869565217391304\n",
      "thr: 0.44, f1_score: 0.12237762237762237\n",
      "thr: 0.45, f1_score: 0.12302284710017576\n",
      "thr: 0.46, f1_score: 0.11681415929203542\n",
      "thr: 0.47000000000000003, f1_score: 0.1103202846975089\n",
      "thr: 0.48000000000000004, f1_score: 0.11051693404634583\n",
      "thr: 0.49, f1_score: 0.10714285714285714\n",
      "thr: 0.5, f1_score: 0.10412926391382407\n",
      "thr: 0.51, f1_score: 0.1045045045045045\n",
      "thr: 0.52, f1_score: 0.09541284403669724\n",
      "thr: 0.53, f1_score: 0.09208103130755065\n",
      "thr: 0.54, f1_score: 0.08518518518518518\n",
      "thr: 0.55, f1_score: 0.08178438661710037\n",
      "thr: 0.56, f1_score: 0.07850467289719626\n",
      "thr: 0.5700000000000001, f1_score: 0.06792452830188679\n",
      "thr: 0.5800000000000001, f1_score: 0.06060606060606061\n",
      "thr: 0.59, f1_score: 0.05333333333333334\n",
      "thr: 0.6, f1_score: 0.05333333333333334\n",
      "thr: 0.61, f1_score: 0.0421455938697318\n",
      "thr: 0.62, f1_score: 0.04238921001926782\n",
      "thr: 0.63, f1_score: 0.03481624758220503\n",
      "thr: 0.64, f1_score: 0.03488372093023255\n",
      "thr: 0.65, f1_score: 0.031067961165048542\n",
      "thr: 0.66, f1_score: 0.031067961165048542\n",
      "thr: 0.67, f1_score: 0.02729044834307992\n",
      "thr: 0.68, f1_score: 0.02729044834307992\n",
      "thr: 0.6900000000000001, f1_score: 0.027343749999999997\n",
      "thr: 0.7000000000000001, f1_score: 0.02745098039215686\n",
      "thr: 0.7100000000000001, f1_score: 0.02745098039215686\n",
      "thr: 0.72, f1_score: 0.01972386587771203\n",
      "thr: 0.73, f1_score: 0.015810276679841896\n",
      "thr: 0.74, f1_score: 0.011881188118811883\n",
      "thr: 0.75, f1_score: 0.011904761904761906\n",
      "thr: 0.76, f1_score: 0.011904761904761906\n",
      "thr: 0.77, f1_score: 0.011904761904761906\n",
      "thr: 0.78, f1_score: 0.011904761904761906\n",
      "thr: 0.79, f1_score: 0.011904761904761906\n",
      "thr: 0.8, f1_score: 0.007952286282306162\n",
      "thr: 0.81, f1_score: 0.007952286282306162\n",
      "thr: 0.8200000000000001, f1_score: 0.007952286282306162\n",
      "thr: 0.8300000000000001, f1_score: 0.007952286282306162\n",
      "thr: 0.8400000000000001, f1_score: 0.007952286282306162\n",
      "thr: 0.85, f1_score: 0.007952286282306162\n",
      "thr: 0.86, f1_score: 0.007952286282306162\n",
      "thr: 0.87, f1_score: 0.007952286282306162\n",
      "thr: 0.88, f1_score: 0.003984063745019919\n",
      "thr: 0.89, f1_score: 0.003984063745019919\n",
      "thr: 0.9, f1_score: 0.0\n",
      "thr: 0.91, f1_score: 0.0\n",
      "thr: 0.92, f1_score: 0.0\n",
      "thr: 0.93, f1_score: 0.0\n",
      "thr: 0.9400000000000001, f1_score: 0.0\n",
      "thr: 0.9500000000000001, f1_score: 0.0\n",
      "thr: 0.9600000000000001, f1_score: 0.0\n",
      "thr: 0.97, f1_score: 0.0\n",
      "thr: 0.98, f1_score: 0.0\n",
      "thr: 0.99, f1_score: 0.0\n",
      "AUC:  0.8209678243770151\n",
      "Optimized thr: 0.17, f1 score: 0.35108153078202997\n"
     ]
    }
   ],
   "source": [
    "from sklearn.metrics import f1_score\n",
    "\n",
    "seed_ave_models = []\n",
    "oofs = []\n",
    "oof_scores = []\n",
    "for seed in [42]:\n",
    "    params = {\n",
    "        \"objective\": \"Logloss\",\n",
    "        \"eval_metric\": \"AUC\",\n",
    "        \"task_type\": \"CPU\",\n",
    "        \"learning_rate\": 0.01,\n",
    "        \"iterations\": 10000,\n",
    "        \"random_seed\": seed,\n",
    "        \"od_type\": \"Iter\",\n",
    "        \"use_best_model\": True,\n",
    "        \"max_depth\": 16,\n",
    "    }\n",
    "    # params = {\"objective\": \"binary\", \"metric\": \"auc\", \"verbosity\": -1, \"seed\": seed}\n",
    "    # ↑の状態でseedだけ変えても、結果が変わらなかった\n",
    "    oof, models = get_lgbm_prediction(train, use_col, params)\n",
    "    oof_score = roc_auc_score(y_true=train.get_column(\"is_kokuhou\"), y_score=oof)\n",
    "\n",
    "    seed_ave_models.extend(models)\n",
    "    oofs.append(oof)\n",
    "    oof_scores.append(oof_score)\n",
    "\n",
    "# 0.01 から 0.99 まで 0.01 刻みで閾値を変えて、F1 score を計算する\n",
    "max_f1_score = 0\n",
    "\n",
    "oof_score_mean = np.mean(oof_scores)\n",
    "oof_mean = np.vstack(oofs).mean(axis=0)\n",
    "\n",
    "for thr in np.arange(0.01, 1, 0.01):\n",
    "    calc_f1_score = f1_score(\n",
    "        train.get_column(\"is_kokuhou\"), (oof_mean > thr).astype(int)\n",
    "    )\n",
    "    print(f\"thr: {thr}, f1_score: {calc_f1_score}\")\n",
    "    if max_f1_score < calc_f1_score:\n",
    "        max_f1_score = calc_f1_score\n",
    "        best_thr = thr\n",
    "print(\"AUC: \", oof_score_mean)\n",
    "print(f\"Optimized thr: {best_thr}, f1 score: {max_f1_score}\")"
   ]
  },
  {
   "cell_type": "code",
   "execution_count": 47,
   "metadata": {},
   "outputs": [],
   "source": [
    "oof_score_mean = np.mean(oof_scores)\n",
    "oof_mean = np.vstack(oofs).mean(axis=0)"
   ]
  },
  {
   "cell_type": "code",
   "execution_count": 48,
   "metadata": {},
   "outputs": [
    {
     "data": {
      "text/plain": [
       "<Axes: xlabel='Importances', ylabel='Feature Id'>"
      ]
     },
     "execution_count": 48,
     "metadata": {},
     "output_type": "execute_result"
    },
    {
     "data": {
      "image/png": "[encoded data removed]",
      "text/plain": [
       "<Figure size 640x480 with 1 Axes>"
      ]
     },
     "metadata": {},
     "output_type": "display_data"
    }
   ],
   "source": [
    "# 特徴量重要度を列にもつDataFrameを作成\n",
    "feature_importances = [\n",
    "    model.get_feature_importance(prettified=True) for model in models\n",
    "]\n",
    "\n",
    "# 特徴量重要度の中央値をとり、sortする\n",
    "feature_importance_sorted_median = (\n",
    "    pd.concat(feature_importances)\n",
    "    .groupby(\"Feature Id\")\n",
    "    .median()\n",
    "    .sort_values(by=\"Importances\", ascending=False)\n",
    ")\n",
    "\n",
    "# 表示する順番を指定、特徴量重要度の中央値が大きい順に並ぶよう計算\n",
    "order = feature_importance_sorted_median.index.tolist()\n",
    "\n",
    "# 表示\n",
    "# fold毎の特徴量重要度のばらつきを見るために、箱ひげ図を利用\n",
    "sns.boxplot(\n",
    "    data=pd.concat(feature_importances),\n",
    "    x=\"Importances\",\n",
    "    y=\"Feature Id\",\n",
    "    orient=\"h\",\n",
    "    order=order,\n",
    ")"
   ]
  },
  {
   "cell_type": "code",
   "execution_count": 49,
   "metadata": {},
   "outputs": [],
   "source": [
    "# k 個のモデルの予測を作成. shape = (5, N_test,).\n",
    "pred = np.array(\n",
    "    [\n",
    "        model.predict_proba(test.select(use_col).to_pandas())[:, 1]\n",
    "        for model in seed_ave_models\n",
    "    ]\n",
    ")\n",
    "\n",
    "# k 個のモデルの予測値の平均 shape = (N_test,).\n",
    "pred = np.mean(pred, axis=0)  # axis=0 なので shape の `k` が潰れる"
   ]
  },
  {
   "cell_type": "code",
   "execution_count": 50,
   "metadata": {},
   "outputs": [
    {
     "data": {
      "image/png": "[encoded data removed]",
      "text/plain": [
       "<Figure size 800x600 with 1 Axes>"
      ]
     },
     "metadata": {},
     "output_type": "display_data"
    }
   ],
   "source": [
    "fig, ax = plt.subplots(figsize=(8, 6))\n",
    "\n",
    "vmax = 0.02\n",
    "# bins = np.linspace(0, 1, 0.1)\n",
    "ax.hist(pred, density=True, alpha=0.5, label=\"Test\")\n",
    "ax.hist(oof, density=True, alpha=0.5, label=\"OutOfFold\")\n",
    "ax.grid()\n",
    "ax.legend()\n",
    "ax.set_title(\"テストと学習時の予測傾向差分\")\n",
    "\n",
    "fig.tight_layout()"
   ]
  },
  {
   "cell_type": "code",
   "execution_count": 51,
   "metadata": {},
   "outputs": [],
   "source": [
    "train.with_columns(pl.Series(oof).cast(pl.Float64).alias(\"oof\")).write_csv(\n",
    "    f\"../oof/oof_{NOTEBOOK_NAME}_f1score_{max_f1_score:.4f}_auc_{oof_score:.4f}.csv\"\n",
    ")"
   ]
  },
  {
   "cell_type": "code",
   "execution_count": 52,
   "metadata": {},
   "outputs": [
    {
     "data": {
      "text/html": [
       "<div><style>\n",
       ".dataframe > thead > tr > th,\n",
       ".dataframe > tbody > tr > td {\n",
       "  text-align: right;\n",
       "}\n",
       "</style>\n",
       "<small>shape: (10_065, 1)</small><table border=\"1\" class=\"dataframe\"><thead><tr><th>is_kokuhou</th></tr><tr><td>i64</td></tr></thead><tbody><tr><td>0</td></tr><tr><td>0</td></tr><tr><td>1</td></tr><tr><td>0</td></tr><tr><td>0</td></tr><tr><td>0</td></tr><tr><td>0</td></tr><tr><td>0</td></tr><tr><td>0</td></tr><tr><td>0</td></tr><tr><td>0</td></tr><tr><td>0</td></tr><tr><td>&hellip;</td></tr><tr><td>0</td></tr><tr><td>0</td></tr><tr><td>0</td></tr><tr><td>0</td></tr><tr><td>0</td></tr><tr><td>0</td></tr><tr><td>0</td></tr><tr><td>0</td></tr><tr><td>0</td></tr><tr><td>1</td></tr><tr><td>0</td></tr><tr><td>0</td></tr></tbody></table></div>"
      ],
      "text/plain": [
       "shape: (10_065, 1)\n",
       "┌────────────┐\n",
       "│ is_kokuhou │\n",
       "│ ---        │\n",
       "│ i64        │\n",
       "╞════════════╡\n",
       "│ 0          │\n",
       "│ 0          │\n",
       "│ 1          │\n",
       "│ 0          │\n",
       "│ …          │\n",
       "│ 0          │\n",
       "│ 1          │\n",
       "│ 0          │\n",
       "│ 0          │\n",
       "└────────────┘"
      ]
     },
     "execution_count": 52,
     "metadata": {},
     "output_type": "execute_result"
    }
   ],
   "source": [
    "sample_submission.with_columns(pl.Series(\"is_kokuhou\", pred > best_thr).cast(int))"
   ]
  },
  {
   "cell_type": "code",
   "execution_count": 53,
   "metadata": {},
   "outputs": [
    {
     "data": {
      "text/html": [
       "<div><style>\n",
       ".dataframe > thead > tr > th,\n",
       ".dataframe > tbody > tr > td {\n",
       "  text-align: right;\n",
       "}\n",
       "</style>\n",
       "<small>shape: (10_065, 1)</small><table border=\"1\" class=\"dataframe\"><thead><tr><th>is_kokuhou</th></tr><tr><td>i64</td></tr></thead><tbody><tr><td>0</td></tr><tr><td>0</td></tr><tr><td>1</td></tr><tr><td>0</td></tr><tr><td>0</td></tr><tr><td>0</td></tr><tr><td>0</td></tr><tr><td>0</td></tr><tr><td>0</td></tr><tr><td>0</td></tr><tr><td>0</td></tr><tr><td>0</td></tr><tr><td>&hellip;</td></tr><tr><td>0</td></tr><tr><td>0</td></tr><tr><td>0</td></tr><tr><td>0</td></tr><tr><td>0</td></tr><tr><td>0</td></tr><tr><td>0</td></tr><tr><td>0</td></tr><tr><td>0</td></tr><tr><td>1</td></tr><tr><td>0</td></tr><tr><td>0</td></tr></tbody></table></div>"
      ],
      "text/plain": [
       "shape: (10_065, 1)\n",
       "┌────────────┐\n",
       "│ is_kokuhou │\n",
       "│ ---        │\n",
       "│ i64        │\n",
       "╞════════════╡\n",
       "│ 0          │\n",
       "│ 0          │\n",
       "│ 1          │\n",
       "│ 0          │\n",
       "│ …          │\n",
       "│ 0          │\n",
       "│ 1          │\n",
       "│ 0          │\n",
       "│ 0          │\n",
       "└────────────┘"
      ]
     },
     "execution_count": 53,
     "metadata": {},
     "output_type": "execute_result"
    }
   ],
   "source": [
    "sample_submission = sample_submission.with_columns(\n",
    "    pl.Series(\"is_kokuhou\", pred > best_thr).cast(int)\n",
    ")\n",
    "sample_submission"
   ]
  },
  {
   "cell_type": "code",
   "execution_count": 54,
   "metadata": {},
   "outputs": [
    {
     "data": {
      "text/plain": [
       "'../sub/e024_use_catboost_f1score_0.3511_auc_0.8210.csv'"
      ]
     },
     "execution_count": 54,
     "metadata": {},
     "output_type": "execute_result"
    }
   ],
   "source": [
    "sample_submission.write_csv(\n",
    "    f\"../sub/{NOTEBOOK_NAME}_f1score_{max_f1_score:.4f}_auc_{oof_score:.4f}.csv\"\n",
    ")\n",
    "f\"../sub/{NOTEBOOK_NAME}_f1score_{max_f1_score:.4f}_auc_{oof_score:.4f}.csv\""
   ]
  },
  {
   "cell_type": "code",
   "execution_count": null,
   "metadata": {},
   "outputs": [],
   "source": []
  }
 ],
 "metadata": {
  "kernelspec": {
   "display_name": ".venv",
   "language": "python",
   "name": "python3"
  },
  "language_info": {
   "codemirror_mode": {
    "name": "ipython",
    "version": 3
   },
   "file_extension": ".py",
   "mimetype": "text/x-python",
   "name": "python",
   "nbconvert_exporter": "python",
   "pygments_lexer": "ipython3",
   "version": "3.11.3"
  },
  "orig_nbformat": 4
 },
 "nbformat": 4,
 "nbformat_minor": 2
}
