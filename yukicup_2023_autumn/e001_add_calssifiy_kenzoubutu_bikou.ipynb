{
 "cells": [
  {
   "cell_type": "code",
   "execution_count": 45,
   "metadata": {},
   "outputs": [],
   "source": [
    "NOTEBOOK_NAME = \"e017_add_magic_num\""
   ]
  },
  {
   "cell_type": "code",
   "execution_count": 46,
   "metadata": {},
   "outputs": [],
   "source": [
    "import numpy as np\n",
    "import polars as pl\n",
    "import pandas as pd\n",
    "import lightgbm as lgb\n",
    "import matplotlib.pyplot as plt\n",
    "from sklearn.model_selection import StratifiedKFold\n",
    "from sklearn.metrics import roc_auc_score\n",
    "import seaborn as sns\n",
    "import japanize_matplotlib"
   ]
  },
  {
   "cell_type": "code",
   "execution_count": null,
   "metadata": {},
   "outputs": [],
   "source": []
  },
  {
   "cell_type": "code",
   "execution_count": 47,
   "metadata": {},
   "outputs": [],
   "source": [
    "train = pl.read_csv(\"../data/train.csv\")\n",
    "test = pl.read_csv(\"../data/test.csv\")\n",
    "era = pl.read_csv(\"../data/era.csv\")\n",
    "sample_submission = pl.read_csv(\"../data/sample_submission.csv\")"
   ]
  },
  {
   "cell_type": "markdown",
   "metadata": {},
   "source": [
    "# 前処理"
   ]
  },
  {
   "cell_type": "code",
   "execution_count": 48,
   "metadata": {},
   "outputs": [],
   "source": [
    "import re\n",
    "\n",
    "\n",
    "def get_prefecture(text: str) -> str | None:\n",
    "    all_prefectures = (\n",
    "        \"北海道|青森県|岩手県|宮城県|秋田県|山形県|福島県|\"\n",
    "        + \"茨城県|栃木県|群馬県|埼玉県|千葉県|東京都|神奈川県|\"\n",
    "        + \"新潟県|富山県|石川県|福井県|山梨県|長野県|岐阜県|静岡県|愛知県|\"\n",
    "        + \"三重県|滋賀県|京都府|大阪府|兵庫県|奈良県|和歌山県|\"\n",
    "        + \"鳥取県|島根県|岡山県|広島県|山口県|\"\n",
    "        + \"徳島県|香川県|愛媛県|高知県|\"\n",
    "        + \"福岡県|佐賀県|長崎県|熊本県|大分県|宮崎県|鹿児島県|沖縄県\"\n",
    "    )\n",
    "    if match := re.search(all_prefectures, text):\n",
    "        return match.group(0)\n",
    "    else:\n",
    "        return None\n",
    "\n",
    "\n",
    "# 都道府県を抽出\n",
    "train = train.with_columns(\n",
    "    pl.col(\"都道府県 ※美工品は「所有者住所（所在都道府県）」\").apply(get_prefecture).alias(\"都道府県\")\n",
    ")\n",
    "test = test.with_columns(\n",
    "    pl.col(\"都道府県 ※美工品は「所有者住所（所在都道府県）」\").apply(get_prefecture).alias(\"都道府県\")\n",
    ")"
   ]
  },
  {
   "cell_type": "code",
   "execution_count": 49,
   "metadata": {},
   "outputs": [
    {
     "name": "stderr",
     "output_type": "stream",
     "text": [
      "/var/folders/4p/kqrm_mh10fn2pjkrxfzxh03c0000gq/T/ipykernel_16124/3755196075.py:31: PolarsInefficientApplyWarning: \n",
      "Expr.apply is significantly slower than the native expressions API.\n",
      "Only use if you absolutely CANNOT implement your logic otherwise.\n",
      "In this case, you can replace your `apply` with the following:\n",
      "  - pl.col(\"種別2\").apply(classify_kenzoubutu_bikouhin)\n",
      "  + pl.col(\"種別2\").is_in(kenzoubutu_feat) & '建造物' & '美工品'\n",
      "\n",
      "  pl.col(\"種別2\").apply(classify_kenzoubutu_bikouhin).alias(\"建造物_or_美工品\")\n",
      "/var/folders/4p/kqrm_mh10fn2pjkrxfzxh03c0000gq/T/ipykernel_16124/3755196075.py:34: PolarsInefficientApplyWarning: \n",
      "Expr.apply is significantly slower than the native expressions API.\n",
      "Only use if you absolutely CANNOT implement your logic otherwise.\n",
      "In this case, you can replace your `apply` with the following:\n",
      "  - pl.col(\"種別2\").apply(classify_kenzoubutu_bikouhin)\n",
      "  + pl.col(\"種別2\").is_in(kenzoubutu_feat) & '建造物' & '美工品'\n",
      "\n",
      "  pl.col(\"種別2\").apply(classify_kenzoubutu_bikouhin).alias(\"建造物_or_美工品\")\n"
     ]
    }
   ],
   "source": [
    "# 種別2より建造物か美工品かを分類する特徴を追加\n",
    "kenzoubutu_feat = [\n",
    "    \"近世以前／神社\",\n",
    "    \"近世以前／神社\",\n",
    "    \"近世以前／寺院\",\n",
    "    \"近世以前／城郭\",\n",
    "    \"近世以前／住宅\",\n",
    "    \"近世以前／民家\",\n",
    "    \"近世以前／その他\",\n",
    "    \"近代／宗教\",\n",
    "    \"近代／学校\",\n",
    "    \"近代／官公庁舎\",\n",
    "    \"近代／産業・交通・土木\",\n",
    "    \"近代／住居\",\n",
    "    \"近代／文化施設\",\n",
    "    \"近代／商業・業務\",\n",
    "    \"近代／その他\",\n",
    "]\n",
    "\n",
    "bikouhin_feat = [\"宝\", \"絵画\", \"彫刻\", \"工芸品\", \"書跡・典籍\", \"古文書\", \"考古資料\", \"歴史資料\"]\n",
    "\n",
    "\n",
    "def classify_kenzoubutu_bikouhin(text: str | None) -> str | None:\n",
    "    if text in kenzoubutu_feat:\n",
    "        return \"建造物\"\n",
    "    elif text in bikouhin_feat:\n",
    "        return \"美工品\"\n",
    "    return None\n",
    "\n",
    "\n",
    "train = train.with_columns(\n",
    "    pl.col(\"種別2\").apply(classify_kenzoubutu_bikouhin).alias(\"建造物_or_美工品\")\n",
    ")\n",
    "test = test.with_columns(\n",
    "    pl.col(\"種別2\").apply(classify_kenzoubutu_bikouhin).alias(\"建造物_or_美工品\")\n",
    ")"
   ]
  },
  {
   "cell_type": "markdown",
   "metadata": {},
   "source": [
    "# データ型の変更"
   ]
  },
  {
   "cell_type": "code",
   "execution_count": 50,
   "metadata": {},
   "outputs": [
    {
     "data": {
      "text/html": [
       "<div><style>\n",
       ".dataframe > thead > tr > th,\n",
       ".dataframe > tbody > tr > td {\n",
       "  text-align: right;\n",
       "}\n",
       "</style>\n",
       "<small>shape: (5, 15)</small><table border=\"1\" class=\"dataframe\"><thead><tr><th>名称</th><th>棟名</th><th>種別2</th><th>国</th><th>時代</th><th>都道府県 ※美工品は「所有者住所（所在都道府県）」</th><th>所在地</th><th>保管施設の名称</th><th>所有者名</th><th>管理団体又は責任者</th><th>緯度</th><th>経度</th><th>is_kokuhou</th><th>都道府県</th><th>建造物_or_美工品</th></tr><tr><td>str</td><td>str</td><td>str</td><td>str</td><td>str</td><td>str</td><td>str</td><td>str</td><td>str</td><td>str</td><td>f64</td><td>f64</td><td>i64</td><td>str</td><td>str</td></tr></thead><tbody><tr><td>&quot;泉布観&quot;</td><td>null</td><td>&quot;近代／文化施設&quot;</td><td>null</td><td>&quot;明治&quot;</td><td>&quot;大阪府&quot;</td><td>&quot;大阪府大阪市北区天満橋一丁目…</td><td>null</td><td>&quot;大阪市&quot;</td><td>null</td><td>34.69811</td><td>135.5214</td><td>0</td><td>&quot;大阪府&quot;</td><td>&quot;建造物&quot;</td></tr><tr><td>&quot;絹本著色准胝仏母像&quot;</td><td>null</td><td>&quot;絵画&quot;</td><td>&quot;日本&quot;</td><td>&quot;鎌倉&quot;</td><td>&quot;京都府（京都府）&quot;</td><td>null</td><td>null</td><td>&quot;広隆寺&quot;</td><td>null</td><td>null</td><td>null</td><td>0</td><td>&quot;京都府&quot;</td><td>&quot;美工品&quot;</td></tr><tr><td>&quot;石上神宮拝殿&quot;</td><td>null</td><td>&quot;近世以前／寺院&quot;</td><td>null</td><td>&quot;鎌倉前期&quot;</td><td>&quot;奈良県&quot;</td><td>&quot;奈良県天理市布留町&quot;</td><td>null</td><td>&quot;石上神宮&quot;</td><td>null</td><td>34.5978</td><td>135.852</td><td>1</td><td>&quot;奈良県&quot;</td><td>&quot;建造物&quot;</td></tr><tr><td>&quot;剣〈銘真守（備前）／〉&quot;</td><td>null</td><td>&quot;工芸品&quot;</td><td>&quot;日本&quot;</td><td>&quot;鎌倉&quot;</td><td>&quot;和歌山県（和歌山県）&quot;</td><td>null</td><td>null</td><td>&quot;宗教法人金剛峯寺&quot;</td><td>&quot;財団法人高野山文化財保存会&quot;</td><td>null</td><td>null</td><td>0</td><td>&quot;和歌山県&quot;</td><td>&quot;美工品&quot;</td></tr><tr><td>&quot;旧新町紡績所&quot;</td><td>&quot;工場本館&quot;</td><td>&quot;近代／産業・交通・土木&quot;</td><td>null</td><td>&quot;明治&quot;</td><td>&quot;群馬県&quot;</td><td>&quot;群馬県高崎市新町二三三〇番地…</td><td>null</td><td>&quot;クラシエフーズ株式会社&quot;</td><td>null</td><td>36.27766</td><td>139.1003</td><td>0</td><td>&quot;群馬県&quot;</td><td>&quot;建造物&quot;</td></tr></tbody></table></div>"
      ],
      "text/plain": [
       "shape: (5, 15)\n",
       "┌─────────────┬──────────┬─────────────┬──────┬───┬──────────┬────────────┬──────────┬─────────────┐\n",
       "│ 名称        ┆ 棟名     ┆ 種別2       ┆ 国   ┆ … ┆ 経度     ┆ is_kokuhou ┆ 都道府県 ┆ 建造物_or_  │\n",
       "│ ---         ┆ ---      ┆ ---         ┆ ---  ┆   ┆ ---      ┆ ---        ┆ ---      ┆ 美工品      │\n",
       "│ str         ┆ str      ┆ str         ┆ str  ┆   ┆ f64      ┆ i64        ┆ str      ┆ ---         │\n",
       "│             ┆          ┆             ┆      ┆   ┆          ┆            ┆          ┆ str         │\n",
       "╞═════════════╪══════════╪═════════════╪══════╪═══╪══════════╪════════════╪══════════╪═════════════╡\n",
       "│ 泉布観      ┆ null     ┆ 近代／文化  ┆ null ┆ … ┆ 135.5214 ┆ 0          ┆ 大阪府   ┆ 建造物      │\n",
       "│             ┆          ┆ 施設        ┆      ┆   ┆          ┆            ┆          ┆             │\n",
       "│ 絹本著色准  ┆ null     ┆ 絵画        ┆ 日本 ┆ … ┆ null     ┆ 0          ┆ 京都府   ┆ 美工品      │\n",
       "│ 胝仏母像    ┆          ┆             ┆      ┆   ┆          ┆            ┆          ┆             │\n",
       "│ 石上神宮拝  ┆ null     ┆ 近世以前／  ┆ null ┆ … ┆ 135.852  ┆ 1          ┆ 奈良県   ┆ 建造物      │\n",
       "│ 殿          ┆          ┆ 寺院        ┆      ┆   ┆          ┆            ┆          ┆             │\n",
       "│ 剣〈銘真守  ┆ null     ┆ 工芸品      ┆ 日本 ┆ … ┆ null     ┆ 0          ┆ 和歌山県 ┆ 美工品      │\n",
       "│ （備前）／  ┆          ┆             ┆      ┆   ┆          ┆            ┆          ┆             │\n",
       "│ 〉          ┆          ┆             ┆      ┆   ┆          ┆            ┆          ┆             │\n",
       "│ 旧新町紡績  ┆ 工場本館 ┆ 近代／産業  ┆ null ┆ … ┆ 139.1003 ┆ 0          ┆ 群馬県   ┆ 建造物      │\n",
       "│ 所          ┆          ┆ ・交通・土  ┆      ┆   ┆          ┆            ┆          ┆             │\n",
       "│             ┆          ┆ 木          ┆      ┆   ┆          ┆            ┆          ┆             │\n",
       "└─────────────┴──────────┴─────────────┴──────┴───┴──────────┴────────────┴──────────┴─────────────┘"
      ]
     },
     "execution_count": 50,
     "metadata": {},
     "output_type": "execute_result"
    }
   ],
   "source": [
    "train.head()"
   ]
  },
  {
   "cell_type": "code",
   "execution_count": 51,
   "metadata": {},
   "outputs": [],
   "source": [
    "categorical_cols = [\"国\", \"時代\", \"保管施設の名称\", \"所有者名\", \"管理団体又は責任者\", \"都道府県\", \"建造物_or_美工品\"]"
   ]
  },
  {
   "cell_type": "code",
   "execution_count": 52,
   "metadata": {},
   "outputs": [],
   "source": [
    "for col in categorical_cols:\n",
    "    train = train.with_columns(pl.col(col).cast(pl.Categorical).alias(col))\n",
    "    test = test.with_columns(pl.col(col).cast(pl.Categorical).alias(col))"
   ]
  },
  {
   "cell_type": "markdown",
   "metadata": {},
   "source": [
    "# Fold"
   ]
  },
  {
   "cell_type": "code",
   "execution_count": 53,
   "metadata": {},
   "outputs": [],
   "source": [
    "FOLD_NUM = 5"
   ]
  },
  {
   "cell_type": "code",
   "execution_count": 54,
   "metadata": {},
   "outputs": [],
   "source": [
    "empty = np.zeros(train.height)\n",
    "fold = StratifiedKFold(n_splits=FOLD_NUM, shuffle=True, random_state=33)\n",
    "\n",
    "for idx, (_, val_idx) in enumerate(fold.split(train, train.get_column(\"is_kokuhou\"))):\n",
    "    empty[val_idx] = idx\n",
    "\n",
    "train = train.with_columns(pl.Series(empty).cast(pl.Int64).alias(\"fold\"))"
   ]
  },
  {
   "cell_type": "markdown",
   "metadata": {},
   "source": [
    "# LightGBM"
   ]
  },
  {
   "cell_type": "code",
   "execution_count": 55,
   "metadata": {},
   "outputs": [
    {
     "data": {
      "text/plain": [
       "9"
      ]
     },
     "execution_count": 55,
     "metadata": {},
     "output_type": "execute_result"
    }
   ],
   "source": [
    "use_col = []\n",
    "\n",
    "base_col = [\"緯度\", \"経度\"]\n",
    "\n",
    "use_col += base_col\n",
    "use_col += categorical_cols\n",
    "\n",
    "len(use_col)"
   ]
  },
  {
   "cell_type": "code",
   "execution_count": 56,
   "metadata": {},
   "outputs": [
    {
     "data": {
      "text/plain": [
       "['緯度', '経度', '国', '時代', '保管施設の名称', '所有者名', '管理団体又は責任者', '都道府県', '建造物_or_美工品']"
      ]
     },
     "execution_count": 56,
     "metadata": {},
     "output_type": "execute_result"
    }
   ],
   "source": [
    "use_col"
   ]
  },
  {
   "cell_type": "code",
   "execution_count": 57,
   "metadata": {},
   "outputs": [],
   "source": [
    "# LightGBMで用いるパラメーターを指定\n",
    "# ref: https://lightgbm.readthedocs.io/en/v3.3.5/Parameters.html\n",
    "params = {\"objective\": \"binary\", \"metric\": \"auc\"}"
   ]
  },
  {
   "cell_type": "code",
   "execution_count": 58,
   "metadata": {},
   "outputs": [
    {
     "name": "stdout",
     "output_type": "stream",
     "text": [
      "Start fold 0\n",
      "Training until validation scores don't improve for 100 rounds\n",
      "Early stopping, best iteration is:\n",
      "[103]\ttraining's auc: 0.914084\tvalid_1's auc: 0.809195\n",
      "fold 0 Score: 0.8091948470209339\n",
      "Start fold 1\n",
      "Training until validation scores don't improve for 100 rounds\n",
      "Early stopping, best iteration is:\n",
      "[100]\ttraining's auc: 0.91237\tvalid_1's auc: 0.783631\n",
      "fold 1 Score: 0.7836312399355876\n",
      "Start fold 2\n",
      "Training until validation scores don't improve for 100 rounds\n",
      "Early stopping, best iteration is:\n",
      "[170]\ttraining's auc: 0.933545\tvalid_1's auc: 0.804473\n",
      "fold 2 Score: 0.8044726247987117\n",
      "Start fold 3\n",
      "Training until validation scores don't improve for 100 rounds\n",
      "Early stopping, best iteration is:\n",
      "[82]\ttraining's auc: 0.908726\tvalid_1's auc: 0.786385\n",
      "fold 3 Score: 0.7863848631239936\n",
      "Start fold 4\n",
      "Training until validation scores don't improve for 100 rounds\n",
      "Early stopping, best iteration is:\n",
      "[690]\ttraining's auc: 0.966729\tvalid_1's auc: 0.76467\n",
      "fold 4 Score: 0.7646699802937587\n"
     ]
    }
   ],
   "source": [
    "# 学習データ全体に対する推論結果を保存するobjectを作成\n",
    "oof = np.zeros((len(train)))\n",
    "\n",
    "# テストデータに対する推論、特徴量重要度(後述)を計算するために、モデルを保存するobjectを作成\n",
    "models = []\n",
    "\n",
    "# Cross Validationによる学習の実施\n",
    "for fold in range(FOLD_NUM):\n",
    "    print(f\"Start fold {fold}\")\n",
    "\n",
    "    # polarsをpandasに変換\n",
    "    train_pd = train.to_pandas()\n",
    "\n",
    "    # foldごとにtrainとvalidに分ける\n",
    "    train_fold = train_pd[train_pd[\"fold\"] != fold]\n",
    "    valid_fold = train_pd[train_pd[\"fold\"] == fold]\n",
    "\n",
    "    # X(説明変数)とy(目的変数)に分ける\n",
    "    X_train = train_fold.drop(\"is_kokuhou\", axis=1)\n",
    "    X_valid = valid_fold.drop(\"is_kokuhou\", axis=1)\n",
    "    y_train = train_fold[[\"is_kokuhou\"]]\n",
    "    y_valid = valid_fold[[\"is_kokuhou\"]]\n",
    "\n",
    "    # 利用する説明変数に限定する\n",
    "    X_train = X_train[use_col]\n",
    "    X_valid = X_valid[use_col]\n",
    "\n",
    "    # LightGBMが認識可能な形にデータセットを変換\n",
    "    lgb_train = lgb.Dataset(X_train, y_train)\n",
    "    lgb_eval = lgb.Dataset(X_valid, y_valid, reference=lgb_train)\n",
    "\n",
    "    # モデルの学習\n",
    "    model = lgb.train(\n",
    "        params,\n",
    "        lgb_train,\n",
    "        num_boost_round=10000,  # 学習のiteration回数\n",
    "        valid_sets=[lgb_train, lgb_eval],\n",
    "        callbacks=[\n",
    "            lgb.early_stopping(stopping_rounds=100)\n",
    "        ],  # Early stopingの回数、binary_loglossが改善しないiterationが100回続いたら学習を止める\n",
    "    )\n",
    "\n",
    "    # モデルを保存\n",
    "    models.append(model)\n",
    "\n",
    "    # validデータに対する推論\n",
    "    y_valid_pred = model.predict(X_valid, num_iteration=model.best_iteration)\n",
    "\n",
    "    # validデータに対する推論の性能を計算\n",
    "    calc_f1_score = roc_auc_score(y_valid, y_valid_pred)\n",
    "    print(f\"fold {fold} Score: {calc_f1_score}\")\n",
    "\n",
    "    # oofに推論結果を保存\n",
    "    valid_idx = X_valid.index\n",
    "    oof[valid_idx] = y_valid_pred"
   ]
  },
  {
   "cell_type": "code",
   "execution_count": 59,
   "metadata": {},
   "outputs": [
    {
     "data": {
      "text/plain": [
       "0.7824746705654563"
      ]
     },
     "execution_count": 59,
     "metadata": {},
     "output_type": "execute_result"
    }
   ],
   "source": [
    "oof_score = roc_auc_score(y_true=train.get_column(\"is_kokuhou\"), y_score=oof)\n",
    "oof_score"
   ]
  },
  {
   "cell_type": "code",
   "execution_count": 60,
   "metadata": {},
   "outputs": [
    {
     "name": "stdout",
     "output_type": "stream",
     "text": [
      "thr: 0.01, f1_score: 0.17430001854255514\n",
      "thr: 0.02, f1_score: 0.2125147579693034\n",
      "thr: 0.03, f1_score: 0.23193916349809887\n",
      "thr: 0.04, f1_score: 0.2563619227144203\n",
      "thr: 0.05, f1_score: 0.2697967764540995\n",
      "thr: 0.060000000000000005, f1_score: 0.2784714339765418\n",
      "thr: 0.06999999999999999, f1_score: 0.2882882882882883\n",
      "thr: 0.08, f1_score: 0.2910882221227049\n",
      "thr: 0.09, f1_score: 0.29672447013487474\n",
      "thr: 0.09999999999999999, f1_score: 0.29878048780487804\n",
      "thr: 0.11, f1_score: 0.3001095290251917\n",
      "thr: 0.12, f1_score: 0.3014184397163121\n",
      "thr: 0.13, f1_score: 0.30426479949077023\n",
      "thr: 0.14, f1_score: 0.2995169082125604\n",
      "thr: 0.15000000000000002, f1_score: 0.2933914306463326\n",
      "thr: 0.16, f1_score: 0.29268292682926833\n",
      "thr: 0.17, f1_score: 0.29365079365079366\n",
      "thr: 0.18000000000000002, f1_score: 0.29569455727051175\n",
      "thr: 0.19, f1_score: 0.298582151793161\n",
      "thr: 0.2, f1_score: 0.29955947136563876\n",
      "thr: 0.21000000000000002, f1_score: 0.3049907578558225\n",
      "thr: 0.22, f1_score: 0.29913710450623204\n",
      "thr: 0.23, f1_score: 0.2931726907630522\n",
      "thr: 0.24000000000000002, f1_score: 0.2851153039832285\n",
      "thr: 0.25, f1_score: 0.2809734513274336\n",
      "thr: 0.26, f1_score: 0.28409090909090906\n",
      "thr: 0.27, f1_score: 0.27546296296296297\n",
      "thr: 0.28, f1_score: 0.25744934445768775\n",
      "thr: 0.29000000000000004, f1_score: 0.25814234016887816\n",
      "thr: 0.3, f1_score: 0.24474660074165636\n",
      "thr: 0.31, f1_score: 0.2342569269521411\n",
      "thr: 0.32, f1_score: 0.2199223803363519\n",
      "thr: 0.33, f1_score: 0.2154255319148936\n",
      "thr: 0.34, f1_score: 0.21265141318977118\n",
      "thr: 0.35000000000000003, f1_score: 0.1972222222222222\n",
      "thr: 0.36000000000000004, f1_score: 0.1903409090909091\n",
      "thr: 0.37, f1_score: 0.18705035971223022\n",
      "thr: 0.38, f1_score: 0.18394160583941604\n",
      "thr: 0.39, f1_score: 0.17040358744394615\n",
      "thr: 0.4, f1_score: 0.16944024205748864\n",
      "thr: 0.41000000000000003, f1_score: 0.16174183514774493\n",
      "thr: 0.42000000000000004, f1_score: 0.16037735849056603\n",
      "thr: 0.43, f1_score: 0.15335463258785945\n",
      "thr: 0.44, f1_score: 0.14886731391585759\n",
      "thr: 0.45, f1_score: 0.14098360655737704\n",
      "thr: 0.46, f1_score: 0.12666666666666668\n",
      "thr: 0.47000000000000003, f1_score: 0.12080536912751677\n",
      "thr: 0.48000000000000004, f1_score: 0.11544991511035653\n",
      "thr: 0.49, f1_score: 0.10069444444444445\n",
      "thr: 0.5, f1_score: 0.09106830122591944\n",
      "thr: 0.51, f1_score: 0.08156028368794326\n",
      "thr: 0.52, f1_score: 0.0784313725490196\n",
      "thr: 0.53, f1_score: 0.06846846846846848\n",
      "thr: 0.54, f1_score: 0.06909090909090909\n",
      "thr: 0.55, f1_score: 0.054945054945054944\n",
      "thr: 0.56, f1_score: 0.055248618784530384\n",
      "thr: 0.5700000000000001, f1_score: 0.05545286506469501\n",
      "thr: 0.5800000000000001, f1_score: 0.051948051948051945\n",
      "thr: 0.59, f1_score: 0.05223880597014925\n",
      "thr: 0.6, f1_score: 0.05223880597014925\n",
      "thr: 0.61, f1_score: 0.04868913857677902\n",
      "thr: 0.62, f1_score: 0.048780487804878044\n",
      "thr: 0.63, f1_score: 0.04887218045112782\n",
      "thr: 0.64, f1_score: 0.04896421845574388\n",
      "thr: 0.65, f1_score: 0.0490566037735849\n",
      "thr: 0.66, f1_score: 0.045540796963946875\n",
      "thr: 0.67, f1_score: 0.03816793893129771\n",
      "thr: 0.68, f1_score: 0.03816793893129771\n",
      "thr: 0.6900000000000001, f1_score: 0.034482758620689655\n",
      "thr: 0.7000000000000001, f1_score: 0.03468208092485549\n",
      "thr: 0.7100000000000001, f1_score: 0.03474903474903475\n",
      "thr: 0.72, f1_score: 0.03488372093023255\n",
      "thr: 0.73, f1_score: 0.03495145631067961\n",
      "thr: 0.74, f1_score: 0.0311284046692607\n",
      "thr: 0.75, f1_score: 0.0311284046692607\n",
      "thr: 0.76, f1_score: 0.0311284046692607\n",
      "thr: 0.77, f1_score: 0.027343749999999997\n",
      "thr: 0.78, f1_score: 0.0273972602739726\n",
      "thr: 0.79, f1_score: 0.02745098039215686\n",
      "thr: 0.8, f1_score: 0.02357563850687623\n",
      "thr: 0.81, f1_score: 0.01968503937007874\n",
      "thr: 0.8200000000000001, f1_score: 0.015779092702169623\n",
      "thr: 0.8300000000000001, f1_score: 0.015779092702169623\n",
      "thr: 0.8400000000000001, f1_score: 0.015779092702169623\n",
      "thr: 0.85, f1_score: 0.015810276679841896\n",
      "thr: 0.86, f1_score: 0.015841584158415842\n",
      "thr: 0.87, f1_score: 0.015841584158415842\n",
      "thr: 0.88, f1_score: 0.007952286282306162\n",
      "thr: 0.89, f1_score: 0.007952286282306162\n",
      "thr: 0.9, f1_score: 0.007952286282306162\n",
      "thr: 0.91, f1_score: 0.007952286282306162\n",
      "thr: 0.92, f1_score: 0.0\n",
      "thr: 0.93, f1_score: 0.0\n",
      "thr: 0.9400000000000001, f1_score: 0.0\n",
      "thr: 0.9500000000000001, f1_score: 0.0\n",
      "thr: 0.9600000000000001, f1_score: 0.0\n",
      "thr: 0.97, f1_score: 0.0\n",
      "thr: 0.98, f1_score: 0.0\n",
      "thr: 0.99, f1_score: 0.0\n",
      "Optimized thr: 0.21000000000000002, f1 score: 0.3049907578558225\n"
     ]
    }
   ],
   "source": [
    "from sklearn.metrics import f1_score\n",
    "\n",
    "# 0.01 から 0.99 まで 0.01 刻みで閾値を変えて、F1 score を計算する\n",
    "max_f1_score = 0\n",
    "\n",
    "for thr in np.arange(0.01, 1, 0.01):\n",
    "    calc_f1_score = f1_score(train.get_column(\"is_kokuhou\"), (oof > thr).astype(int))\n",
    "    print(f\"thr: {thr}, f1_score: {calc_f1_score}\")\n",
    "    if max_f1_score < calc_f1_score:\n",
    "        max_f1_score = calc_f1_score\n",
    "        best_thr = thr\n",
    "\n",
    "print(f\"Optimized thr: {best_thr}, f1 score: {max_f1_score}\")"
   ]
  },
  {
   "cell_type": "code",
   "execution_count": 61,
   "metadata": {},
   "outputs": [
    {
     "data": {
      "image/png": "[encoded data removed]",
      "text/plain": [
       "<Figure size 1200x600 with 1 Axes>"
      ]
     },
     "metadata": {},
     "output_type": "display_data"
    }
   ],
   "source": [
    "def visualize_importance(models: list, use_col: list) -> None:\n",
    "    \"\"\"lightGBM の model 配列の feature importance を plot する\n",
    "    CVごとのブレを boxen plot として表現します.\n",
    "\n",
    "    args:\n",
    "        models:\n",
    "            List of lightGBM models\n",
    "        feat_train_df:\n",
    "            学習時に使った DataFrame\n",
    "    \"\"\"\n",
    "    feature_importance_df = pd.DataFrame()\n",
    "    for i, model in enumerate(models):\n",
    "        _df = pd.DataFrame()\n",
    "        _df[\"feature_importance\"] = model.feature_importance()\n",
    "        _df[\"column\"] = use_col\n",
    "        _df[\"fold\"] = i + 1\n",
    "        feature_importance_df = pd.concat(\n",
    "            [feature_importance_df, _df], axis=0, ignore_index=True\n",
    "        )\n",
    "\n",
    "    order = (\n",
    "        feature_importance_df.groupby(\"column\")\n",
    "        .sum()[[\"feature_importance\"]]\n",
    "        .sort_values(\"feature_importance\", ascending=False)\n",
    "        .index[:50]\n",
    "    )\n",
    "\n",
    "    fig, ax = plt.subplots(figsize=(12, max(6, len(order) * 0.25)))\n",
    "    sns.boxenplot(\n",
    "        data=feature_importance_df,\n",
    "        x=\"feature_importance\",\n",
    "        y=\"column\",\n",
    "        order=order,\n",
    "        ax=ax,\n",
    "        palette=\"viridis\",\n",
    "        orient=\"h\",\n",
    "    )\n",
    "    ax.tick_params(axis=\"x\", rotation=90)\n",
    "    ax.set_title(\"Importance\")\n",
    "    ax.grid()\n",
    "    fig.tight_layout()\n",
    "    return fig, ax\n",
    "\n",
    "\n",
    "fig, ax = visualize_importance(models, use_col)"
   ]
  },
  {
   "cell_type": "code",
   "execution_count": 62,
   "metadata": {},
   "outputs": [],
   "source": [
    "# k 個のモデルの予測を作成. shape = (5, N_test,).\n",
    "pred = np.array([model.predict(test.select(use_col).to_pandas()) for model in models])\n",
    "\n",
    "# k 個のモデルの予測値の平均 shape = (N_test,).\n",
    "pred = np.mean(pred, axis=0)  # axis=0 なので shape の `k` が潰れる"
   ]
  },
  {
   "cell_type": "code",
   "execution_count": 63,
   "metadata": {},
   "outputs": [
    {
     "data": {
      "image/png": "[encoded data removed]",
      "text/plain": [
       "<Figure size 800x600 with 1 Axes>"
      ]
     },
     "metadata": {},
     "output_type": "display_data"
    }
   ],
   "source": [
    "fig, ax = plt.subplots(figsize=(8, 6))\n",
    "\n",
    "vmax = 0.02\n",
    "# bins = np.linspace(0, 1, 0.1)\n",
    "ax.hist(pred, density=True, alpha=0.5, label=\"Test\")\n",
    "ax.hist(oof, density=True, alpha=0.5, label=\"OutOfFold\")\n",
    "ax.grid()\n",
    "ax.legend()\n",
    "ax.set_title(\"テストと学習時の予測傾向差分\")\n",
    "\n",
    "fig.tight_layout()"
   ]
  },
  {
   "cell_type": "code",
   "execution_count": 64,
   "metadata": {},
   "outputs": [],
   "source": [
    "train.with_columns(pl.Series(oof).cast(pl.Float64).alias(\"oof\")).write_csv(\n",
    "    f\"../oof/oof_{NOTEBOOK_NAME}_f1score_{max_f1_score:.4f}_auc_{oof_score:.4f}.csv\"\n",
    ")"
   ]
  },
  {
   "cell_type": "code",
   "execution_count": 65,
   "metadata": {},
   "outputs": [
    {
     "data": {
      "text/html": [
       "<div><style>\n",
       ".dataframe > thead > tr > th,\n",
       ".dataframe > tbody > tr > td {\n",
       "  text-align: right;\n",
       "}\n",
       "</style>\n",
       "<small>shape: (10_065, 1)</small><table border=\"1\" class=\"dataframe\"><thead><tr><th>is_kokuhou</th></tr><tr><td>i64</td></tr></thead><tbody><tr><td>0</td></tr><tr><td>0</td></tr><tr><td>0</td></tr><tr><td>0</td></tr><tr><td>0</td></tr><tr><td>0</td></tr><tr><td>0</td></tr><tr><td>0</td></tr><tr><td>0</td></tr><tr><td>0</td></tr><tr><td>1</td></tr><tr><td>0</td></tr><tr><td>&hellip;</td></tr><tr><td>0</td></tr><tr><td>0</td></tr><tr><td>0</td></tr><tr><td>0</td></tr><tr><td>0</td></tr><tr><td>0</td></tr><tr><td>0</td></tr><tr><td>0</td></tr><tr><td>0</td></tr><tr><td>0</td></tr><tr><td>0</td></tr><tr><td>0</td></tr></tbody></table></div>"
      ],
      "text/plain": [
       "shape: (10_065, 1)\n",
       "┌────────────┐\n",
       "│ is_kokuhou │\n",
       "│ ---        │\n",
       "│ i64        │\n",
       "╞════════════╡\n",
       "│ 0          │\n",
       "│ 0          │\n",
       "│ 0          │\n",
       "│ 0          │\n",
       "│ …          │\n",
       "│ 0          │\n",
       "│ 0          │\n",
       "│ 0          │\n",
       "│ 0          │\n",
       "└────────────┘"
      ]
     },
     "execution_count": 65,
     "metadata": {},
     "output_type": "execute_result"
    }
   ],
   "source": [
    "sample_submission = sample_submission.with_columns(\n",
    "    pl.Series(\"is_kokuhou\", pred > (best_thr - 0.01)).cast(int)\n",
    ")\n",
    "sample_submission"
   ]
  },
  {
   "cell_type": "code",
   "execution_count": 66,
   "metadata": {},
   "outputs": [],
   "source": [
    "sample_submission.write_csv(\n",
    "    f\"../sub/{NOTEBOOK_NAME}_f1score_{max_f1_score:.4f}_auc_{oof_score:.4f}.csv\"\n",
    ")"
   ]
  },
  {
   "cell_type": "code",
   "execution_count": null,
   "metadata": {},
   "outputs": [],
   "source": []
  }
 ],
 "metadata": {
  "kernelspec": {
   "display_name": ".venv",
   "language": "python",
   "name": "python3"
  },
  "language_info": {
   "codemirror_mode": {
    "name": "ipython",
    "version": 3
   },
   "file_extension": ".py",
   "mimetype": "text/x-python",
   "name": "python",
   "nbconvert_exporter": "python",
   "pygments_lexer": "ipython3",
   "version": "3.11.3"
  },
  "orig_nbformat": 4
 },
 "nbformat": 4,
 "nbformat_minor": 2
}
