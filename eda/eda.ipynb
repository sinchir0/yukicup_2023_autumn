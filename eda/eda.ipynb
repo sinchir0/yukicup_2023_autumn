{
 "cells": [
  {
   "cell_type": "code",
   "execution_count": 2,
   "metadata": {},
   "outputs": [],
   "source": [
    "import polars as pl"
   ]
  },
  {
   "cell_type": "code",
   "execution_count": 3,
   "metadata": {},
   "outputs": [],
   "source": [
    "train = pl.read_csv(\"../data/train.csv\")\n",
    "test = pl.read_csv(\"../data/test.csv\")\n",
    "era = pl.read_csv(\"../data/era.csv\")\n",
    "sample_submission = pl.read_csv(\"../data/sample_submission.csv\")"
   ]
  },
  {
   "cell_type": "code",
   "execution_count": 4,
   "metadata": {},
   "outputs": [
    {
     "data": {
      "text/html": [
       "<div><style>\n",
       ".dataframe > thead > tr > th,\n",
       ".dataframe > tbody > tr > td {\n",
       "  text-align: right;\n",
       "}\n",
       "</style>\n",
       "<small>shape: (5, 13)</small><table border=\"1\" class=\"dataframe\"><thead><tr><th>名称</th><th>棟名</th><th>種別2</th><th>国</th><th>時代</th><th>都道府県 ※美工品は「所有者住所（所在都道府県）」</th><th>所在地</th><th>保管施設の名称</th><th>所有者名</th><th>管理団体又は責任者</th><th>緯度</th><th>経度</th><th>is_kokuhou</th></tr><tr><td>str</td><td>str</td><td>str</td><td>str</td><td>str</td><td>str</td><td>str</td><td>str</td><td>str</td><td>str</td><td>f64</td><td>f64</td><td>i64</td></tr></thead><tbody><tr><td>&quot;泉布観&quot;</td><td>null</td><td>&quot;近代／文化施設&quot;</td><td>null</td><td>&quot;明治&quot;</td><td>&quot;大阪府&quot;</td><td>&quot;大阪府大阪市北区天満橋一丁目…</td><td>null</td><td>&quot;大阪市&quot;</td><td>null</td><td>34.69811</td><td>135.5214</td><td>0</td></tr><tr><td>&quot;絹本著色准胝仏母像&quot;</td><td>null</td><td>&quot;絵画&quot;</td><td>&quot;日本&quot;</td><td>&quot;鎌倉&quot;</td><td>&quot;京都府（京都府）&quot;</td><td>null</td><td>null</td><td>&quot;広隆寺&quot;</td><td>null</td><td>null</td><td>null</td><td>0</td></tr><tr><td>&quot;石上神宮拝殿&quot;</td><td>null</td><td>&quot;近世以前／寺院&quot;</td><td>null</td><td>&quot;鎌倉前期&quot;</td><td>&quot;奈良県&quot;</td><td>&quot;奈良県天理市布留町&quot;</td><td>null</td><td>&quot;石上神宮&quot;</td><td>null</td><td>34.5978</td><td>135.852</td><td>1</td></tr><tr><td>&quot;剣〈銘真守（備前）／〉&quot;</td><td>null</td><td>&quot;工芸品&quot;</td><td>&quot;日本&quot;</td><td>&quot;鎌倉&quot;</td><td>&quot;和歌山県（和歌山県）&quot;</td><td>null</td><td>null</td><td>&quot;宗教法人金剛峯寺&quot;</td><td>&quot;財団法人高野山文化財保存会&quot;</td><td>null</td><td>null</td><td>0</td></tr><tr><td>&quot;旧新町紡績所&quot;</td><td>&quot;工場本館&quot;</td><td>&quot;近代／産業・交通・土木&quot;</td><td>null</td><td>&quot;明治&quot;</td><td>&quot;群馬県&quot;</td><td>&quot;群馬県高崎市新町二三三〇番地…</td><td>null</td><td>&quot;クラシエフーズ株式会社&quot;</td><td>null</td><td>36.27766</td><td>139.1003</td><td>0</td></tr></tbody></table></div>"
      ],
      "text/plain": [
       "shape: (5, 13)\n",
       "┌─────────────┬──────────┬─────────────┬──────┬───┬─────────────┬──────────┬──────────┬────────────┐\n",
       "│ 名称        ┆ 棟名     ┆ 種別2       ┆ 国   ┆ … ┆ 管理団体又  ┆ 緯度     ┆ 経度     ┆ is_kokuhou │\n",
       "│ ---         ┆ ---      ┆ ---         ┆ ---  ┆   ┆ は責任者    ┆ ---      ┆ ---      ┆ ---        │\n",
       "│ str         ┆ str      ┆ str         ┆ str  ┆   ┆ ---         ┆ f64      ┆ f64      ┆ i64        │\n",
       "│             ┆          ┆             ┆      ┆   ┆ str         ┆          ┆          ┆            │\n",
       "╞═════════════╪══════════╪═════════════╪══════╪═══╪═════════════╪══════════╪══════════╪════════════╡\n",
       "│ 泉布観      ┆ null     ┆ 近代／文化  ┆ null ┆ … ┆ null        ┆ 34.69811 ┆ 135.5214 ┆ 0          │\n",
       "│             ┆          ┆ 施設        ┆      ┆   ┆             ┆          ┆          ┆            │\n",
       "│ 絹本著色准  ┆ null     ┆ 絵画        ┆ 日本 ┆ … ┆ null        ┆ null     ┆ null     ┆ 0          │\n",
       "│ 胝仏母像    ┆          ┆             ┆      ┆   ┆             ┆          ┆          ┆            │\n",
       "│ 石上神宮拝  ┆ null     ┆ 近世以前／  ┆ null ┆ … ┆ null        ┆ 34.5978  ┆ 135.852  ┆ 1          │\n",
       "│ 殿          ┆          ┆ 寺院        ┆      ┆   ┆             ┆          ┆          ┆            │\n",
       "│ 剣〈銘真守  ┆ null     ┆ 工芸品      ┆ 日本 ┆ … ┆ 財団法人高  ┆ null     ┆ null     ┆ 0          │\n",
       "│ （備前）／  ┆          ┆             ┆      ┆   ┆ 野山文化財  ┆          ┆          ┆            │\n",
       "│ 〉          ┆          ┆             ┆      ┆   ┆ 保存会      ┆          ┆          ┆            │\n",
       "│ 旧新町紡績  ┆ 工場本館 ┆ 近代／産業  ┆ null ┆ … ┆ null        ┆ 36.27766 ┆ 139.1003 ┆ 0          │\n",
       "│ 所          ┆          ┆ ・交通・土  ┆      ┆   ┆             ┆          ┆          ┆            │\n",
       "│             ┆          ┆ 木          ┆      ┆   ┆             ┆          ┆          ┆            │\n",
       "└─────────────┴──────────┴─────────────┴──────┴───┴─────────────┴──────────┴──────────┴────────────┘"
      ]
     },
     "execution_count": 4,
     "metadata": {},
     "output_type": "execute_result"
    }
   ],
   "source": [
    "train.head()"
   ]
  },
  {
   "cell_type": "code",
   "execution_count": 5,
   "metadata": {},
   "outputs": [
    {
     "data": {
      "text/html": [
       "<div><style>\n",
       ".dataframe > thead > tr > th,\n",
       ".dataframe > tbody > tr > td {\n",
       "  text-align: right;\n",
       "}\n",
       "</style>\n",
       "<small>shape: (929, 2)</small><table border=\"1\" class=\"dataframe\"><thead><tr><th>棟名</th><th>counts</th></tr><tr><td>str</td><td>u32</td></tr></thead><tbody><tr><td>null</td><td>5278</td></tr><tr><td>&quot;主屋&quot;</td><td>88</td></tr><tr><td>&quot;表門&quot;</td><td>34</td></tr><tr><td>&quot;本殿&quot;</td><td>31</td></tr><tr><td>&quot;土蔵&quot;</td><td>21</td></tr><tr><td>&quot;拝殿&quot;</td><td>18</td></tr><tr><td>&quot;本堂&quot;</td><td>15</td></tr><tr><td>&quot;米蔵&quot;</td><td>15</td></tr><tr><td>&quot;文庫蔵&quot;</td><td>13</td></tr><tr><td>&quot;鐘楼&quot;</td><td>12</td></tr><tr><td>&quot;楼門&quot;</td><td>12</td></tr><tr><td>&quot;本館&quot;</td><td>11</td></tr><tr><td>&hellip;</td><td>&hellip;</td></tr><tr><td>&quot;二階建物置&quot;</td><td>1</td></tr><tr><td>&quot;くら&quot;</td><td>1</td></tr><tr><td>&quot;聖霊殿&quot;</td><td>1</td></tr><tr><td>&quot;北之丸水手御門&quot;</td><td>1</td></tr><tr><td>&quot;奉公人部屋及び東塀&quot;</td><td>1</td></tr><tr><td>&quot;本殿東渡廊取合廊&quot;</td><td>1</td></tr><tr><td>&quot;正面門&quot;</td><td>1</td></tr><tr><td>&quot;千歳橋&quot;</td><td>1</td></tr><tr><td>&quot;回廊　（左回廊）&quot;</td><td>1</td></tr><tr><td>&quot;高倉殿&quot;</td><td>1</td></tr><tr><td>&quot;第四橋梁&quot;</td><td>1</td></tr><tr><td>&quot;旧昼間潮流信号機&quot;</td><td>1</td></tr></tbody></table></div>"
      ],
      "text/plain": [
       "shape: (929, 2)\n",
       "┌──────────────────┬────────┐\n",
       "│ 棟名             ┆ counts │\n",
       "│ ---              ┆ ---    │\n",
       "│ str              ┆ u32    │\n",
       "╞══════════════════╪════════╡\n",
       "│ null             ┆ 5278   │\n",
       "│ 主屋             ┆ 88     │\n",
       "│ 表門             ┆ 34     │\n",
       "│ 本殿             ┆ 31     │\n",
       "│ …                ┆ …      │\n",
       "│ 回廊　（左回廊） ┆ 1      │\n",
       "│ 高倉殿           ┆ 1      │\n",
       "│ 第四橋梁         ┆ 1      │\n",
       "│ 旧昼間潮流信号機 ┆ 1      │\n",
       "└──────────────────┴────────┘"
      ]
     },
     "execution_count": 5,
     "metadata": {},
     "output_type": "execute_result"
    }
   ],
   "source": [
    "train.get_column(\"棟名\").value_counts(sort=True)"
   ]
  },
  {
   "cell_type": "code",
   "execution_count": 6,
   "metadata": {},
   "outputs": [
    {
     "data": {
      "text/html": [
       "<div><style>\n",
       ".dataframe > thead > tr > th,\n",
       ".dataframe > tbody > tr > td {\n",
       "  text-align: right;\n",
       "}\n",
       "</style>\n",
       "<small>shape: (22, 2)</small><table border=\"1\" class=\"dataframe\"><thead><tr><th>種別2</th><th>counts</th></tr><tr><td>str</td><td>u32</td></tr></thead><tbody><tr><td>&quot;彫刻&quot;</td><td>1148</td></tr><tr><td>&quot;工芸品&quot;</td><td>1011</td></tr><tr><td>&quot;絵画&quot;</td><td>860</td></tr><tr><td>&quot;書跡・典籍&quot;</td><td>785</td></tr><tr><td>&quot;近世以前／寺院&quot;</td><td>529</td></tr><tr><td>&quot;近世以前／神社&quot;</td><td>522</td></tr><tr><td>&quot;近世以前／民家&quot;</td><td>365</td></tr><tr><td>&quot;古文書&quot;</td><td>324</td></tr><tr><td>&quot;考古資料&quot;</td><td>298</td></tr><tr><td>&quot;近代／住居&quot;</td><td>192</td></tr><tr><td>&quot;近代／産業・交通・土木&quot;</td><td>141</td></tr><tr><td>&quot;近世以前／その他&quot;</td><td>115</td></tr><tr><td>&quot;近世以前／城郭&quot;</td><td>99</td></tr><tr><td>&quot;歴史資料&quot;</td><td>90</td></tr><tr><td>&quot;近世以前／住宅&quot;</td><td>64</td></tr><tr><td>&quot;近代／宗教&quot;</td><td>40</td></tr><tr><td>&quot;近代／文化施設&quot;</td><td>38</td></tr><tr><td>&quot;近代／学校&quot;</td><td>34</td></tr><tr><td>&quot;近代／官公庁舎&quot;</td><td>28</td></tr><tr><td>&quot;近代／商業・業務&quot;</td><td>20</td></tr><tr><td>&quot;近代／その他&quot;</td><td>6</td></tr><tr><td>null</td><td>1</td></tr></tbody></table></div>"
      ],
      "text/plain": [
       "shape: (22, 2)\n",
       "┌──────────────────┬────────┐\n",
       "│ 種別2            ┆ counts │\n",
       "│ ---              ┆ ---    │\n",
       "│ str              ┆ u32    │\n",
       "╞══════════════════╪════════╡\n",
       "│ 彫刻             ┆ 1148   │\n",
       "│ 工芸品           ┆ 1011   │\n",
       "│ 絵画             ┆ 860    │\n",
       "│ 書跡・典籍       ┆ 785    │\n",
       "│ …                ┆ …      │\n",
       "│ 近代／官公庁舎   ┆ 28     │\n",
       "│ 近代／商業・業務 ┆ 20     │\n",
       "│ 近代／その他     ┆ 6      │\n",
       "│ null             ┆ 1      │\n",
       "└──────────────────┴────────┘"
      ]
     },
     "execution_count": 6,
     "metadata": {},
     "output_type": "execute_result"
    }
   ],
   "source": [
    "train.get_column(\"種別2\").value_counts(sort=True)"
   ]
  },
  {
   "cell_type": "code",
   "execution_count": 7,
   "metadata": {},
   "outputs": [
    {
     "data": {
      "text/html": [
       "<div><style>\n",
       ".dataframe > thead > tr > th,\n",
       ".dataframe > tbody > tr > td {\n",
       "  text-align: right;\n",
       "}\n",
       "</style>\n",
       "<small>shape: (18, 2)</small><table border=\"1\" class=\"dataframe\"><thead><tr><th>国</th><th>counts</th></tr><tr><td>str</td><td>u32</td></tr></thead><tbody><tr><td>&quot;日本&quot;</td><td>4014</td></tr><tr><td>null</td><td>2277</td></tr><tr><td>&quot;中国&quot;</td><td>350</td></tr><tr><td>&quot;朝鮮&quot;</td><td>34</td></tr><tr><td>&quot;中国・日本&quot;</td><td>9</td></tr><tr><td>&quot;西洋&quot;</td><td>8</td></tr><tr><td>&quot;イギリス&quot;</td><td>3</td></tr><tr><td>&quot;オランダ&quot;</td><td>2</td></tr><tr><td>&quot;ヴェトナム&quot;</td><td>2</td></tr><tr><td>&quot;中国・朝鮮&quot;</td><td>2</td></tr><tr><td>&quot;日本　&quot;</td><td>2</td></tr><tr><td>&quot;中国／日本&quot;</td><td>1</td></tr><tr><td>&quot;中国、日本&quot;</td><td>1</td></tr><tr><td>&quot;中国・日本日本&quot;</td><td>1</td></tr><tr><td>&quot;日本、中国、朝鮮&quot;</td><td>1</td></tr><tr><td>&quot;安南（ベトナム）&quot;</td><td>1</td></tr><tr><td>&quot;琉球国&quot;</td><td>1</td></tr><tr><td>&quot;朝鮮・日本&quot;</td><td>1</td></tr></tbody></table></div>"
      ],
      "text/plain": [
       "shape: (18, 2)\n",
       "┌──────────────────┬────────┐\n",
       "│ 国               ┆ counts │\n",
       "│ ---              ┆ ---    │\n",
       "│ str              ┆ u32    │\n",
       "╞══════════════════╪════════╡\n",
       "│ 日本             ┆ 4014   │\n",
       "│ null             ┆ 2277   │\n",
       "│ 中国             ┆ 350    │\n",
       "│ 朝鮮             ┆ 34     │\n",
       "│ …                ┆ …      │\n",
       "│ 日本、中国、朝鮮 ┆ 1      │\n",
       "│ 安南（ベトナム） ┆ 1      │\n",
       "│ 琉球国           ┆ 1      │\n",
       "│ 朝鮮・日本       ┆ 1      │\n",
       "└──────────────────┴────────┘"
      ]
     },
     "execution_count": 7,
     "metadata": {},
     "output_type": "execute_result"
    }
   ],
   "source": [
    "train.get_column(\"国\").value_counts(sort=True)"
   ]
  },
  {
   "cell_type": "code",
   "execution_count": 8,
   "metadata": {},
   "outputs": [
    {
     "data": {
      "text/html": [
       "<div><style>\n",
       ".dataframe > thead > tr > th,\n",
       ".dataframe > tbody > tr > td {\n",
       "  text-align: right;\n",
       "}\n",
       "</style>\n",
       "<small>shape: (167, 2)</small><table border=\"1\" class=\"dataframe\"><thead><tr><th>時代</th><th>counts</th></tr><tr><td>str</td><td>u32</td></tr></thead><tbody><tr><td>&quot;鎌倉&quot;</td><td>1319</td></tr><tr><td>&quot;平安&quot;</td><td>1045</td></tr><tr><td>&quot;桃山&quot;</td><td>345</td></tr><tr><td>&quot;明治&quot;</td><td>336</td></tr><tr><td>&quot;江戸中期&quot;</td><td>296</td></tr><tr><td>&quot;室町&quot;</td><td>295</td></tr><tr><td>&quot;江戸前期&quot;</td><td>283</td></tr><tr><td>&quot;南北朝&quot;</td><td>282</td></tr><tr><td>&quot;江戸&quot;</td><td>237</td></tr><tr><td>&quot;奈良&quot;</td><td>236</td></tr><tr><td>&quot;江戸後期&quot;</td><td>228</td></tr><tr><td>&quot;江戸末期&quot;</td><td>185</td></tr><tr><td>&hellip;</td><td>&hellip;</td></tr><tr><td>&quot;平安～安土桃山&quot;</td><td>1</td></tr><tr><td>&quot;弥生時代後期～古墳時代前期&quot;</td><td>1</td></tr><tr><td>&quot;鎌倉／附　江戸&quot;</td><td>1</td></tr><tr><td>&quot;縄文時代中期&quot;</td><td>1</td></tr><tr><td>&quot;奈良～鎌倉&quot;</td><td>1</td></tr><tr><td>&quot;北斉&quot;</td><td>1</td></tr><tr><td>&quot;弥生時代中期&quot;</td><td>1</td></tr><tr><td>&quot;古墳～平安，唐&quot;</td><td>1</td></tr><tr><td>&quot;南宋-元&quot;</td><td>1</td></tr><tr><td>&quot;北宋～元&quot;</td><td>1</td></tr><tr><td>&quot;飛鳥～鎌倉&quot;</td><td>1</td></tr><tr><td>&quot;室町～昭和&quot;</td><td>1</td></tr></tbody></table></div>"
      ],
      "text/plain": [
       "shape: (167, 2)\n",
       "┌────────────┬────────┐\n",
       "│ 時代       ┆ counts │\n",
       "│ ---        ┆ ---    │\n",
       "│ str        ┆ u32    │\n",
       "╞════════════╪════════╡\n",
       "│ 鎌倉       ┆ 1319   │\n",
       "│ 平安       ┆ 1045   │\n",
       "│ 桃山       ┆ 345    │\n",
       "│ 明治       ┆ 336    │\n",
       "│ …          ┆ …      │\n",
       "│ 南宋-元    ┆ 1      │\n",
       "│ 北宋～元   ┆ 1      │\n",
       "│ 飛鳥～鎌倉 ┆ 1      │\n",
       "│ 室町～昭和 ┆ 1      │\n",
       "└────────────┴────────┘"
      ]
     },
     "execution_count": 8,
     "metadata": {},
     "output_type": "execute_result"
    }
   ],
   "source": [
    "# データの整備を行う\n",
    "train.get_column(\"時代\").value_counts(sort=True)"
   ]
  },
  {
   "cell_type": "code",
   "execution_count": 9,
   "metadata": {},
   "outputs": [
    {
     "data": {
      "text/html": [
       "<div><style>\n",
       ".dataframe > thead > tr > th,\n",
       ".dataframe > tbody > tr > td {\n",
       "  text-align: right;\n",
       "}\n",
       "</style>\n",
       "<small>shape: (387, 2)</small><table border=\"1\" class=\"dataframe\"><thead><tr><th>保管施設の名称</th><th>counts</th></tr><tr><td>str</td><td>u32</td></tr></thead><tbody><tr><td>null</td><td>5062</td></tr><tr><td>&quot;東京国立博物館&quot;</td><td>358</td></tr><tr><td>&quot;京都国立博物館&quot;</td><td>146</td></tr><tr><td>&quot;奈良国立博物館&quot;</td><td>63</td></tr><tr><td>&quot;天理大学附属天理図書館&quot;</td><td>37</td></tr><tr><td>&quot;公益財団法人静嘉堂&quot;</td><td>35</td></tr><tr><td>&quot;財団法人エム・オー・エー美術…</td><td>34</td></tr><tr><td>&quot;公益財団法人五島美術館&quot;</td><td>32</td></tr><tr><td>&quot;国立歴史民俗博物館&quot;</td><td>32</td></tr><tr><td>&quot;公益財団法人根津美術館&quot;</td><td>32</td></tr><tr><td>&quot;九州国立博物館&quot;</td><td>30</td></tr><tr><td>&quot;徳川美術館&quot;</td><td>29</td></tr><tr><td>&hellip;</td><td>&hellip;</td></tr><tr><td>&quot;土浦市立博物館　&quot;</td><td>1</td></tr><tr><td>&quot;公益財団法人柏原美術館&quot;</td><td>1</td></tr><tr><td>&quot;公益財団法人東京富士美術館&quot;</td><td>1</td></tr><tr><td>&quot;泉屋博古館&quot;</td><td>1</td></tr><tr><td>&quot;山梨県立考古博物館 　&quot;</td><td>1</td></tr><tr><td>&quot;大谷大学博物館&quot;</td><td>1</td></tr><tr><td>&quot;栃木県立博物館　&quot;</td><td>1</td></tr><tr><td>&quot;尚古集成館&quot;</td><td>1</td></tr><tr><td>&quot;十日町市博物館新館　&quot;</td><td>1</td></tr><tr><td>&quot;伊豆の国市　&quot;</td><td>1</td></tr><tr><td>&quot;佐賀県立博物館&quot;</td><td>1</td></tr><tr><td>&quot;佐世保市博物館島瀬美術センタ…</td><td>1</td></tr></tbody></table></div>"
      ],
      "text/plain": [
       "shape: (387, 2)\n",
       "┌──────────────────────────────────┬────────┐\n",
       "│ 保管施設の名称                   ┆ counts │\n",
       "│ ---                              ┆ ---    │\n",
       "│ str                              ┆ u32    │\n",
       "╞══════════════════════════════════╪════════╡\n",
       "│ null                             ┆ 5062   │\n",
       "│ 東京国立博物館                   ┆ 358    │\n",
       "│ 京都国立博物館                   ┆ 146    │\n",
       "│ 奈良国立博物館                   ┆ 63     │\n",
       "│ …                                ┆ …      │\n",
       "│ 十日町市博物館新館　             ┆ 1      │\n",
       "│ 伊豆の国市　                     ┆ 1      │\n",
       "│ 佐賀県立博物館                   ┆ 1      │\n",
       "│ 佐世保市博物館島瀬美術センター　 ┆ 1      │\n",
       "└──────────────────────────────────┴────────┘"
      ]
     },
     "execution_count": 9,
     "metadata": {},
     "output_type": "execute_result"
    }
   ],
   "source": [
    "train.get_column(\"保管施設の名称\").value_counts(sort=True)"
   ]
  },
  {
   "cell_type": "code",
   "execution_count": 10,
   "metadata": {},
   "outputs": [
    {
     "data": {
      "text/html": [
       "<div><style>\n",
       ".dataframe > thead > tr > th,\n",
       ".dataframe > tbody > tr > td {\n",
       "  text-align: right;\n",
       "}\n",
       "</style>\n",
       "<small>shape: (1_915, 2)</small><table border=\"1\" class=\"dataframe\"><thead><tr><th>所有者名</th><th>counts</th></tr><tr><td>str</td><td>u32</td></tr></thead><tbody><tr><td>null</td><td>523</td></tr><tr><td>&quot;独立行政法人国立文化財機構&quot;</td><td>455</td></tr><tr><td>&quot;個人&quot;</td><td>171</td></tr><tr><td>&quot;国（文化庁）&quot;</td><td>97</td></tr><tr><td>&quot;法隆寺&quot;</td><td>76</td></tr><tr><td>&quot;東大寺&quot;</td><td>63</td></tr><tr><td>&quot;国(文部科学省)&quot;</td><td>62</td></tr><tr><td>&quot;大山祇神社&quot;</td><td>46</td></tr><tr><td>&quot;公益財団法人静嘉堂&quot;</td><td>42</td></tr><tr><td>&quot;公益財団法人前田育徳会&quot;</td><td>41</td></tr><tr><td>&quot;学校法人天理大学&quot;</td><td>38</td></tr><tr><td>&quot;東照宮&quot;</td><td>38</td></tr><tr><td>&hellip;</td><td>&hellip;</td></tr><tr><td>&quot;與賀神社&quot;</td><td>1</td></tr><tr><td>&quot;本光明寺&quot;</td><td>1</td></tr><tr><td>&quot;佐世保市&quot;</td><td>1</td></tr><tr><td>&quot;般若院&quot;</td><td>1</td></tr><tr><td>&quot;光明宗法華寺&quot;</td><td>1</td></tr><tr><td>&quot;湯前町&quot;</td><td>1</td></tr><tr><td>&quot;三室戸寺&quot;</td><td>1</td></tr><tr><td>&quot;泉井上神社&quot;</td><td>1</td></tr><tr><td>&quot;神門神社&quot;</td><td>1</td></tr><tr><td>&quot;藤島神社&quot;</td><td>1</td></tr><tr><td>&quot;三井不動産株式会社&quot;</td><td>1</td></tr><tr><td>&quot;一蓮寺&quot;</td><td>1</td></tr></tbody></table></div>"
      ],
      "text/plain": [
       "shape: (1_915, 2)\n",
       "┌────────────────────────────┬────────┐\n",
       "│ 所有者名                   ┆ counts │\n",
       "│ ---                        ┆ ---    │\n",
       "│ str                        ┆ u32    │\n",
       "╞════════════════════════════╪════════╡\n",
       "│ null                       ┆ 523    │\n",
       "│ 独立行政法人国立文化財機構 ┆ 455    │\n",
       "│ 個人                       ┆ 171    │\n",
       "│ 国（文化庁）               ┆ 97     │\n",
       "│ …                          ┆ …      │\n",
       "│ 神門神社                   ┆ 1      │\n",
       "│ 藤島神社                   ┆ 1      │\n",
       "│ 三井不動産株式会社         ┆ 1      │\n",
       "│ 一蓮寺                     ┆ 1      │\n",
       "└────────────────────────────┴────────┘"
      ]
     },
     "execution_count": 10,
     "metadata": {},
     "output_type": "execute_result"
    }
   ],
   "source": [
    "train.get_column(\"所有者名\").value_counts(sort=True)"
   ]
  },
  {
   "cell_type": "code",
   "execution_count": 11,
   "metadata": {},
   "outputs": [
    {
     "data": {
      "text/html": [
       "<div><style>\n",
       ".dataframe > thead > tr > th,\n",
       ".dataframe > tbody > tr > td {\n",
       "  text-align: right;\n",
       "}\n",
       "</style>\n",
       "<small>shape: (85, 2)</small><table border=\"1\" class=\"dataframe\"><thead><tr><th>管理団体又は責任者</th><th>counts</th></tr><tr><td>str</td><td>u32</td></tr></thead><tbody><tr><td>null</td><td>6352</td></tr><tr><td>&quot;財団法人高野山文化財保存会&quot;</td><td>94</td></tr><tr><td>&quot;姫路市&quot;</td><td>41</td></tr><tr><td>&quot;鎌倉市&quot;</td><td>25</td></tr><tr><td>&quot;岡山県&quot;</td><td>15</td></tr><tr><td>&quot;宗教法人東福寺&quot;</td><td>13</td></tr><tr><td>&quot;宗教法人相国寺&quot;</td><td>11</td></tr><tr><td>&quot;宗教法人延暦寺&quot;</td><td>10</td></tr><tr><td>&quot;宗教法人中尊寺&quot;</td><td>9</td></tr><tr><td>&quot;旧奈良監獄保存活用株式会社&quot;</td><td>8</td></tr><tr><td>&quot;財団法人日本美術刀剣保存協会…</td><td>8</td></tr><tr><td>&quot;醍醐寺&quot;</td><td>6</td></tr><tr><td>&hellip;</td><td>&hellip;</td></tr><tr><td>&quot;国東市&quot;</td><td>1</td></tr><tr><td>&quot;篠山町&quot;</td><td>1</td></tr><tr><td>&quot;嘉麻市長　赤間幸弘&quot;</td><td>1</td></tr><tr><td>&quot;奈良市&quot;</td><td>1</td></tr><tr><td>&quot;宗教法人清水寺&quot;</td><td>1</td></tr><tr><td>&quot;渋谷区&quot;</td><td>1</td></tr><tr><td>&quot;東福寺&quot;</td><td>1</td></tr><tr><td>&quot;大野町&quot;</td><td>1</td></tr><tr><td>&quot;宗教法人上杉神社&quot;</td><td>1</td></tr><tr><td>&quot;神奈川県&quot;</td><td>1</td></tr><tr><td>&quot;福島県&quot;</td><td>1</td></tr><tr><td>&quot;高村隆子　他1名&quot;</td><td>1</td></tr></tbody></table></div>"
      ],
      "text/plain": [
       "shape: (85, 2)\n",
       "┌────────────────────────────┬────────┐\n",
       "│ 管理団体又は責任者         ┆ counts │\n",
       "│ ---                        ┆ ---    │\n",
       "│ str                        ┆ u32    │\n",
       "╞════════════════════════════╪════════╡\n",
       "│ null                       ┆ 6352   │\n",
       "│ 財団法人高野山文化財保存会 ┆ 94     │\n",
       "│ 姫路市                     ┆ 41     │\n",
       "│ 鎌倉市                     ┆ 25     │\n",
       "│ …                          ┆ …      │\n",
       "│ 宗教法人上杉神社           ┆ 1      │\n",
       "│ 神奈川県                   ┆ 1      │\n",
       "│ 福島県                     ┆ 1      │\n",
       "│ 高村隆子　他1名            ┆ 1      │\n",
       "└────────────────────────────┴────────┘"
      ]
     },
     "execution_count": 11,
     "metadata": {},
     "output_type": "execute_result"
    }
   ],
   "source": [
    "train.get_column(\"管理団体又は責任者\").value_counts(sort=True)"
   ]
  },
  {
   "cell_type": "code",
   "execution_count": 12,
   "metadata": {},
   "outputs": [
    {
     "data": {
      "text/html": [
       "<div><style>\n",
       ".dataframe > thead > tr > th,\n",
       ".dataframe > tbody > tr > td {\n",
       "  text-align: right;\n",
       "}\n",
       "</style>\n",
       "<small>shape: (167, 2)</small><table border=\"1\" class=\"dataframe\"><thead><tr><th>時代</th><th>counts</th></tr><tr><td>str</td><td>u32</td></tr></thead><tbody><tr><td>&quot;鎌倉&quot;</td><td>1319</td></tr><tr><td>&quot;平安&quot;</td><td>1045</td></tr><tr><td>&quot;桃山&quot;</td><td>345</td></tr><tr><td>&quot;明治&quot;</td><td>336</td></tr><tr><td>&quot;江戸中期&quot;</td><td>296</td></tr><tr><td>&quot;室町&quot;</td><td>295</td></tr><tr><td>&quot;江戸前期&quot;</td><td>283</td></tr><tr><td>&quot;南北朝&quot;</td><td>282</td></tr><tr><td>&quot;江戸&quot;</td><td>237</td></tr><tr><td>&quot;奈良&quot;</td><td>236</td></tr><tr><td>&quot;江戸後期&quot;</td><td>228</td></tr><tr><td>&quot;江戸末期&quot;</td><td>185</td></tr><tr><td>&hellip;</td><td>&hellip;</td></tr><tr><td>&quot;平安～安土桃山&quot;</td><td>1</td></tr><tr><td>&quot;弥生時代後期～古墳時代前期&quot;</td><td>1</td></tr><tr><td>&quot;鎌倉／附　江戸&quot;</td><td>1</td></tr><tr><td>&quot;縄文時代中期&quot;</td><td>1</td></tr><tr><td>&quot;奈良～鎌倉&quot;</td><td>1</td></tr><tr><td>&quot;北斉&quot;</td><td>1</td></tr><tr><td>&quot;弥生時代中期&quot;</td><td>1</td></tr><tr><td>&quot;古墳～平安，唐&quot;</td><td>1</td></tr><tr><td>&quot;南宋-元&quot;</td><td>1</td></tr><tr><td>&quot;北宋～元&quot;</td><td>1</td></tr><tr><td>&quot;飛鳥～鎌倉&quot;</td><td>1</td></tr><tr><td>&quot;室町～昭和&quot;</td><td>1</td></tr></tbody></table></div>"
      ],
      "text/plain": [
       "shape: (167, 2)\n",
       "┌────────────┬────────┐\n",
       "│ 時代       ┆ counts │\n",
       "│ ---        ┆ ---    │\n",
       "│ str        ┆ u32    │\n",
       "╞════════════╪════════╡\n",
       "│ 鎌倉       ┆ 1319   │\n",
       "│ 平安       ┆ 1045   │\n",
       "│ 桃山       ┆ 345    │\n",
       "│ 明治       ┆ 336    │\n",
       "│ …          ┆ …      │\n",
       "│ 南宋-元    ┆ 1      │\n",
       "│ 北宋～元   ┆ 1      │\n",
       "│ 飛鳥～鎌倉 ┆ 1      │\n",
       "│ 室町～昭和 ┆ 1      │\n",
       "└────────────┴────────┘"
      ]
     },
     "execution_count": 12,
     "metadata": {},
     "output_type": "execute_result"
    }
   ],
   "source": [
    "train.get_column(\"時代\").value_counts(sort=True)"
   ]
  },
  {
   "cell_type": "code",
   "execution_count": 13,
   "metadata": {},
   "outputs": [
    {
     "data": {
      "text/html": [
       "<div><style>\n",
       ".dataframe > thead > tr > th,\n",
       ".dataframe > tbody > tr > td {\n",
       "  text-align: right;\n",
       "}\n",
       "</style>\n",
       "<small>shape: (217, 2)</small><table border=\"1\" class=\"dataframe\"><thead><tr><th>時代</th><th>counts</th></tr><tr><td>str</td><td>u32</td></tr></thead><tbody><tr><td>&quot;鎌倉&quot;</td><td>2044</td></tr><tr><td>&quot;平安&quot;</td><td>1625</td></tr><tr><td>&quot;明治&quot;</td><td>520</td></tr><tr><td>&quot;桃山&quot;</td><td>514</td></tr><tr><td>&quot;室町&quot;</td><td>445</td></tr><tr><td>&quot;江戸前期&quot;</td><td>427</td></tr><tr><td>&quot;南北朝&quot;</td><td>407</td></tr><tr><td>&quot;江戸中期&quot;</td><td>394</td></tr><tr><td>&quot;江戸&quot;</td><td>388</td></tr><tr><td>&quot;奈良&quot;</td><td>360</td></tr><tr><td>&quot;江戸後期&quot;</td><td>299</td></tr><tr><td>&quot;江戸末期&quot;</td><td>284</td></tr><tr><td>&hellip;</td><td>&hellip;</td></tr><tr><td>&quot;飛鳥～平安時代&quot;</td><td>1</td></tr><tr><td>&quot;第二尚氏～明治&quot;</td><td>1</td></tr><tr><td>&quot;奈良～明治&quot;</td><td>1</td></tr><tr><td>&quot;鎌倉／南北朝&quot;</td><td>1</td></tr><tr><td>&quot;鎌倉（上～中）、室町（下）&quot;</td><td>1</td></tr><tr><td>&quot;第一尚氏～第二尚氏&quot;</td><td>1</td></tr><tr><td>&quot;桃山～江戸&quot;</td><td>1</td></tr><tr><td>&quot;南宋～元時代&quot;</td><td>1</td></tr><tr><td>&quot;鎌倉時代～南北朝時代&quot;</td><td>1</td></tr><tr><td>&quot;平安～明治時代&quot;</td><td>1</td></tr><tr><td>&quot;弥生時代後期&quot;</td><td>1</td></tr><tr><td>&quot;平安・鎌倉&quot;</td><td>1</td></tr></tbody></table></div>"
      ],
      "text/plain": [
       "shape: (217, 2)\n",
       "┌──────────────────────┬────────┐\n",
       "│ 時代                 ┆ counts │\n",
       "│ ---                  ┆ ---    │\n",
       "│ str                  ┆ u32    │\n",
       "╞══════════════════════╪════════╡\n",
       "│ 鎌倉                 ┆ 2044   │\n",
       "│ 平安                 ┆ 1625   │\n",
       "│ 明治                 ┆ 520    │\n",
       "│ 桃山                 ┆ 514    │\n",
       "│ …                    ┆ …      │\n",
       "│ 鎌倉時代～南北朝時代 ┆ 1      │\n",
       "│ 平安～明治時代       ┆ 1      │\n",
       "│ 弥生時代後期         ┆ 1      │\n",
       "│ 平安・鎌倉           ┆ 1      │\n",
       "└──────────────────────┴────────┘"
      ]
     },
     "execution_count": 13,
     "metadata": {},
     "output_type": "execute_result"
    }
   ],
   "source": [
    "test.get_column(\"時代\").value_counts(sort=True)"
   ]
  },
  {
   "cell_type": "code",
   "execution_count": 15,
   "metadata": {},
   "outputs": [
    {
     "data": {
      "text/html": [
       "<div><style>\n",
       ".dataframe > thead > tr > th,\n",
       ".dataframe > tbody > tr > td {\n",
       "  text-align: right;\n",
       "}\n",
       "</style>\n",
       "<small>shape: (1_602, 2)</small><table border=\"1\" class=\"dataframe\"><thead><tr><th>所在地</th><th>counts</th></tr><tr><td>str</td><td>u32</td></tr></thead><tbody><tr><td>null</td><td>2832</td></tr><tr><td>&quot;東京国立博物館　東京都台東区…</td><td>322</td></tr><tr><td>&quot;京都国立博物館　京都府京都市…</td><td>107</td></tr><tr><td>&quot;奈良国立博物館　奈良県奈良市…</td><td>48</td></tr><tr><td>&quot;栃木県日光市山内&quot;</td><td>43</td></tr><tr><td>&quot;兵庫県姫路市本町&quot;</td><td>41</td></tr><tr><td>&quot;東京都世田谷区上野毛3-9-…</td><td>39</td></tr><tr><td>&quot;天理大学附属天理図書館　奈良…</td><td>38</td></tr><tr><td>&quot;東京都港区南青山6-5-1&quot;</td><td>37</td></tr><tr><td>&quot;東京都世田谷区岡本2-23-…</td><td>35</td></tr><tr><td>&quot;国立歴史民俗博物館　千葉県佐…</td><td>32</td></tr><tr><td>&quot;静岡県熱海市桃山町26-2&quot;</td><td>28</td></tr><tr><td>&hellip;</td><td>&hellip;</td></tr><tr><td>&quot;鹿児島県奄美市笠利町宇宿字久…</td><td>1</td></tr><tr><td>&quot;香川県高松市玉藻町&quot;</td><td>1</td></tr><tr><td>&quot;大阪府河内長野市長野町&quot;</td><td>1</td></tr><tr><td>&quot;神戸市立博物館　兵庫県神戸市…</td><td>1</td></tr><tr><td>&quot;佐賀県佐賀市城内1-15-2…</td><td>1</td></tr><tr><td>&quot;佐世保市島瀬町6-22&quot;</td><td>1</td></tr><tr><td>&quot;熊本県球磨郡湯前町字長谷場&quot;</td><td>1</td></tr><tr><td>&quot;大阪府和泉市府中町&quot;</td><td>1</td></tr><tr><td>&quot;宮崎県東臼杵郡南郷村大字神門…</td><td>1</td></tr><tr><td>&quot;埼玉県日高市大字新堀850番…</td><td>1</td></tr><tr><td>&quot;東京都中央区日本橋室町二丁目…</td><td>1</td></tr><tr><td>&quot;愛知県名古屋市中区三の丸三丁…</td><td>1</td></tr></tbody></table></div>"
      ],
      "text/plain": [
       "shape: (1_602, 2)\n",
       "┌───────────────────────────────────┬────────┐\n",
       "│ 所在地                            ┆ counts │\n",
       "│ ---                               ┆ ---    │\n",
       "│ str                               ┆ u32    │\n",
       "╞═══════════════════════════════════╪════════╡\n",
       "│ null                              ┆ 2832   │\n",
       "│ 東京国立博物館　東京都台東区上野  ┆ 322    │\n",
       "│ 公園13-9                          ┆        │\n",
       "│ 京都国立博物館　京都府京都市東山  ┆ 107    │\n",
       "│ 区茶屋町527                       ┆        │\n",
       "│ 奈良国立博物館　奈良県奈良市登大  ┆ 48     │\n",
       "│ 路町50                            ┆        │\n",
       "│ …                                 ┆ …      │\n",
       "│ 宮崎県東臼杵郡南郷村大字神門      ┆ 1      │\n",
       "│ 埼玉県日高市大字新堀850番地       ┆ 1      │\n",
       "│ 東京都中央区日本橋室町二丁目1番1  ┆ 1      │\n",
       "│ 号                                ┆        │\n",
       "│ 愛知県名古屋市中区三の丸三丁目一  ┆ 1      │\n",
       "│ 番                                ┆        │\n",
       "└───────────────────────────────────┴────────┘"
      ]
     },
     "execution_count": 15,
     "metadata": {},
     "output_type": "execute_result"
    }
   ],
   "source": [
    "train.get_column(\"所在地\").value_counts(sort=True)"
   ]
  },
  {
   "cell_type": "code",
   "execution_count": null,
   "metadata": {},
   "outputs": [],
   "source": []
  }
 ],
 "metadata": {
  "kernelspec": {
   "display_name": ".venv",
   "language": "python",
   "name": "python3"
  },
  "language_info": {
   "codemirror_mode": {
    "name": "ipython",
    "version": 3
   },
   "file_extension": ".py",
   "mimetype": "text/x-python",
   "name": "python",
   "nbconvert_exporter": "python",
   "pygments_lexer": "ipython3",
   "version": "3.11.3"
  }
 },
 "nbformat": 4,
 "nbformat_minor": 2
}
