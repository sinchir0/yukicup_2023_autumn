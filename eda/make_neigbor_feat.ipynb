{
 "cells": [
  {
   "cell_type": "code",
   "execution_count": 89,
   "metadata": {},
   "outputs": [],
   "source": [
    "import pandas as pd"
   ]
  },
  {
   "cell_type": "code",
   "execution_count": 90,
   "metadata": {},
   "outputs": [],
   "source": [
    "train = pd.read_csv(\"../data/train.csv\")\n",
    "test = pd.read_csv(\"../data/test.csv\")"
   ]
  },
  {
   "cell_type": "code",
   "execution_count": 91,
   "metadata": {},
   "outputs": [],
   "source": [
    "# 便宜的に、緯度、経度が欠損の箇所には0を入れる\n",
    "train[\"緯度\"] = train[\"緯度\"].fillna(0)\n",
    "train[\"経度\"] = train[\"経度\"].fillna(0)\n",
    "\n",
    "test[\"緯度\"] = test[\"緯度\"].fillna(0)\n",
    "test[\"経度\"] = test[\"経度\"].fillna(0)"
   ]
  },
  {
   "cell_type": "code",
   "execution_count": 92,
   "metadata": {},
   "outputs": [],
   "source": [
    "import numpy as np\n",
    "\n",
    "# pandas seriesをnumpy arrayに変換\n",
    "ido_keido_vecs = train[[\"緯度\", \"経度\"]].values\n",
    "kokuhous = train[\"is_kokuhou\"].values"
   ]
  },
  {
   "cell_type": "code",
   "execution_count": 93,
   "metadata": {},
   "outputs": [],
   "source": [
    "ido_keido_vec_with_kokuhou = [\n",
    "    (ido_keido_vec, kokuhou) for ido_keido_vec, kokuhou in zip(ido_keido_vecs, kokuhous)\n",
    "]"
   ]
  },
  {
   "cell_type": "code",
   "execution_count": 96,
   "metadata": {},
   "outputs": [
    {
     "name": "stdout",
     "output_type": "stream",
     "text": [
      "[ 34.69811 135.5214 ]\n",
      "[[[ 34.69811    135.5214    ]\n",
      "  [ 34.69507613 135.52504288]\n",
      "  [ 34.69507613 135.52504288]\n",
      "  [ 34.69507613 135.52504288]\n",
      "  [ 34.69507613 135.52504288]\n",
      "  [ 34.69507613 135.52504288]\n",
      "  [ 34.69507613 135.52504288]\n",
      "  [ 34.69507613 135.52504288]\n",
      "  [ 34.69507613 135.52504288]\n",
      "  [ 34.69507613 135.52504288]\n",
      "  [ 34.69507613 135.52504288]]]\n",
      "find\n"
     ]
    }
   ],
   "source": [
    "from sklearn.neighbors import NearestNeighbors\n",
    "import numpy as np\n",
    "\n",
    "# ランダムな2次元データセットを生成\n",
    "np.random.seed(0)\n",
    "data_points = ido_keido_vecs\n",
    "\n",
    "\n",
    "def get_nearest_kokuhou(ido_keido_vec, kokuhous, k=10) -> float:\n",
    "    first_idx = 0\n",
    "\n",
    "    if ido_keido_vec[0] == 0.0:\n",
    "        return None\n",
    "\n",
    "    # NearestNeighborsインスタンスを作成し、データセットをフィット\n",
    "    neighbors = NearestNeighbors(n_neighbors=k + 1)  # k + 1(自身)\n",
    "    neighbors.fit(data_points)\n",
    "\n",
    "    # 選択した点の最も近いk件の近傍を見つける\n",
    "    _, indices = neighbors.kneighbors([ido_keido_vec])\n",
    "\n",
    "    print(ido_keido_vec)\n",
    "    print(data_points[indices])\n",
    "\n",
    "    # 自身を除いた近傍の平均を返す\n",
    "    if (\n",
    "        data_points[indices][0][0][0] == ido_keido_vec[0]\n",
    "        and data_points[indices][0][0][1] == ido_keido_vec[1]\n",
    "    ):\n",
    "        print(\"find\")\n",
    "        first_idx = 1\n",
    "    return kokuhous[indices[:, first_idx:]].mean()\n",
    "\n",
    "\n",
    "train_output = []\n",
    "for ido, keido in zip(train[\"緯度\"], train[\"経度\"]):\n",
    "    res = get_nearest_kokuhou(ido_keido_vec=np.array((ido, keido)), kokuhous=kokuhous)\n",
    "    train_output.append(res)\n",
    "    break\n",
    "\n",
    "# test_output = []\n",
    "# for ido, keido in zip(test[\"緯度\"], test[\"経度\"]):\n",
    "#     res = get_nearest_kokuhou(ido_keido_vec=np.array((ido, keido)), kokuhous=kokuhous)\n",
    "#     test_output.append(res)\n",
    "#     break"
   ]
  },
  {
   "cell_type": "code",
   "execution_count": 88,
   "metadata": {},
   "outputs": [],
   "source": [
    "import pickle\n",
    "\n",
    "with open(\"../eda/neighbor_train_feat.pkl\", \"wb\") as f:\n",
    "    pickle.dump(train_output, f)\n",
    "\n",
    "with open(\"../eda/neighbor_test_feat.pkl\", \"wb\") as f:\n",
    "    pickle.dump(test_output, f)"
   ]
  },
  {
   "cell_type": "code",
   "execution_count": null,
   "metadata": {},
   "outputs": [],
   "source": []
  }
 ],
 "metadata": {
  "kernelspec": {
   "display_name": ".venv",
   "language": "python",
   "name": "python3"
  },
  "language_info": {
   "codemirror_mode": {
    "name": "ipython",
    "version": 3
   },
   "file_extension": ".py",
   "mimetype": "text/x-python",
   "name": "python",
   "nbconvert_exporter": "python",
   "pygments_lexer": "ipython3",
   "version": "3.11.3"
  }
 },
 "nbformat": 4,
 "nbformat_minor": 2
}
